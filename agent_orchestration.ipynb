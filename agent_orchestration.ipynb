{
 "cells": [
  {
   "cell_type": "code",
   "execution_count": 3,
   "metadata": {},
   "outputs": [
    {
     "name": "stderr",
     "output_type": "stream",
     "text": [
      "/Users/emilbiju/anaconda3/lib/python3.10/site-packages/pandas/core/arrays/masked.py:60: UserWarning: Pandas requires version '1.3.6' or newer of 'bottleneck' (version '1.3.5' currently installed).\n",
      "  from pandas.core import (\n"
     ]
    }
   ],
   "source": [
    "import sys\n",
    "sys.path.append(\"src/utils/\")\n",
    "import evaluate_utils\n",
    "import text_processing_utils\n",
    "import re, os\n",
    "import glob\n",
    "import time\n",
    "import pandas as pd\n",
    "from transformers import AutoTokenizer\n",
    "import matplotlib.pyplot as plt"
   ]
  },
  {
   "cell_type": "code",
   "execution_count": 2,
   "metadata": {},
   "outputs": [],
   "source": [
    "pd.set_option('display.max_colwidth', None)"
   ]
  },
  {
   "cell_type": "code",
   "execution_count": 3,
   "metadata": {},
   "outputs": [
    {
     "data": {
      "text/plain": [
       "[]"
      ]
     },
     "execution_count": 3,
     "metadata": {},
     "output_type": "execute_result"
    }
   ],
   "source": [
    "logs_dir = os.environ.get(\"LOGS_DIR\")\n",
    "output_paths = [i for i in glob.glob(f\"{logs_dir}/**\", recursive=True) if os.path.basename(i).startswith(\"agent_orchestration\") and i.endswith(\"csv\")]\n",
    "one_hour_ago = time.time() - 3600\n",
    "recently_updated_paths = [path for path in output_paths if os.path.getmtime(path) > one_hour_ago]\n",
    "recently_updated_paths"
   ]
  },
  {
   "cell_type": "code",
   "execution_count": 169,
   "metadata": {},
   "outputs": [
    {
     "data": {
      "text/html": [
       "<div>\n",
       "<style scoped>\n",
       "    .dataframe tbody tr th:only-of-type {\n",
       "        vertical-align: middle;\n",
       "    }\n",
       "\n",
       "    .dataframe tbody tr th {\n",
       "        vertical-align: top;\n",
       "    }\n",
       "\n",
       "    .dataframe thead th {\n",
       "        text-align: right;\n",
       "    }\n",
       "</style>\n",
       "<table border=\"1\" class=\"dataframe\">\n",
       "  <thead>\n",
       "    <tr style=\"text-align: right;\">\n",
       "      <th></th>\n",
       "      <th>PlannerModel</th>\n",
       "      <th>PlannerTemp</th>\n",
       "      <th>ExecutorModel</th>\n",
       "      <th>ExecutorTemp</th>\n",
       "      <th>DatasetName</th>\n",
       "      <th>SubsetName</th>\n",
       "      <th>Accuracy</th>\n",
       "      <th>NumProblemsAttempted</th>\n",
       "      <th>NumProblemsIncomplete</th>\n",
       "    </tr>\n",
       "  </thead>\n",
       "  <tbody>\n",
       "    <tr>\n",
       "      <th>0</th>\n",
       "      <td>zheminh_Planning-Data-Math-Full-Soln-Qwen2.5-7B-Instruct-ckpt200</td>\n",
       "      <td>0.1</td>\n",
       "      <td>zheminh_DeepSeek-R1-Distill-Qwen-7B-ckpt300</td>\n",
       "      <td>0.1</td>\n",
       "      <td>MATH-500</td>\n",
       "      <td>default</td>\n",
       "      <td>0.863918</td>\n",
       "      <td>488</td>\n",
       "      <td>3</td>\n",
       "    </tr>\n",
       "    <tr>\n",
       "      <th>1</th>\n",
       "      <td>zheminh_Planning-Data-Math-Full-Soln-Qwen2.5-7B-Instruct-ckpt200</td>\n",
       "      <td>0.1</td>\n",
       "      <td>zheminh_DeepSeek-R1-Distill-Qwen-7B-ckpt534</td>\n",
       "      <td>0.1</td>\n",
       "      <td>MATH-500</td>\n",
       "      <td>default</td>\n",
       "      <td>0.852459</td>\n",
       "      <td>490</td>\n",
       "      <td>2</td>\n",
       "    </tr>\n",
       "    <tr>\n",
       "      <th>2</th>\n",
       "      <td>zheminh_Planning-Data-Math-Full-Soln-Qwen2.5-7B-Instruct-ckpt582</td>\n",
       "      <td>0.1</td>\n",
       "      <td>zheminh_DeepSeek-R1-Distill-Qwen-7B-ckpt534</td>\n",
       "      <td>0.1</td>\n",
       "      <td>MATH-500</td>\n",
       "      <td>default</td>\n",
       "      <td>0.880478</td>\n",
       "      <td>504</td>\n",
       "      <td>2</td>\n",
       "    </tr>\n",
       "    <tr>\n",
       "      <th>3</th>\n",
       "      <td>zheminh_Planning-Data-Math-Full-Soln-Qwen2.5-7B-Instruct-ckpt582</td>\n",
       "      <td>0.1</td>\n",
       "      <td>zheminh_DeepSeek-R1-Distill-Qwen-7B-ckpt300</td>\n",
       "      <td>0.1</td>\n",
       "      <td>MATH-500</td>\n",
       "      <td>default</td>\n",
       "      <td>0.879098</td>\n",
       "      <td>500</td>\n",
       "      <td>12</td>\n",
       "    </tr>\n",
       "    <tr>\n",
       "      <th>4</th>\n",
       "      <td>zheminh_Planning-Data-Math-Full-Soln-Qwen2.5-7B-Instruct-ckpt582</td>\n",
       "      <td>0.1</td>\n",
       "      <td>zheminh_DeepSeek-R1-Distill-Qwen-7B-ckpt800</td>\n",
       "      <td>0.1</td>\n",
       "      <td>MATH-500</td>\n",
       "      <td>default</td>\n",
       "      <td>0.862626</td>\n",
       "      <td>500</td>\n",
       "      <td>5</td>\n",
       "    </tr>\n",
       "    <tr>\n",
       "      <th>5</th>\n",
       "      <td>zheminh_Planning-Data-Math-Full-Soln-Qwen2.5-7B-Instruct-ckpt582</td>\n",
       "      <td>0.1</td>\n",
       "      <td>zheminh_DeepSeek-R1-Distill-Qwen-7B-ckpt300</td>\n",
       "      <td>0.1</td>\n",
       "      <td>NotInOpenThoughts-correct</td>\n",
       "      <td>math</td>\n",
       "      <td>0.831990</td>\n",
       "      <td>3996</td>\n",
       "      <td>26</td>\n",
       "    </tr>\n",
       "    <tr>\n",
       "      <th>6</th>\n",
       "      <td>zheminh_Planning-Data-Math-Full-Soln-Qwen2.5-7B-Instruct-ckpt582-Planning-Dagger-Data-Math</td>\n",
       "      <td>0.1</td>\n",
       "      <td>zheminh_DeepSeek-R1-Distill-Qwen-7B-ckpt300-Execution-Dagger-Data-Math-think</td>\n",
       "      <td>0.1</td>\n",
       "      <td>MATH-500</td>\n",
       "      <td>default</td>\n",
       "      <td>0.841237</td>\n",
       "      <td>485</td>\n",
       "      <td>0</td>\n",
       "    </tr>\n",
       "    <tr>\n",
       "      <th>7</th>\n",
       "      <td>zheminh_Planning-Data-Math-Full-Soln-Qwen2.5-7B-Instruct-ckpt582-Planning-Dagger-Data-Math</td>\n",
       "      <td>0.6</td>\n",
       "      <td>zheminh_DeepSeek-R1-Distill-Qwen-7B-ckpt300-Execution-Dagger-Data-Math-think</td>\n",
       "      <td>0.6</td>\n",
       "      <td>MATH-500</td>\n",
       "      <td>default</td>\n",
       "      <td>0.833671</td>\n",
       "      <td>493</td>\n",
       "      <td>0</td>\n",
       "    </tr>\n",
       "    <tr>\n",
       "      <th>8</th>\n",
       "      <td>zheminh_Qwen2.5-1.5B-Instruct-Planning-Data-Math-Orig-and-Dagger-ckpt800</td>\n",
       "      <td>0.1</td>\n",
       "      <td>zheminh_DeepSeek-R1-Distill-Qwen-1.5B-Execution-Data-Math-Orig-and-Dagger-think-ckpt700</td>\n",
       "      <td>0.1</td>\n",
       "      <td>MATH-500</td>\n",
       "      <td>default</td>\n",
       "      <td>0.591549</td>\n",
       "      <td>498</td>\n",
       "      <td>1</td>\n",
       "    </tr>\n",
       "    <tr>\n",
       "      <th>9</th>\n",
       "      <td>zheminh_Qwen2.5-1.5B-Instruct-Planning-Data-Math-Orig-and-Dagger-ckpt800</td>\n",
       "      <td>0.1</td>\n",
       "      <td>zheminh_DeepSeek-R1-Distill-Qwen-7B-Execution-Data-Math-Orig-and-Dagger-think-ckpt700</td>\n",
       "      <td>0.1</td>\n",
       "      <td>MATH-500</td>\n",
       "      <td>default</td>\n",
       "      <td>0.759036</td>\n",
       "      <td>500</td>\n",
       "      <td>2</td>\n",
       "    </tr>\n",
       "    <tr>\n",
       "      <th>10</th>\n",
       "      <td>zheminh_Planning-Data-Math-Full-Soln-Qwen2.5-7B-Instruct-ckpt582</td>\n",
       "      <td>0.4</td>\n",
       "      <td>zheminh_DeepSeek-R1-Distill-Qwen-1.5B-Execution-Data-Math-Orig-and-Dagger-think-ckpt2139</td>\n",
       "      <td>0.4</td>\n",
       "      <td>MATH-500</td>\n",
       "      <td>default</td>\n",
       "      <td>0.800000</td>\n",
       "      <td>5</td>\n",
       "      <td>0</td>\n",
       "    </tr>\n",
       "    <tr>\n",
       "      <th>11</th>\n",
       "      <td>zheminh_Planning-Data-Math-Full-Soln-Qwen2.5-7B-Instruct-ckpt582</td>\n",
       "      <td>0.1</td>\n",
       "      <td>zheminh_DeepSeek-R1-Distill-Qwen-7B-Execution-Data-Math-Orig-and-Dagger-think-ckpt2139</td>\n",
       "      <td>0.1</td>\n",
       "      <td>MATH-500</td>\n",
       "      <td>default</td>\n",
       "      <td>0.891129</td>\n",
       "      <td>496</td>\n",
       "      <td>0</td>\n",
       "    </tr>\n",
       "    <tr>\n",
       "      <th>12</th>\n",
       "      <td>zheminh_Planning-Data-Math-Full-Soln-Qwen2.5-7B-Instruct-ckpt582</td>\n",
       "      <td>0.1</td>\n",
       "      <td>zheminh_DeepSeek-R1-Distill-Qwen-7B-Execution-Data-Math-Orig-and-Dagger-think-ckpt700</td>\n",
       "      <td>0.1</td>\n",
       "      <td>MATH-500</td>\n",
       "      <td>default</td>\n",
       "      <td>0.830645</td>\n",
       "      <td>498</td>\n",
       "      <td>2</td>\n",
       "    </tr>\n",
       "    <tr>\n",
       "      <th>13</th>\n",
       "      <td>zheminh_Qwen2.5-1.5B-Instruct-Planning-Data-Math-Orig-and-Dagger-ckpt1245</td>\n",
       "      <td>0.1</td>\n",
       "      <td>zheminh_DeepSeek-R1-Distill-Qwen-1.5B-Execution-Data-Math-Orig-and-Dagger-think-ckpt2139</td>\n",
       "      <td>0.1</td>\n",
       "      <td>MATH-500</td>\n",
       "      <td>default</td>\n",
       "      <td>0.657948</td>\n",
       "      <td>500</td>\n",
       "      <td>3</td>\n",
       "    </tr>\n",
       "    <tr>\n",
       "      <th>14</th>\n",
       "      <td>zheminh_Qwen2.5-1.5B-Instruct-Planning-Data-Math-Orig-and-Dagger-ckpt1245</td>\n",
       "      <td>0.1</td>\n",
       "      <td>zheminh_DeepSeek-R1-Distill-Qwen-7B-Execution-Data-Math-Orig-and-Dagger-think-ckpt2139</td>\n",
       "      <td>0.1</td>\n",
       "      <td>MATH-500</td>\n",
       "      <td>default</td>\n",
       "      <td>0.800805</td>\n",
       "      <td>500</td>\n",
       "      <td>3</td>\n",
       "    </tr>\n",
       "    <tr>\n",
       "      <th>15</th>\n",
       "      <td>zheminh_Qwen2.5-1.5B-Instruct-Planning-Data-Math-Orig-and-Dagger-ckpt1245</td>\n",
       "      <td>0.4</td>\n",
       "      <td>zheminh_DeepSeek-R1-Distill-Qwen-1.5B-Execution-Data-Math-Orig-and-Dagger-think-ckpt2139</td>\n",
       "      <td>0.4</td>\n",
       "      <td>MATH-500</td>\n",
       "      <td>default</td>\n",
       "      <td>0.701826</td>\n",
       "      <td>500</td>\n",
       "      <td>7</td>\n",
       "    </tr>\n",
       "    <tr>\n",
       "      <th>16</th>\n",
       "      <td>zheminh_Qwen2.5-7B-Instruct-Planning-Data-Math-Orig-and-Dagger-ckpt2075</td>\n",
       "      <td>0.1</td>\n",
       "      <td>zheminh_DeepSeek-R1-Distill-Qwen-7B-Execution-Data-Math-Orig-and-Dagger-think-ckpt2139</td>\n",
       "      <td>0.1</td>\n",
       "      <td>MATH-500</td>\n",
       "      <td>default</td>\n",
       "      <td>0.911447</td>\n",
       "      <td>463</td>\n",
       "      <td>0</td>\n",
       "    </tr>\n",
       "    <tr>\n",
       "      <th>17</th>\n",
       "      <td>zheminh_Qwen2.5-7B-Instruct-Planning-Data-Math-Orig-and-Dagger-ckpt1800</td>\n",
       "      <td>0.1</td>\n",
       "      <td>zheminh_DeepSeek-R1-Distill-Qwen-7B-Execution-Data-Math-Orig-and-Dagger-think-ckpt2139</td>\n",
       "      <td>0.1</td>\n",
       "      <td>MATH-500</td>\n",
       "      <td>default</td>\n",
       "      <td>0.867617</td>\n",
       "      <td>496</td>\n",
       "      <td>5</td>\n",
       "    </tr>\n",
       "    <tr>\n",
       "      <th>18</th>\n",
       "      <td>zheminh_Qwen2.5-7B-Instruct-Planning-Data-Math-Orig-and-Dagger-ckpt800</td>\n",
       "      <td>0.1</td>\n",
       "      <td>zheminh_DeepSeek-R1-Distill-Qwen-7B-Execution-Data-Math-Orig-and-Dagger-think-ckpt2139</td>\n",
       "      <td>0.1</td>\n",
       "      <td>MATH-500</td>\n",
       "      <td>default</td>\n",
       "      <td>0.866485</td>\n",
       "      <td>394</td>\n",
       "      <td>27</td>\n",
       "    </tr>\n",
       "    <tr>\n",
       "      <th>19</th>\n",
       "      <td>zheminh_Qwen2.5-7B-Instruct-Planning-Data-Math-Orig-and-Dagger-ckpt2075</td>\n",
       "      <td>0.4</td>\n",
       "      <td>zheminh_DeepSeek-R1-Distill-Qwen-7B-Execution-Data-Math-Orig-and-Dagger-think-ckpt2139</td>\n",
       "      <td>0.4</td>\n",
       "      <td>MATH-500</td>\n",
       "      <td>default</td>\n",
       "      <td>0.870445</td>\n",
       "      <td>500</td>\n",
       "      <td>6</td>\n",
       "    </tr>\n",
       "    <tr>\n",
       "      <th>20</th>\n",
       "      <td>zheminh_Qwen2.5-7B-Instruct-Planning-Data-Math-Orig-and-Dagger-ckpt3000</td>\n",
       "      <td>0.1</td>\n",
       "      <td>zheminh_DeepSeek-R1-Distill-Qwen-7B-Execution-Data-Math-Orig-and-Dagger-think-ckpt2139</td>\n",
       "      <td>0.1</td>\n",
       "      <td>MATH-500</td>\n",
       "      <td>default</td>\n",
       "      <td>0.858173</td>\n",
       "      <td>421</td>\n",
       "      <td>5</td>\n",
       "    </tr>\n",
       "    <tr>\n",
       "      <th>21</th>\n",
       "      <td>zheminh_Qwen2.5-7B-Instruct-Shortened-Planning-Data-Math-ckpt2968</td>\n",
       "      <td>0.1</td>\n",
       "      <td>zheminh_DeepSeek-R1-Distill-Qwen-7B-Execution-Data-Math-think-ckpt1800</td>\n",
       "      <td>0.1</td>\n",
       "      <td>MATH-500</td>\n",
       "      <td>default</td>\n",
       "      <td>0.861619</td>\n",
       "      <td>384</td>\n",
       "      <td>1</td>\n",
       "    </tr>\n",
       "    <tr>\n",
       "      <th>22</th>\n",
       "      <td>zheminh_Planning-Data-Math-Full-Soln-Qwen2.5-7B-Instruct-ckpt582</td>\n",
       "      <td>0.1</td>\n",
       "      <td>zheminh_DeepSeek-R1-Distill-Qwen-7B-ckpt300</td>\n",
       "      <td>0.1</td>\n",
       "      <td>NotInOpenThoughts-correct</td>\n",
       "      <td>math2</td>\n",
       "      <td>0.856627</td>\n",
       "      <td>840</td>\n",
       "      <td>10</td>\n",
       "    </tr>\n",
       "    <tr>\n",
       "      <th>23</th>\n",
       "      <td>zheminh_Qwen2.5-Math-7B-Instruct-Planning-Data-Math-Orig-and-Dagger-ckpt1245</td>\n",
       "      <td>0.1</td>\n",
       "      <td>zheminh_DeepSeek-R1-Distill-Qwen-7B-Execution-Data-Math-Orig-and-Dagger-think-ckpt2139</td>\n",
       "      <td>0.1</td>\n",
       "      <td>MATH-500</td>\n",
       "      <td>default</td>\n",
       "      <td>1.000000</td>\n",
       "      <td>8</td>\n",
       "      <td>0</td>\n",
       "    </tr>\n",
       "    <tr>\n",
       "      <th>24</th>\n",
       "      <td>zheminh_Qwen2.5-Math-7B-Instruct-Planning-Data-Math-Orig-and-Dagger-ckpt800</td>\n",
       "      <td>0.1</td>\n",
       "      <td>zheminh_DeepSeek-R1-Distill-Qwen-7B-ckpt300</td>\n",
       "      <td>0.1</td>\n",
       "      <td>MATH-500</td>\n",
       "      <td>default</td>\n",
       "      <td>1.000000</td>\n",
       "      <td>6</td>\n",
       "      <td>0</td>\n",
       "    </tr>\n",
       "    <tr>\n",
       "      <th>25</th>\n",
       "      <td>zheminh_Qwen2.5-7B-Instruct-Shortened-Planning-Data-Math-ckpt2968</td>\n",
       "      <td>0.1</td>\n",
       "      <td>zheminh_DeepSeek-R1-Distill-Qwen-7B-Execution-Data-Math-think-ckpt6400</td>\n",
       "      <td>0.1</td>\n",
       "      <td>MATH-500</td>\n",
       "      <td>default</td>\n",
       "      <td>0.856855</td>\n",
       "      <td>499</td>\n",
       "      <td>3</td>\n",
       "    </tr>\n",
       "    <tr>\n",
       "      <th>26</th>\n",
       "      <td>zheminh_Qwen2.5-7B-Instruct-Shortened-Planning-Data-Math-ckpt2968</td>\n",
       "      <td>0.1</td>\n",
       "      <td>deepseek-ai_DeepSeek-R1-Distill-Qwen-7B</td>\n",
       "      <td>0.1</td>\n",
       "      <td>MATH-500</td>\n",
       "      <td>default</td>\n",
       "      <td>0.883768</td>\n",
       "      <td>499</td>\n",
       "      <td>0</td>\n",
       "    </tr>\n",
       "    <tr>\n",
       "      <th>27</th>\n",
       "      <td>zheminh_Qwen2.5-7B-Instruct-Shortened-Planning-Data-Math-ckpt2968</td>\n",
       "      <td>0.1</td>\n",
       "      <td>zheminh_DeepSeek-R1-Distill-Qwen-7B-Execution-Data-Math-think-ckpt2000</td>\n",
       "      <td>0.1</td>\n",
       "      <td>MATH-500</td>\n",
       "      <td>default</td>\n",
       "      <td>0.851406</td>\n",
       "      <td>498</td>\n",
       "      <td>0</td>\n",
       "    </tr>\n",
       "    <tr>\n",
       "      <th>28</th>\n",
       "      <td>zheminh_Planning-Data-Math-Full-Soln-Qwen2.5-7B-Instruct-ckpt582</td>\n",
       "      <td>0.1</td>\n",
       "      <td>zheminh_DeepSeek-R1-Distill-Qwen-7B-Execution-Data-Math-Orig-and-Dagger-think-ckpt2139</td>\n",
       "      <td>0.1</td>\n",
       "      <td>Calc-gsm8k</td>\n",
       "      <td>original-splits</td>\n",
       "      <td>0.874667</td>\n",
       "      <td>750</td>\n",
       "      <td>0</td>\n",
       "    </tr>\n",
       "    <tr>\n",
       "      <th>29</th>\n",
       "      <td>zheminh_Planning-Data-Math-Full-Soln-Qwen2.5-7B-Instruct-ckpt582</td>\n",
       "      <td>0.4</td>\n",
       "      <td>zheminh_DeepSeek-R1-Distill-Qwen-7B-Execution-Data-Math-Orig-and-Dagger-think-ckpt2139</td>\n",
       "      <td>0.4</td>\n",
       "      <td>aime</td>\n",
       "      <td>2024</td>\n",
       "      <td>0.379310</td>\n",
       "      <td>29</td>\n",
       "      <td>0</td>\n",
       "    </tr>\n",
       "    <tr>\n",
       "      <th>30</th>\n",
       "      <td>zheminh_Planning-Data-Math-Full-Soln-Qwen2.5-7B-Instruct-ckpt582</td>\n",
       "      <td>0.1</td>\n",
       "      <td>zheminh_Qwen3-8B-Execution-Data-Math-Orig-and-Dagger-think-ckpt3400</td>\n",
       "      <td>0.1</td>\n",
       "      <td>MATH-500</td>\n",
       "      <td>default</td>\n",
       "      <td>0.733108</td>\n",
       "      <td>296</td>\n",
       "      <td>0</td>\n",
       "    </tr>\n",
       "    <tr>\n",
       "      <th>31</th>\n",
       "      <td>zheminh_Planning-Data-Math-Full-Soln-Qwen2.5-7B-Instruct-ckpt582</td>\n",
       "      <td>0.1</td>\n",
       "      <td>zheminh_Qwen3-8B-Execution-Data-Math-Orig-and-Dagger-think-ckpt4800</td>\n",
       "      <td>0.4</td>\n",
       "      <td>MATH-500</td>\n",
       "      <td>default</td>\n",
       "      <td>0.867735</td>\n",
       "      <td>499</td>\n",
       "      <td>0</td>\n",
       "    </tr>\n",
       "    <tr>\n",
       "      <th>32</th>\n",
       "      <td>zheminh_Planning-Data-Math-Full-Soln-Qwen2.5-7B-Instruct-ckpt582</td>\n",
       "      <td>0.1</td>\n",
       "      <td>zheminh_DeepSeek-R1-Distill-Qwen-7B-Execution-Data-Math-Orig-and-Dagger-think-ckpt2139</td>\n",
       "      <td>0.4</td>\n",
       "      <td>MATH-500</td>\n",
       "      <td>default</td>\n",
       "      <td>0.878788</td>\n",
       "      <td>99</td>\n",
       "      <td>0</td>\n",
       "    </tr>\n",
       "    <tr>\n",
       "      <th>33</th>\n",
       "      <td>zheminh_Planning-Data-Math-Full-Soln-Qwen2.5-7B-Instruct-ckpt582</td>\n",
       "      <td>0.2</td>\n",
       "      <td>zheminh_DeepSeek-R1-Distill-Qwen-7B-Execution-Data-Math-Orig-and-Dagger-think-ckpt2139</td>\n",
       "      <td>0.2</td>\n",
       "      <td>MATH-500</td>\n",
       "      <td>default</td>\n",
       "      <td>0.827586</td>\n",
       "      <td>493</td>\n",
       "      <td>0</td>\n",
       "    </tr>\n",
       "  </tbody>\n",
       "</table>\n",
       "</div>"
      ],
      "text/plain": [
       "                                                                                  PlannerModel  \\\n",
       "0                             zheminh_Planning-Data-Math-Full-Soln-Qwen2.5-7B-Instruct-ckpt200   \n",
       "1                             zheminh_Planning-Data-Math-Full-Soln-Qwen2.5-7B-Instruct-ckpt200   \n",
       "2                             zheminh_Planning-Data-Math-Full-Soln-Qwen2.5-7B-Instruct-ckpt582   \n",
       "3                             zheminh_Planning-Data-Math-Full-Soln-Qwen2.5-7B-Instruct-ckpt582   \n",
       "4                             zheminh_Planning-Data-Math-Full-Soln-Qwen2.5-7B-Instruct-ckpt582   \n",
       "5                             zheminh_Planning-Data-Math-Full-Soln-Qwen2.5-7B-Instruct-ckpt582   \n",
       "6   zheminh_Planning-Data-Math-Full-Soln-Qwen2.5-7B-Instruct-ckpt582-Planning-Dagger-Data-Math   \n",
       "7   zheminh_Planning-Data-Math-Full-Soln-Qwen2.5-7B-Instruct-ckpt582-Planning-Dagger-Data-Math   \n",
       "8                     zheminh_Qwen2.5-1.5B-Instruct-Planning-Data-Math-Orig-and-Dagger-ckpt800   \n",
       "9                     zheminh_Qwen2.5-1.5B-Instruct-Planning-Data-Math-Orig-and-Dagger-ckpt800   \n",
       "10                            zheminh_Planning-Data-Math-Full-Soln-Qwen2.5-7B-Instruct-ckpt582   \n",
       "11                            zheminh_Planning-Data-Math-Full-Soln-Qwen2.5-7B-Instruct-ckpt582   \n",
       "12                            zheminh_Planning-Data-Math-Full-Soln-Qwen2.5-7B-Instruct-ckpt582   \n",
       "13                   zheminh_Qwen2.5-1.5B-Instruct-Planning-Data-Math-Orig-and-Dagger-ckpt1245   \n",
       "14                   zheminh_Qwen2.5-1.5B-Instruct-Planning-Data-Math-Orig-and-Dagger-ckpt1245   \n",
       "15                   zheminh_Qwen2.5-1.5B-Instruct-Planning-Data-Math-Orig-and-Dagger-ckpt1245   \n",
       "16                     zheminh_Qwen2.5-7B-Instruct-Planning-Data-Math-Orig-and-Dagger-ckpt2075   \n",
       "17                     zheminh_Qwen2.5-7B-Instruct-Planning-Data-Math-Orig-and-Dagger-ckpt1800   \n",
       "18                      zheminh_Qwen2.5-7B-Instruct-Planning-Data-Math-Orig-and-Dagger-ckpt800   \n",
       "19                     zheminh_Qwen2.5-7B-Instruct-Planning-Data-Math-Orig-and-Dagger-ckpt2075   \n",
       "20                     zheminh_Qwen2.5-7B-Instruct-Planning-Data-Math-Orig-and-Dagger-ckpt3000   \n",
       "21                           zheminh_Qwen2.5-7B-Instruct-Shortened-Planning-Data-Math-ckpt2968   \n",
       "22                            zheminh_Planning-Data-Math-Full-Soln-Qwen2.5-7B-Instruct-ckpt582   \n",
       "23                zheminh_Qwen2.5-Math-7B-Instruct-Planning-Data-Math-Orig-and-Dagger-ckpt1245   \n",
       "24                 zheminh_Qwen2.5-Math-7B-Instruct-Planning-Data-Math-Orig-and-Dagger-ckpt800   \n",
       "25                           zheminh_Qwen2.5-7B-Instruct-Shortened-Planning-Data-Math-ckpt2968   \n",
       "26                           zheminh_Qwen2.5-7B-Instruct-Shortened-Planning-Data-Math-ckpt2968   \n",
       "27                           zheminh_Qwen2.5-7B-Instruct-Shortened-Planning-Data-Math-ckpt2968   \n",
       "28                            zheminh_Planning-Data-Math-Full-Soln-Qwen2.5-7B-Instruct-ckpt582   \n",
       "29                            zheminh_Planning-Data-Math-Full-Soln-Qwen2.5-7B-Instruct-ckpt582   \n",
       "30                            zheminh_Planning-Data-Math-Full-Soln-Qwen2.5-7B-Instruct-ckpt582   \n",
       "31                            zheminh_Planning-Data-Math-Full-Soln-Qwen2.5-7B-Instruct-ckpt582   \n",
       "32                            zheminh_Planning-Data-Math-Full-Soln-Qwen2.5-7B-Instruct-ckpt582   \n",
       "33                            zheminh_Planning-Data-Math-Full-Soln-Qwen2.5-7B-Instruct-ckpt582   \n",
       "\n",
       "    PlannerTemp  \\\n",
       "0           0.1   \n",
       "1           0.1   \n",
       "2           0.1   \n",
       "3           0.1   \n",
       "4           0.1   \n",
       "5           0.1   \n",
       "6           0.1   \n",
       "7           0.6   \n",
       "8           0.1   \n",
       "9           0.1   \n",
       "10          0.4   \n",
       "11          0.1   \n",
       "12          0.1   \n",
       "13          0.1   \n",
       "14          0.1   \n",
       "15          0.4   \n",
       "16          0.1   \n",
       "17          0.1   \n",
       "18          0.1   \n",
       "19          0.4   \n",
       "20          0.1   \n",
       "21          0.1   \n",
       "22          0.1   \n",
       "23          0.1   \n",
       "24          0.1   \n",
       "25          0.1   \n",
       "26          0.1   \n",
       "27          0.1   \n",
       "28          0.1   \n",
       "29          0.4   \n",
       "30          0.1   \n",
       "31          0.1   \n",
       "32          0.1   \n",
       "33          0.2   \n",
       "\n",
       "                                                                               ExecutorModel  \\\n",
       "0                                                zheminh_DeepSeek-R1-Distill-Qwen-7B-ckpt300   \n",
       "1                                                zheminh_DeepSeek-R1-Distill-Qwen-7B-ckpt534   \n",
       "2                                                zheminh_DeepSeek-R1-Distill-Qwen-7B-ckpt534   \n",
       "3                                                zheminh_DeepSeek-R1-Distill-Qwen-7B-ckpt300   \n",
       "4                                                zheminh_DeepSeek-R1-Distill-Qwen-7B-ckpt800   \n",
       "5                                                zheminh_DeepSeek-R1-Distill-Qwen-7B-ckpt300   \n",
       "6               zheminh_DeepSeek-R1-Distill-Qwen-7B-ckpt300-Execution-Dagger-Data-Math-think   \n",
       "7               zheminh_DeepSeek-R1-Distill-Qwen-7B-ckpt300-Execution-Dagger-Data-Math-think   \n",
       "8    zheminh_DeepSeek-R1-Distill-Qwen-1.5B-Execution-Data-Math-Orig-and-Dagger-think-ckpt700   \n",
       "9      zheminh_DeepSeek-R1-Distill-Qwen-7B-Execution-Data-Math-Orig-and-Dagger-think-ckpt700   \n",
       "10  zheminh_DeepSeek-R1-Distill-Qwen-1.5B-Execution-Data-Math-Orig-and-Dagger-think-ckpt2139   \n",
       "11    zheminh_DeepSeek-R1-Distill-Qwen-7B-Execution-Data-Math-Orig-and-Dagger-think-ckpt2139   \n",
       "12     zheminh_DeepSeek-R1-Distill-Qwen-7B-Execution-Data-Math-Orig-and-Dagger-think-ckpt700   \n",
       "13  zheminh_DeepSeek-R1-Distill-Qwen-1.5B-Execution-Data-Math-Orig-and-Dagger-think-ckpt2139   \n",
       "14    zheminh_DeepSeek-R1-Distill-Qwen-7B-Execution-Data-Math-Orig-and-Dagger-think-ckpt2139   \n",
       "15  zheminh_DeepSeek-R1-Distill-Qwen-1.5B-Execution-Data-Math-Orig-and-Dagger-think-ckpt2139   \n",
       "16    zheminh_DeepSeek-R1-Distill-Qwen-7B-Execution-Data-Math-Orig-and-Dagger-think-ckpt2139   \n",
       "17    zheminh_DeepSeek-R1-Distill-Qwen-7B-Execution-Data-Math-Orig-and-Dagger-think-ckpt2139   \n",
       "18    zheminh_DeepSeek-R1-Distill-Qwen-7B-Execution-Data-Math-Orig-and-Dagger-think-ckpt2139   \n",
       "19    zheminh_DeepSeek-R1-Distill-Qwen-7B-Execution-Data-Math-Orig-and-Dagger-think-ckpt2139   \n",
       "20    zheminh_DeepSeek-R1-Distill-Qwen-7B-Execution-Data-Math-Orig-and-Dagger-think-ckpt2139   \n",
       "21                    zheminh_DeepSeek-R1-Distill-Qwen-7B-Execution-Data-Math-think-ckpt1800   \n",
       "22                                               zheminh_DeepSeek-R1-Distill-Qwen-7B-ckpt300   \n",
       "23    zheminh_DeepSeek-R1-Distill-Qwen-7B-Execution-Data-Math-Orig-and-Dagger-think-ckpt2139   \n",
       "24                                               zheminh_DeepSeek-R1-Distill-Qwen-7B-ckpt300   \n",
       "25                    zheminh_DeepSeek-R1-Distill-Qwen-7B-Execution-Data-Math-think-ckpt6400   \n",
       "26                                                   deepseek-ai_DeepSeek-R1-Distill-Qwen-7B   \n",
       "27                    zheminh_DeepSeek-R1-Distill-Qwen-7B-Execution-Data-Math-think-ckpt2000   \n",
       "28    zheminh_DeepSeek-R1-Distill-Qwen-7B-Execution-Data-Math-Orig-and-Dagger-think-ckpt2139   \n",
       "29    zheminh_DeepSeek-R1-Distill-Qwen-7B-Execution-Data-Math-Orig-and-Dagger-think-ckpt2139   \n",
       "30                       zheminh_Qwen3-8B-Execution-Data-Math-Orig-and-Dagger-think-ckpt3400   \n",
       "31                       zheminh_Qwen3-8B-Execution-Data-Math-Orig-and-Dagger-think-ckpt4800   \n",
       "32    zheminh_DeepSeek-R1-Distill-Qwen-7B-Execution-Data-Math-Orig-and-Dagger-think-ckpt2139   \n",
       "33    zheminh_DeepSeek-R1-Distill-Qwen-7B-Execution-Data-Math-Orig-and-Dagger-think-ckpt2139   \n",
       "\n",
       "    ExecutorTemp                DatasetName       SubsetName  Accuracy  \\\n",
       "0            0.1                   MATH-500          default  0.863918   \n",
       "1            0.1                   MATH-500          default  0.852459   \n",
       "2            0.1                   MATH-500          default  0.880478   \n",
       "3            0.1                   MATH-500          default  0.879098   \n",
       "4            0.1                   MATH-500          default  0.862626   \n",
       "5            0.1  NotInOpenThoughts-correct             math  0.831990   \n",
       "6            0.1                   MATH-500          default  0.841237   \n",
       "7            0.6                   MATH-500          default  0.833671   \n",
       "8            0.1                   MATH-500          default  0.591549   \n",
       "9            0.1                   MATH-500          default  0.759036   \n",
       "10           0.4                   MATH-500          default  0.800000   \n",
       "11           0.1                   MATH-500          default  0.891129   \n",
       "12           0.1                   MATH-500          default  0.830645   \n",
       "13           0.1                   MATH-500          default  0.657948   \n",
       "14           0.1                   MATH-500          default  0.800805   \n",
       "15           0.4                   MATH-500          default  0.701826   \n",
       "16           0.1                   MATH-500          default  0.911447   \n",
       "17           0.1                   MATH-500          default  0.867617   \n",
       "18           0.1                   MATH-500          default  0.866485   \n",
       "19           0.4                   MATH-500          default  0.870445   \n",
       "20           0.1                   MATH-500          default  0.858173   \n",
       "21           0.1                   MATH-500          default  0.861619   \n",
       "22           0.1  NotInOpenThoughts-correct            math2  0.856627   \n",
       "23           0.1                   MATH-500          default  1.000000   \n",
       "24           0.1                   MATH-500          default  1.000000   \n",
       "25           0.1                   MATH-500          default  0.856855   \n",
       "26           0.1                   MATH-500          default  0.883768   \n",
       "27           0.1                   MATH-500          default  0.851406   \n",
       "28           0.1                 Calc-gsm8k  original-splits  0.874667   \n",
       "29           0.4                       aime             2024  0.379310   \n",
       "30           0.1                   MATH-500          default  0.733108   \n",
       "31           0.4                   MATH-500          default  0.867735   \n",
       "32           0.4                   MATH-500          default  0.878788   \n",
       "33           0.2                   MATH-500          default  0.827586   \n",
       "\n",
       "    NumProblemsAttempted  NumProblemsIncomplete  \n",
       "0                    488                      3  \n",
       "1                    490                      2  \n",
       "2                    504                      2  \n",
       "3                    500                     12  \n",
       "4                    500                      5  \n",
       "5                   3996                     26  \n",
       "6                    485                      0  \n",
       "7                    493                      0  \n",
       "8                    498                      1  \n",
       "9                    500                      2  \n",
       "10                     5                      0  \n",
       "11                   496                      0  \n",
       "12                   498                      2  \n",
       "13                   500                      3  \n",
       "14                   500                      3  \n",
       "15                   500                      7  \n",
       "16                   463                      0  \n",
       "17                   496                      5  \n",
       "18                   394                     27  \n",
       "19                   500                      6  \n",
       "20                   421                      5  \n",
       "21                   384                      1  \n",
       "22                   840                     10  \n",
       "23                     8                      0  \n",
       "24                     6                      0  \n",
       "25                   499                      3  \n",
       "26                   499                      0  \n",
       "27                   498                      0  \n",
       "28                   750                      0  \n",
       "29                    29                      0  \n",
       "30                   296                      0  \n",
       "31                   499                      0  \n",
       "32                    99                      0  \n",
       "33                   493                      0  "
      ]
     },
     "execution_count": 169,
     "metadata": {},
     "output_type": "execute_result"
    }
   ],
   "source": [
    "metrics_df = pd.read_csv(\"metrics.csv\")\n",
    "for path in recently_updated_paths:\n",
    "    path_match = re.search(r'agent_orchestration_output_planner_(.+?)_temp([0-9.]+)_executor_(.+?)_temp([0-9.]+)', path.split('/')[1])\n",
    "    planner_model, planner_temp, executor_model, executor_temp = path_match.group(1), float(path_match.group(2)), path_match.group(3), float(path_match.group(4))\n",
    "    dataset_name, test_subset = path.split('/')[2].split(\"_\")[0], path.split('/')[2].split(\"_\")[1]\n",
    "    res_df = pd.read_csv(path)\n",
    "    accuracy, num_problems, num_problems_without_final_answer, _ = evaluate_utils.get_eval_metrics(res_df)\n",
    "    \n",
    "    row_filter = ((metrics_df[\"PlannerModel\"] == planner_model) & (metrics_df[\"PlannerTemp\"] == planner_temp) & (metrics_df[\"ExecutorModel\"] == executor_model) & (metrics_df[\"ExecutorTemp\"] == executor_temp) & (metrics_df[\"DatasetName\"] == dataset_name) & (metrics_df[\"SubsetName\"] == test_subset))\n",
    "    if metrics_df[row_filter].empty:\n",
    "        metrics_df = pd.concat([metrics_df, pd.DataFrame([{\"PlannerModel\": planner_model, \"PlannerTemp\": planner_temp, \"ExecutorModel\": executor_model, \"ExecutorTemp\": executor_temp,\n",
    "            \"DatasetName\": dataset_name, \"SubsetName\": test_subset, \"Accuracy\": accuracy, \"NumProblemsAttempted\": num_problems, \"NumProblemsIncomplete\": num_problems_without_final_answer}])], ignore_index=True)     \n",
    "    else:\n",
    "        metrics_df.loc[row_filter, [\"Accuracy\", \"NumProblemsAttempted\", \"NumProblemsIncomplete\"]] = [accuracy, num_problems, num_problems_without_final_answer]\n",
    "\n",
    "metrics_df.to_csv(\"metrics.csv\", index=False)\n",
    "metrics_df"
   ]
  },
  {
   "cell_type": "code",
   "execution_count": 22,
   "metadata": {},
   "outputs": [
    {
     "name": "stdout",
     "output_type": "stream",
     "text": [
      "0.905811623246493 499 0\n",
      "Invalid trajectory planner_trajectory_test_precalculus_902.txt \n",
      "Valid trajectories: 498, Invalid trajectories: 1\n",
      "Avg. seq count: 2681.0461847389556, Avg. planner contrib: 895.6927710843373, Avg. executor contrib: 1785.3534136546184\n"
     ]
    }
   ],
   "source": [
    "folder_path = \"logs_full_trajectory/agent_orchestration_output_planner_zheminh_DeepSeek-R1-Distill-Qwen-7B-Trajectory-Data-MATH-Olympiad-Merged-Chains-with-prompt-ckpt1200_temp0.6_executor_temp0.6/MATH-500_default\"\n",
    "df = pd.read_csv(os.path.join(folder_path, \"agent_orchestration_output.csv\"))\n",
    "accuracy, num_problems, num_problems_without_final_answer, res_df = evaluate_utils.get_eval_metrics(df)\n",
    "print(accuracy, num_problems, num_problems_without_final_answer)\n",
    "seq_token_count_dict, large_files = evaluate_utils.get_seq_token_counts(folder_path)"
   ]
  },
  {
   "cell_type": "code",
   "execution_count": null,
   "metadata": {},
   "outputs": [
    {
     "name": "stdout",
     "output_type": "stream",
     "text": [
      "0.8957345971563981 211 0\n",
      "Invalid trajectory planner_trajectory_test_algebra_1082.txt \n",
      "Invalid trajectory planner_trajectory_test_algebra_1349.txt \n",
      "Invalid trajectory planner_trajectory_test_algebra_1837.txt \n",
      "Invalid trajectory planner_trajectory_test_algebra_1937.txt \n",
      "Invalid trajectory planner_trajectory_test_algebra_2046.txt \n",
      "Invalid trajectory planner_trajectory_test_algebra_2058.txt \n",
      "Invalid trajectory planner_trajectory_test_algebra_2193.txt \n",
      "Invalid trajectory planner_trajectory_test_algebra_2214.txt \n",
      "Invalid trajectory planner_trajectory_test_algebra_2517.txt \n",
      "Invalid trajectory planner_trajectory_test_algebra_2700.txt \n",
      "Invalid trajectory planner_trajectory_test_algebra_661.txt \n",
      "Invalid trajectory planner_trajectory_test_algebra_733.txt \n",
      "Invalid trajectory planner_trajectory_test_algebra_873.txt \n",
      "Invalid trajectory planner_trajectory_test_algebra_892.txt \n",
      "Invalid trajectory planner_trajectory_test_algebra_972.txt \n",
      "Invalid trajectory planner_trajectory_test_counting_and_probability_134.txt \n",
      "Invalid trajectory planner_trajectory_test_counting_and_probability_159.txt \n",
      "Invalid trajectory planner_trajectory_test_counting_and_probability_181.txt \n",
      "Invalid trajectory planner_trajectory_test_counting_and_probability_430.txt \n",
      "Invalid trajectory planner_trajectory_test_counting_and_probability_803.txt \n",
      "Invalid trajectory planner_trajectory_test_geometry_172.txt \n",
      "Invalid trajectory planner_trajectory_test_geometry_283.txt \n",
      "Invalid trajectory planner_trajectory_test_geometry_434.txt \n",
      "Invalid trajectory planner_trajectory_test_geometry_65.txt \n",
      "Invalid trajectory planner_trajectory_test_intermediate_algebra_1063.txt \n",
      "Invalid trajectory planner_trajectory_test_intermediate_algebra_128.txt \n",
      "Invalid trajectory planner_trajectory_test_intermediate_algebra_134.txt \n",
      "Invalid trajectory planner_trajectory_test_intermediate_algebra_1388.txt \n",
      "Invalid trajectory planner_trajectory_test_intermediate_algebra_1408.txt \n",
      "Invalid trajectory planner_trajectory_test_intermediate_algebra_183.txt \n",
      "Invalid trajectory planner_trajectory_test_intermediate_algebra_1849.txt \n",
      "Invalid trajectory planner_trajectory_test_intermediate_algebra_1994.txt \n",
      "Invalid trajectory planner_trajectory_test_intermediate_algebra_2046.txt \n",
      "Invalid trajectory planner_trajectory_test_intermediate_algebra_207.txt \n",
      "Invalid trajectory planner_trajectory_test_intermediate_algebra_2196.txt \n",
      "Invalid trajectory planner_trajectory_test_intermediate_algebra_232.txt \n",
      "Invalid trajectory planner_trajectory_test_intermediate_algebra_279.txt \n",
      "Invalid trajectory planner_trajectory_test_intermediate_algebra_558.txt \n",
      "Invalid trajectory planner_trajectory_test_intermediate_algebra_591.txt \n",
      "Invalid trajectory planner_trajectory_test_intermediate_algebra_607.txt \n",
      "Invalid trajectory planner_trajectory_test_intermediate_algebra_623.txt \n",
      "Invalid trajectory planner_trajectory_test_intermediate_algebra_894.txt \n",
      "Invalid trajectory planner_trajectory_test_intermediate_algebra_991.txt \n",
      "Invalid trajectory planner_trajectory_test_number_theory_156.txt \n",
      "Invalid trajectory planner_trajectory_test_prealgebra_1139.txt \n",
      "Invalid trajectory planner_trajectory_test_prealgebra_1646.txt \n",
      "Invalid trajectory planner_trajectory_test_prealgebra_1686.txt \n",
      "Invalid trajectory planner_trajectory_test_precalculus_117.txt \n",
      "Invalid trajectory planner_trajectory_test_precalculus_263.txt \n",
      "Invalid trajectory planner_trajectory_test_precalculus_697.txt \n",
      "Invalid trajectory planner_trajectory_test_precalculus_927.txt \n",
      "Valid trajectories: 160, Invalid trajectories: 51\n",
      "Avg. seq count: 2224.24375, Avg. planner contrib: 991.53125, Avg. executor contrib: 1232.7125\n"
     ]
    }
   ],
   "source": [
    "folder_path = \"logs_full_trajectory/agent_orchestration_output_planner_zheminh_DeepSeek-R1-Distill-Qwen-7B-Trajectory-Data-Math-ckpt400_temp0.6_executor_temp0.6/MATH-500_default\"\n",
    "df = pd.read_csv(os.path.join(folder_path, \"agent_orchestration_output.csv\"))\n",
    "accuracy, num_problems, num_problems_without_final_answer, res_df = evaluate_utils.get_eval_metrics(df)\n",
    "print(accuracy, num_problems, num_problems_without_final_answer)\n",
    "seq_token_count_dict, large_files = evaluate_utils.get_seq_token_counts(folder_path)"
   ]
  },
  {
   "cell_type": "code",
   "execution_count": null,
   "metadata": {},
   "outputs": [],
   "source": [
    "import os\n",
    "folder_path = \"logs_full_trajectory/agent_orchestration_output_planner_zheminh_DeepSeek-R1-Distill-Qwen-7B-Trajectory-Data-Math-ckpt400_temp0.6_executor_zheminh_DeepSeek-R1-Distill-Qwen-7B-Trajectory-Data-Math-ckpt400_temp0.6_1kp_1ke_best/MATH-500_default\"\n",
    "tokens_all = []\n",
    "for filename in os.listdir(folder_path):\n",
    "    if not filename.endswith(\".txt\"):\n",
    "        continue\n",
    "    traj = text_processing_utils.read_file_as_string(os.path.join(folder_path, filename))\n",
    "    traj = traj.split(\"</Question>\")[1].strip()\n",
    "    tokens = evaluate_utils.count_tokens(traj)\n",
    "    tokens_all.append(tokens)"
   ]
  },
  {
   "cell_type": "code",
   "execution_count": 6,
   "metadata": {},
   "outputs": [
    {
     "data": {
      "text/plain": [
       "3622.556"
      ]
     },
     "execution_count": 6,
     "metadata": {},
     "output_type": "execute_result"
    }
   ],
   "source": [
    "import numpy as np\n",
    "np.mean(tokens_all)"
   ]
  },
  {
   "cell_type": "code",
   "execution_count": null,
   "metadata": {},
   "outputs": [],
   "source": []
  },
  {
   "cell_type": "code",
   "execution_count": 3,
   "metadata": {},
   "outputs": [
    {
     "data": {
      "text/plain": [
       "(0.892, 500, 0)"
      ]
     },
     "execution_count": 3,
     "metadata": {},
     "output_type": "execute_result"
    }
   ],
   "source": [
    "df=pd.read_csv(\"/Users/emilbiju/Downloads/agent_orchestration_output_planner_MrezaPRZ_DeepSeek-R1-Distill-Qwen-7B-Instruct_temp0.2_executor_MrezaPRZ_DeepSeek-R1-Distill-Qwen-7B-Instruct_temp0.2/MATH-500_default/agent_orchestration_output.csv\")\n",
    "accuracy, num_problems, num_problems_without_final_answer, res_df = evaluate_utils.get_eval_metrics(df)\n",
    "accuracy, num_problems, num_problems_without_final_answer"
   ]
  },
  {
   "cell_type": "code",
   "execution_count": 113,
   "metadata": {},
   "outputs": [
    {
     "data": {
      "text/plain": [
       "(0.8897795591182365, 499, 0)"
      ]
     },
     "execution_count": 113,
     "metadata": {},
     "output_type": "execute_result"
    }
   ],
   "source": [
    "df = pd.read_csv(\"logs/agent_orchestration_output_planner_zheminh_Planning-Data-Math-Full-Soln-Qwen2.5-7B-Instruct-ckpt582_temp0.1_executor_zheminh_DeepSeek-R1-Distill-Qwen-7B-Execution-Data-Math-Orig-and-Dagger-think-ckpt2139_temp0.1_maxlen1000_maxphases12/MATH-500_default/agent_orchestration_output.csv\")\n",
    "accuracy, num_problems, num_problems_without_final_answer, res_df1 = evaluate_utils.get_eval_metrics(df)\n",
    "accuracy, num_problems, num_problems_without_final_answer"
   ]
  },
  {
   "cell_type": "code",
   "execution_count": 138,
   "metadata": {},
   "outputs": [
    {
     "data": {
      "text/plain": [
       "(0.8611670020120724, 497, 0)"
      ]
     },
     "execution_count": 138,
     "metadata": {},
     "output_type": "execute_result"
    }
   ],
   "source": [
    "df = pd.read_csv(\"logs/agent_orchestration_output_planner_zheminh_Planning-Data-Math-Full-Soln-Qwen2.5-7B-Instruct-ckpt582_temp0.1_executor_zheminh_DeepSeek-R1-Distill-Qwen-7B-Execution-Data-Math-Orig-and-Dagger-think-ckpt2139_temp0.1/MATH-500_default/agent_orchestration_output.csv\")\n",
    "accuracy, num_problems, num_problems_without_final_answer, res_df = evaluate_utils.get_eval_metrics(df)\n",
    "accuracy, num_problems, num_problems_without_final_answer"
   ]
  },
  {
   "cell_type": "markdown",
   "metadata": {},
   "source": [
    "## here"
   ]
  },
  {
   "cell_type": "code",
   "execution_count": 58,
   "metadata": {},
   "outputs": [
    {
     "name": "stdout",
     "output_type": "stream",
     "text": [
      "nan 26 26\n"
     ]
    }
   ],
   "source": [
    "folder_path = \"logs_base_model/base_model_output_zheminh_DeepSeek-R1-Distill-Qwen-7B-RFT-R1-Distill-ckpt400/aime_2024_default/\"\n",
    "df = pd.read_csv(os.path.join(folder_path, \"base_model_output.csv\"))\n",
    "accuracy, num_problems, num_problems_without_final_answer, res_df = evaluate_utils.get_eval_metrics(df)\n",
    "print(accuracy, num_problems, num_problems_without_final_answer)\n"
   ]
  },
  {
   "cell_type": "code",
   "execution_count": 46,
   "metadata": {},
   "outputs": [
    {
     "name": "stdout",
     "output_type": "stream",
     "text": [
      "0.906 500 0\n",
      "Invalid trajectory planner_trajectory_test_counting_and_probability_525.txt \n",
      "Invalid trajectory planner_trajectory_test_counting_and_probability_71.txt \n",
      "Invalid trajectory planner_trajectory_test_precalculus_117.txt \n",
      "Valid trajectories: 497, Invalid trajectories: 3\n",
      "Avg. seq count: 2528.154929577465, Avg. planner contrib: 789.7686116700202, Avg. executor contrib: 1738.3863179074447\n"
     ]
    }
   ],
   "source": [
    "folder_path = \"logs_full_trajectory/agent_orchestration_output_planner_zheminh_DeepSeek-R1-Distill-Qwen-7B-Trajectory-Data-MATH-Merged-Chains-ckpt700_temp0.6_executor_zheminh_DeepSeek-R1-Distill-Qwen-7B-Trajectory-Data-MATH-Merged-Chains-ckpt700_temp0.6/MATH-500_default\"\n",
    "df = pd.read_csv(os.path.join(folder_path, \"agent_orchestration_output.csv\"))\n",
    "accuracy, num_problems, num_problems_without_final_answer, res_df = evaluate_utils.get_eval_metrics(df)\n",
    "print(accuracy, num_problems, num_problems_without_final_answer)\n",
    "seq_token_count_dict, large_files = evaluate_utils.get_seq_token_counts(folder_path)"
   ]
  },
  {
   "cell_type": "code",
   "execution_count": null,
   "metadata": {},
   "outputs": [],
   "source": []
  },
  {
   "cell_type": "code",
   "execution_count": 51,
   "metadata": {},
   "outputs": [
    {
     "name": "stdout",
     "output_type": "stream",
     "text": [
      "0.35714285714285715 28 0\n",
      "Invalid trajectory planner_trajectory_62.txt \n",
      "Valid trajectories: 27, Invalid trajectories: 1\n",
      "Avg. seq count: 6065.925925925926, Avg. planner contrib: 1279.5555555555557, Avg. executor contrib: 4786.37037037037\n"
     ]
    }
   ],
   "source": [
    "folder_path = \"logs_full_trajectory/agent_orchestration_output_planner_zheminh_DeepSeek-R1-Distill-Qwen-7B-Trajectory-Data-MATH-Merged-Chains-ckpt300_temp0.6_executor_zheminh_DeepSeek-R1-Distill-Qwen-7B-Trajectory-Data-MATH-Merged-Chains-ckpt300_temp0.6/aime_2024_default\"\n",
    "df = pd.read_csv(os.path.join(folder_path, \"agent_orchestration_output.csv\"))\n",
    "accuracy, num_problems, num_problems_without_final_answer, res_df = evaluate_utils.get_eval_metrics(df)\n",
    "print(accuracy, num_problems, num_problems_without_final_answer)\n",
    "seq_token_count_dict, large_files = evaluate_utils.get_seq_token_counts(folder_path)"
   ]
  },
  {
   "cell_type": "code",
   "execution_count": 56,
   "metadata": {},
   "outputs": [
    {
     "name": "stdout",
     "output_type": "stream",
     "text": [
      "0.4482758620689655 29 0\n",
      "Valid trajectories: 29, Invalid trajectories: 0\n",
      "Avg. seq count: 6085.793103448276, Avg. planner contrib: 2823.1724137931033, Avg. executor contrib: 3262.6206896551726\n"
     ]
    }
   ],
   "source": [
    "folder_path = \"logs2_full_trajectory/agent_orchestration_output_planner_zheminh_DeepSeek-R1-Distill-Qwen-7B-Trajectory-Data-MATH-Merged-Chains-ckpt300_temp0.6_executor_zheminh_DeepSeek-R1-Distill-Qwen-7B-Trajectory-Data-MATH-Merged-Chains-ckpt300_temp0.6/aime_2024_default\"\n",
    "df = pd.read_csv(os.path.join(folder_path, \"agent_orchestration_output.csv\"))\n",
    "accuracy, num_problems, num_problems_without_final_answer, res_df = evaluate_utils.get_eval_metrics(df)\n",
    "print(accuracy, num_problems, num_problems_without_final_answer)\n",
    "seq_token_count_dict, large_files = evaluate_utils.get_seq_token_counts(folder_path)"
   ]
  },
  {
   "cell_type": "code",
   "execution_count": 45,
   "metadata": {},
   "outputs": [
    {
     "name": "stdout",
     "output_type": "stream",
     "text": [
      "Valid trajectories: 1981, Invalid trajectories: 0\n",
      "Avg. seq count: 1781.700656234225, Avg. planner contrib: 677.6824835941444, Avg. executor contrib: 1104.0181726400808\n"
     ]
    }
   ],
   "source": [
    "folder_path = \"logs/trajectory_data/OpenThoughts-correct_math\"\n",
    "# df = pd.read_csv(os.path.join(folder_path, \"agent_orchestration_output.csv\"))\n",
    "# accuracy, num_problems, num_problems_without_final_answer, res_df = evaluate_utils.get_eval_metrics(df)\n",
    "# print(accuracy, num_problems, num_problems_without_final_answer)\n",
    "seq_token_count_dict, large_files = evaluate_utils.get_seq_token_counts(folder_path)"
   ]
  },
  {
   "cell_type": "code",
   "execution_count": null,
   "metadata": {},
   "outputs": [],
   "source": [
    "import re\n",
    "\n",
    "def extract_last_phase(s):\n",
    "    pattern = r\"</Execution_(\\d+)>\\n\\n<Final_answer>\"\n",
    "    match = re.search(pattern, s)\n",
    "    if match:\n",
    "        return int(match.group(1))\n",
    "    else:\n",
    "        return None\n",
    "\n",
    "last_phase = []\n",
    "for file in os.listdir(\"logs/trajectory_data/OpenThoughts-correct_olympiads\"):\n",
    "    if file.endswith(\".txt\"):\n",
    "        with open(os.path.join(\"logs/trajectory_data/OpenThoughts-correct_olympiads\", file), \"r\") as f:\n",
    "            s = f.read()\n",
    "            last_phase.append(extract_last_phase(s))"
   ]
  },
  {
   "cell_type": "code",
   "execution_count": 43,
   "metadata": {},
   "outputs": [
    {
     "data": {
      "text/plain": [
       "2730"
      ]
     },
     "execution_count": 43,
     "metadata": {},
     "output_type": "execute_result"
    }
   ],
   "source": [
    "len(last_phase)"
   ]
  },
  {
   "cell_type": "code",
   "execution_count": 41,
   "metadata": {},
   "outputs": [
    {
     "data": {
      "text/plain": [
       "Text(0.5, 1.0, 'After merging chains - Olympiad')"
      ]
     },
     "execution_count": 41,
     "metadata": {},
     "output_type": "execute_result"
    },
    {
     "data": {
      "image/png": "[encoded data removed]",
      "text/plain": [
       "<Figure size 640x480 with 1 Axes>"
      ]
     },
     "metadata": {},
     "output_type": "display_data"
    }
   ],
   "source": [
    "plt.hist(last_phase)\n",
    "plt.title(\"After merging chains - Olympiad\")"
   ]
  },
  {
   "cell_type": "code",
   "execution_count": 39,
   "metadata": {},
   "outputs": [
    {
     "data": {
      "text/plain": [
       "Text(0.5, 1.0, 'Before merging chains - Olympiad')"
      ]
     },
     "execution_count": 39,
     "metadata": {},
     "output_type": "execute_result"
    },
    {
     "data": {
      "image/png": "[encoded data removed]",
      "text/plain": [
       "<Figure size 640x480 with 1 Axes>"
      ]
     },
     "metadata": {},
     "output_type": "display_data"
    }
   ],
   "source": [
    "plt.hist(last_phase)\n",
    "plt.title(\"Before merging chains - Olympiad\")\n"
   ]
  },
  {
   "cell_type": "code",
   "execution_count": 56,
   "metadata": {},
   "outputs": [
    {
     "data": {
      "text/plain": [
       "(0.9536842105263158, 475, 0)"
      ]
     },
     "execution_count": 56,
     "metadata": {},
     "output_type": "execute_result"
    }
   ],
   "source": [
    "df = pd.read_csv(\"logs_base_model/base_model_output_zheminh_DeepSeek-R1-Distill-Qwen-7B-Trajectory-Data-Math-ckpt400/MATH-500_default/base_model_output.csv\")\n",
    "accuracy, num_problems, num_problems_without_final_answer, res_df = evaluate_utils.get_eval_metrics(df)\n",
    "accuracy, num_problems, num_problems_without_final_answer"
   ]
  },
  {
   "cell_type": "code",
   "execution_count": 57,
   "metadata": {},
   "outputs": [
    {
     "name": "stderr",
     "output_type": "stream",
     "text": [
      "/Users/emilbiju/Downloads/LLMVerification/agentic_r1_v3_git_repo_clone/factuality-verification/src/utils/evaluate_utils.py:92: SettingWithCopyWarning: \n",
      "A value is trying to be set on a copy of a slice from a DataFrame.\n",
      "Try using .loc[row_indexer,col_indexer] = value instead\n",
      "\n",
      "See the caveats in the documentation: https://pandas.pydata.org/pandas-docs/stable/user_guide/indexing.html#returning-a-view-versus-a-copy\n",
      "  res_df_complete[\"IsCorrect\"] = res_df_complete.apply(lambda x: use_math_verify(x[\"TrueFinalAnswer\"], x[\"PredictedFinalAnswer\"]), axis=1)\n"
     ]
    },
    {
     "data": {
      "text/plain": [
       "(0.8571428571428571, 28, 14)"
      ]
     },
     "execution_count": 57,
     "metadata": {},
     "output_type": "execute_result"
    }
   ],
   "source": [
    "df = pd.read_csv(\"logs_base_model/base_model_output_zheminh_DeepSeek-R1-Distill-Qwen-7B-Trajectory-Data-Math-ckpt400/aime_2024_default/base_model_output.csv\")\n",
    "accuracy, num_problems, num_problems_without_final_answer, res_df = evaluate_utils.get_eval_metrics(df)\n",
    "accuracy, num_problems, num_problems_without_final_answer"
   ]
  },
  {
   "cell_type": "code",
   "execution_count": 58,
   "metadata": {},
   "outputs": [
    {
     "data": {
      "text/plain": [
       "(0.9105691056910569, 492, 0)"
      ]
     },
     "execution_count": 58,
     "metadata": {},
     "output_type": "execute_result"
    }
   ],
   "source": [
    "df = pd.read_csv(\"logs_base_model/base_model_output_zheminh_DeepSeek-R1-Distill-Qwen-7B-Trajectory-Data-Math-ckpt600/MATH-500_default/base_model_output.csv\")\n",
    "accuracy, num_problems, num_problems_without_final_answer, res_df = evaluate_utils.get_eval_metrics(df)\n",
    "accuracy, num_problems, num_problems_without_final_answer"
   ]
  },
  {
   "cell_type": "code",
   "execution_count": 50,
   "metadata": {},
   "outputs": [
    {
     "data": {
      "text/plain": [
       "(0.8, 15, 0)"
      ]
     },
     "execution_count": 50,
     "metadata": {},
     "output_type": "execute_result"
    }
   ],
   "source": [
    "df = pd.read_csv(\"logs_base_model/base_model_output_zheminh_DeepSeek-R1-Distill-Qwen-7B-Trajectory-Data-Math-ckpt600/aime_2024_default/base_model_output.csv\")\n",
    "accuracy, num_problems, num_problems_without_final_answer, res_df = evaluate_utils.get_eval_metrics(df)\n",
    "accuracy, num_problems, num_problems_without_final_answer"
   ]
  },
  {
   "cell_type": "code",
   "execution_count": 50,
   "metadata": {},
   "outputs": [
    {
     "data": {
      "text/plain": [
       "(0.916, 500, 0)"
      ]
     },
     "execution_count": 50,
     "metadata": {},
     "output_type": "execute_result"
    }
   ],
   "source": [
    "df = pd.read_csv(\"logs_full_trajectory/agent_orchestration_output_planner_zheminh_DeepSeek-R1-Distill-Qwen-7B-Trajectory-Data-Math-ckpt400_temp0.6_executor_zheminh_DeepSeek-R1-Distill-Qwen-7B-Trajectory-Data-Math-ckpt400_temp0.6/MATH-500_default/agent_orchestration_output.csv\")\n",
    "accuracy, num_problems, num_problems_without_final_answer, res_df = evaluate_utils.get_eval_metrics(df)\n",
    "accuracy, num_problems, num_problems_without_final_answer"
   ]
  },
  {
   "cell_type": "code",
   "execution_count": 71,
   "metadata": {},
   "outputs": [
    {
     "name": "stderr",
     "output_type": "stream",
     "text": [
      "/Users/emilbiju/Downloads/LLMVerification/agentic_r1_v3_git_repo_clone/factuality-verification/src/utils/evaluate_utils.py:92: SettingWithCopyWarning: \n",
      "A value is trying to be set on a copy of a slice from a DataFrame.\n",
      "Try using .loc[row_indexer,col_indexer] = value instead\n",
      "\n",
      "See the caveats in the documentation: https://pandas.pydata.org/pandas-docs/stable/user_guide/indexing.html#returning-a-view-versus-a-copy\n",
      "  res_df_complete[\"IsCorrect\"] = res_df_complete.apply(lambda x: use_math_verify(x[\"TrueFinalAnswer\"], x[\"PredictedFinalAnswer\"]), axis=1)\n"
     ]
    },
    {
     "data": {
      "text/plain": [
       "(0.9294117647058824, 497, 72)"
      ]
     },
     "execution_count": 71,
     "metadata": {},
     "output_type": "execute_result"
    }
   ],
   "source": [
    "df = pd.read_csv(\"logs_base_model/base_model_output_zheminh_DeepSeek-R1-Distill-Qwen-7B-Trajectory-Data-MATH-Olympiad-ckpt800/MATH-500_default/base_model_output.csv\")\n",
    "accuracy, num_problems, num_problems_without_final_answer, res_df = evaluate_utils.get_eval_metrics(df)\n",
    "accuracy, num_problems, num_problems_without_final_answer"
   ]
  },
  {
   "cell_type": "code",
   "execution_count": 68,
   "metadata": {},
   "outputs": [
    {
     "name": "stderr",
     "output_type": "stream",
     "text": [
      "/Users/emilbiju/Downloads/LLMVerification/agentic_r1_v3_git_repo_clone/factuality-verification/src/utils/evaluate_utils.py:92: SettingWithCopyWarning: \n",
      "A value is trying to be set on a copy of a slice from a DataFrame.\n",
      "Try using .loc[row_indexer,col_indexer] = value instead\n",
      "\n",
      "See the caveats in the documentation: https://pandas.pydata.org/pandas-docs/stable/user_guide/indexing.html#returning-a-view-versus-a-copy\n",
      "  res_df_complete[\"IsCorrect\"] = res_df_complete.apply(lambda x: use_math_verify(x[\"TrueFinalAnswer\"], x[\"PredictedFinalAnswer\"]), axis=1)\n"
     ]
    },
    {
     "data": {
      "text/plain": [
       "(0.6923076923076923, 29, 16)"
      ]
     },
     "execution_count": 68,
     "metadata": {},
     "output_type": "execute_result"
    }
   ],
   "source": [
    "df = pd.read_csv(\"logs_base_model/base_model_output_zheminh_DeepSeek-R1-Distill-Qwen-7B-Trajectory-Data-MATH-Olympiad-ckpt800/aime_2024_default/base_model_output.csv\")\n",
    "accuracy, num_problems, num_problems_without_final_answer, res_df = evaluate_utils.get_eval_metrics(df)\n",
    "accuracy, num_problems, num_problems_without_final_answer"
   ]
  },
  {
   "cell_type": "code",
   "execution_count": 72,
   "metadata": {},
   "outputs": [
    {
     "data": {
      "text/plain": [
       "(0.892, 500, 0)"
      ]
     },
     "execution_count": 72,
     "metadata": {},
     "output_type": "execute_result"
    }
   ],
   "source": [
    "df = pd.read_csv(\"logs_full_trajectory/agent_orchestration_output_planner_zheminh_DeepSeek-R1-Distill-Qwen-7B-Trajectory-Data-MATH-Olympiad-ckpt800_temp0.6_executor_zheminh_DeepSeek-R1-Distill-Qwen-7B-Trajectory-Data-MATH-Olympiad-ckpt800_temp0.6/MATH-500_default/agent_orchestration_output.csv\")\n",
    "accuracy, num_problems, num_problems_without_final_answer, res_df = evaluate_utils.get_eval_metrics(df)\n",
    "accuracy, num_problems, num_problems_without_final_answer"
   ]
  },
  {
   "cell_type": "code",
   "execution_count": 73,
   "metadata": {},
   "outputs": [
    {
     "data": {
      "text/plain": [
       "(0.898, 500, 0)"
      ]
     },
     "execution_count": 73,
     "metadata": {},
     "output_type": "execute_result"
    }
   ],
   "source": [
    "df = pd.read_csv(\"logs2_full_trajectory/agent_orchestration_output_planner_zheminh_DeepSeek-R1-Distill-Qwen-7B-Trajectory-Data-Math-ckpt400_temp0.6_executor_zheminh_DeepSeek-R1-Distill-Qwen-7B-Trajectory-Data-Math-ckpt400_temp0.6/MATH-500_default/agent_orchestration_output.csv\")\n",
    "accuracy, num_problems, num_problems_without_final_answer, res_df = evaluate_utils.get_eval_metrics(df)\n",
    "accuracy, num_problems, num_problems_without_final_answer"
   ]
  },
  {
   "cell_type": "code",
   "execution_count": 54,
   "metadata": {},
   "outputs": [
    {
     "data": {
      "text/plain": [
       "(0.4666666666666667, 30, 0)"
      ]
     },
     "execution_count": 54,
     "metadata": {},
     "output_type": "execute_result"
    }
   ],
   "source": [
    "df = pd.read_csv(\"logs_full_trajectory/agent_orchestration_output_planner_zheminh_DeepSeek-R1-Distill-Qwen-7B-Trajectory-Data-Math-ckpt400_temp0.6_executor_zheminh_DeepSeek-R1-Distill-Qwen-7B-Trajectory-Data-Math-ckpt400_temp0.6/aime_2024_default/agent_orchestration_output.csv\")\n",
    "accuracy, num_problems, num_problems_without_final_answer, res_df = evaluate_utils.get_eval_metrics(df)\n",
    "accuracy, num_problems, num_problems_without_final_answer"
   ]
  },
  {
   "cell_type": "code",
   "execution_count": 51,
   "metadata": {},
   "outputs": [
    {
     "data": {
      "text/plain": [
       "(0.8902439024390244, 164, 0)"
      ]
     },
     "execution_count": 51,
     "metadata": {},
     "output_type": "execute_result"
    }
   ],
   "source": [
    "df = pd.read_csv(\"logs_full_trajectory/agent_orchestration_output_planner_zheminh_DeepSeek-R1-Distill-Qwen-7B-Trajectory-Data-Math-ckpt400_temp0.6_executor_zheminh_DeepSeek-R1-Distill-Qwen-7B-Trajectory-Data-Math-ckpt400_temp0.6/MATH-500_default/agent_orchestration_output.csv\")\n",
    "accuracy, num_problems, num_problems_without_final_answer, res_df = evaluate_utils.get_eval_metrics(df)\n",
    "accuracy, num_problems, num_problems_without_final_answer"
   ]
  },
  {
   "cell_type": "code",
   "execution_count": 52,
   "metadata": {},
   "outputs": [
    {
     "data": {
      "text/plain": [
       "(0.8909090909090909, 165, 0)"
      ]
     },
     "execution_count": 52,
     "metadata": {},
     "output_type": "execute_result"
    }
   ],
   "source": [
    "df = pd.read_csv(\"logs_full_trajectory/agent_orchestration_output_planner_zheminh_DeepSeek-R1-Distill-Qwen-7B-Trajectory-Data-Math-ckpt400_temp0.6_executor_zheminh_DeepSeek-R1-Distill-Qwen-7B-Trajectory-Data-Math-ckpt400_temp0.6/MATH-500_default/agent_orchestration_output.csv\")\n",
    "accuracy, num_problems, num_problems_without_final_answer, res_df = evaluate_utils.get_eval_metrics(df)\n",
    "accuracy, num_problems, num_problems_without_final_answer"
   ]
  },
  {
   "cell_type": "code",
   "execution_count": null,
   "metadata": {},
   "outputs": [
    {
     "data": {
      "text/plain": [
       "(0.896551724137931, 203, 0)"
      ]
     },
     "execution_count": 54,
     "metadata": {},
     "output_type": "execute_result"
    }
   ],
   "source": [
    "df = pd.read_csv(\"logs_full_trajectory/agent_orchestration_output_planner_zheminh_DeepSeek-R1-Distill-Qwen-7B-Trajectory-Data-Math-ckpt400_temp0.6_executor_zheminh_DeepSeek-R1-Distill-Qwen-7B-Trajectory-Data-Math-ckpt400_temp0.6/MATH-500_default/agent_orchestration_output.csv\")\n",
    "accuracy, num_problems, num_problems_without_final_answer, res_df = evaluate_utils.get_eval_metrics(df)\n",
    "accuracy, num_problems, num_problems_without_final_answer"
   ]
  },
  {
   "cell_type": "code",
   "execution_count": 68,
   "metadata": {},
   "outputs": [
    {
     "data": {
      "text/plain": [
       "(0.9341317365269461, 167, 0)"
      ]
     },
     "execution_count": 68,
     "metadata": {},
     "output_type": "execute_result"
    }
   ],
   "source": [
    "df = pd.read_csv(\"logs_full_trajectory/agent_orchestration_output_planner_zheminh_DeepSeek-R1-Distill-Qwen-7B-Trajectory-Data-Math-ckpt400_temp0.6_executor_zheminh_DeepSeek-R1-Distill-Qwen-7B-Trajectory-Data-Math-ckpt400_temp0.6/MATH-500_default/agent_orchestration_output.csv\")\n",
    "accuracy, num_problems, num_problems_without_final_answer, res_df = evaluate_utils.get_eval_metrics(df)\n",
    "accuracy, num_problems, num_problems_without_final_answer"
   ]
  },
  {
   "cell_type": "code",
   "execution_count": 95,
   "metadata": {},
   "outputs": [
    {
     "data": {
      "text/plain": [
       "(0.9249492900608519, 493, 0)"
      ]
     },
     "execution_count": 95,
     "metadata": {},
     "output_type": "execute_result"
    }
   ],
   "source": [
    "df = pd.read_csv(\"logs_full_trajectory/agent_orchestration_output_planner_zheminh_DeepSeek-R1-Distill-Qwen-7B-Trajectory-Data-Math-ckpt400_temp0.6_executor_zheminh_DeepSeek-R1-Distill-Qwen-7B-Trajectory-Data-Math-ckpt400_temp0.6/MATH-500_default/agent_orchestration_output.csv\")\n",
    "accuracy, num_problems, num_problems_without_final_answer, res_df = evaluate_utils.get_eval_metrics(df)\n",
    "accuracy, num_problems, num_problems_without_final_answer"
   ]
  },
  {
   "cell_type": "code",
   "execution_count": 113,
   "metadata": {},
   "outputs": [
    {
     "data": {
      "text/plain": [
       "(0.924, 500, 0)"
      ]
     },
     "execution_count": 113,
     "metadata": {},
     "output_type": "execute_result"
    }
   ],
   "source": [
    "df = pd.read_csv(\"logs_full_trajectory/agent_orchestration_output_planner_zheminh_DeepSeek-R1-Distill-Qwen-7B-Trajectory-Data-Math-ckpt400_temp0.6_executor_zheminh_DeepSeek-R1-Distill-Qwen-7B-Trajectory-Data-Math-ckpt400_temp0.6/MATH-500_default/agent_orchestration_output.csv\")\n",
    "accuracy, num_problems, num_problems_without_final_answer, res_df = evaluate_utils.get_eval_metrics(df)\n",
    "accuracy, num_problems, num_problems_without_final_answer"
   ]
  },
  {
   "cell_type": "code",
   "execution_count": 134,
   "metadata": {},
   "outputs": [
    {
     "data": {
      "text/plain": [
       "(0.894, 500, 0)"
      ]
     },
     "execution_count": 134,
     "metadata": {},
     "output_type": "execute_result"
    }
   ],
   "source": [
    "df = pd.read_csv(\"logs_full_trajectory/agent_orchestration_output_planner_zheminh_DeepSeek-R1-Distill-Qwen-7B-Trajectory-Data-Math-ckpt400_temp0.6_executor_zheminh_DeepSeek-R1-Distill-Qwen-7B-Trajectory-Data-Math-ckpt400_temp0.6/MATH-500_default/agent_orchestration_output.csv\")\n",
    "accuracy, num_problems, num_problems_without_final_answer, res_df = evaluate_utils.get_eval_metrics(df)\n",
    "accuracy, num_problems, num_problems_without_final_answer"
   ]
  },
  {
   "cell_type": "code",
   "execution_count": 135,
   "metadata": {},
   "outputs": [
    {
     "data": {
      "text/plain": [
       "(0.876, 500, 0)"
      ]
     },
     "execution_count": 135,
     "metadata": {},
     "output_type": "execute_result"
    }
   ],
   "source": [
    "df = pd.read_csv(\"logs2_full_trajectory/agent_orchestration_output_planner_zheminh_DeepSeek-R1-Distill-Qwen-7B-Trajectory-Data-Math-ckpt400_temp0.6_executor_zheminh_DeepSeek-R1-Distill-Qwen-7B-Trajectory-Data-Math-ckpt400_temp0.6/MATH-500_default/agent_orchestration_output.csv\")\n",
    "accuracy, num_problems, num_problems_without_final_answer, res_df = evaluate_utils.get_eval_metrics(df)\n",
    "accuracy, num_problems, num_problems_without_final_answer"
   ]
  },
  {
   "cell_type": "code",
   "execution_count": 5,
   "metadata": {},
   "outputs": [
    {
     "data": {
      "text/plain": [
       "(0.916, 500, 0)"
      ]
     },
     "execution_count": 5,
     "metadata": {},
     "output_type": "execute_result"
    }
   ],
   "source": [
    "df = pd.read_csv(\"logs_full_trajectory/agent_orchestration_output_planner_zheminh_DeepSeek-R1-Distill-Qwen-7B-Trajectory-Data-Math-ckpt400_temp0.1_executor_zheminh_DeepSeek-R1-Distill-Qwen-7B-Trajectory-Data-Math-ckpt400_temp0.1/MATH-500_default/agent_orchestration_output.csv\")\n",
    "accuracy, num_problems, num_problems_without_final_answer, res_df = evaluate_utils.get_eval_metrics(df)\n",
    "accuracy, num_problems, num_problems_without_final_answer"
   ]
  },
  {
   "cell_type": "code",
   "execution_count": 112,
   "metadata": {},
   "outputs": [
    {
     "data": {
      "text/plain": [
       "(0.9238900634249472, 473, 0)"
      ]
     },
     "execution_count": 112,
     "metadata": {},
     "output_type": "execute_result"
    }
   ],
   "source": [
    "df = pd.read_csv(\"logs_full_trajectory/agent_orchestration_output_planner_zheminh_DeepSeek-R1-Distill-Qwen-7B-Trajectory-Data-Math-ckpt400_temp0.6_executor_zheminh_DeepSeek-R1-Distill-Qwen-7B-Trajectory-Data-Math-ckpt400_temp0.6/MATH-500_default/agent_orchestration_output.csv\")\n",
    "accuracy, num_problems, num_problems_without_final_answer, res_df = evaluate_utils.get_eval_metrics(df)\n",
    "accuracy, num_problems, num_problems_without_final_answer"
   ]
  },
  {
   "cell_type": "code",
   "execution_count": 23,
   "metadata": {},
   "outputs": [
    {
     "name": "stdout",
     "output_type": "stream",
     "text": [
      "0.9 500 0\n",
      "Invalid trajectory planner_trajectory_test_algebra_2700.txt \n",
      "Invalid trajectory planner_trajectory_test_counting_and_probability_181.txt \n",
      "Invalid trajectory planner_trajectory_test_intermediate_algebra_1350.txt \n",
      "Valid trajectories: 497, Invalid trajectories: 3\n",
      "Avg. seq count: 2705.3098591549297, Avg. planner contrib: 1031.9899396378269, Avg. executor contrib: 1673.3199195171026\n"
     ]
    }
   ],
   "source": [
    "df = pd.read_csv(\"logs4_full_trajectory/agent_orchestration_output_planner_zheminh_DeepSeek-R1-Distill-Qwen-7B-Trajectory-Data-Math-ckpt400_temp0.1_executor_zheminh_DeepSeek-R1-Distill-Qwen-7B-Trajectory-Data-Math-ckpt400_temp0.1/MATH-500_default/agent_orchestration_output.csv\")\n",
    "accuracy, num_problems, num_problems_without_final_answer, res_df = evaluate_utils.get_eval_metrics(df)\n",
    "print(accuracy, num_problems, num_problems_without_final_answer)\n",
    "\n",
    "seq_token_count_dict, large_files = evaluate_utils.get_seq_token_counts(\"logs4_full_trajectory/agent_orchestration_output_planner_zheminh_DeepSeek-R1-Distill-Qwen-7B-Trajectory-Data-Math-ckpt400_temp0.1_executor_zheminh_DeepSeek-R1-Distill-Qwen-7B-Trajectory-Data-Math-ckpt400_temp0.1/MATH-500_default\")\n"
   ]
  },
  {
   "cell_type": "code",
   "execution_count": 110,
   "metadata": {},
   "outputs": [
    {
     "name": "stdout",
     "output_type": "stream",
     "text": [
      "0.4666666666666667 30 0\n",
      "Valid trajectories: 30, Invalid trajectories: 0\n",
      "Avg. seq count: 7163.4, Avg. planner contrib: 1419.6, Avg. executor contrib: 5743.8\n"
     ]
    }
   ],
   "source": [
    "df = pd.read_csv(\"logs_full_trajectory/agent_orchestration_output_planner_zheminh_DeepSeek-R1-Distill-Qwen-7B-Trajectory-Data-MATH-Olympiad-ckpt1200_temp0.6_executor_zheminh_DeepSeek-R1-Distill-Qwen-7B-Trajectory-Data-MATH-Olympiad-ckpt1200_temp0.6/aime_2024_default_5ke_2kp/agent_orchestration_output.csv\")\n",
    "accuracy, num_problems, num_problems_without_final_answer, res_df = evaluate_utils.get_eval_metrics(df)\n",
    "print(accuracy, num_problems, num_problems_without_final_answer)\n",
    "\n",
    "seq_token_count_dict, large_files = evaluate_utils.get_seq_token_counts(\"logs_full_trajectory/agent_orchestration_output_planner_zheminh_DeepSeek-R1-Distill-Qwen-7B-Trajectory-Data-MATH-Olympiad-ckpt1200_temp0.6_executor_zheminh_DeepSeek-R1-Distill-Qwen-7B-Trajectory-Data-MATH-Olympiad-ckpt1200_temp0.6/aime_2024_default_5ke_2kp\")\n"
   ]
  },
  {
   "cell_type": "code",
   "execution_count": 1,
   "metadata": {},
   "outputs": [
    {
     "ename": "NameError",
     "evalue": "name 'pd' is not defined",
     "output_type": "error",
     "traceback": [
      "\u001b[0;31m---------------------------------------------------------------------------\u001b[0m",
      "\u001b[0;31mNameError\u001b[0m                                 Traceback (most recent call last)",
      "Cell \u001b[0;32mIn [1], line 2\u001b[0m\n\u001b[1;32m      1\u001b[0m folder_path \u001b[38;5;241m=\u001b[39m \u001b[38;5;124m\"\u001b[39m\u001b[38;5;124mlogs_full_trajectory/agent_orchestration_output_planner_zheminh_DeepSeek-R1-Distill-Qwen-7B-Trajectory-Data-MATH-Olympiad-ckpt1200_temp0.6_executor_zheminh_DeepSeek-R1-Distill-Qwen-7B-Trajectory-Data-MATH-Olympiad-ckpt1200_temp0.6/aime_2024_default/\u001b[39m\u001b[38;5;124m\"\u001b[39m\n\u001b[0;32m----> 2\u001b[0m df \u001b[38;5;241m=\u001b[39m \u001b[43mpd\u001b[49m\u001b[38;5;241m.\u001b[39mread_csv(folder_path\u001b[38;5;241m+\u001b[39m\u001b[38;5;124m\"\u001b[39m\u001b[38;5;124magent_orchestration_output.csv\u001b[39m\u001b[38;5;124m\"\u001b[39m)\n\u001b[1;32m      3\u001b[0m accuracy, num_problems, num_problems_without_final_answer, res_df \u001b[38;5;241m=\u001b[39m evaluate_utils\u001b[38;5;241m.\u001b[39mget_eval_metrics(df)\n\u001b[1;32m      4\u001b[0m \u001b[38;5;28mprint\u001b[39m(accuracy, num_problems, num_problems_without_final_answer)\n",
      "\u001b[0;31mNameError\u001b[0m: name 'pd' is not defined"
     ]
    }
   ],
   "source": [
    "folder_path = \"logs_full_trajectory/agent_orchestration_output_planner_zheminh_DeepSeek-R1-Distill-Qwen-7B-Trajectory-Data-MATH-Olympiad-ckpt1200_temp0.6_executor_zheminh_DeepSeek-R1-Distill-Qwen-7B-Trajectory-Data-MATH-Olympiad-ckpt1200_temp0.6/aime_2024_default/\"\n",
    "df = pd.read_csv(folder_path+\"agent_orchestration_output.csv\")\n",
    "accuracy, num_problems, num_problems_without_final_answer, res_df = evaluate_utils.get_eval_metrics(df)\n",
    "print(accuracy, num_problems, num_problems_without_final_answer)\n",
    "\n",
    "seq_token_count_dict, large_files = evaluate_utils.get_seq_token_counts(folder_path)\n"
   ]
  },
  {
   "cell_type": "code",
   "execution_count": 10,
   "metadata": {},
   "outputs": [
    {
     "data": {
      "text/plain": [
       "{'planner_trajectory_60.txt': [4072, 683, 3389],\n",
       " 'planner_trajectory_63.txt': [8950, 1842, 7108],\n",
       " 'planner_trajectory_64.txt': [6024, 1522, 4502],\n",
       " 'planner_trajectory_65.txt': [7897, 1228, 6669],\n",
       " 'planner_trajectory_66.txt': [4968, 1658, 3310],\n",
       " 'planner_trajectory_67.txt': [4555, 692, 3863],\n",
       " 'planner_trajectory_68.txt': [5135, 1524, 3611],\n",
       " 'planner_trajectory_69.txt': [1988, 961, 1027],\n",
       " 'planner_trajectory_70.txt': [12587, 2073, 10514],\n",
       " 'planner_trajectory_71.txt': [3988, 980, 3008],\n",
       " 'planner_trajectory_72.txt': [4611, 708, 3903],\n",
       " 'planner_trajectory_73.txt': [7644, 3070, 4574],\n",
       " 'planner_trajectory_74.txt': [11159, 2368, 8791],\n",
       " 'planner_trajectory_75.txt': [6277, 593, 5684],\n",
       " 'planner_trajectory_76.txt': [4169, 1194, 2975],\n",
       " 'planner_trajectory_77.txt': [9906, 2428, 7478],\n",
       " 'planner_trajectory_78.txt': [5716, 1865, 3851],\n",
       " 'planner_trajectory_79.txt': [5903, 2752, 3151],\n",
       " 'planner_trajectory_80.txt': [7448, 2977, 4471],\n",
       " 'planner_trajectory_82.txt': [10623, 2977, 7646],\n",
       " 'planner_trajectory_84.txt': [5499, 2363, 3136],\n",
       " 'planner_trajectory_85.txt': [9112, 1721, 7391],\n",
       " 'planner_trajectory_87.txt': [6762, 2484, 4278],\n",
       " 'planner_trajectory_88.txt': [12564, 764, 11800],\n",
       " 'planner_trajectory_89.txt': [5402, 1182, 4220]}"
      ]
     },
     "execution_count": 10,
     "metadata": {},
     "output_type": "execute_result"
    }
   ],
   "source": [
    "seq_token_count_dict"
   ]
  },
  {
   "cell_type": "code",
   "execution_count": 7,
   "metadata": {},
   "outputs": [
    {
     "data": {
      "text/plain": [
       "(6351.884615384615, 26)"
      ]
     },
     "execution_count": 7,
     "metadata": {},
     "output_type": "execute_result"
    }
   ],
   "source": [
    "df = pd.read_csv(\"logs_base_model/base_model_output_zheminh_DeepSeek-R1-Distill-Qwen-7B-RFT-R1-Distill-ckpt400/aime_2024_default/base_model_output.csv\")\n",
    "df[\"ModelResponse\"].apply(lambda x: evaluate_utils.count_tokens(x)).mean(), len(df)"
   ]
  },
  {
   "cell_type": "code",
   "execution_count": 6,
   "metadata": {},
   "outputs": [
    {
     "data": {
      "text/plain": [
       "(3479.175, 40)"
      ]
     },
     "execution_count": 6,
     "metadata": {},
     "output_type": "execute_result"
    }
   ],
   "source": [
    "df = pd.read_csv(\"logs_base_model/base_model_output_zheminh_DeepSeek-R1-Distill-Qwen-7B-RFT-R1-Distill-ckpt400/amc23_default/base_model_output.csv\")\n",
    "df[\"ModelResponse\"].apply(lambda x: evaluate_utils.count_tokens(x)).mean(), len(df)"
   ]
  },
  {
   "cell_type": "code",
   "execution_count": 130,
   "metadata": {},
   "outputs": [],
   "source": [
    "df[\"PredAns\"] = None\n",
    "for i in range(len(df)):\n",
    "    try:\n",
    "        df.loc[i, \"PredAns\"] = evaluate_utils.remove_boxed(evaluate_utils.last_boxed_only_string(df.loc[i, \"ModelResponse\"]))\n",
    "    except:\n",
    "        pass"
   ]
  },
  {
   "cell_type": "code",
   "execution_count": 5,
   "metadata": {},
   "outputs": [
    {
     "name": "stdout",
     "output_type": "stream",
     "text": [
      "0.825 40 0\n",
      "Valid trajectories: 40, Invalid trajectories: 0\n",
      "Avg. seq count: 3616.85, Avg. planner contrib: 981.975, Avg. executor contrib: 2634.875\n"
     ]
    }
   ],
   "source": [
    "df = pd.read_csv(\"logs_full_trajectory/agent_orchestration_output_planner_zheminh_DeepSeek-R1-Distill-Qwen-7B-Trajectory-Data-MATH-Olympiad-ckpt1200_temp0.6_executor_zheminh_DeepSeek-R1-Distill-Qwen-7B-Trajectory-Data-MATH-Olympiad-ckpt1200_temp0.6/amc23_default/agent_orchestration_output.csv\")\n",
    "accuracy, num_problems, num_problems_without_final_answer, res_df = evaluate_utils.get_eval_metrics(df)\n",
    "print(accuracy, num_problems, num_problems_without_final_answer)\n",
    "\n",
    "seq_token_count_dict, large_files = evaluate_utils.get_seq_token_counts(\"logs_full_trajectory/agent_orchestration_output_planner_zheminh_DeepSeek-R1-Distill-Qwen-7B-Trajectory-Data-MATH-Olympiad-ckpt1200_temp0.6_executor_zheminh_DeepSeek-R1-Distill-Qwen-7B-Trajectory-Data-MATH-Olympiad-ckpt1200_temp0.6/amc23_default\")\n"
   ]
  },
  {
   "cell_type": "code",
   "execution_count": 139,
   "metadata": {},
   "outputs": [
    {
     "data": {
      "text/plain": [
       "{'planner_trajectory_0.txt': [937, 587, 350],\n",
       " 'planner_trajectory_1.txt': [2145, 812, 1333],\n",
       " 'planner_trajectory_10.txt': [7651, 659, 6992],\n",
       " 'planner_trajectory_11.txt': [1723, 731, 992],\n",
       " 'planner_trajectory_12.txt': [3731, 646, 3085],\n",
       " 'planner_trajectory_13.txt': [4252, 1014, 3238],\n",
       " 'planner_trajectory_14.txt': [3133, 231, 2902],\n",
       " 'planner_trajectory_15.txt': [5069, 1632, 3437],\n",
       " 'planner_trajectory_16.txt': [4844, 841, 4003],\n",
       " 'planner_trajectory_17.txt': [1802, 701, 1101],\n",
       " 'planner_trajectory_18.txt': [1955, 617, 1338],\n",
       " 'planner_trajectory_19.txt': [1581, 257, 1324],\n",
       " 'planner_trajectory_2.txt': [1041, 388, 653],\n",
       " 'planner_trajectory_20.txt': [8315, 4460, 3855],\n",
       " 'planner_trajectory_21.txt': [1181, 429, 752],\n",
       " 'planner_trajectory_22.txt': [8295, 3216, 5079],\n",
       " 'planner_trajectory_23.txt': [1950, 1083, 867],\n",
       " 'planner_trajectory_25.txt': [1260, 768, 492],\n",
       " 'planner_trajectory_26.txt': [2462, 1109, 1353],\n",
       " 'planner_trajectory_27.txt': [3837, 1029, 2808],\n",
       " 'planner_trajectory_28.txt': [2247, 789, 1458],\n",
       " 'planner_trajectory_29.txt': [1603, 594, 1009],\n",
       " 'planner_trajectory_3.txt': [2164, 600, 1564],\n",
       " 'planner_trajectory_30.txt': [8418, 298, 8120],\n",
       " 'planner_trajectory_32.txt': [5540, 1049, 4491],\n",
       " 'planner_trajectory_33.txt': [2001, 884, 1117],\n",
       " 'planner_trajectory_36.txt': [1329, 851, 478],\n",
       " 'planner_trajectory_4.txt': [4510, 1049, 3461],\n",
       " 'planner_trajectory_41.txt': [3167, 1182, 1985],\n",
       " 'planner_trajectory_43.txt': [1627, 692, 935],\n",
       " 'planner_trajectory_44.txt': [1312, 574, 738],\n",
       " 'planner_trajectory_45.txt': [4947, 837, 4110],\n",
       " 'planner_trajectory_46.txt': [4803, 1150, 3653],\n",
       " 'planner_trajectory_47.txt': [3957, 1071, 2886],\n",
       " 'planner_trajectory_48.txt': [2262, 610, 1652],\n",
       " 'planner_trajectory_49.txt': [4732, 1070, 3662],\n",
       " 'planner_trajectory_5.txt': [3600, 1369, 2231],\n",
       " 'planner_trajectory_7.txt': [7025, 1030, 5995],\n",
       " 'planner_trajectory_8.txt': [5679, 1828, 3851]}"
      ]
     },
     "execution_count": 139,
     "metadata": {},
     "output_type": "execute_result"
    }
   ],
   "source": [
    "seq_token_count_dict"
   ]
  },
  {
   "cell_type": "code",
   "execution_count": 94,
   "metadata": {},
   "outputs": [
    {
     "name": "stdout",
     "output_type": "stream",
     "text": [
      "Invalid trajectory planner_trajectory_test_algebra_2700.txt \n",
      "Invalid trajectory planner_trajectory_test_counting_and_probability_181.txt \n",
      "Invalid trajectory planner_trajectory_test_intermediate_algebra_1350.txt \n",
      "Valid trajectories: 497, Invalid trajectories: 3\n",
      "Avg. seq count: 2705.3098591549297, Avg. planner contrib: 1031.9899396378269, Avg. executor contrib: 1673.3199195171026\n"
     ]
    }
   ],
   "source": [
    "seq_token_count_dict, large_files = evaluate_utils.get_seq_token_counts(\"logs4_full_trajectory/agent_orchestration_output_planner_zheminh_DeepSeek-R1-Distill-Qwen-7B-Trajectory-Data-Math-ckpt400_temp0.1_executor_zheminh_DeepSeek-R1-Distill-Qwen-7B-Trajectory-Data-Math-ckpt400_temp0.1/MATH-500_default\")\n"
   ]
  },
  {
   "cell_type": "code",
   "execution_count": 20,
   "metadata": {},
   "outputs": [
    {
     "data": {
      "text/html": [
       "<div>\n",
       "<style scoped>\n",
       "    .dataframe tbody tr th:only-of-type {\n",
       "        vertical-align: middle;\n",
       "    }\n",
       "\n",
       "    .dataframe tbody tr th {\n",
       "        vertical-align: top;\n",
       "    }\n",
       "\n",
       "    .dataframe thead th {\n",
       "        text-align: right;\n",
       "    }\n",
       "</style>\n",
       "<table border=\"1\" class=\"dataframe\">\n",
       "  <thead>\n",
       "    <tr style=\"text-align: right;\">\n",
       "      <th></th>\n",
       "      <th>ProblemIdx</th>\n",
       "      <th>IsCorrect</th>\n",
       "    </tr>\n",
       "  </thead>\n",
       "  <tbody>\n",
       "    <tr>\n",
       "      <th>15</th>\n",
       "      <td>test_intermediate_algebra_1197</td>\n",
       "      <td>False</td>\n",
       "    </tr>\n",
       "    <tr>\n",
       "      <th>16</th>\n",
       "      <td>test_precalculus_990</td>\n",
       "      <td>False</td>\n",
       "    </tr>\n",
       "    <tr>\n",
       "      <th>17</th>\n",
       "      <td>test_algebra_1098</td>\n",
       "      <td>False</td>\n",
       "    </tr>\n",
       "    <tr>\n",
       "      <th>28</th>\n",
       "      <td>test_geometry_434</td>\n",
       "      <td>False</td>\n",
       "    </tr>\n",
       "  </tbody>\n",
       "</table>\n",
       "</div>"
      ],
      "text/plain": [
       "                        ProblemIdx  IsCorrect\n",
       "15  test_intermediate_algebra_1197      False\n",
       "16            test_precalculus_990      False\n",
       "17               test_algebra_1098      False\n",
       "28               test_geometry_434      False"
      ]
     },
     "execution_count": 20,
     "metadata": {},
     "output_type": "execute_result"
    }
   ],
   "source": [
    "res_df[res_df[\"IsCorrect\"]==False][['ProblemIdx', 'IsCorrect']]"
   ]
  },
  {
   "cell_type": "code",
   "execution_count": 137,
   "metadata": {},
   "outputs": [
    {
     "data": {
      "text/plain": [
       "428"
      ]
     },
     "execution_count": 137,
     "metadata": {},
     "output_type": "execute_result"
    }
   ],
   "source": [
    "len(res_df[res_df[\"IsCorrect\"]==True])"
   ]
  },
  {
   "cell_type": "code",
   "execution_count": 85,
   "metadata": {},
   "outputs": [
    {
     "data": {
      "text/plain": [
       "0.9120654396728016"
      ]
     },
     "execution_count": 85,
     "metadata": {},
     "output_type": "execute_result"
    }
   ],
   "source": [
    "(437+9)/489"
   ]
  },
  {
   "cell_type": "code",
   "execution_count": 139,
   "metadata": {},
   "outputs": [],
   "source": [
    "# Set pandas option to display all rows\n",
    "pd.set_option('display.max_rows', None)\n"
   ]
  },
  {
   "cell_type": "code",
   "execution_count": 59,
   "metadata": {},
   "outputs": [
    {
     "data": {
      "text/html": [
       "<div>\n",
       "<style scoped>\n",
       "    .dataframe tbody tr th:only-of-type {\n",
       "        vertical-align: middle;\n",
       "    }\n",
       "\n",
       "    .dataframe tbody tr th {\n",
       "        vertical-align: top;\n",
       "    }\n",
       "\n",
       "    .dataframe thead th {\n",
       "        text-align: right;\n",
       "    }\n",
       "</style>\n",
       "<table border=\"1\" class=\"dataframe\">\n",
       "  <thead>\n",
       "    <tr style=\"text-align: right;\">\n",
       "      <th></th>\n",
       "      <th>ProblemIdx</th>\n",
       "      <th>PredictedFinalAnswer</th>\n",
       "      <th>TrueFinalAnswer</th>\n",
       "    </tr>\n",
       "  </thead>\n",
       "  <tbody>\n",
       "    <tr>\n",
       "      <th>9</th>\n",
       "      <td>test_number_theory_737</td>\n",
       "      <td>561</td>\n",
       "      <td>284</td>\n",
       "    </tr>\n",
       "    <tr>\n",
       "      <th>16</th>\n",
       "      <td>test_intermediate_algebra_1197</td>\n",
       "      <td>8</td>\n",
       "      <td>\\frac{3}{56}</td>\n",
       "    </tr>\n",
       "    <tr>\n",
       "      <th>56</th>\n",
       "      <td>test_precalculus_1199</td>\n",
       "      <td>\\dfrac{\\pi}{2}</td>\n",
       "      <td>\\pi</td>\n",
       "    </tr>\n",
       "    <tr>\n",
       "      <th>68</th>\n",
       "      <td>test_number_theory_516</td>\n",
       "      <td>2516_{8}</td>\n",
       "      <td>2516_8</td>\n",
       "    </tr>\n",
       "    <tr>\n",
       "      <th>96</th>\n",
       "      <td>test_prealgebra_1646</td>\n",
       "      <td>70^\\circ</td>\n",
       "      <td>80</td>\n",
       "    </tr>\n",
       "    <tr>\n",
       "      <th>97</th>\n",
       "      <td>test_intermediate_algebra_515</td>\n",
       "      <td>y = \\frac{4}{3}</td>\n",
       "      <td>\\frac43</td>\n",
       "    </tr>\n",
       "    <tr>\n",
       "      <th>99</th>\n",
       "      <td>test_precalculus_1146</td>\n",
       "      <td>\\dfrac{25}{16}</td>\n",
       "      <td>\\frac{35}{64}</td>\n",
       "    </tr>\n",
       "    <tr>\n",
       "      <th>100</th>\n",
       "      <td>test_geometry_183</td>\n",
       "      <td>135</td>\n",
       "      <td>145^\\circ</td>\n",
       "    </tr>\n",
       "    <tr>\n",
       "      <th>106</th>\n",
       "      <td>test_intermediate_algebra_662</td>\n",
       "      <td>7</td>\n",
       "      <td>1 \\pm \\sqrt{19}</td>\n",
       "    </tr>\n",
       "    <tr>\n",
       "      <th>107</th>\n",
       "      <td>test_intermediate_algebra_1898</td>\n",
       "      <td>-24</td>\n",
       "      <td>-5</td>\n",
       "    </tr>\n",
       "    <tr>\n",
       "      <th>113</th>\n",
       "      <td>test_algebra_1332</td>\n",
       "      <td>2500</td>\n",
       "      <td>9</td>\n",
       "    </tr>\n",
       "    <tr>\n",
       "      <th>118</th>\n",
       "      <td>test_number_theory_847</td>\n",
       "      <td>4210_5</td>\n",
       "      <td>4210_{5}</td>\n",
       "    </tr>\n",
       "    <tr>\n",
       "      <th>129</th>\n",
       "      <td>test_geometry_1140</td>\n",
       "      <td>\\dfrac{48}{5}</td>\n",
       "      <td>\\frac{3840}{289}</td>\n",
       "    </tr>\n",
       "    <tr>\n",
       "      <th>153</th>\n",
       "      <td>test_intermediate_algebra_345</td>\n",
       "      <td>2016</td>\n",
       "      <td>504</td>\n",
       "    </tr>\n",
       "    <tr>\n",
       "      <th>159</th>\n",
       "      <td>test_counting_and_probability_181</td>\n",
       "      <td>6</td>\n",
       "      <td>19</td>\n",
       "    </tr>\n",
       "    <tr>\n",
       "      <th>161</th>\n",
       "      <td>test_intermediate_algebra_582</td>\n",
       "      <td>1700</td>\n",
       "      <td>850</td>\n",
       "    </tr>\n",
       "    <tr>\n",
       "      <th>164</th>\n",
       "      <td>test_intermediate_algebra_1454</td>\n",
       "      <td>70 + 30\\sqrt{10}</td>\n",
       "      <td>70 \\sqrt{2}</td>\n",
       "    </tr>\n",
       "    <tr>\n",
       "      <th>178</th>\n",
       "      <td>test_algebra_297</td>\n",
       "      <td>-512</td>\n",
       "      <td>1736</td>\n",
       "    </tr>\n",
       "    <tr>\n",
       "      <th>221</th>\n",
       "      <td>test_precalculus_1056</td>\n",
       "      <td>144\\pi</td>\n",
       "      <td>288 \\pi</td>\n",
       "    </tr>\n",
       "    <tr>\n",
       "      <th>225</th>\n",
       "      <td>test_counting_and_probability_282</td>\n",
       "      <td>\\dfrac{5}{9}</td>\n",
       "      <td>\\frac{1}{2}</td>\n",
       "    </tr>\n",
       "    <tr>\n",
       "      <th>232</th>\n",
       "      <td>test_prealgebra_874</td>\n",
       "      <td>26^\\circ</td>\n",
       "      <td>116</td>\n",
       "    </tr>\n",
       "    <tr>\n",
       "      <th>240</th>\n",
       "      <td>test_precalculus_920</td>\n",
       "      <td>\\begin{pmatrix} 0 &amp; 0 \\\\ 0 &amp; 0 \\end{pmatrix}</td>\n",
       "      <td>\\begin{pmatrix} -1 &amp; 0 \\\\ 0 &amp; -1 \\end{pmatrix}</td>\n",
       "    </tr>\n",
       "    <tr>\n",
       "      <th>267</th>\n",
       "      <td>test_prealgebra_1834</td>\n",
       "      <td>\\frac{13}{24}</td>\n",
       "      <td>\\sqrt{53}</td>\n",
       "    </tr>\n",
       "    <tr>\n",
       "      <th>295</th>\n",
       "      <td>test_geometry_826</td>\n",
       "      <td>3 \\frac{3}{5}</td>\n",
       "      <td>1\\frac{4}{5}</td>\n",
       "    </tr>\n",
       "    <tr>\n",
       "      <th>301</th>\n",
       "      <td>test_intermediate_algebra_1544</td>\n",
       "      <td>4</td>\n",
       "      <td>6</td>\n",
       "    </tr>\n",
       "    <tr>\n",
       "      <th>328</th>\n",
       "      <td>test_number_theory_483</td>\n",
       "      <td>2</td>\n",
       "      <td>3</td>\n",
       "    </tr>\n",
       "    <tr>\n",
       "      <th>329</th>\n",
       "      <td>test_intermediate_algebra_190</td>\n",
       "      <td>3</td>\n",
       "      <td>2</td>\n",
       "    </tr>\n",
       "    <tr>\n",
       "      <th>331</th>\n",
       "      <td>test_geometry_465</td>\n",
       "      <td>150^\\circ</td>\n",
       "      <td>120</td>\n",
       "    </tr>\n",
       "    <tr>\n",
       "      <th>335</th>\n",
       "      <td>test_intermediate_algebra_960</td>\n",
       "      <td>\\dfrac{782}{219}</td>\n",
       "      <td>\\frac{17}{21}</td>\n",
       "    </tr>\n",
       "    <tr>\n",
       "      <th>337</th>\n",
       "      <td>test_algebra_1547</td>\n",
       "      <td>-4r^2 - 4r - 24</td>\n",
       "      <td>6r^2-4r-24</td>\n",
       "    </tr>\n",
       "    <tr>\n",
       "      <th>346</th>\n",
       "      <td>test_intermediate_algebra_860</td>\n",
       "      <td>\\text{circle}</td>\n",
       "      <td>\\text{ellipse}</td>\n",
       "    </tr>\n",
       "    <tr>\n",
       "      <th>349</th>\n",
       "      <td>test_intermediate_algebra_1166</td>\n",
       "      <td>192</td>\n",
       "      <td>100</td>\n",
       "    </tr>\n",
       "    <tr>\n",
       "      <th>351</th>\n",
       "      <td>test_geometry_711</td>\n",
       "      <td>3 + \\frac{2\\pi}{3}</td>\n",
       "      <td>1+2\\sqrt{3}</td>\n",
       "    </tr>\n",
       "    <tr>\n",
       "      <th>360</th>\n",
       "      <td>test_precalculus_1289</td>\n",
       "      <td>-23</td>\n",
       "      <td>-41</td>\n",
       "    </tr>\n",
       "    <tr>\n",
       "      <th>371</th>\n",
       "      <td>test_algebra_101</td>\n",
       "      <td>[-2,7]</td>\n",
       "      <td>x \\in [-2,7]</td>\n",
       "    </tr>\n",
       "    <tr>\n",
       "      <th>379</th>\n",
       "      <td>test_intermediate_algebra_955</td>\n",
       "      <td>16</td>\n",
       "      <td>17</td>\n",
       "    </tr>\n",
       "    <tr>\n",
       "      <th>402</th>\n",
       "      <td>test_geometry_817</td>\n",
       "      <td>\\frac{14(\\sqrt{2} - 1)}{1}</td>\n",
       "      <td>\\frac{14}{3}</td>\n",
       "    </tr>\n",
       "    <tr>\n",
       "      <th>420</th>\n",
       "      <td>test_intermediate_algebra_2015</td>\n",
       "      <td>\\{-2, 2, 6\\}</td>\n",
       "      <td>\\{1\\pm\\sqrt{5},-2\\}</td>\n",
       "    </tr>\n",
       "    <tr>\n",
       "      <th>448</th>\n",
       "      <td>test_intermediate_algebra_1102</td>\n",
       "      <td>-2</td>\n",
       "      <td>-2,1</td>\n",
       "    </tr>\n",
       "    <tr>\n",
       "      <th>457</th>\n",
       "      <td>test_prealgebra_914</td>\n",
       "      <td>45^\\circ</td>\n",
       "      <td>75^\\circ</td>\n",
       "    </tr>\n",
       "    <tr>\n",
       "      <th>476</th>\n",
       "      <td>test_intermediate_algebra_101</td>\n",
       "      <td>4</td>\n",
       "      <td>10</td>\n",
       "    </tr>\n",
       "    <tr>\n",
       "      <th>479</th>\n",
       "      <td>test_precalculus_356</td>\n",
       "      <td>y = -2x + 0</td>\n",
       "      <td>y = -2x</td>\n",
       "    </tr>\n",
       "    <tr>\n",
       "      <th>485</th>\n",
       "      <td>test_prealgebra_1128</td>\n",
       "      <td>162</td>\n",
       "      <td>64</td>\n",
       "    </tr>\n",
       "    <tr>\n",
       "      <th>491</th>\n",
       "      <td>test_counting_and_probability_731</td>\n",
       "      <td>\\dfrac{(k^2 + 1)^2}{8k^2}</td>\n",
       "      <td>\\frac{1}{2}</td>\n",
       "    </tr>\n",
       "  </tbody>\n",
       "</table>\n",
       "</div>"
      ],
      "text/plain": [
       "                            ProblemIdx  \\\n",
       "9               test_number_theory_737   \n",
       "16      test_intermediate_algebra_1197   \n",
       "56               test_precalculus_1199   \n",
       "68              test_number_theory_516   \n",
       "96                test_prealgebra_1646   \n",
       "97       test_intermediate_algebra_515   \n",
       "99               test_precalculus_1146   \n",
       "100                  test_geometry_183   \n",
       "106      test_intermediate_algebra_662   \n",
       "107     test_intermediate_algebra_1898   \n",
       "113                  test_algebra_1332   \n",
       "118             test_number_theory_847   \n",
       "129                 test_geometry_1140   \n",
       "153      test_intermediate_algebra_345   \n",
       "159  test_counting_and_probability_181   \n",
       "161      test_intermediate_algebra_582   \n",
       "164     test_intermediate_algebra_1454   \n",
       "178                   test_algebra_297   \n",
       "221              test_precalculus_1056   \n",
       "225  test_counting_and_probability_282   \n",
       "232                test_prealgebra_874   \n",
       "240               test_precalculus_920   \n",
       "267               test_prealgebra_1834   \n",
       "295                  test_geometry_826   \n",
       "301     test_intermediate_algebra_1544   \n",
       "328             test_number_theory_483   \n",
       "329      test_intermediate_algebra_190   \n",
       "331                  test_geometry_465   \n",
       "335      test_intermediate_algebra_960   \n",
       "337                  test_algebra_1547   \n",
       "346      test_intermediate_algebra_860   \n",
       "349     test_intermediate_algebra_1166   \n",
       "351                  test_geometry_711   \n",
       "360              test_precalculus_1289   \n",
       "371                   test_algebra_101   \n",
       "379      test_intermediate_algebra_955   \n",
       "402                  test_geometry_817   \n",
       "420     test_intermediate_algebra_2015   \n",
       "448     test_intermediate_algebra_1102   \n",
       "457                test_prealgebra_914   \n",
       "476      test_intermediate_algebra_101   \n",
       "479               test_precalculus_356   \n",
       "485               test_prealgebra_1128   \n",
       "491  test_counting_and_probability_731   \n",
       "\n",
       "                             PredictedFinalAnswer  \\\n",
       "9                                             561   \n",
       "16                                              8   \n",
       "56                                 \\dfrac{\\pi}{2}   \n",
       "68                                       2516_{8}   \n",
       "96                                       70^\\circ   \n",
       "97                                y = \\frac{4}{3}   \n",
       "99                                 \\dfrac{25}{16}   \n",
       "100                                           135   \n",
       "106                                             7   \n",
       "107                                           -24   \n",
       "113                                          2500   \n",
       "118                                        4210_5   \n",
       "129                                 \\dfrac{48}{5}   \n",
       "153                                          2016   \n",
       "159                                             6   \n",
       "161                                          1700   \n",
       "164                              70 + 30\\sqrt{10}   \n",
       "178                                          -512   \n",
       "221                                        144\\pi   \n",
       "225                                  \\dfrac{5}{9}   \n",
       "232                                      26^\\circ   \n",
       "240  \\begin{pmatrix} 0 & 0 \\\\ 0 & 0 \\end{pmatrix}   \n",
       "267                                 \\frac{13}{24}   \n",
       "295                                 3 \\frac{3}{5}   \n",
       "301                                             4   \n",
       "328                                             2   \n",
       "329                                             3   \n",
       "331                                     150^\\circ   \n",
       "335                              \\dfrac{782}{219}   \n",
       "337                               -4r^2 - 4r - 24   \n",
       "346                                 \\text{circle}   \n",
       "349                                           192   \n",
       "351                            3 + \\frac{2\\pi}{3}   \n",
       "360                                           -23   \n",
       "371                                        [-2,7]   \n",
       "379                                            16   \n",
       "402                    \\frac{14(\\sqrt{2} - 1)}{1}   \n",
       "420                                  \\{-2, 2, 6\\}   \n",
       "448                                            -2   \n",
       "457                                      45^\\circ   \n",
       "476                                             4   \n",
       "479                                   y = -2x + 0   \n",
       "485                                           162   \n",
       "491                     \\dfrac{(k^2 + 1)^2}{8k^2}   \n",
       "\n",
       "                                    TrueFinalAnswer  \n",
       "9                                               284  \n",
       "16                                     \\frac{3}{56}  \n",
       "56                                              \\pi  \n",
       "68                                           2516_8  \n",
       "96                                               80  \n",
       "97                                          \\frac43  \n",
       "99                                    \\frac{35}{64}  \n",
       "100                                       145^\\circ  \n",
       "106                                 1 \\pm \\sqrt{19}  \n",
       "107                                              -5  \n",
       "113                                               9  \n",
       "118                                        4210_{5}  \n",
       "129                                \\frac{3840}{289}  \n",
       "153                                             504  \n",
       "159                                              19  \n",
       "161                                             850  \n",
       "164                                     70 \\sqrt{2}  \n",
       "178                                            1736  \n",
       "221                                         288 \\pi  \n",
       "225                                     \\frac{1}{2}  \n",
       "232                                             116  \n",
       "240  \\begin{pmatrix} -1 & 0 \\\\ 0 & -1 \\end{pmatrix}  \n",
       "267                                       \\sqrt{53}  \n",
       "295                                    1\\frac{4}{5}  \n",
       "301                                               6  \n",
       "328                                               3  \n",
       "329                                               2  \n",
       "331                                             120  \n",
       "335                                   \\frac{17}{21}  \n",
       "337                                      6r^2-4r-24  \n",
       "346                                  \\text{ellipse}  \n",
       "349                                             100  \n",
       "351                                     1+2\\sqrt{3}  \n",
       "360                                             -41  \n",
       "371                                    x \\in [-2,7]  \n",
       "379                                              17  \n",
       "402                                    \\frac{14}{3}  \n",
       "420                             \\{1\\pm\\sqrt{5},-2\\}  \n",
       "448                                            -2,1  \n",
       "457                                        75^\\circ  \n",
       "476                                              10  \n",
       "479                                         y = -2x  \n",
       "485                                              64  \n",
       "491                                     \\frac{1}{2}  "
      ]
     },
     "execution_count": 59,
     "metadata": {},
     "output_type": "execute_result"
    }
   ],
   "source": [
    "res_df[res_df[\"IsCorrect\"]==False][[\"ProblemIdx\", \"PredictedFinalAnswer\", \"TrueFinalAnswer\"]]"
   ]
  },
  {
   "cell_type": "code",
   "execution_count": 88,
   "metadata": {},
   "outputs": [],
   "source": [
    "from datasets import load_dataset\n",
    "ds_openai = load_dataset(\"openai/gsm8k\", 'main', split='test')\n",
    "ds_calc = load_dataset(\"MU-NLPC/Calc-gsm8k\", 'original-splits', split='test')"
   ]
  },
  {
   "cell_type": "code",
   "execution_count": 89,
   "metadata": {},
   "outputs": [
    {
     "data": {
      "text/plain": [
       "Dataset({\n",
       "    features: ['question', 'answer'],\n",
       "    num_rows: 1319\n",
       "})"
      ]
     },
     "execution_count": 89,
     "metadata": {},
     "output_type": "execute_result"
    }
   ],
   "source": [
    "ds_openai"
   ]
  },
  {
   "cell_type": "code",
   "execution_count": 90,
   "metadata": {},
   "outputs": [
    {
     "data": {
      "text/plain": [
       "Dataset({\n",
       "    features: ['id', 'question', 'chain', 'result', 'result_float'],\n",
       "    num_rows: 1319\n",
       "})"
      ]
     },
     "execution_count": 90,
     "metadata": {},
     "output_type": "execute_result"
    }
   ],
   "source": [
    "ds_calc"
   ]
  },
  {
   "cell_type": "code",
   "execution_count": 5,
   "metadata": {},
   "outputs": [
    {
     "data": {
      "text/plain": [
       "1319"
      ]
     },
     "execution_count": 5,
     "metadata": {},
     "output_type": "execute_result"
    }
   ],
   "source": [
    "df = pd.read_csv(\"/Users/emilbiju/Downloads/base_model_output_gsm8k_DeepSeek-R1-Distill-Qwen-7B.csv\")\n",
    "len(df)"
   ]
  },
  {
   "cell_type": "code",
   "execution_count": 6,
   "metadata": {},
   "outputs": [],
   "source": [
    "import re\n",
    "\n",
    "def extract_final_answer_gsm8k(input_string):\n",
    "    match = re.search(r'####\\s*(.+)$', input_string)\n",
    "    if match:\n",
    "        return match.group(1)\n",
    "    return None"
   ]
  },
  {
   "cell_type": "code",
   "execution_count": 7,
   "metadata": {},
   "outputs": [],
   "source": [
    "df.rename(columns={'TrueFinalAnswer': 'chain'}, inplace=True)\n",
    "df[\"TrueFinalAnswer\"] = df[\"chain\"].apply(lambda x:extract_final_answer_gsm8k(x))"
   ]
  },
  {
   "cell_type": "code",
   "execution_count": 8,
   "metadata": {},
   "outputs": [
    {
     "name": "stderr",
     "output_type": "stream",
     "text": [
      "/Users/emilbiju/Downloads/LLMVerification/agentic_r1_v3_git_repo_clone/factuality-verification/src/utils/evaluate_utils.py:92: SettingWithCopyWarning: \n",
      "A value is trying to be set on a copy of a slice from a DataFrame.\n",
      "Try using .loc[row_indexer,col_indexer] = value instead\n",
      "\n",
      "See the caveats in the documentation: https://pandas.pydata.org/pandas-docs/stable/user_guide/indexing.html#returning-a-view-versus-a-copy\n",
      "  res_df_complete[\"IsCorrect\"] = res_df_complete.apply(lambda x: use_math_verify(x[\"TrueFinalAnswer\"], x[\"PredictedFinalAnswer\"]), axis=1)\n"
     ]
    },
    {
     "data": {
      "text/plain": [
       "(0.8468606431852986, 1319, 13)"
      ]
     },
     "execution_count": 8,
     "metadata": {},
     "output_type": "execute_result"
    }
   ],
   "source": [
    "accuracy, num_problems, num_problems_without_final_answer, _ = evaluate_utils.get_eval_metrics(df)\n",
    "accuracy, num_problems, num_problems_without_final_answer"
   ]
  },
  {
   "cell_type": "code",
   "execution_count": 24,
   "metadata": {},
   "outputs": [
    {
     "data": {
      "text/plain": [
       "0"
      ]
     },
     "execution_count": 24,
     "metadata": {},
     "output_type": "execute_result"
    }
   ],
   "source": [
    "count=0\n",
    "folder_path = \"logs/agent_orchestration_output_planner_zheminh_Planning-Data-Math-Full-Soln-Qwen2.5-7B-Instruct-ckpt582_temp0.1_executor_zheminh_DeepSeek-R1-Distill-Qwen-7B-Execution-Data-Math-Orig-and-Dagger-think-ckpt2139_temp0.1/MATH-500_default\"\n",
    "for file in os.listdir(folder_path):\n",
    "    if \".txt\" not in file:\n",
    "        continue\n",
    "    else:\n",
    "        file_content = text_processing_utils.read_file_as_string(os.path.join(folder_path, file))\n",
    "        if \"<Plan_8>\" in file_content:\n",
    "            count+=1\n",
    "count"
   ]
  },
  {
   "cell_type": "code",
   "execution_count": null,
   "metadata": {},
   "outputs": [],
   "source": [
    "# # Delete files with incomplete answers\n",
    "# import pandas as pd\n",
    "# df = pd.read_csv(\"logs/agent_orchestration_output_planner_zheminh_Planning-Data-Math-Full-Soln-Qwen2.5-7B-Instruct-ckpt582_temp0.1_executor_zheminh_DeepSeek-R1-Distill-Qwen-7B-Execution-Data-Math-Orig-and-Dagger-think-ckpt2139_temp0.1/MATH-500_default/agent_orchestration_output.csv\")\n",
    "# del df[\"PlannerTrajectory\"], df[\"Solution\"]\n",
    "# problem_ids = list(df[df[\"PredictedFinalAnswer\"].isna()][\"ProblemIdx\"])\n",
    "# for problem_id in problem_ids:\n",
    "#     trajectory_path = f\"logs/agent_orchestration_output_planner_zheminh_Planning-Data-Math-Full-Soln-Qwen2.5-7B-Instruct-ckpt582_temp0.1_executor_zheminh_DeepSeek-R1-Distill-Qwen-7B-Execution-Data-Math-Orig-and-Dagger-think-ckpt2139_temp0.1/MATH-500_default/planner_trajectory_{problem_id}.txt\"\n",
    "#     os.remove(trajectory_path)"
   ]
  },
  {
   "cell_type": "code",
   "execution_count": 52,
   "metadata": {},
   "outputs": [
    {
     "data": {
      "text/html": [
       "<div>\n",
       "<style scoped>\n",
       "    .dataframe tbody tr th:only-of-type {\n",
       "        vertical-align: middle;\n",
       "    }\n",
       "\n",
       "    .dataframe tbody tr th {\n",
       "        vertical-align: top;\n",
       "    }\n",
       "\n",
       "    .dataframe thead th {\n",
       "        text-align: right;\n",
       "    }\n",
       "</style>\n",
       "<table border=\"1\" class=\"dataframe\">\n",
       "  <thead>\n",
       "    <tr style=\"text-align: right;\">\n",
       "      <th></th>\n",
       "      <th>PlannerModel</th>\n",
       "      <th>PlannerTemp</th>\n",
       "      <th>ExecutorModel</th>\n",
       "      <th>ExecutorTemp</th>\n",
       "      <th>DatasetName</th>\n",
       "      <th>SubsetName</th>\n",
       "      <th>Accuracy</th>\n",
       "      <th>NumProblemsAttempted</th>\n",
       "      <th>NumProblemsIncomplete</th>\n",
       "    </tr>\n",
       "  </thead>\n",
       "  <tbody>\n",
       "    <tr>\n",
       "      <th>0</th>\n",
       "      <td>zheminh_Planning-Data-Math-Full-Soln-Qwen2.5-7B-Instruct-ckpt200</td>\n",
       "      <td>0.1</td>\n",
       "      <td>zheminh_DeepSeek-R1-Distill-Qwen-7B-ckpt300</td>\n",
       "      <td>0.1</td>\n",
       "      <td>MATH-500</td>\n",
       "      <td>default</td>\n",
       "      <td>0.863918</td>\n",
       "      <td>488</td>\n",
       "      <td>3</td>\n",
       "    </tr>\n",
       "    <tr>\n",
       "      <th>1</th>\n",
       "      <td>zheminh_Planning-Data-Math-Full-Soln-Qwen2.5-7B-Instruct-ckpt200</td>\n",
       "      <td>0.1</td>\n",
       "      <td>zheminh_DeepSeek-R1-Distill-Qwen-7B-ckpt534</td>\n",
       "      <td>0.1</td>\n",
       "      <td>MATH-500</td>\n",
       "      <td>default</td>\n",
       "      <td>0.852459</td>\n",
       "      <td>490</td>\n",
       "      <td>2</td>\n",
       "    </tr>\n",
       "    <tr>\n",
       "      <th>2</th>\n",
       "      <td>zheminh_Planning-Data-Math-Full-Soln-Qwen2.5-7B-Instruct-ckpt582</td>\n",
       "      <td>0.1</td>\n",
       "      <td>zheminh_DeepSeek-R1-Distill-Qwen-7B-ckpt534</td>\n",
       "      <td>0.1</td>\n",
       "      <td>MATH-500</td>\n",
       "      <td>default</td>\n",
       "      <td>0.880478</td>\n",
       "      <td>504</td>\n",
       "      <td>2</td>\n",
       "    </tr>\n",
       "    <tr>\n",
       "      <th>3</th>\n",
       "      <td>zheminh_Planning-Data-Math-Full-Soln-Qwen2.5-7B-Instruct-ckpt582</td>\n",
       "      <td>0.1</td>\n",
       "      <td>zheminh_DeepSeek-R1-Distill-Qwen-7B-ckpt300</td>\n",
       "      <td>0.1</td>\n",
       "      <td>MATH-500</td>\n",
       "      <td>default</td>\n",
       "      <td>0.879098</td>\n",
       "      <td>500</td>\n",
       "      <td>12</td>\n",
       "    </tr>\n",
       "    <tr>\n",
       "      <th>4</th>\n",
       "      <td>zheminh_Planning-Data-Math-Full-Soln-Qwen2.5-7B-Instruct-ckpt582</td>\n",
       "      <td>0.1</td>\n",
       "      <td>zheminh_DeepSeek-R1-Distill-Qwen-7B-ckpt800</td>\n",
       "      <td>0.1</td>\n",
       "      <td>MATH-500</td>\n",
       "      <td>default</td>\n",
       "      <td>0.862626</td>\n",
       "      <td>500</td>\n",
       "      <td>5</td>\n",
       "    </tr>\n",
       "    <tr>\n",
       "      <th>5</th>\n",
       "      <td>zheminh_Planning-Data-Math-Full-Soln-Qwen2.5-7B-Instruct-ckpt582</td>\n",
       "      <td>0.1</td>\n",
       "      <td>zheminh_DeepSeek-R1-Distill-Qwen-7B-ckpt300</td>\n",
       "      <td>0.1</td>\n",
       "      <td>NotInOpenThoughts-correct</td>\n",
       "      <td>math</td>\n",
       "      <td>0.831990</td>\n",
       "      <td>3996</td>\n",
       "      <td>26</td>\n",
       "    </tr>\n",
       "    <tr>\n",
       "      <th>6</th>\n",
       "      <td>zheminh_Planning-Data-Math-Full-Soln-Qwen2.5-7B-Instruct-ckpt582-Planning-Dagger-Data-Math</td>\n",
       "      <td>0.1</td>\n",
       "      <td>zheminh_DeepSeek-R1-Distill-Qwen-7B-ckpt300-Execution-Dagger-Data-Math-think</td>\n",
       "      <td>0.1</td>\n",
       "      <td>MATH-500</td>\n",
       "      <td>default</td>\n",
       "      <td>0.841237</td>\n",
       "      <td>485</td>\n",
       "      <td>0</td>\n",
       "    </tr>\n",
       "    <tr>\n",
       "      <th>7</th>\n",
       "      <td>zheminh_Planning-Data-Math-Full-Soln-Qwen2.5-7B-Instruct-ckpt582-Planning-Dagger-Data-Math</td>\n",
       "      <td>0.6</td>\n",
       "      <td>zheminh_DeepSeek-R1-Distill-Qwen-7B-ckpt300-Execution-Dagger-Data-Math-think</td>\n",
       "      <td>0.6</td>\n",
       "      <td>MATH-500</td>\n",
       "      <td>default</td>\n",
       "      <td>0.833671</td>\n",
       "      <td>493</td>\n",
       "      <td>0</td>\n",
       "    </tr>\n",
       "    <tr>\n",
       "      <th>8</th>\n",
       "      <td>zheminh_Qwen2.5-1.5B-Instruct-Planning-Data-Math-Orig-and-Dagger-ckpt800</td>\n",
       "      <td>0.1</td>\n",
       "      <td>zheminh_DeepSeek-R1-Distill-Qwen-1.5B-Execution-Data-Math-Orig-and-Dagger-think-ckpt700</td>\n",
       "      <td>0.1</td>\n",
       "      <td>MATH-500</td>\n",
       "      <td>default</td>\n",
       "      <td>0.591549</td>\n",
       "      <td>498</td>\n",
       "      <td>1</td>\n",
       "    </tr>\n",
       "    <tr>\n",
       "      <th>9</th>\n",
       "      <td>zheminh_Qwen2.5-1.5B-Instruct-Planning-Data-Math-Orig-and-Dagger-ckpt800</td>\n",
       "      <td>0.1</td>\n",
       "      <td>zheminh_DeepSeek-R1-Distill-Qwen-7B-Execution-Data-Math-Orig-and-Dagger-think-ckpt700</td>\n",
       "      <td>0.1</td>\n",
       "      <td>MATH-500</td>\n",
       "      <td>default</td>\n",
       "      <td>0.759036</td>\n",
       "      <td>500</td>\n",
       "      <td>2</td>\n",
       "    </tr>\n",
       "    <tr>\n",
       "      <th>10</th>\n",
       "      <td>zheminh_Planning-Data-Math-Full-Soln-Qwen2.5-7B-Instruct-ckpt582</td>\n",
       "      <td>0.4</td>\n",
       "      <td>zheminh_DeepSeek-R1-Distill-Qwen-1.5B-Execution-Data-Math-Orig-and-Dagger-think-ckpt2139</td>\n",
       "      <td>0.4</td>\n",
       "      <td>MATH-500</td>\n",
       "      <td>default</td>\n",
       "      <td>0.800000</td>\n",
       "      <td>5</td>\n",
       "      <td>0</td>\n",
       "    </tr>\n",
       "    <tr>\n",
       "      <th>11</th>\n",
       "      <td>zheminh_Planning-Data-Math-Full-Soln-Qwen2.5-7B-Instruct-ckpt582</td>\n",
       "      <td>0.1</td>\n",
       "      <td>zheminh_DeepSeek-R1-Distill-Qwen-7B-Execution-Data-Math-Orig-and-Dagger-think-ckpt2139</td>\n",
       "      <td>0.1</td>\n",
       "      <td>MATH-500</td>\n",
       "      <td>default</td>\n",
       "      <td>0.895706</td>\n",
       "      <td>489</td>\n",
       "      <td>0</td>\n",
       "    </tr>\n",
       "    <tr>\n",
       "      <th>12</th>\n",
       "      <td>zheminh_Planning-Data-Math-Full-Soln-Qwen2.5-7B-Instruct-ckpt582</td>\n",
       "      <td>0.1</td>\n",
       "      <td>zheminh_DeepSeek-R1-Distill-Qwen-7B-Execution-Data-Math-Orig-and-Dagger-think-ckpt700</td>\n",
       "      <td>0.1</td>\n",
       "      <td>MATH-500</td>\n",
       "      <td>default</td>\n",
       "      <td>0.830645</td>\n",
       "      <td>498</td>\n",
       "      <td>2</td>\n",
       "    </tr>\n",
       "    <tr>\n",
       "      <th>13</th>\n",
       "      <td>zheminh_Qwen2.5-1.5B-Instruct-Planning-Data-Math-Orig-and-Dagger-ckpt1245</td>\n",
       "      <td>0.1</td>\n",
       "      <td>zheminh_DeepSeek-R1-Distill-Qwen-1.5B-Execution-Data-Math-Orig-and-Dagger-think-ckpt2139</td>\n",
       "      <td>0.1</td>\n",
       "      <td>MATH-500</td>\n",
       "      <td>default</td>\n",
       "      <td>0.657948</td>\n",
       "      <td>500</td>\n",
       "      <td>3</td>\n",
       "    </tr>\n",
       "    <tr>\n",
       "      <th>14</th>\n",
       "      <td>zheminh_Qwen2.5-1.5B-Instruct-Planning-Data-Math-Orig-and-Dagger-ckpt1245</td>\n",
       "      <td>0.1</td>\n",
       "      <td>zheminh_DeepSeek-R1-Distill-Qwen-7B-Execution-Data-Math-Orig-and-Dagger-think-ckpt2139</td>\n",
       "      <td>0.1</td>\n",
       "      <td>MATH-500</td>\n",
       "      <td>default</td>\n",
       "      <td>0.800805</td>\n",
       "      <td>500</td>\n",
       "      <td>3</td>\n",
       "    </tr>\n",
       "    <tr>\n",
       "      <th>15</th>\n",
       "      <td>zheminh_Qwen2.5-1.5B-Instruct-Planning-Data-Math-Orig-and-Dagger-ckpt1245</td>\n",
       "      <td>0.4</td>\n",
       "      <td>zheminh_DeepSeek-R1-Distill-Qwen-1.5B-Execution-Data-Math-Orig-and-Dagger-think-ckpt2139</td>\n",
       "      <td>0.4</td>\n",
       "      <td>MATH-500</td>\n",
       "      <td>default</td>\n",
       "      <td>0.701826</td>\n",
       "      <td>500</td>\n",
       "      <td>7</td>\n",
       "    </tr>\n",
       "    <tr>\n",
       "      <th>16</th>\n",
       "      <td>zheminh_Qwen2.5-7B-Instruct-Planning-Data-Math-Orig-and-Dagger-ckpt2075</td>\n",
       "      <td>0.1</td>\n",
       "      <td>zheminh_DeepSeek-R1-Distill-Qwen-7B-Execution-Data-Math-Orig-and-Dagger-think-ckpt2139</td>\n",
       "      <td>0.1</td>\n",
       "      <td>MATH-500</td>\n",
       "      <td>default</td>\n",
       "      <td>0.911447</td>\n",
       "      <td>463</td>\n",
       "      <td>0</td>\n",
       "    </tr>\n",
       "    <tr>\n",
       "      <th>17</th>\n",
       "      <td>zheminh_Qwen2.5-7B-Instruct-Planning-Data-Math-Orig-and-Dagger-ckpt1800</td>\n",
       "      <td>0.1</td>\n",
       "      <td>zheminh_DeepSeek-R1-Distill-Qwen-7B-Execution-Data-Math-Orig-and-Dagger-think-ckpt2139</td>\n",
       "      <td>0.1</td>\n",
       "      <td>MATH-500</td>\n",
       "      <td>default</td>\n",
       "      <td>0.867617</td>\n",
       "      <td>496</td>\n",
       "      <td>5</td>\n",
       "    </tr>\n",
       "    <tr>\n",
       "      <th>18</th>\n",
       "      <td>zheminh_Qwen2.5-7B-Instruct-Planning-Data-Math-Orig-and-Dagger-ckpt800</td>\n",
       "      <td>0.1</td>\n",
       "      <td>zheminh_DeepSeek-R1-Distill-Qwen-7B-Execution-Data-Math-Orig-and-Dagger-think-ckpt2139</td>\n",
       "      <td>0.1</td>\n",
       "      <td>MATH-500</td>\n",
       "      <td>default</td>\n",
       "      <td>0.866485</td>\n",
       "      <td>394</td>\n",
       "      <td>27</td>\n",
       "    </tr>\n",
       "    <tr>\n",
       "      <th>19</th>\n",
       "      <td>zheminh_Qwen2.5-7B-Instruct-Planning-Data-Math-Orig-and-Dagger-ckpt2075</td>\n",
       "      <td>0.4</td>\n",
       "      <td>zheminh_DeepSeek-R1-Distill-Qwen-7B-Execution-Data-Math-Orig-and-Dagger-think-ckpt2139</td>\n",
       "      <td>0.4</td>\n",
       "      <td>MATH-500</td>\n",
       "      <td>default</td>\n",
       "      <td>0.870445</td>\n",
       "      <td>500</td>\n",
       "      <td>6</td>\n",
       "    </tr>\n",
       "    <tr>\n",
       "      <th>20</th>\n",
       "      <td>zheminh_Qwen2.5-7B-Instruct-Planning-Data-Math-Orig-and-Dagger-ckpt3000</td>\n",
       "      <td>0.1</td>\n",
       "      <td>zheminh_DeepSeek-R1-Distill-Qwen-7B-Execution-Data-Math-Orig-and-Dagger-think-ckpt2139</td>\n",
       "      <td>0.1</td>\n",
       "      <td>MATH-500</td>\n",
       "      <td>default</td>\n",
       "      <td>0.858173</td>\n",
       "      <td>421</td>\n",
       "      <td>5</td>\n",
       "    </tr>\n",
       "    <tr>\n",
       "      <th>21</th>\n",
       "      <td>zheminh_Qwen2.5-7B-Instruct-Shortened-Planning-Data-Math-ckpt2968</td>\n",
       "      <td>0.1</td>\n",
       "      <td>zheminh_DeepSeek-R1-Distill-Qwen-7B-Execution-Data-Math-think-ckpt1800</td>\n",
       "      <td>0.1</td>\n",
       "      <td>MATH-500</td>\n",
       "      <td>default</td>\n",
       "      <td>0.861619</td>\n",
       "      <td>384</td>\n",
       "      <td>1</td>\n",
       "    </tr>\n",
       "    <tr>\n",
       "      <th>22</th>\n",
       "      <td>zheminh_Planning-Data-Math-Full-Soln-Qwen2.5-7B-Instruct-ckpt582</td>\n",
       "      <td>0.1</td>\n",
       "      <td>zheminh_DeepSeek-R1-Distill-Qwen-7B-ckpt300</td>\n",
       "      <td>0.1</td>\n",
       "      <td>NotInOpenThoughts-correct</td>\n",
       "      <td>math2</td>\n",
       "      <td>0.856627</td>\n",
       "      <td>840</td>\n",
       "      <td>10</td>\n",
       "    </tr>\n",
       "    <tr>\n",
       "      <th>23</th>\n",
       "      <td>zheminh_Qwen2.5-Math-7B-Instruct-Planning-Data-Math-Orig-and-Dagger-ckpt1245</td>\n",
       "      <td>0.1</td>\n",
       "      <td>zheminh_DeepSeek-R1-Distill-Qwen-7B-Execution-Data-Math-Orig-and-Dagger-think-ckpt2139</td>\n",
       "      <td>0.1</td>\n",
       "      <td>MATH-500</td>\n",
       "      <td>default</td>\n",
       "      <td>1.000000</td>\n",
       "      <td>8</td>\n",
       "      <td>0</td>\n",
       "    </tr>\n",
       "    <tr>\n",
       "      <th>24</th>\n",
       "      <td>zheminh_Qwen2.5-Math-7B-Instruct-Planning-Data-Math-Orig-and-Dagger-ckpt800</td>\n",
       "      <td>0.1</td>\n",
       "      <td>zheminh_DeepSeek-R1-Distill-Qwen-7B-ckpt300</td>\n",
       "      <td>0.1</td>\n",
       "      <td>MATH-500</td>\n",
       "      <td>default</td>\n",
       "      <td>1.000000</td>\n",
       "      <td>6</td>\n",
       "      <td>0</td>\n",
       "    </tr>\n",
       "    <tr>\n",
       "      <th>25</th>\n",
       "      <td>zheminh_Qwen2.5-7B-Instruct-Shortened-Planning-Data-Math-ckpt2968</td>\n",
       "      <td>0.1</td>\n",
       "      <td>zheminh_DeepSeek-R1-Distill-Qwen-7B-Execution-Data-Math-think-ckpt6400</td>\n",
       "      <td>0.1</td>\n",
       "      <td>MATH-500</td>\n",
       "      <td>default</td>\n",
       "      <td>0.856855</td>\n",
       "      <td>499</td>\n",
       "      <td>3</td>\n",
       "    </tr>\n",
       "    <tr>\n",
       "      <th>26</th>\n",
       "      <td>zheminh_Qwen2.5-7B-Instruct-Shortened-Planning-Data-Math-ckpt2968</td>\n",
       "      <td>0.1</td>\n",
       "      <td>deepseek-ai_DeepSeek-R1-Distill-Qwen-7B</td>\n",
       "      <td>0.1</td>\n",
       "      <td>MATH-500</td>\n",
       "      <td>default</td>\n",
       "      <td>0.883768</td>\n",
       "      <td>499</td>\n",
       "      <td>0</td>\n",
       "    </tr>\n",
       "    <tr>\n",
       "      <th>27</th>\n",
       "      <td>zheminh_Qwen2.5-7B-Instruct-Shortened-Planning-Data-Math-ckpt2968</td>\n",
       "      <td>0.1</td>\n",
       "      <td>zheminh_DeepSeek-R1-Distill-Qwen-7B-Execution-Data-Math-think-ckpt2000</td>\n",
       "      <td>0.1</td>\n",
       "      <td>MATH-500</td>\n",
       "      <td>default</td>\n",
       "      <td>0.851406</td>\n",
       "      <td>498</td>\n",
       "      <td>0</td>\n",
       "    </tr>\n",
       "    <tr>\n",
       "      <th>28</th>\n",
       "      <td>zheminh_Planning-Data-Math-Full-Soln-Qwen2.5-7B-Instruct-ckpt582</td>\n",
       "      <td>0.1</td>\n",
       "      <td>zheminh_DeepSeek-R1-Distill-Qwen-7B-Execution-Data-Math-Orig-and-Dagger-think-ckpt2139</td>\n",
       "      <td>0.1</td>\n",
       "      <td>Calc-gsm8k</td>\n",
       "      <td>original-splits</td>\n",
       "      <td>0.874667</td>\n",
       "      <td>750</td>\n",
       "      <td>0</td>\n",
       "    </tr>\n",
       "    <tr>\n",
       "      <th>29</th>\n",
       "      <td>zheminh_Planning-Data-Math-Full-Soln-Qwen2.5-7B-Instruct-ckpt582</td>\n",
       "      <td>0.4</td>\n",
       "      <td>zheminh_DeepSeek-R1-Distill-Qwen-7B-Execution-Data-Math-Orig-and-Dagger-think-ckpt2139</td>\n",
       "      <td>0.4</td>\n",
       "      <td>aime</td>\n",
       "      <td>2024</td>\n",
       "      <td>0.379310</td>\n",
       "      <td>29</td>\n",
       "      <td>0</td>\n",
       "    </tr>\n",
       "    <tr>\n",
       "      <th>30</th>\n",
       "      <td>zheminh_Planning-Data-Math-Full-Soln-Qwen2.5-7B-Instruct-ckpt582</td>\n",
       "      <td>0.1</td>\n",
       "      <td>zheminh_Qwen3-8B-Execution-Data-Math-Orig-and-Dagger-think-ckpt3400</td>\n",
       "      <td>0.1</td>\n",
       "      <td>MATH-500</td>\n",
       "      <td>default</td>\n",
       "      <td>0.733108</td>\n",
       "      <td>296</td>\n",
       "      <td>0</td>\n",
       "    </tr>\n",
       "    <tr>\n",
       "      <th>31</th>\n",
       "      <td>zheminh_Planning-Data-Math-Full-Soln-Qwen2.5-7B-Instruct-ckpt582</td>\n",
       "      <td>0.1</td>\n",
       "      <td>zheminh_Qwen3-8B-Execution-Data-Math-Orig-and-Dagger-think-ckpt4800</td>\n",
       "      <td>0.4</td>\n",
       "      <td>MATH-500</td>\n",
       "      <td>default</td>\n",
       "      <td>0.901961</td>\n",
       "      <td>102</td>\n",
       "      <td>0</td>\n",
       "    </tr>\n",
       "  </tbody>\n",
       "</table>\n",
       "</div>"
      ],
      "text/plain": [
       "                                                                                  PlannerModel  \\\n",
       "0                             zheminh_Planning-Data-Math-Full-Soln-Qwen2.5-7B-Instruct-ckpt200   \n",
       "1                             zheminh_Planning-Data-Math-Full-Soln-Qwen2.5-7B-Instruct-ckpt200   \n",
       "2                             zheminh_Planning-Data-Math-Full-Soln-Qwen2.5-7B-Instruct-ckpt582   \n",
       "3                             zheminh_Planning-Data-Math-Full-Soln-Qwen2.5-7B-Instruct-ckpt582   \n",
       "4                             zheminh_Planning-Data-Math-Full-Soln-Qwen2.5-7B-Instruct-ckpt582   \n",
       "5                             zheminh_Planning-Data-Math-Full-Soln-Qwen2.5-7B-Instruct-ckpt582   \n",
       "6   zheminh_Planning-Data-Math-Full-Soln-Qwen2.5-7B-Instruct-ckpt582-Planning-Dagger-Data-Math   \n",
       "7   zheminh_Planning-Data-Math-Full-Soln-Qwen2.5-7B-Instruct-ckpt582-Planning-Dagger-Data-Math   \n",
       "8                     zheminh_Qwen2.5-1.5B-Instruct-Planning-Data-Math-Orig-and-Dagger-ckpt800   \n",
       "9                     zheminh_Qwen2.5-1.5B-Instruct-Planning-Data-Math-Orig-and-Dagger-ckpt800   \n",
       "10                            zheminh_Planning-Data-Math-Full-Soln-Qwen2.5-7B-Instruct-ckpt582   \n",
       "11                            zheminh_Planning-Data-Math-Full-Soln-Qwen2.5-7B-Instruct-ckpt582   \n",
       "12                            zheminh_Planning-Data-Math-Full-Soln-Qwen2.5-7B-Instruct-ckpt582   \n",
       "13                   zheminh_Qwen2.5-1.5B-Instruct-Planning-Data-Math-Orig-and-Dagger-ckpt1245   \n",
       "14                   zheminh_Qwen2.5-1.5B-Instruct-Planning-Data-Math-Orig-and-Dagger-ckpt1245   \n",
       "15                   zheminh_Qwen2.5-1.5B-Instruct-Planning-Data-Math-Orig-and-Dagger-ckpt1245   \n",
       "16                     zheminh_Qwen2.5-7B-Instruct-Planning-Data-Math-Orig-and-Dagger-ckpt2075   \n",
       "17                     zheminh_Qwen2.5-7B-Instruct-Planning-Data-Math-Orig-and-Dagger-ckpt1800   \n",
       "18                      zheminh_Qwen2.5-7B-Instruct-Planning-Data-Math-Orig-and-Dagger-ckpt800   \n",
       "19                     zheminh_Qwen2.5-7B-Instruct-Planning-Data-Math-Orig-and-Dagger-ckpt2075   \n",
       "20                     zheminh_Qwen2.5-7B-Instruct-Planning-Data-Math-Orig-and-Dagger-ckpt3000   \n",
       "21                           zheminh_Qwen2.5-7B-Instruct-Shortened-Planning-Data-Math-ckpt2968   \n",
       "22                            zheminh_Planning-Data-Math-Full-Soln-Qwen2.5-7B-Instruct-ckpt582   \n",
       "23                zheminh_Qwen2.5-Math-7B-Instruct-Planning-Data-Math-Orig-and-Dagger-ckpt1245   \n",
       "24                 zheminh_Qwen2.5-Math-7B-Instruct-Planning-Data-Math-Orig-and-Dagger-ckpt800   \n",
       "25                           zheminh_Qwen2.5-7B-Instruct-Shortened-Planning-Data-Math-ckpt2968   \n",
       "26                           zheminh_Qwen2.5-7B-Instruct-Shortened-Planning-Data-Math-ckpt2968   \n",
       "27                           zheminh_Qwen2.5-7B-Instruct-Shortened-Planning-Data-Math-ckpt2968   \n",
       "28                            zheminh_Planning-Data-Math-Full-Soln-Qwen2.5-7B-Instruct-ckpt582   \n",
       "29                            zheminh_Planning-Data-Math-Full-Soln-Qwen2.5-7B-Instruct-ckpt582   \n",
       "30                            zheminh_Planning-Data-Math-Full-Soln-Qwen2.5-7B-Instruct-ckpt582   \n",
       "31                            zheminh_Planning-Data-Math-Full-Soln-Qwen2.5-7B-Instruct-ckpt582   \n",
       "\n",
       "    PlannerTemp  \\\n",
       "0           0.1   \n",
       "1           0.1   \n",
       "2           0.1   \n",
       "3           0.1   \n",
       "4           0.1   \n",
       "5           0.1   \n",
       "6           0.1   \n",
       "7           0.6   \n",
       "8           0.1   \n",
       "9           0.1   \n",
       "10          0.4   \n",
       "11          0.1   \n",
       "12          0.1   \n",
       "13          0.1   \n",
       "14          0.1   \n",
       "15          0.4   \n",
       "16          0.1   \n",
       "17          0.1   \n",
       "18          0.1   \n",
       "19          0.4   \n",
       "20          0.1   \n",
       "21          0.1   \n",
       "22          0.1   \n",
       "23          0.1   \n",
       "24          0.1   \n",
       "25          0.1   \n",
       "26          0.1   \n",
       "27          0.1   \n",
       "28          0.1   \n",
       "29          0.4   \n",
       "30          0.1   \n",
       "31          0.1   \n",
       "\n",
       "                                                                               ExecutorModel  \\\n",
       "0                                                zheminh_DeepSeek-R1-Distill-Qwen-7B-ckpt300   \n",
       "1                                                zheminh_DeepSeek-R1-Distill-Qwen-7B-ckpt534   \n",
       "2                                                zheminh_DeepSeek-R1-Distill-Qwen-7B-ckpt534   \n",
       "3                                                zheminh_DeepSeek-R1-Distill-Qwen-7B-ckpt300   \n",
       "4                                                zheminh_DeepSeek-R1-Distill-Qwen-7B-ckpt800   \n",
       "5                                                zheminh_DeepSeek-R1-Distill-Qwen-7B-ckpt300   \n",
       "6               zheminh_DeepSeek-R1-Distill-Qwen-7B-ckpt300-Execution-Dagger-Data-Math-think   \n",
       "7               zheminh_DeepSeek-R1-Distill-Qwen-7B-ckpt300-Execution-Dagger-Data-Math-think   \n",
       "8    zheminh_DeepSeek-R1-Distill-Qwen-1.5B-Execution-Data-Math-Orig-and-Dagger-think-ckpt700   \n",
       "9      zheminh_DeepSeek-R1-Distill-Qwen-7B-Execution-Data-Math-Orig-and-Dagger-think-ckpt700   \n",
       "10  zheminh_DeepSeek-R1-Distill-Qwen-1.5B-Execution-Data-Math-Orig-and-Dagger-think-ckpt2139   \n",
       "11    zheminh_DeepSeek-R1-Distill-Qwen-7B-Execution-Data-Math-Orig-and-Dagger-think-ckpt2139   \n",
       "12     zheminh_DeepSeek-R1-Distill-Qwen-7B-Execution-Data-Math-Orig-and-Dagger-think-ckpt700   \n",
       "13  zheminh_DeepSeek-R1-Distill-Qwen-1.5B-Execution-Data-Math-Orig-and-Dagger-think-ckpt2139   \n",
       "14    zheminh_DeepSeek-R1-Distill-Qwen-7B-Execution-Data-Math-Orig-and-Dagger-think-ckpt2139   \n",
       "15  zheminh_DeepSeek-R1-Distill-Qwen-1.5B-Execution-Data-Math-Orig-and-Dagger-think-ckpt2139   \n",
       "16    zheminh_DeepSeek-R1-Distill-Qwen-7B-Execution-Data-Math-Orig-and-Dagger-think-ckpt2139   \n",
       "17    zheminh_DeepSeek-R1-Distill-Qwen-7B-Execution-Data-Math-Orig-and-Dagger-think-ckpt2139   \n",
       "18    zheminh_DeepSeek-R1-Distill-Qwen-7B-Execution-Data-Math-Orig-and-Dagger-think-ckpt2139   \n",
       "19    zheminh_DeepSeek-R1-Distill-Qwen-7B-Execution-Data-Math-Orig-and-Dagger-think-ckpt2139   \n",
       "20    zheminh_DeepSeek-R1-Distill-Qwen-7B-Execution-Data-Math-Orig-and-Dagger-think-ckpt2139   \n",
       "21                    zheminh_DeepSeek-R1-Distill-Qwen-7B-Execution-Data-Math-think-ckpt1800   \n",
       "22                                               zheminh_DeepSeek-R1-Distill-Qwen-7B-ckpt300   \n",
       "23    zheminh_DeepSeek-R1-Distill-Qwen-7B-Execution-Data-Math-Orig-and-Dagger-think-ckpt2139   \n",
       "24                                               zheminh_DeepSeek-R1-Distill-Qwen-7B-ckpt300   \n",
       "25                    zheminh_DeepSeek-R1-Distill-Qwen-7B-Execution-Data-Math-think-ckpt6400   \n",
       "26                                                   deepseek-ai_DeepSeek-R1-Distill-Qwen-7B   \n",
       "27                    zheminh_DeepSeek-R1-Distill-Qwen-7B-Execution-Data-Math-think-ckpt2000   \n",
       "28    zheminh_DeepSeek-R1-Distill-Qwen-7B-Execution-Data-Math-Orig-and-Dagger-think-ckpt2139   \n",
       "29    zheminh_DeepSeek-R1-Distill-Qwen-7B-Execution-Data-Math-Orig-and-Dagger-think-ckpt2139   \n",
       "30                       zheminh_Qwen3-8B-Execution-Data-Math-Orig-and-Dagger-think-ckpt3400   \n",
       "31                       zheminh_Qwen3-8B-Execution-Data-Math-Orig-and-Dagger-think-ckpt4800   \n",
       "\n",
       "    ExecutorTemp                DatasetName       SubsetName  Accuracy  \\\n",
       "0            0.1                   MATH-500          default  0.863918   \n",
       "1            0.1                   MATH-500          default  0.852459   \n",
       "2            0.1                   MATH-500          default  0.880478   \n",
       "3            0.1                   MATH-500          default  0.879098   \n",
       "4            0.1                   MATH-500          default  0.862626   \n",
       "5            0.1  NotInOpenThoughts-correct             math  0.831990   \n",
       "6            0.1                   MATH-500          default  0.841237   \n",
       "7            0.6                   MATH-500          default  0.833671   \n",
       "8            0.1                   MATH-500          default  0.591549   \n",
       "9            0.1                   MATH-500          default  0.759036   \n",
       "10           0.4                   MATH-500          default  0.800000   \n",
       "11           0.1                   MATH-500          default  0.895706   \n",
       "12           0.1                   MATH-500          default  0.830645   \n",
       "13           0.1                   MATH-500          default  0.657948   \n",
       "14           0.1                   MATH-500          default  0.800805   \n",
       "15           0.4                   MATH-500          default  0.701826   \n",
       "16           0.1                   MATH-500          default  0.911447   \n",
       "17           0.1                   MATH-500          default  0.867617   \n",
       "18           0.1                   MATH-500          default  0.866485   \n",
       "19           0.4                   MATH-500          default  0.870445   \n",
       "20           0.1                   MATH-500          default  0.858173   \n",
       "21           0.1                   MATH-500          default  0.861619   \n",
       "22           0.1  NotInOpenThoughts-correct            math2  0.856627   \n",
       "23           0.1                   MATH-500          default  1.000000   \n",
       "24           0.1                   MATH-500          default  1.000000   \n",
       "25           0.1                   MATH-500          default  0.856855   \n",
       "26           0.1                   MATH-500          default  0.883768   \n",
       "27           0.1                   MATH-500          default  0.851406   \n",
       "28           0.1                 Calc-gsm8k  original-splits  0.874667   \n",
       "29           0.4                       aime             2024  0.379310   \n",
       "30           0.1                   MATH-500          default  0.733108   \n",
       "31           0.4                   MATH-500          default  0.901961   \n",
       "\n",
       "    NumProblemsAttempted  NumProblemsIncomplete  \n",
       "0                    488                      3  \n",
       "1                    490                      2  \n",
       "2                    504                      2  \n",
       "3                    500                     12  \n",
       "4                    500                      5  \n",
       "5                   3996                     26  \n",
       "6                    485                      0  \n",
       "7                    493                      0  \n",
       "8                    498                      1  \n",
       "9                    500                      2  \n",
       "10                     5                      0  \n",
       "11                   489                      0  \n",
       "12                   498                      2  \n",
       "13                   500                      3  \n",
       "14                   500                      3  \n",
       "15                   500                      7  \n",
       "16                   463                      0  \n",
       "17                   496                      5  \n",
       "18                   394                     27  \n",
       "19                   500                      6  \n",
       "20                   421                      5  \n",
       "21                   384                      1  \n",
       "22                   840                     10  \n",
       "23                     8                      0  \n",
       "24                     6                      0  \n",
       "25                   499                      3  \n",
       "26                   499                      0  \n",
       "27                   498                      0  \n",
       "28                   750                      0  \n",
       "29                    29                      0  \n",
       "30                   296                      0  \n",
       "31                   102                      0  "
      ]
     },
     "execution_count": 52,
     "metadata": {},
     "output_type": "execute_result"
    }
   ],
   "source": [
    "metrics_df = pd.read_csv(\"metrics.csv\")\n",
    "for path in recently_updated_paths:\n",
    "    path_match = re.search(r'agent_orchestration_output_planner_(.+?)_temp([0-9.]+)_executor_(.+?)_temp([0-9.]+)', path.split('/')[1])\n",
    "    planner_model, planner_temp, executor_model, executor_temp = path_match.group(1), float(path_match.group(2)), path_match.group(3), float(path_match.group(4))\n",
    "    dataset_name, test_subset = path.split('/')[2].split(\"_\")[0], path.split('/')[2].split(\"_\")[1]\n",
    "    res_df = pd.read_csv(path)\n",
    "    accuracy, num_problems, num_problems_without_final_answer, _ = evaluate_utils.get_eval_metrics(res_df)\n",
    "    \n",
    "    row_filter = ((metrics_df[\"PlannerModel\"] == planner_model) & (metrics_df[\"PlannerTemp\"] == planner_temp) & (metrics_df[\"ExecutorModel\"] == executor_model) & (metrics_df[\"ExecutorTemp\"] == executor_temp) & (metrics_df[\"DatasetName\"] == dataset_name) & (metrics_df[\"SubsetName\"] == test_subset))\n",
    "    if metrics_df[row_filter].empty:\n",
    "        metrics_df = pd.concat([metrics_df, pd.DataFrame([{\"PlannerModel\": planner_model, \"PlannerTemp\": planner_temp, \"ExecutorModel\": executor_model, \"ExecutorTemp\": executor_temp,\n",
    "            \"DatasetName\": dataset_name, \"SubsetName\": test_subset, \"Accuracy\": accuracy, \"NumProblemsAttempted\": num_problems, \"NumProblemsIncomplete\": num_problems_without_final_answer}])], ignore_index=True)     \n",
    "    else:\n",
    "        metrics_df.loc[row_filter, [\"Accuracy\", \"NumProblemsAttempted\", \"NumProblemsIncomplete\"]] = [accuracy, num_problems, num_problems_without_final_answer]\n",
    "\n",
    "metrics_df.to_csv(\"metrics.csv\", index=False)\n",
    "metrics_df"
   ]
  },
  {
   "cell_type": "code",
   "execution_count": 46,
   "metadata": {},
   "outputs": [],
   "source": [
    "df = pd.read_csv(\"logs_base_model/base_model_output_Qwen_Qwen3-8B_maxtokens10000/MATH-500_default/base_model_output.csv\")\n",
    "accuracy, num_problems, num_problems_without_final_answer, _ = evaluate_utils.get_eval_metrics(df)"
   ]
  },
  {
   "cell_type": "code",
   "execution_count": 48,
   "metadata": {},
   "outputs": [
    {
     "data": {
      "text/plain": [
       "(0.9656862745098039, 408, 0)"
      ]
     },
     "execution_count": 48,
     "metadata": {},
     "output_type": "execute_result"
    }
   ],
   "source": [
    "accuracy, num_problems, num_problems_without_final_answer"
   ]
  },
  {
   "cell_type": "code",
   "execution_count": 73,
   "metadata": {},
   "outputs": [],
   "source": [
    "df=pd.read_csv(\"logs/agent_orchestration_output_planner_zheminh_Qwen2.5-7B-Instruct-Planning-Data-Math-Orig-and-Dagger-ckpt2075_temp0.1_executor_zheminh_DeepSeek-R1-Distill-Qwen-7B-Execution-Data-Math-Orig-and-Dagger-think-ckpt2139_temp0.1/MATH-500_default/agent_orchestration_output.csv\")"
   ]
  },
  {
   "cell_type": "code",
   "execution_count": 67,
   "metadata": {},
   "outputs": [],
   "source": [
    "from datasets import load_dataset"
   ]
  },
  {
   "cell_type": "code",
   "execution_count": 74,
   "metadata": {},
   "outputs": [],
   "source": [
    "ds1_planner = load_dataset(\"emilbiju/Planning-Dagger-Data-Math\")\n",
    "ds2_planner = load_dataset(\"emilbiju/Planning-Data-Math-Full-Soln\")"
   ]
  },
  {
   "cell_type": "code",
   "execution_count": 75,
   "metadata": {},
   "outputs": [
    {
     "data": {
      "text/plain": [
       "DatasetDict({\n",
       "    train: Dataset({\n",
       "        features: ['ProblemIdx', 'SystemPrompt', 'UserPrompt', 'ExpectedOutput', 'FinalAnswer', 'Phase', '__index_level_0__', 'messages'],\n",
       "        num_rows: 846\n",
       "    })\n",
       "    test: Dataset({\n",
       "        features: ['ProblemIdx', 'SystemPrompt', 'UserPrompt', 'ExpectedOutput', 'FinalAnswer', 'Phase', '__index_level_0__', 'messages'],\n",
       "        num_rows: 96\n",
       "    })\n",
       "})"
      ]
     },
     "execution_count": 75,
     "metadata": {},
     "output_type": "execute_result"
    }
   ],
   "source": [
    "ds1_planner"
   ]
  },
  {
   "cell_type": "code",
   "execution_count": 76,
   "metadata": {},
   "outputs": [
    {
     "data": {
      "text/plain": [
       "DatasetDict({\n",
       "    train: Dataset({\n",
       "        features: ['ProblemIdx', 'SystemPrompt', 'UserPrompt', 'ExpectedOutput', 'FinalAnswer', 'Phase', '__index_level_0__', 'messages'],\n",
       "        num_rows: 6903\n",
       "    })\n",
       "    test: Dataset({\n",
       "        features: ['ProblemIdx', 'SystemPrompt', 'UserPrompt', 'ExpectedOutput', 'FinalAnswer', 'Phase', '__index_level_0__', 'messages'],\n",
       "        num_rows: 738\n",
       "    })\n",
       "})"
      ]
     },
     "execution_count": 76,
     "metadata": {},
     "output_type": "execute_result"
    }
   ],
   "source": [
    "ds2_planner"
   ]
  },
  {
   "cell_type": "code",
   "execution_count": 77,
   "metadata": {},
   "outputs": [],
   "source": [
    "from datasets import concatenate_datasets\n",
    "\n",
    "# Concatenate train and test splits\n",
    "ds_combined_train = concatenate_datasets([ds1_planner['train'], ds2_planner['train']])\n",
    "ds_combined_test = concatenate_datasets([ds1_planner['test'], ds2_planner['test']])\n",
    "\n",
    "# Combine into a single DatasetDict\n",
    "ds_combined = {\n",
    "    'train': ds_combined_train,\n",
    "    'test': ds_combined_test\n",
    "}"
   ]
  },
  {
   "cell_type": "code",
   "execution_count": 78,
   "metadata": {},
   "outputs": [
    {
     "data": {
      "text/plain": [
       "DatasetDict({\n",
       "    train: Dataset({\n",
       "        features: ['ProblemIdx', 'SystemPrompt', 'UserPrompt', 'ExpectedOutput', 'FinalAnswer', 'Phase', '__index_level_0__', 'messages'],\n",
       "        num_rows: 7749\n",
       "    })\n",
       "    test: Dataset({\n",
       "        features: ['ProblemIdx', 'SystemPrompt', 'UserPrompt', 'ExpectedOutput', 'FinalAnswer', 'Phase', '__index_level_0__', 'messages'],\n",
       "        num_rows: 834\n",
       "    })\n",
       "})"
      ]
     },
     "execution_count": 78,
     "metadata": {},
     "output_type": "execute_result"
    }
   ],
   "source": [
    "from datasets import DatasetDict\n",
    "\n",
    "# Shuffle train and test splits\n",
    "ds_combined_shuffled = DatasetDict({\n",
    "    'train': ds_combined['train'].shuffle(seed=42),\n",
    "    'test': ds_combined['test'].shuffle(seed=42)\n",
    "})\n",
    "\n",
    "ds_combined_shuffled"
   ]
  },
  {
   "cell_type": "code",
   "execution_count": 79,
   "metadata": {},
   "outputs": [
    {
     "data": {
      "application/vnd.jupyter.widget-view+json": {
       "model_id": "2942c0caa87b476180cf28e9c28bad75",
       "version_major": 2,
       "version_minor": 0
      },
      "text/plain": [
       "Uploading the dataset shards:   0%|          | 0/1 [00:00<?, ?it/s]"
      ]
     },
     "metadata": {},
     "output_type": "display_data"
    },
    {
     "data": {
      "application/vnd.jupyter.widget-view+json": {
       "model_id": "a334b202a0df49b8916007c04d262b3c",
       "version_major": 2,
       "version_minor": 0
      },
      "text/plain": [
       "Creating parquet from Arrow format:   0%|          | 0/8 [00:00<?, ?ba/s]"
      ]
     },
     "metadata": {},
     "output_type": "display_data"
    },
    {
     "data": {
      "application/vnd.jupyter.widget-view+json": {
       "model_id": "62fb8e63aa734d2b9bb15186e175f10c",
       "version_major": 2,
       "version_minor": 0
      },
      "text/plain": [
       "Uploading the dataset shards:   0%|          | 0/1 [00:00<?, ?it/s]"
      ]
     },
     "metadata": {},
     "output_type": "display_data"
    },
    {
     "data": {
      "application/vnd.jupyter.widget-view+json": {
       "model_id": "362399b2a8e0447dad67f6949897db87",
       "version_major": 2,
       "version_minor": 0
      },
      "text/plain": [
       "Creating parquet from Arrow format:   0%|          | 0/1 [00:00<?, ?ba/s]"
      ]
     },
     "metadata": {},
     "output_type": "display_data"
    },
    {
     "data": {
      "text/plain": [
       "CommitInfo(commit_url='https://huggingface.co/datasets/emilbiju/Planning-Data-Math-Orig-and-Dagger/commit/1e5ffbc385a67f74313d314a2df8b139fd17d831', commit_message='Upload dataset', commit_description='', oid='1e5ffbc385a67f74313d314a2df8b139fd17d831', pr_url=None, repo_url=RepoUrl('https://huggingface.co/datasets/emilbiju/Planning-Data-Math-Orig-and-Dagger', endpoint='https://huggingface.co', repo_type='dataset', repo_id='emilbiju/Planning-Data-Math-Orig-and-Dagger'), pr_revision=None, pr_num=None)"
      ]
     },
     "execution_count": 79,
     "metadata": {},
     "output_type": "execute_result"
    }
   ],
   "source": [
    "ds_combined_shuffled.push_to_hub(\"emilbiju/Planning-Data-Math-Orig-and-Dagger\", \"math\")"
   ]
  },
  {
   "cell_type": "code",
   "execution_count": null,
   "metadata": {},
   "outputs": [],
   "source": []
  },
  {
   "cell_type": "code",
   "execution_count": null,
   "metadata": {},
   "outputs": [],
   "source": []
  },
  {
   "cell_type": "code",
   "execution_count": 2,
   "metadata": {},
   "outputs": [
    {
     "name": "stderr",
     "output_type": "stream",
     "text": [
      "/Users/emilbiju/anaconda3/lib/python3.10/site-packages/langchain_together/llms.py:89: UserWarning: The completions endpoint, has 'max_tokens' as required argument. The default value is being set to 200 Consider setting this value, when initializing LLM\n",
      "  warnings.warn(\n"
     ]
    }
   ],
   "source": [
    "from engine import get_engine, invoke_engine\n",
    "engine = get_engine(model_name = \"DeepSeek-R1\", temperature=0.1)"
   ]
  },
  {
   "cell_type": "code",
   "execution_count": 42,
   "metadata": {},
   "outputs": [],
   "source": [
    "from datasets import load_dataset\n",
    "import os\n",
    "import pandas as pd\n",
    "\n",
    "ds = load_dataset(\"HuggingFaceH4/MATH-500\", \"default\")\n",
    "ds = ds['test']\n",
    "if \"/\" in ds['unique_id'][0]:\n",
    "    ds = ds.map(lambda x: {'unique_id2' : os.path.splitext(os.path.basename(x['unique_id']))[0]})\n",
    "\n",
    "df = ds.to_pandas()\n",
    "non_unique_rows = df[df.duplicated(subset='unique_id2', keep=False)]\n",
    "df_unique = df.drop_duplicates(subset='unique_id2', keep='first')"
   ]
  },
  {
   "cell_type": "code",
   "execution_count": 44,
   "metadata": {},
   "outputs": [
    {
     "name": "stdout",
     "output_type": "stream",
     "text": [
      "[Errno 2] No such file or directory: 'logs/agent_orchestration_output_planner_zheminh_Planning-Data-Math-Full-Soln-Qwen2.5-7B-Instruct-ckpt200_temp0.1_executor_zheminh_DeepSeek-R1-Distill-Qwen-7B-ckpt300_temp0.1/MATH-500_default/planner_trajectory_1646.txt' -> 'logs/agent_orchestration_output_planner_zheminh_Planning-Data-Math-Full-Soln-Qwen2.5-7B-Instruct-ckpt200_temp0.1_executor_zheminh_DeepSeek-R1-Distill-Qwen-7B-ckpt300_temp0.1/MATH-500_default/planner_trajectory_test_prealgebra_1646.txt'\n",
      "[Errno 2] No such file or directory: 'logs/agent_orchestration_output_planner_zheminh_Planning-Data-Math-Full-Soln-Qwen2.5-7B-Instruct-ckpt200_temp0.1_executor_zheminh_DeepSeek-R1-Distill-Qwen-7B-ckpt300_temp0.1/MATH-500_default/planner_trajectory_880.txt' -> 'logs/agent_orchestration_output_planner_zheminh_Planning-Data-Math-Full-Soln-Qwen2.5-7B-Instruct-ckpt200_temp0.1_executor_zheminh_DeepSeek-R1-Distill-Qwen-7B-ckpt300_temp0.1/MATH-500_default/planner_trajectory_test_geometry_880.txt'\n",
      "[Errno 2] No such file or directory: 'logs/agent_orchestration_output_planner_zheminh_Planning-Data-Math-Full-Soln-Qwen2.5-7B-Instruct-ckpt200_temp0.1_executor_zheminh_DeepSeek-R1-Distill-Qwen-7B-ckpt300_temp0.1/MATH-500_default/planner_trajectory_1510.txt' -> 'logs/agent_orchestration_output_planner_zheminh_Planning-Data-Math-Full-Soln-Qwen2.5-7B-Instruct-ckpt200_temp0.1_executor_zheminh_DeepSeek-R1-Distill-Qwen-7B-ckpt300_temp0.1/MATH-500_default/planner_trajectory_test_intermediate_algebra_1510.txt'\n",
      "[Errno 2] No such file or directory: 'logs/agent_orchestration_output_planner_zheminh_Planning-Data-Math-Full-Soln-Qwen2.5-7B-Instruct-ckpt200_temp0.1_executor_zheminh_DeepSeek-R1-Distill-Qwen-7B-ckpt300_temp0.1/MATH-500_default/planner_trajectory_417.txt' -> 'logs/agent_orchestration_output_planner_zheminh_Planning-Data-Math-Full-Soln-Qwen2.5-7B-Instruct-ckpt200_temp0.1_executor_zheminh_DeepSeek-R1-Distill-Qwen-7B-ckpt300_temp0.1/MATH-500_default/planner_trajectory_test_number_theory_417.txt'\n",
      "[Errno 2] No such file or directory: 'logs/agent_orchestration_output_planner_zheminh_Planning-Data-Math-Full-Soln-Qwen2.5-7B-Instruct-ckpt200_temp0.1_executor_zheminh_DeepSeek-R1-Distill-Qwen-7B-ckpt300_temp0.1/MATH-500_default/planner_trajectory_229.txt' -> 'logs/agent_orchestration_output_planner_zheminh_Planning-Data-Math-Full-Soln-Qwen2.5-7B-Instruct-ckpt200_temp0.1_executor_zheminh_DeepSeek-R1-Distill-Qwen-7B-ckpt300_temp0.1/MATH-500_default/planner_trajectory_test_geometry_229.txt'\n",
      "[Errno 2] No such file or directory: 'logs/agent_orchestration_output_planner_zheminh_Planning-Data-Math-Full-Soln-Qwen2.5-7B-Instruct-ckpt200_temp0.1_executor_zheminh_DeepSeek-R1-Distill-Qwen-7B-ckpt300_temp0.1/MATH-500_default/planner_trajectory_2551.txt' -> 'logs/agent_orchestration_output_planner_zheminh_Planning-Data-Math-Full-Soln-Qwen2.5-7B-Instruct-ckpt200_temp0.1_executor_zheminh_DeepSeek-R1-Distill-Qwen-7B-ckpt300_temp0.1/MATH-500_default/planner_trajectory_test_algebra_2551.txt'\n",
      "[Errno 2] No such file or directory: 'logs/agent_orchestration_output_planner_zheminh_Planning-Data-Math-Full-Soln-Qwen2.5-7B-Instruct-ckpt200_temp0.1_executor_zheminh_DeepSeek-R1-Distill-Qwen-7B-ckpt300_temp0.1/MATH-500_default/planner_trajectory_1411.txt' -> 'logs/agent_orchestration_output_planner_zheminh_Planning-Data-Math-Full-Soln-Qwen2.5-7B-Instruct-ckpt200_temp0.1_executor_zheminh_DeepSeek-R1-Distill-Qwen-7B-ckpt300_temp0.1/MATH-500_default/planner_trajectory_test_intermediate_algebra_1411.txt'\n",
      "[Errno 2] No such file or directory: 'logs/agent_orchestration_output_planner_zheminh_Planning-Data-Math-Full-Soln-Qwen2.5-7B-Instruct-ckpt200_temp0.1_executor_zheminh_DeepSeek-R1-Distill-Qwen-7B-ckpt300_temp0.1/MATH-500_default/planner_trajectory_339.txt' -> 'logs/agent_orchestration_output_planner_zheminh_Planning-Data-Math-Full-Soln-Qwen2.5-7B-Instruct-ckpt200_temp0.1_executor_zheminh_DeepSeek-R1-Distill-Qwen-7B-ckpt300_temp0.1/MATH-500_default/planner_trajectory_test_counting_and_probability_339.txt'\n",
      "[Errno 2] No such file or directory: 'logs/agent_orchestration_output_planner_zheminh_Planning-Data-Math-Full-Soln-Qwen2.5-7B-Instruct-ckpt200_temp0.1_executor_zheminh_DeepSeek-R1-Distill-Qwen-7B-ckpt300_temp0.1/MATH-500_default/planner_trajectory_2152.txt' -> 'logs/agent_orchestration_output_planner_zheminh_Planning-Data-Math-Full-Soln-Qwen2.5-7B-Instruct-ckpt200_temp0.1_executor_zheminh_DeepSeek-R1-Distill-Qwen-7B-ckpt300_temp0.1/MATH-500_default/planner_trajectory_test_intermediate_algebra_2152.txt'\n",
      "[Errno 2] No such file or directory: 'logs/agent_orchestration_output_planner_zheminh_Planning-Data-Math-Full-Soln-Qwen2.5-7B-Instruct-ckpt200_temp0.1_executor_zheminh_DeepSeek-R1-Distill-Qwen-7B-ckpt300_temp0.1/MATH-500_default/planner_trajectory_860.txt' -> 'logs/agent_orchestration_output_planner_zheminh_Planning-Data-Math-Full-Soln-Qwen2.5-7B-Instruct-ckpt200_temp0.1_executor_zheminh_DeepSeek-R1-Distill-Qwen-7B-ckpt300_temp0.1/MATH-500_default/planner_trajectory_test_intermediate_algebra_860.txt'\n",
      "[Errno 2] No such file or directory: 'logs/agent_orchestration_output_planner_zheminh_Planning-Data-Math-Full-Soln-Qwen2.5-7B-Instruct-ckpt200_temp0.1_executor_zheminh_DeepSeek-R1-Distill-Qwen-7B-ckpt300_temp0.1/MATH-500_default/planner_trajectory_902.txt' -> 'logs/agent_orchestration_output_planner_zheminh_Planning-Data-Math-Full-Soln-Qwen2.5-7B-Instruct-ckpt200_temp0.1_executor_zheminh_DeepSeek-R1-Distill-Qwen-7B-ckpt300_temp0.1/MATH-500_default/planner_trajectory_test_precalculus_902.txt'\n",
      "[Errno 2] No such file or directory: 'logs/agent_orchestration_output_planner_zheminh_Planning-Data-Math-Full-Soln-Qwen2.5-7B-Instruct-ckpt200_temp0.1_executor_zheminh_DeepSeek-R1-Distill-Qwen-7B-ckpt300_temp0.1/MATH-500_default/planner_trajectory_1203.txt' -> 'logs/agent_orchestration_output_planner_zheminh_Planning-Data-Math-Full-Soln-Qwen2.5-7B-Instruct-ckpt200_temp0.1_executor_zheminh_DeepSeek-R1-Distill-Qwen-7B-ckpt300_temp0.1/MATH-500_default/planner_trajectory_test_prealgebra_1203.txt'\n"
     ]
    }
   ],
   "source": [
    "dir_path = \"logs/agent_orchestration_output_planner_zheminh_Planning-Data-Math-Full-Soln-Qwen2.5-7B-Instruct-ckpt200_temp0.1_executor_zheminh_DeepSeek-R1-Distill-Qwen-7B-ckpt300_temp0.1/MATH-500_default\"\n",
    "for i in range(len(df_unique)):\n",
    "    try:\n",
    "        os.rename(os.path.join(dir_path, f\"planner_trajectory_{df_unique['unique_id2'].iloc[i]}.txt\"), os.path.join(dir_path, f\"planner_trajectory_{df_unique['unique_id'].iloc[i].split('.')[0].replace('/', '_')}.txt\"))\n",
    "    except Exception as e:\n",
    "        print(e)\n",
    "        pass"
   ]
  },
  {
   "cell_type": "code",
   "execution_count": 32,
   "metadata": {},
   "outputs": [],
   "source": [
    "df = pd.read_csv(\"logs/agent_orchestration_output_planner_zheminh_Planning-Data-Math-Full-Soln-Qwen2.5-7B-Instruct-ckpt582-Planning-Dagger-Data-Math_temp0.1_executor_zheminh_DeepSeek-R1-Distill-Qwen-7B-ckpt300-Execution-Dagger-Data-Math-think_temp0.1/MATH-500_default/agent_orchestration_output.csv\")"
   ]
  },
  {
   "cell_type": "code",
   "execution_count": 34,
   "metadata": {},
   "outputs": [],
   "source": [
    "accuracy, num_problems, num_problems_without_final_answer, df_new = evaluate_utils.get_eval_metrics(df)"
   ]
  },
  {
   "cell_type": "code",
   "execution_count": 38,
   "metadata": {},
   "outputs": [
    {
     "data": {
      "text/html": [
       "<div>\n",
       "<style scoped>\n",
       "    .dataframe tbody tr th:only-of-type {\n",
       "        vertical-align: middle;\n",
       "    }\n",
       "\n",
       "    .dataframe tbody tr th {\n",
       "        vertical-align: top;\n",
       "    }\n",
       "\n",
       "    .dataframe thead th {\n",
       "        text-align: right;\n",
       "    }\n",
       "</style>\n",
       "<table border=\"1\" class=\"dataframe\">\n",
       "  <thead>\n",
       "    <tr style=\"text-align: right;\">\n",
       "      <th></th>\n",
       "      <th>ProblemIdx</th>\n",
       "      <th>PredictedFinalAnswer</th>\n",
       "      <th>TrueFinalAnswer</th>\n",
       "    </tr>\n",
       "  </thead>\n",
       "  <tbody>\n",
       "    <tr>\n",
       "      <th>23</th>\n",
       "      <td>test_intermediate_algebra_1197</td>\n",
       "      <td>\\frac{1}{12}</td>\n",
       "      <td>\\frac{3}{56}</td>\n",
       "    </tr>\n",
       "    <tr>\n",
       "      <th>29</th>\n",
       "      <td>test_counting_and_probability_525</td>\n",
       "      <td>72</td>\n",
       "      <td>144</td>\n",
       "    </tr>\n",
       "    <tr>\n",
       "      <th>60</th>\n",
       "      <td>test_number_theory_1055</td>\n",
       "      <td>29</td>\n",
       "      <td>203</td>\n",
       "    </tr>\n",
       "    <tr>\n",
       "      <th>66</th>\n",
       "      <td>test_intermediate_algebra_1454</td>\n",
       "      <td>10\\sqrt{13} + 30\\sqrt{2}</td>\n",
       "      <td>70 \\sqrt{2}</td>\n",
       "    </tr>\n",
       "    <tr>\n",
       "      <th>69</th>\n",
       "      <td>test_intermediate_algebra_47</td>\n",
       "      <td>1</td>\n",
       "      <td>(-2,1)</td>\n",
       "    </tr>\n",
       "    <tr>\n",
       "      <th>73</th>\n",
       "      <td>test_intermediate_algebra_2046</td>\n",
       "      <td>28</td>\n",
       "      <td>2</td>\n",
       "    </tr>\n",
       "    <tr>\n",
       "      <th>83</th>\n",
       "      <td>test_intermediate_algebra_1849</td>\n",
       "      <td>999</td>\n",
       "      <td>501</td>\n",
       "    </tr>\n",
       "    <tr>\n",
       "      <th>88</th>\n",
       "      <td>test_prealgebra_1646</td>\n",
       "      <td>130^\\circ</td>\n",
       "      <td>80</td>\n",
       "    </tr>\n",
       "    <tr>\n",
       "      <th>89</th>\n",
       "      <td>test_precalculus_1300</td>\n",
       "      <td>\\begin{pmatrix} -\\dfrac{1}{3} \\\\ \\dfrac{2}{3} \\\\ \\dfrac{5}{3} \\end{pmatrix}</td>\n",
       "      <td>\\begin{pmatrix} -1/3 \\\\ 2/3 \\\\ 5/3 \\end{pmatrix}</td>\n",
       "    </tr>\n",
       "    <tr>\n",
       "      <th>96</th>\n",
       "      <td>test_algebra_892</td>\n",
       "      <td>3</td>\n",
       "      <td>2</td>\n",
       "    </tr>\n",
       "    <tr>\n",
       "      <th>97</th>\n",
       "      <td>test_prealgebra_1139</td>\n",
       "      <td>18</td>\n",
       "      <td>4</td>\n",
       "    </tr>\n",
       "    <tr>\n",
       "      <th>106</th>\n",
       "      <td>test_intermediate_algebra_558</td>\n",
       "      <td>[\\sqrt{5} - 1,4]</td>\n",
       "      <td>(3,4]</td>\n",
       "    </tr>\n",
       "    <tr>\n",
       "      <th>108</th>\n",
       "      <td>test_geometry_183</td>\n",
       "      <td>70^\\circ</td>\n",
       "      <td>145^\\circ</td>\n",
       "    </tr>\n",
       "    <tr>\n",
       "      <th>111</th>\n",
       "      <td>test_geometry_283</td>\n",
       "      <td>9</td>\n",
       "      <td>8</td>\n",
       "    </tr>\n",
       "    <tr>\n",
       "      <th>113</th>\n",
       "      <td>test_intermediate_algebra_345</td>\n",
       "      <td>1</td>\n",
       "      <td>504</td>\n",
       "    </tr>\n",
       "    <tr>\n",
       "      <th>116</th>\n",
       "      <td>test_intermediate_algebra_894</td>\n",
       "      <td>\\frac{1}{2}</td>\n",
       "      <td>2</td>\n",
       "    </tr>\n",
       "    <tr>\n",
       "      <th>126</th>\n",
       "      <td>test_counting_and_probability_430</td>\n",
       "      <td>\\frac{1}{6}</td>\n",
       "      <td>\\frac{1}{3}</td>\n",
       "    </tr>\n",
       "    <tr>\n",
       "      <th>128</th>\n",
       "      <td>test_intermediate_algebra_662</td>\n",
       "      <td>5</td>\n",
       "      <td>1 \\pm \\sqrt{19}</td>\n",
       "    </tr>\n",
       "    <tr>\n",
       "      <th>144</th>\n",
       "      <td>test_intermediate_algebra_1408</td>\n",
       "      <td>1</td>\n",
       "      <td>-2</td>\n",
       "    </tr>\n",
       "    <tr>\n",
       "      <th>145</th>\n",
       "      <td>test_number_theory_521</td>\n",
       "      <td>16</td>\n",
       "      <td>18</td>\n",
       "    </tr>\n",
       "    <tr>\n",
       "      <th>178</th>\n",
       "      <td>test_counting_and_probability_181</td>\n",
       "      <td>6</td>\n",
       "      <td>19</td>\n",
       "    </tr>\n",
       "    <tr>\n",
       "      <th>181</th>\n",
       "      <td>test_intermediate_algebra_964</td>\n",
       "      <td>0</td>\n",
       "      <td>1</td>\n",
       "    </tr>\n",
       "    <tr>\n",
       "      <th>184</th>\n",
       "      <td>test_counting_and_probability_508</td>\n",
       "      <td>10560</td>\n",
       "      <td>10,\\!080</td>\n",
       "    </tr>\n",
       "    <tr>\n",
       "      <th>188</th>\n",
       "      <td>test_prealgebra_1003</td>\n",
       "      <td>\\frac{270}{7}</td>\n",
       "      <td>\\frac{270}7\\text{ degrees}</td>\n",
       "    </tr>\n",
       "    <tr>\n",
       "      <th>207</th>\n",
       "      <td>test_geometry_702</td>\n",
       "      <td>20</td>\n",
       "      <td>160</td>\n",
       "    </tr>\n",
       "    <tr>\n",
       "      <th>211</th>\n",
       "      <td>test_precalculus_819</td>\n",
       "      <td>\\text{plane}</td>\n",
       "      <td>\\text{(C)}</td>\n",
       "    </tr>\n",
       "    <tr>\n",
       "      <th>215</th>\n",
       "      <td>test_precalculus_1056</td>\n",
       "      <td>36 \\pi</td>\n",
       "      <td>288 \\pi</td>\n",
       "    </tr>\n",
       "    <tr>\n",
       "      <th>220</th>\n",
       "      <td>test_precalculus_190</td>\n",
       "      <td>\\frac{27}{256}</td>\n",
       "      <td>\\frac{9}{256}</td>\n",
       "    </tr>\n",
       "    <tr>\n",
       "      <th>224</th>\n",
       "      <td>test_algebra_733</td>\n",
       "      <td>-\\frac{17}{10}</td>\n",
       "      <td>6</td>\n",
       "    </tr>\n",
       "    <tr>\n",
       "      <th>226</th>\n",
       "      <td>test_prealgebra_874</td>\n",
       "      <td>52</td>\n",
       "      <td>116</td>\n",
       "    </tr>\n",
       "    <tr>\n",
       "      <th>228</th>\n",
       "      <td>test_algebra_2626</td>\n",
       "      <td>32,\\!\\n469</td>\n",
       "      <td>\\$32,\\!348</td>\n",
       "    </tr>\n",
       "    <tr>\n",
       "      <th>240</th>\n",
       "      <td>test_precalculus_452</td>\n",
       "      <td>E</td>\n",
       "      <td>\\text{(E)}</td>\n",
       "    </tr>\n",
       "    <tr>\n",
       "      <th>254</th>\n",
       "      <td>test_geometry_229</td>\n",
       "      <td>30</td>\n",
       "      <td>16</td>\n",
       "    </tr>\n",
       "    <tr>\n",
       "      <th>260</th>\n",
       "      <td>test_geometry_226</td>\n",
       "      <td>150^\\circ</td>\n",
       "      <td>180^\\circ</td>\n",
       "    </tr>\n",
       "    <tr>\n",
       "      <th>267</th>\n",
       "      <td>test_intermediate_algebra_1354</td>\n",
       "      <td>-998</td>\n",
       "      <td>\\frac{1997}{2}</td>\n",
       "    </tr>\n",
       "    <tr>\n",
       "      <th>274</th>\n",
       "      <td>test_intermediate_algebra_1510</td>\n",
       "      <td>81</td>\n",
       "      <td>0</td>\n",
       "    </tr>\n",
       "    <tr>\n",
       "      <th>277</th>\n",
       "      <td>test_precalculus_768</td>\n",
       "      <td>\\frac{3 \\pm \\sqrt{6}}{3}</td>\n",
       "      <td>3 \\pm 2 \\sqrt{2}</td>\n",
       "    </tr>\n",
       "    <tr>\n",
       "      <th>282</th>\n",
       "      <td>test_geometry_826</td>\n",
       "      <td>4</td>\n",
       "      <td>1\\frac{4}{5}</td>\n",
       "    </tr>\n",
       "    <tr>\n",
       "      <th>283</th>\n",
       "      <td>test_intermediate_algebra_1411</td>\n",
       "      <td>208</td>\n",
       "      <td>440</td>\n",
       "    </tr>\n",
       "    <tr>\n",
       "      <th>288</th>\n",
       "      <td>test_intermediate_algebra_90</td>\n",
       "      <td>1051</td>\n",
       "      <td>898</td>\n",
       "    </tr>\n",
       "    <tr>\n",
       "      <th>289</th>\n",
       "      <td>test_prealgebra_1044</td>\n",
       "      <td>4.9</td>\n",
       "      <td>5.4 \\text{ cents}</td>\n",
       "    </tr>\n",
       "    <tr>\n",
       "      <th>292</th>\n",
       "      <td>test_intermediate_algebra_1544</td>\n",
       "      <td>5</td>\n",
       "      <td>6</td>\n",
       "    </tr>\n",
       "    <tr>\n",
       "      <th>299</th>\n",
       "      <td>test_geometry_711</td>\n",
       "      <td>4 + 2\\sqrt{3}</td>\n",
       "      <td>1+2\\sqrt{3}</td>\n",
       "    </tr>\n",
       "    <tr>\n",
       "      <th>306</th>\n",
       "      <td>test_number_theory_488</td>\n",
       "      <td>67</td>\n",
       "      <td>58</td>\n",
       "    </tr>\n",
       "  </tbody>\n",
       "</table>\n",
       "</div>"
      ],
      "text/plain": [
       "                            ProblemIdx  \\\n",
       "23      test_intermediate_algebra_1197   \n",
       "29   test_counting_and_probability_525   \n",
       "60             test_number_theory_1055   \n",
       "66      test_intermediate_algebra_1454   \n",
       "69        test_intermediate_algebra_47   \n",
       "73      test_intermediate_algebra_2046   \n",
       "83      test_intermediate_algebra_1849   \n",
       "88                test_prealgebra_1646   \n",
       "89               test_precalculus_1300   \n",
       "96                    test_algebra_892   \n",
       "97                test_prealgebra_1139   \n",
       "106      test_intermediate_algebra_558   \n",
       "108                  test_geometry_183   \n",
       "111                  test_geometry_283   \n",
       "113      test_intermediate_algebra_345   \n",
       "116      test_intermediate_algebra_894   \n",
       "126  test_counting_and_probability_430   \n",
       "128      test_intermediate_algebra_662   \n",
       "144     test_intermediate_algebra_1408   \n",
       "145             test_number_theory_521   \n",
       "178  test_counting_and_probability_181   \n",
       "181      test_intermediate_algebra_964   \n",
       "184  test_counting_and_probability_508   \n",
       "188               test_prealgebra_1003   \n",
       "207                  test_geometry_702   \n",
       "211               test_precalculus_819   \n",
       "215              test_precalculus_1056   \n",
       "220               test_precalculus_190   \n",
       "224                   test_algebra_733   \n",
       "226                test_prealgebra_874   \n",
       "228                  test_algebra_2626   \n",
       "240               test_precalculus_452   \n",
       "254                  test_geometry_229   \n",
       "260                  test_geometry_226   \n",
       "267     test_intermediate_algebra_1354   \n",
       "274     test_intermediate_algebra_1510   \n",
       "277               test_precalculus_768   \n",
       "282                  test_geometry_826   \n",
       "283     test_intermediate_algebra_1411   \n",
       "288       test_intermediate_algebra_90   \n",
       "289               test_prealgebra_1044   \n",
       "292     test_intermediate_algebra_1544   \n",
       "299                  test_geometry_711   \n",
       "306             test_number_theory_488   \n",
       "\n",
       "                                                            PredictedFinalAnswer  \\\n",
       "23                                                                  \\frac{1}{12}   \n",
       "29                                                                            72   \n",
       "60                                                                            29   \n",
       "66                                                      10\\sqrt{13} + 30\\sqrt{2}   \n",
       "69                                                                             1   \n",
       "73                                                                            28   \n",
       "83                                                                           999   \n",
       "88                                                                     130^\\circ   \n",
       "89   \\begin{pmatrix} -\\dfrac{1}{3} \\\\ \\dfrac{2}{3} \\\\ \\dfrac{5}{3} \\end{pmatrix}   \n",
       "96                                                                             3   \n",
       "97                                                                            18   \n",
       "106                                                             [\\sqrt{5} - 1,4]   \n",
       "108                                                                     70^\\circ   \n",
       "111                                                                            9   \n",
       "113                                                                            1   \n",
       "116                                                                  \\frac{1}{2}   \n",
       "126                                                                  \\frac{1}{6}   \n",
       "128                                                                            5   \n",
       "144                                                                            1   \n",
       "145                                                                           16   \n",
       "178                                                                            6   \n",
       "181                                                                            0   \n",
       "184                                                                        10560   \n",
       "188                                                                \\frac{270}{7}   \n",
       "207                                                                           20   \n",
       "211                                                                 \\text{plane}   \n",
       "215                                                                       36 \\pi   \n",
       "220                                                               \\frac{27}{256}   \n",
       "224                                                               -\\frac{17}{10}   \n",
       "226                                                                           52   \n",
       "228                                                                   32,\\!\\n469   \n",
       "240                                                                            E   \n",
       "254                                                                           30   \n",
       "260                                                                    150^\\circ   \n",
       "267                                                                         -998   \n",
       "274                                                                           81   \n",
       "277                                                     \\frac{3 \\pm \\sqrt{6}}{3}   \n",
       "282                                                                            4   \n",
       "283                                                                          208   \n",
       "288                                                                         1051   \n",
       "289                                                                          4.9   \n",
       "292                                                                            5   \n",
       "299                                                                4 + 2\\sqrt{3}   \n",
       "306                                                                           67   \n",
       "\n",
       "                                      TrueFinalAnswer  \n",
       "23                                       \\frac{3}{56}  \n",
       "29                                                144  \n",
       "60                                                203  \n",
       "66                                        70 \\sqrt{2}  \n",
       "69                                             (-2,1)  \n",
       "73                                                  2  \n",
       "83                                                501  \n",
       "88                                                 80  \n",
       "89   \\begin{pmatrix} -1/3 \\\\ 2/3 \\\\ 5/3 \\end{pmatrix}  \n",
       "96                                                  2  \n",
       "97                                                  4  \n",
       "106                                             (3,4]  \n",
       "108                                         145^\\circ  \n",
       "111                                                 8  \n",
       "113                                               504  \n",
       "116                                                 2  \n",
       "126                                       \\frac{1}{3}  \n",
       "128                                   1 \\pm \\sqrt{19}  \n",
       "144                                                -2  \n",
       "145                                                18  \n",
       "178                                                19  \n",
       "181                                                 1  \n",
       "184                                          10,\\!080  \n",
       "188                        \\frac{270}7\\text{ degrees}  \n",
       "207                                               160  \n",
       "211                                        \\text{(C)}  \n",
       "215                                           288 \\pi  \n",
       "220                                     \\frac{9}{256}  \n",
       "224                                                 6  \n",
       "226                                               116  \n",
       "228                                        \\$32,\\!348  \n",
       "240                                        \\text{(E)}  \n",
       "254                                                16  \n",
       "260                                         180^\\circ  \n",
       "267                                    \\frac{1997}{2}  \n",
       "274                                                 0  \n",
       "277                                  3 \\pm 2 \\sqrt{2}  \n",
       "282                                      1\\frac{4}{5}  \n",
       "283                                               440  \n",
       "288                                               898  \n",
       "289                                 5.4 \\text{ cents}  \n",
       "292                                                 6  \n",
       "299                                       1+2\\sqrt{3}  \n",
       "306                                                58  "
      ]
     },
     "execution_count": 38,
     "metadata": {},
     "output_type": "execute_result"
    }
   ],
   "source": [
    "df_new[df_new[\"IsCorrect\"]==False][[\"ProblemIdx\",\t\"PredictedFinalAnswer\",\t\"TrueFinalAnswer\"]]"
   ]
  },
  {
   "cell_type": "code",
   "execution_count": 38,
   "metadata": {},
   "outputs": [
    {
     "data": {
      "text/plain": [
       "('abc/def', '.sdf')"
      ]
     },
     "execution_count": 38,
     "metadata": {},
     "output_type": "execute_result"
    }
   ],
   "source": [
    "os.path.splitext(\"abc/def.sdf\")"
   ]
  },
  {
   "cell_type": "code",
   "execution_count": 6,
   "metadata": {},
   "outputs": [
    {
     "ename": "ValueError",
     "evalue": "Together received an invalid payload: {\n  \"id\": \"noxU7aa-4yUbBN-92be4e710cfb6426\",\n  \"error\": {\n    \"message\": \"Unable to access model DeepSeek-R1. Please visit https://api.together.ai/models to view the list of supported models.\",\n    \"type\": \"invalid_request_error\",\n    \"param\": null,\n    \"code\": \"model_not_available\"\n  }\n}",
     "output_type": "error",
     "traceback": [
      "\u001b[0;31m---------------------------------------------------------------------------\u001b[0m",
      "\u001b[0;31mValueError\u001b[0m                                Traceback (most recent call last)",
      "Cell \u001b[0;32mIn [6], line 1\u001b[0m\n\u001b[0;32m----> 1\u001b[0m res \u001b[38;5;241m=\u001b[39m \u001b[43minvoke_engine\u001b[49m\u001b[43m(\u001b[49m\u001b[43mengine\u001b[49m\u001b[43m,\u001b[49m\u001b[43m \u001b[49m\u001b[43mprompt\u001b[49m\u001b[43m \u001b[49m\u001b[38;5;241;43m=\u001b[39;49m\u001b[43m \u001b[49m\u001b[38;5;124;43m\"\u001b[39;49m\u001b[38;5;124;43mWhat is the sum of 1st 10 natural numbers?\u001b[39;49m\u001b[38;5;130;43;01m\\n\u001b[39;49;00m\u001b[38;5;124;43m<think>\u001b[39;49m\u001b[38;5;130;43;01m\\n\u001b[39;49;00m\u001b[38;5;124;43mOkay, so I need to find the sum of the first 10 natural numbers. Let me think about \u001b[39;49m\u001b[38;5;124;43m\"\u001b[39;49m\u001b[43m)\u001b[49m\n",
      "File \u001b[0;32m~/Downloads/LLMVerification/agentic_r1_v3_git_repo_clone/factuality-verification/src/utils/engine.py:294\u001b[0m, in \u001b[0;36minvoke_engine\u001b[0;34m(engine, prompt, **kwargs)\u001b[0m\n\u001b[1;32m    287\u001b[0m future \u001b[38;5;241m=\u001b[39m executor\u001b[38;5;241m.\u001b[39msubmit(\u001b[38;5;28;01mlambda\u001b[39;00m: (\n\u001b[1;32m    288\u001b[0m     engine\u001b[38;5;241m.\u001b[39minvoke(prompt, \u001b[38;5;241m*\u001b[39m\u001b[38;5;241m*\u001b[39mkwargs)\u001b[38;5;241m.\u001b[39mcontent \n\u001b[1;32m    289\u001b[0m     \u001b[38;5;28;01mif\u001b[39;00m \u001b[38;5;124m\"\u001b[39m\u001b[38;5;124mgemini\u001b[39m\u001b[38;5;124m\"\u001b[39m \u001b[38;5;129;01mnot\u001b[39;00m \u001b[38;5;129;01min\u001b[39;00m model \u001b[38;5;129;01mand\u001b[39;00m \u001b[38;5;124m\"\u001b[39m\u001b[38;5;124mR1-Distill\u001b[39m\u001b[38;5;124m\"\u001b[39m \u001b[38;5;129;01mnot\u001b[39;00m \u001b[38;5;129;01min\u001b[39;00m model\n\u001b[1;32m    290\u001b[0m     \u001b[38;5;28;01melse\u001b[39;00m engine\u001b[38;5;241m.\u001b[39minvoke(prompt, \u001b[38;5;241m*\u001b[39m\u001b[38;5;241m*\u001b[39mkwargs)\n\u001b[1;32m    291\u001b[0m ))\n\u001b[1;32m    293\u001b[0m \u001b[38;5;28;01mtry\u001b[39;00m:\n\u001b[0;32m--> 294\u001b[0m     result \u001b[38;5;241m=\u001b[39m \u001b[43mfuture\u001b[49m\u001b[38;5;241;43m.\u001b[39;49m\u001b[43mresult\u001b[49m\u001b[43m(\u001b[49m\u001b[43mtimeout\u001b[49m\u001b[38;5;241;43m=\u001b[39;49m\u001b[43mtimeout\u001b[49m\u001b[43m)\u001b[49m\n\u001b[1;32m    295\u001b[0m     \u001b[38;5;28;01mreturn\u001b[39;00m result\n\u001b[1;32m    296\u001b[0m \u001b[38;5;28;01mexcept\u001b[39;00m FuturesTimeoutError:\n",
      "File \u001b[0;32m~/anaconda3/lib/python3.10/concurrent/futures/_base.py:458\u001b[0m, in \u001b[0;36mFuture.result\u001b[0;34m(self, timeout)\u001b[0m\n\u001b[1;32m    456\u001b[0m     \u001b[38;5;28;01mraise\u001b[39;00m CancelledError()\n\u001b[1;32m    457\u001b[0m \u001b[38;5;28;01melif\u001b[39;00m \u001b[38;5;28mself\u001b[39m\u001b[38;5;241m.\u001b[39m_state \u001b[38;5;241m==\u001b[39m FINISHED:\n\u001b[0;32m--> 458\u001b[0m     \u001b[38;5;28;01mreturn\u001b[39;00m \u001b[38;5;28;43mself\u001b[39;49m\u001b[38;5;241;43m.\u001b[39;49m\u001b[43m__get_result\u001b[49m\u001b[43m(\u001b[49m\u001b[43m)\u001b[49m\n\u001b[1;32m    459\u001b[0m \u001b[38;5;28;01melse\u001b[39;00m:\n\u001b[1;32m    460\u001b[0m     \u001b[38;5;28;01mraise\u001b[39;00m \u001b[38;5;167;01mTimeoutError\u001b[39;00m()\n",
      "File \u001b[0;32m~/anaconda3/lib/python3.10/concurrent/futures/_base.py:403\u001b[0m, in \u001b[0;36mFuture.__get_result\u001b[0;34m(self)\u001b[0m\n\u001b[1;32m    401\u001b[0m \u001b[38;5;28;01mif\u001b[39;00m \u001b[38;5;28mself\u001b[39m\u001b[38;5;241m.\u001b[39m_exception:\n\u001b[1;32m    402\u001b[0m     \u001b[38;5;28;01mtry\u001b[39;00m:\n\u001b[0;32m--> 403\u001b[0m         \u001b[38;5;28;01mraise\u001b[39;00m \u001b[38;5;28mself\u001b[39m\u001b[38;5;241m.\u001b[39m_exception\n\u001b[1;32m    404\u001b[0m     \u001b[38;5;28;01mfinally\u001b[39;00m:\n\u001b[1;32m    405\u001b[0m         \u001b[38;5;66;03m# Break a reference cycle with the exception in self._exception\u001b[39;00m\n\u001b[1;32m    406\u001b[0m         \u001b[38;5;28mself\u001b[39m \u001b[38;5;241m=\u001b[39m \u001b[38;5;28;01mNone\u001b[39;00m\n",
      "File \u001b[0;32m~/anaconda3/lib/python3.10/concurrent/futures/thread.py:58\u001b[0m, in \u001b[0;36m_WorkItem.run\u001b[0;34m(self)\u001b[0m\n\u001b[1;32m     55\u001b[0m     \u001b[38;5;28;01mreturn\u001b[39;00m\n\u001b[1;32m     57\u001b[0m \u001b[38;5;28;01mtry\u001b[39;00m:\n\u001b[0;32m---> 58\u001b[0m     result \u001b[38;5;241m=\u001b[39m \u001b[38;5;28;43mself\u001b[39;49m\u001b[38;5;241;43m.\u001b[39;49m\u001b[43mfn\u001b[49m\u001b[43m(\u001b[49m\u001b[38;5;241;43m*\u001b[39;49m\u001b[38;5;28;43mself\u001b[39;49m\u001b[38;5;241;43m.\u001b[39;49m\u001b[43margs\u001b[49m\u001b[43m,\u001b[49m\u001b[43m \u001b[49m\u001b[38;5;241;43m*\u001b[39;49m\u001b[38;5;241;43m*\u001b[39;49m\u001b[38;5;28;43mself\u001b[39;49m\u001b[38;5;241;43m.\u001b[39;49m\u001b[43mkwargs\u001b[49m\u001b[43m)\u001b[49m\n\u001b[1;32m     59\u001b[0m \u001b[38;5;28;01mexcept\u001b[39;00m \u001b[38;5;167;01mBaseException\u001b[39;00m \u001b[38;5;28;01mas\u001b[39;00m exc:\n\u001b[1;32m     60\u001b[0m     \u001b[38;5;28mself\u001b[39m\u001b[38;5;241m.\u001b[39mfuture\u001b[38;5;241m.\u001b[39mset_exception(exc)\n",
      "File \u001b[0;32m~/Downloads/LLMVerification/agentic_r1_v3_git_repo_clone/factuality-verification/src/utils/engine.py:288\u001b[0m, in \u001b[0;36minvoke_engine.<locals>.<lambda>\u001b[0;34m()\u001b[0m\n\u001b[1;32m    285\u001b[0m \u001b[38;5;28;01mtry\u001b[39;00m:            \n\u001b[1;32m    286\u001b[0m     \u001b[38;5;28;01mwith\u001b[39;00m ThreadPoolExecutor(max_workers\u001b[38;5;241m=\u001b[39m\u001b[38;5;241m10\u001b[39m) \u001b[38;5;28;01mas\u001b[39;00m executor:\n\u001b[1;32m    287\u001b[0m         future \u001b[38;5;241m=\u001b[39m executor\u001b[38;5;241m.\u001b[39msubmit(\u001b[38;5;28;01mlambda\u001b[39;00m: (\n\u001b[0;32m--> 288\u001b[0m             \u001b[43mengine\u001b[49m\u001b[38;5;241;43m.\u001b[39;49m\u001b[43minvoke\u001b[49m\u001b[43m(\u001b[49m\u001b[43mprompt\u001b[49m\u001b[43m,\u001b[49m\u001b[43m \u001b[49m\u001b[38;5;241;43m*\u001b[39;49m\u001b[38;5;241;43m*\u001b[39;49m\u001b[43mkwargs\u001b[49m\u001b[43m)\u001b[49m\u001b[38;5;241m.\u001b[39mcontent \n\u001b[1;32m    289\u001b[0m             \u001b[38;5;28;01mif\u001b[39;00m \u001b[38;5;124m\"\u001b[39m\u001b[38;5;124mgemini\u001b[39m\u001b[38;5;124m\"\u001b[39m \u001b[38;5;129;01mnot\u001b[39;00m \u001b[38;5;129;01min\u001b[39;00m model \u001b[38;5;129;01mand\u001b[39;00m \u001b[38;5;124m\"\u001b[39m\u001b[38;5;124mR1-Distill\u001b[39m\u001b[38;5;124m\"\u001b[39m \u001b[38;5;129;01mnot\u001b[39;00m \u001b[38;5;129;01min\u001b[39;00m model\n\u001b[1;32m    290\u001b[0m             \u001b[38;5;28;01melse\u001b[39;00m engine\u001b[38;5;241m.\u001b[39minvoke(prompt, \u001b[38;5;241m*\u001b[39m\u001b[38;5;241m*\u001b[39mkwargs)\n\u001b[1;32m    291\u001b[0m         ))\n\u001b[1;32m    293\u001b[0m         \u001b[38;5;28;01mtry\u001b[39;00m:\n\u001b[1;32m    294\u001b[0m             result \u001b[38;5;241m=\u001b[39m future\u001b[38;5;241m.\u001b[39mresult(timeout\u001b[38;5;241m=\u001b[39mtimeout)\n",
      "File \u001b[0;32m~/anaconda3/lib/python3.10/site-packages/langchain_core/language_models/llms.py:390\u001b[0m, in \u001b[0;36mBaseLLM.invoke\u001b[0;34m(self, input, config, stop, **kwargs)\u001b[0m\n\u001b[1;32m    380\u001b[0m \u001b[38;5;28;01mdef\u001b[39;00m \u001b[38;5;21minvoke\u001b[39m(\n\u001b[1;32m    381\u001b[0m     \u001b[38;5;28mself\u001b[39m,\n\u001b[1;32m    382\u001b[0m     \u001b[38;5;28minput\u001b[39m: LanguageModelInput,\n\u001b[0;32m   (...)\u001b[0m\n\u001b[1;32m    386\u001b[0m     \u001b[38;5;241m*\u001b[39m\u001b[38;5;241m*\u001b[39mkwargs: Any,\n\u001b[1;32m    387\u001b[0m ) \u001b[38;5;241m-\u001b[39m\u001b[38;5;241m>\u001b[39m \u001b[38;5;28mstr\u001b[39m:\n\u001b[1;32m    388\u001b[0m     config \u001b[38;5;241m=\u001b[39m ensure_config(config)\n\u001b[1;32m    389\u001b[0m     \u001b[38;5;28;01mreturn\u001b[39;00m (\n\u001b[0;32m--> 390\u001b[0m         \u001b[38;5;28;43mself\u001b[39;49m\u001b[38;5;241;43m.\u001b[39;49m\u001b[43mgenerate_prompt\u001b[49m\u001b[43m(\u001b[49m\n\u001b[1;32m    391\u001b[0m \u001b[43m            \u001b[49m\u001b[43m[\u001b[49m\u001b[38;5;28;43mself\u001b[39;49m\u001b[38;5;241;43m.\u001b[39;49m\u001b[43m_convert_input\u001b[49m\u001b[43m(\u001b[49m\u001b[38;5;28;43minput\u001b[39;49m\u001b[43m)\u001b[49m\u001b[43m]\u001b[49m\u001b[43m,\u001b[49m\n\u001b[1;32m    392\u001b[0m \u001b[43m            \u001b[49m\u001b[43mstop\u001b[49m\u001b[38;5;241;43m=\u001b[39;49m\u001b[43mstop\u001b[49m\u001b[43m,\u001b[49m\n\u001b[1;32m    393\u001b[0m \u001b[43m            \u001b[49m\u001b[43mcallbacks\u001b[49m\u001b[38;5;241;43m=\u001b[39;49m\u001b[43mconfig\u001b[49m\u001b[38;5;241;43m.\u001b[39;49m\u001b[43mget\u001b[49m\u001b[43m(\u001b[49m\u001b[38;5;124;43m\"\u001b[39;49m\u001b[38;5;124;43mcallbacks\u001b[39;49m\u001b[38;5;124;43m\"\u001b[39;49m\u001b[43m)\u001b[49m\u001b[43m,\u001b[49m\n\u001b[1;32m    394\u001b[0m \u001b[43m            \u001b[49m\u001b[43mtags\u001b[49m\u001b[38;5;241;43m=\u001b[39;49m\u001b[43mconfig\u001b[49m\u001b[38;5;241;43m.\u001b[39;49m\u001b[43mget\u001b[49m\u001b[43m(\u001b[49m\u001b[38;5;124;43m\"\u001b[39;49m\u001b[38;5;124;43mtags\u001b[39;49m\u001b[38;5;124;43m\"\u001b[39;49m\u001b[43m)\u001b[49m\u001b[43m,\u001b[49m\n\u001b[1;32m    395\u001b[0m \u001b[43m            \u001b[49m\u001b[43mmetadata\u001b[49m\u001b[38;5;241;43m=\u001b[39;49m\u001b[43mconfig\u001b[49m\u001b[38;5;241;43m.\u001b[39;49m\u001b[43mget\u001b[49m\u001b[43m(\u001b[49m\u001b[38;5;124;43m\"\u001b[39;49m\u001b[38;5;124;43mmetadata\u001b[39;49m\u001b[38;5;124;43m\"\u001b[39;49m\u001b[43m)\u001b[49m\u001b[43m,\u001b[49m\n\u001b[1;32m    396\u001b[0m \u001b[43m            \u001b[49m\u001b[43mrun_name\u001b[49m\u001b[38;5;241;43m=\u001b[39;49m\u001b[43mconfig\u001b[49m\u001b[38;5;241;43m.\u001b[39;49m\u001b[43mget\u001b[49m\u001b[43m(\u001b[49m\u001b[38;5;124;43m\"\u001b[39;49m\u001b[38;5;124;43mrun_name\u001b[39;49m\u001b[38;5;124;43m\"\u001b[39;49m\u001b[43m)\u001b[49m\u001b[43m,\u001b[49m\n\u001b[1;32m    397\u001b[0m \u001b[43m            \u001b[49m\u001b[43mrun_id\u001b[49m\u001b[38;5;241;43m=\u001b[39;49m\u001b[43mconfig\u001b[49m\u001b[38;5;241;43m.\u001b[39;49m\u001b[43mpop\u001b[49m\u001b[43m(\u001b[49m\u001b[38;5;124;43m\"\u001b[39;49m\u001b[38;5;124;43mrun_id\u001b[39;49m\u001b[38;5;124;43m\"\u001b[39;49m\u001b[43m,\u001b[49m\u001b[43m \u001b[49m\u001b[38;5;28;43;01mNone\u001b[39;49;00m\u001b[43m)\u001b[49m\u001b[43m,\u001b[49m\n\u001b[1;32m    398\u001b[0m \u001b[43m            \u001b[49m\u001b[38;5;241;43m*\u001b[39;49m\u001b[38;5;241;43m*\u001b[39;49m\u001b[43mkwargs\u001b[49m\u001b[43m,\u001b[49m\n\u001b[1;32m    399\u001b[0m \u001b[43m        \u001b[49m\u001b[43m)\u001b[49m\n\u001b[1;32m    400\u001b[0m         \u001b[38;5;241m.\u001b[39mgenerations[\u001b[38;5;241m0\u001b[39m][\u001b[38;5;241m0\u001b[39m]\n\u001b[1;32m    401\u001b[0m         \u001b[38;5;241m.\u001b[39mtext\n\u001b[1;32m    402\u001b[0m     )\n",
      "File \u001b[0;32m~/anaconda3/lib/python3.10/site-packages/langchain_core/language_models/llms.py:755\u001b[0m, in \u001b[0;36mBaseLLM.generate_prompt\u001b[0;34m(self, prompts, stop, callbacks, **kwargs)\u001b[0m\n\u001b[1;32m    747\u001b[0m \u001b[38;5;28;01mdef\u001b[39;00m \u001b[38;5;21mgenerate_prompt\u001b[39m(\n\u001b[1;32m    748\u001b[0m     \u001b[38;5;28mself\u001b[39m,\n\u001b[1;32m    749\u001b[0m     prompts: \u001b[38;5;28mlist\u001b[39m[PromptValue],\n\u001b[0;32m   (...)\u001b[0m\n\u001b[1;32m    752\u001b[0m     \u001b[38;5;241m*\u001b[39m\u001b[38;5;241m*\u001b[39mkwargs: Any,\n\u001b[1;32m    753\u001b[0m ) \u001b[38;5;241m-\u001b[39m\u001b[38;5;241m>\u001b[39m LLMResult:\n\u001b[1;32m    754\u001b[0m     prompt_strings \u001b[38;5;241m=\u001b[39m [p\u001b[38;5;241m.\u001b[39mto_string() \u001b[38;5;28;01mfor\u001b[39;00m p \u001b[38;5;129;01min\u001b[39;00m prompts]\n\u001b[0;32m--> 755\u001b[0m     \u001b[38;5;28;01mreturn\u001b[39;00m \u001b[38;5;28;43mself\u001b[39;49m\u001b[38;5;241;43m.\u001b[39;49m\u001b[43mgenerate\u001b[49m\u001b[43m(\u001b[49m\u001b[43mprompt_strings\u001b[49m\u001b[43m,\u001b[49m\u001b[43m \u001b[49m\u001b[43mstop\u001b[49m\u001b[38;5;241;43m=\u001b[39;49m\u001b[43mstop\u001b[49m\u001b[43m,\u001b[49m\u001b[43m \u001b[49m\u001b[43mcallbacks\u001b[49m\u001b[38;5;241;43m=\u001b[39;49m\u001b[43mcallbacks\u001b[49m\u001b[43m,\u001b[49m\u001b[43m \u001b[49m\u001b[38;5;241;43m*\u001b[39;49m\u001b[38;5;241;43m*\u001b[39;49m\u001b[43mkwargs\u001b[49m\u001b[43m)\u001b[49m\n",
      "File \u001b[0;32m~/anaconda3/lib/python3.10/site-packages/langchain_core/language_models/llms.py:950\u001b[0m, in \u001b[0;36mBaseLLM.generate\u001b[0;34m(self, prompts, stop, callbacks, tags, metadata, run_name, run_id, **kwargs)\u001b[0m\n\u001b[1;32m    935\u001b[0m \u001b[38;5;28;01mif\u001b[39;00m (\u001b[38;5;28mself\u001b[39m\u001b[38;5;241m.\u001b[39mcache \u001b[38;5;129;01mis\u001b[39;00m \u001b[38;5;28;01mNone\u001b[39;00m \u001b[38;5;129;01mand\u001b[39;00m get_llm_cache() \u001b[38;5;129;01mis\u001b[39;00m \u001b[38;5;28;01mNone\u001b[39;00m) \u001b[38;5;129;01mor\u001b[39;00m \u001b[38;5;28mself\u001b[39m\u001b[38;5;241m.\u001b[39mcache \u001b[38;5;129;01mis\u001b[39;00m \u001b[38;5;28;01mFalse\u001b[39;00m:\n\u001b[1;32m    936\u001b[0m     run_managers \u001b[38;5;241m=\u001b[39m [\n\u001b[1;32m    937\u001b[0m         callback_manager\u001b[38;5;241m.\u001b[39mon_llm_start(\n\u001b[1;32m    938\u001b[0m             \u001b[38;5;28mself\u001b[39m\u001b[38;5;241m.\u001b[39m_serialized,\n\u001b[0;32m   (...)\u001b[0m\n\u001b[1;32m    948\u001b[0m         )\n\u001b[1;32m    949\u001b[0m     ]\n\u001b[0;32m--> 950\u001b[0m     output \u001b[38;5;241m=\u001b[39m \u001b[38;5;28;43mself\u001b[39;49m\u001b[38;5;241;43m.\u001b[39;49m\u001b[43m_generate_helper\u001b[49m\u001b[43m(\u001b[49m\n\u001b[1;32m    951\u001b[0m \u001b[43m        \u001b[49m\u001b[43mprompts\u001b[49m\u001b[43m,\u001b[49m\u001b[43m \u001b[49m\u001b[43mstop\u001b[49m\u001b[43m,\u001b[49m\u001b[43m \u001b[49m\u001b[43mrun_managers\u001b[49m\u001b[43m,\u001b[49m\u001b[43m \u001b[49m\u001b[38;5;28;43mbool\u001b[39;49m\u001b[43m(\u001b[49m\u001b[43mnew_arg_supported\u001b[49m\u001b[43m)\u001b[49m\u001b[43m,\u001b[49m\u001b[43m \u001b[49m\u001b[38;5;241;43m*\u001b[39;49m\u001b[38;5;241;43m*\u001b[39;49m\u001b[43mkwargs\u001b[49m\n\u001b[1;32m    952\u001b[0m \u001b[43m    \u001b[49m\u001b[43m)\u001b[49m\n\u001b[1;32m    953\u001b[0m     \u001b[38;5;28;01mreturn\u001b[39;00m output\n\u001b[1;32m    954\u001b[0m \u001b[38;5;28;01mif\u001b[39;00m \u001b[38;5;28mlen\u001b[39m(missing_prompts) \u001b[38;5;241m>\u001b[39m \u001b[38;5;241m0\u001b[39m:\n",
      "File \u001b[0;32m~/anaconda3/lib/python3.10/site-packages/langchain_core/language_models/llms.py:792\u001b[0m, in \u001b[0;36mBaseLLM._generate_helper\u001b[0;34m(self, prompts, stop, run_managers, new_arg_supported, **kwargs)\u001b[0m\n\u001b[1;32m    790\u001b[0m     \u001b[38;5;28;01mfor\u001b[39;00m run_manager \u001b[38;5;129;01min\u001b[39;00m run_managers:\n\u001b[1;32m    791\u001b[0m         run_manager\u001b[38;5;241m.\u001b[39mon_llm_error(e, response\u001b[38;5;241m=\u001b[39mLLMResult(generations\u001b[38;5;241m=\u001b[39m[]))\n\u001b[0;32m--> 792\u001b[0m     \u001b[38;5;28;01mraise\u001b[39;00m e\n\u001b[1;32m    793\u001b[0m flattened_outputs \u001b[38;5;241m=\u001b[39m output\u001b[38;5;241m.\u001b[39mflatten()\n\u001b[1;32m    794\u001b[0m \u001b[38;5;28;01mfor\u001b[39;00m manager, flattened_output \u001b[38;5;129;01min\u001b[39;00m \u001b[38;5;28mzip\u001b[39m(run_managers, flattened_outputs):\n",
      "File \u001b[0;32m~/anaconda3/lib/python3.10/site-packages/langchain_core/language_models/llms.py:779\u001b[0m, in \u001b[0;36mBaseLLM._generate_helper\u001b[0;34m(self, prompts, stop, run_managers, new_arg_supported, **kwargs)\u001b[0m\n\u001b[1;32m    769\u001b[0m \u001b[38;5;28;01mdef\u001b[39;00m \u001b[38;5;21m_generate_helper\u001b[39m(\n\u001b[1;32m    770\u001b[0m     \u001b[38;5;28mself\u001b[39m,\n\u001b[1;32m    771\u001b[0m     prompts: \u001b[38;5;28mlist\u001b[39m[\u001b[38;5;28mstr\u001b[39m],\n\u001b[0;32m   (...)\u001b[0m\n\u001b[1;32m    775\u001b[0m     \u001b[38;5;241m*\u001b[39m\u001b[38;5;241m*\u001b[39mkwargs: Any,\n\u001b[1;32m    776\u001b[0m ) \u001b[38;5;241m-\u001b[39m\u001b[38;5;241m>\u001b[39m LLMResult:\n\u001b[1;32m    777\u001b[0m     \u001b[38;5;28;01mtry\u001b[39;00m:\n\u001b[1;32m    778\u001b[0m         output \u001b[38;5;241m=\u001b[39m (\n\u001b[0;32m--> 779\u001b[0m             \u001b[38;5;28;43mself\u001b[39;49m\u001b[38;5;241;43m.\u001b[39;49m\u001b[43m_generate\u001b[49m\u001b[43m(\u001b[49m\n\u001b[1;32m    780\u001b[0m \u001b[43m                \u001b[49m\u001b[43mprompts\u001b[49m\u001b[43m,\u001b[49m\n\u001b[1;32m    781\u001b[0m \u001b[43m                \u001b[49m\u001b[43mstop\u001b[49m\u001b[38;5;241;43m=\u001b[39;49m\u001b[43mstop\u001b[49m\u001b[43m,\u001b[49m\n\u001b[1;32m    782\u001b[0m \u001b[43m                \u001b[49m\u001b[38;5;66;43;03m# TODO: support multiple run managers\u001b[39;49;00m\n\u001b[1;32m    783\u001b[0m \u001b[43m                \u001b[49m\u001b[43mrun_manager\u001b[49m\u001b[38;5;241;43m=\u001b[39;49m\u001b[43mrun_managers\u001b[49m\u001b[43m[\u001b[49m\u001b[38;5;241;43m0\u001b[39;49m\u001b[43m]\u001b[49m\u001b[43m \u001b[49m\u001b[38;5;28;43;01mif\u001b[39;49;00m\u001b[43m \u001b[49m\u001b[43mrun_managers\u001b[49m\u001b[43m \u001b[49m\u001b[38;5;28;43;01melse\u001b[39;49;00m\u001b[43m \u001b[49m\u001b[38;5;28;43;01mNone\u001b[39;49;00m\u001b[43m,\u001b[49m\n\u001b[1;32m    784\u001b[0m \u001b[43m                \u001b[49m\u001b[38;5;241;43m*\u001b[39;49m\u001b[38;5;241;43m*\u001b[39;49m\u001b[43mkwargs\u001b[49m\u001b[43m,\u001b[49m\n\u001b[1;32m    785\u001b[0m \u001b[43m            \u001b[49m\u001b[43m)\u001b[49m\n\u001b[1;32m    786\u001b[0m             \u001b[38;5;28;01mif\u001b[39;00m new_arg_supported\n\u001b[1;32m    787\u001b[0m             \u001b[38;5;28;01melse\u001b[39;00m \u001b[38;5;28mself\u001b[39m\u001b[38;5;241m.\u001b[39m_generate(prompts, stop\u001b[38;5;241m=\u001b[39mstop)\n\u001b[1;32m    788\u001b[0m         )\n\u001b[1;32m    789\u001b[0m     \u001b[38;5;28;01mexcept\u001b[39;00m \u001b[38;5;167;01mBaseException\u001b[39;00m \u001b[38;5;28;01mas\u001b[39;00m e:\n\u001b[1;32m    790\u001b[0m         \u001b[38;5;28;01mfor\u001b[39;00m run_manager \u001b[38;5;129;01min\u001b[39;00m run_managers:\n",
      "File \u001b[0;32m~/anaconda3/lib/python3.10/site-packages/langchain_core/language_models/llms.py:1502\u001b[0m, in \u001b[0;36mLLM._generate\u001b[0;34m(self, prompts, stop, run_manager, **kwargs)\u001b[0m\n\u001b[1;32m   1499\u001b[0m new_arg_supported \u001b[38;5;241m=\u001b[39m inspect\u001b[38;5;241m.\u001b[39msignature(\u001b[38;5;28mself\u001b[39m\u001b[38;5;241m.\u001b[39m_call)\u001b[38;5;241m.\u001b[39mparameters\u001b[38;5;241m.\u001b[39mget(\u001b[38;5;124m\"\u001b[39m\u001b[38;5;124mrun_manager\u001b[39m\u001b[38;5;124m\"\u001b[39m)\n\u001b[1;32m   1500\u001b[0m \u001b[38;5;28;01mfor\u001b[39;00m prompt \u001b[38;5;129;01min\u001b[39;00m prompts:\n\u001b[1;32m   1501\u001b[0m     text \u001b[38;5;241m=\u001b[39m (\n\u001b[0;32m-> 1502\u001b[0m         \u001b[38;5;28;43mself\u001b[39;49m\u001b[38;5;241;43m.\u001b[39;49m\u001b[43m_call\u001b[49m\u001b[43m(\u001b[49m\u001b[43mprompt\u001b[49m\u001b[43m,\u001b[49m\u001b[43m \u001b[49m\u001b[43mstop\u001b[49m\u001b[38;5;241;43m=\u001b[39;49m\u001b[43mstop\u001b[49m\u001b[43m,\u001b[49m\u001b[43m \u001b[49m\u001b[43mrun_manager\u001b[49m\u001b[38;5;241;43m=\u001b[39;49m\u001b[43mrun_manager\u001b[49m\u001b[43m,\u001b[49m\u001b[43m \u001b[49m\u001b[38;5;241;43m*\u001b[39;49m\u001b[38;5;241;43m*\u001b[39;49m\u001b[43mkwargs\u001b[49m\u001b[43m)\u001b[49m\n\u001b[1;32m   1503\u001b[0m         \u001b[38;5;28;01mif\u001b[39;00m new_arg_supported\n\u001b[1;32m   1504\u001b[0m         \u001b[38;5;28;01melse\u001b[39;00m \u001b[38;5;28mself\u001b[39m\u001b[38;5;241m.\u001b[39m_call(prompt, stop\u001b[38;5;241m=\u001b[39mstop, \u001b[38;5;241m*\u001b[39m\u001b[38;5;241m*\u001b[39mkwargs)\n\u001b[1;32m   1505\u001b[0m     )\n\u001b[1;32m   1506\u001b[0m     generations\u001b[38;5;241m.\u001b[39mappend([Generation(text\u001b[38;5;241m=\u001b[39mtext)])\n\u001b[1;32m   1507\u001b[0m \u001b[38;5;28;01mreturn\u001b[39;00m LLMResult(generations\u001b[38;5;241m=\u001b[39mgenerations)\n",
      "File \u001b[0;32m~/anaconda3/lib/python3.10/site-packages/langchain_together/llms.py:158\u001b[0m, in \u001b[0;36mTogether._call\u001b[0;34m(self, prompt, stop, run_manager, **kwargs)\u001b[0m\n\u001b[1;32m    156\u001b[0m     \u001b[38;5;28;01mraise\u001b[39;00m \u001b[38;5;167;01mException\u001b[39;00m(\u001b[38;5;124mf\u001b[39m\u001b[38;5;124m\"\u001b[39m\u001b[38;5;124mTogether Server: Error \u001b[39m\u001b[38;5;132;01m{\u001b[39;00mresponse\u001b[38;5;241m.\u001b[39mstatus_code\u001b[38;5;132;01m}\u001b[39;00m\u001b[38;5;124m\"\u001b[39m)\n\u001b[1;32m    157\u001b[0m \u001b[38;5;28;01melif\u001b[39;00m response\u001b[38;5;241m.\u001b[39mstatus_code \u001b[38;5;241m>\u001b[39m\u001b[38;5;241m=\u001b[39m \u001b[38;5;241m400\u001b[39m:\n\u001b[0;32m--> 158\u001b[0m     \u001b[38;5;28;01mraise\u001b[39;00m \u001b[38;5;167;01mValueError\u001b[39;00m(\u001b[38;5;124mf\u001b[39m\u001b[38;5;124m\"\u001b[39m\u001b[38;5;124mTogether received an invalid payload: \u001b[39m\u001b[38;5;132;01m{\u001b[39;00mresponse\u001b[38;5;241m.\u001b[39mtext\u001b[38;5;132;01m}\u001b[39;00m\u001b[38;5;124m\"\u001b[39m)\n\u001b[1;32m    159\u001b[0m \u001b[38;5;28;01melif\u001b[39;00m response\u001b[38;5;241m.\u001b[39mstatus_code \u001b[38;5;241m!=\u001b[39m \u001b[38;5;241m200\u001b[39m:\n\u001b[1;32m    160\u001b[0m     \u001b[38;5;28;01mraise\u001b[39;00m \u001b[38;5;167;01mException\u001b[39;00m(\n\u001b[1;32m    161\u001b[0m         \u001b[38;5;124mf\u001b[39m\u001b[38;5;124m\"\u001b[39m\u001b[38;5;124mTogether returned an unexpected response with status \u001b[39m\u001b[38;5;124m\"\u001b[39m\n\u001b[1;32m    162\u001b[0m         \u001b[38;5;124mf\u001b[39m\u001b[38;5;124m\"\u001b[39m\u001b[38;5;132;01m{\u001b[39;00mresponse\u001b[38;5;241m.\u001b[39mstatus_code\u001b[38;5;132;01m}\u001b[39;00m\u001b[38;5;124m: \u001b[39m\u001b[38;5;132;01m{\u001b[39;00mresponse\u001b[38;5;241m.\u001b[39mtext\u001b[38;5;132;01m}\u001b[39;00m\u001b[38;5;124m\"\u001b[39m\n\u001b[1;32m    163\u001b[0m     )\n",
      "\u001b[0;31mValueError\u001b[0m: Together received an invalid payload: {\n  \"id\": \"noxU7aa-4yUbBN-92be4e710cfb6426\",\n  \"error\": {\n    \"message\": \"Unable to access model DeepSeek-R1. Please visit https://api.together.ai/models to view the list of supported models.\",\n    \"type\": \"invalid_request_error\",\n    \"param\": null,\n    \"code\": \"model_not_available\"\n  }\n}"
     ]
    }
   ],
   "source": [
    "res = invoke_engine(engine, prompt = \"What is the sum of 1st 10 natural numbers?\\n<think>\\nOkay, so I need to find the sum of the first 10 natural numbers. Let me think about \")"
   ]
  },
  {
   "cell_type": "code",
   "execution_count": 41,
   "metadata": {},
   "outputs": [
    {
     "data": {
      "text/plain": [
       "['', '5']"
      ]
     },
     "execution_count": 41,
     "metadata": {},
     "output_type": "execute_result"
    }
   ],
   "source": [
    "\":5\".split(\":\")"
   ]
  },
  {
   "cell_type": "code",
   "execution_count": 24,
   "metadata": {},
   "outputs": [
    {
     "name": "stderr",
     "output_type": "stream",
     "text": [
      "/Users/emilbiju/anaconda3/lib/python3.10/site-packages/langchain_together/llms.py:89: UserWarning: The completions endpoint, has 'max_tokens' as required argument. The default value is being set to 200 Consider setting this value, when initializing LLM\n",
      "  warnings.warn(\n"
     ]
    }
   ],
   "source": [
    "from langchain_together import Together, ChatTogether\n",
    "\n",
    "model = Together(model=\"mistralai/Mixtral-8x7B-Instruct-v0.1\")"
   ]
  },
  {
   "cell_type": "code",
   "execution_count": 25,
   "metadata": {},
   "outputs": [],
   "source": [
    "from concurrent.futures import ThreadPoolExecutor, TimeoutError as FuturesTimeoutError\n",
    "\n",
    "def invoke_engine(engine, prompt, **kwargs):\n",
    "    \"\"\"\n",
    "    Simple wrapper to invoke a language model engine and return its response.\n",
    "\n",
    "    Args:\n",
    "        engine: The language model engine to use\n",
    "        prompt: The input prompt to send to the model\n",
    "        **kwargs: Additional keyword arguments for the model invocation\n",
    "\n",
    "    Returns:\n",
    "        str: The model's response text. For gemini-1.5-pro, returns the raw response object;\n",
    "             for other models, returns just the content\n",
    "    \"\"\"\n",
    "    \n",
    "    \n",
    "    max_retries = 3\n",
    "    base_wait = 5  # Start with 1 second\n",
    "    max_wait = 60  # Max wait of 1 minute\n",
    "    timeout = 180\n",
    "    \n",
    "    model = engine.model if hasattr(engine, 'model') else engine.model_name\n",
    "    for attempt in range(max_retries):\n",
    "        try:            \n",
    "            with ThreadPoolExecutor(max_workers=10) as executor:\n",
    "                future = executor.submit(lambda: (\n",
    "                    engine.invoke(prompt, **kwargs).content \n",
    "                    if \"gemini\" not in model and \"R1-Distill\" not in model and \"mistralai\" not in model\n",
    "                    else engine.invoke(prompt, **kwargs)\n",
    "                ))\n",
    "                \n",
    "                try:\n",
    "                    result = future.result(timeout=timeout)\n",
    "                    return result\n",
    "                except FuturesTimeoutError:\n",
    "                    raise TimeoutError(f\"Request timed out after {timeout} seconds\")\n",
    "        except Exception as e:\n",
    "            print(e)\n",
    "            if attempt == max_retries - 1:\n",
    "                raise  # Re-raise the exception on the last attempt\n",
    "            \n",
    "            # Calculate wait time with exponential backoff, capped at max_wait\n",
    "            wait_time = min(base_wait * (2 ** attempt), max_wait)\n",
    "            time.sleep(wait_time)"
   ]
  },
  {
   "cell_type": "code",
   "execution_count": 26,
   "metadata": {},
   "outputs": [
    {
     "data": {
      "text/plain": [
       "',4,5,6,7,8,9,10 Our goal is to find the sum of the 10 numbers as defined by the formula S=n(n+1)/2.\\n\\nHere, n=10 S=10(10+1)/2 = 10(11)/2 = 110/2 = 55.\\n\\nAnswer: The sum of the first 10 natural numbers is 55.'"
      ]
     },
     "execution_count": 26,
     "metadata": {},
     "output_type": "execute_result"
    }
   ],
   "source": [
    "model.invoke(\"What is the sum of 1st 10 natural numbers? The first 10 natural numbers are: 1,2,3\")"
   ]
  },
  {
   "cell_type": "code",
   "execution_count": 5,
   "metadata": {},
   "outputs": [
    {
     "name": "stdout",
     "output_type": "stream",
     "text": [
      "Together received an invalid payload: {\n",
      "  \"id\": \"noxYSTm-4yUbBN-92be630b595dfb34\",\n",
      "  \"error\": {\n",
      "    \"message\": \"Unable to access model DeepSeek-R1. Please visit https://api.together.ai/models to view the list of supported models.\",\n",
      "    \"type\": \"invalid_request_error\",\n",
      "    \"param\": null,\n",
      "    \"code\": \"model_not_available\"\n",
      "  }\n",
      "}\n"
     ]
    },
    {
     "ename": "KeyboardInterrupt",
     "evalue": "",
     "output_type": "error",
     "traceback": [
      "\u001b[0;31m---------------------------------------------------------------------------\u001b[0m",
      "\u001b[0;31mValueError\u001b[0m                                Traceback (most recent call last)",
      "Cell \u001b[0;32mIn [4], line 34\u001b[0m, in \u001b[0;36minvoke_engine\u001b[0;34m(engine, prompt, **kwargs)\u001b[0m\n\u001b[1;32m     33\u001b[0m \u001b[38;5;28;01mtry\u001b[39;00m:\n\u001b[0;32m---> 34\u001b[0m     result \u001b[38;5;241m=\u001b[39m \u001b[43mfuture\u001b[49m\u001b[38;5;241;43m.\u001b[39;49m\u001b[43mresult\u001b[49m\u001b[43m(\u001b[49m\u001b[43mtimeout\u001b[49m\u001b[38;5;241;43m=\u001b[39;49m\u001b[43mtimeout\u001b[49m\u001b[43m)\u001b[49m\n\u001b[1;32m     35\u001b[0m     \u001b[38;5;28;01mreturn\u001b[39;00m result\n",
      "File \u001b[0;32m~/anaconda3/lib/python3.10/concurrent/futures/_base.py:458\u001b[0m, in \u001b[0;36mFuture.result\u001b[0;34m(self, timeout)\u001b[0m\n\u001b[1;32m    457\u001b[0m \u001b[38;5;28;01melif\u001b[39;00m \u001b[38;5;28mself\u001b[39m\u001b[38;5;241m.\u001b[39m_state \u001b[38;5;241m==\u001b[39m FINISHED:\n\u001b[0;32m--> 458\u001b[0m     \u001b[38;5;28;01mreturn\u001b[39;00m \u001b[38;5;28;43mself\u001b[39;49m\u001b[38;5;241;43m.\u001b[39;49m\u001b[43m__get_result\u001b[49m\u001b[43m(\u001b[49m\u001b[43m)\u001b[49m\n\u001b[1;32m    459\u001b[0m \u001b[38;5;28;01melse\u001b[39;00m:\n",
      "File \u001b[0;32m~/anaconda3/lib/python3.10/concurrent/futures/_base.py:403\u001b[0m, in \u001b[0;36mFuture.__get_result\u001b[0;34m(self)\u001b[0m\n\u001b[1;32m    402\u001b[0m \u001b[38;5;28;01mtry\u001b[39;00m:\n\u001b[0;32m--> 403\u001b[0m     \u001b[38;5;28;01mraise\u001b[39;00m \u001b[38;5;28mself\u001b[39m\u001b[38;5;241m.\u001b[39m_exception\n\u001b[1;32m    404\u001b[0m \u001b[38;5;28;01mfinally\u001b[39;00m:\n\u001b[1;32m    405\u001b[0m     \u001b[38;5;66;03m# Break a reference cycle with the exception in self._exception\u001b[39;00m\n",
      "File \u001b[0;32m~/anaconda3/lib/python3.10/concurrent/futures/thread.py:58\u001b[0m, in \u001b[0;36m_WorkItem.run\u001b[0;34m(self)\u001b[0m\n\u001b[1;32m     57\u001b[0m \u001b[38;5;28;01mtry\u001b[39;00m:\n\u001b[0;32m---> 58\u001b[0m     result \u001b[38;5;241m=\u001b[39m \u001b[38;5;28;43mself\u001b[39;49m\u001b[38;5;241;43m.\u001b[39;49m\u001b[43mfn\u001b[49m\u001b[43m(\u001b[49m\u001b[38;5;241;43m*\u001b[39;49m\u001b[38;5;28;43mself\u001b[39;49m\u001b[38;5;241;43m.\u001b[39;49m\u001b[43margs\u001b[49m\u001b[43m,\u001b[49m\u001b[43m \u001b[49m\u001b[38;5;241;43m*\u001b[39;49m\u001b[38;5;241;43m*\u001b[39;49m\u001b[38;5;28;43mself\u001b[39;49m\u001b[38;5;241;43m.\u001b[39;49m\u001b[43mkwargs\u001b[49m\u001b[43m)\u001b[49m\n\u001b[1;32m     59\u001b[0m \u001b[38;5;28;01mexcept\u001b[39;00m \u001b[38;5;167;01mBaseException\u001b[39;00m \u001b[38;5;28;01mas\u001b[39;00m exc:\n",
      "Cell \u001b[0;32mIn [4], line 28\u001b[0m, in \u001b[0;36minvoke_engine.<locals>.<lambda>\u001b[0;34m()\u001b[0m\n\u001b[1;32m     26\u001b[0m \u001b[38;5;28;01mwith\u001b[39;00m ThreadPoolExecutor(max_workers\u001b[38;5;241m=\u001b[39m\u001b[38;5;241m10\u001b[39m) \u001b[38;5;28;01mas\u001b[39;00m executor:\n\u001b[1;32m     27\u001b[0m     future \u001b[38;5;241m=\u001b[39m executor\u001b[38;5;241m.\u001b[39msubmit(\u001b[38;5;28;01mlambda\u001b[39;00m: (\n\u001b[0;32m---> 28\u001b[0m         \u001b[43mengine\u001b[49m\u001b[38;5;241;43m.\u001b[39;49m\u001b[43minvoke\u001b[49m\u001b[43m(\u001b[49m\u001b[43mprompt\u001b[49m\u001b[43m,\u001b[49m\u001b[43m \u001b[49m\u001b[38;5;241;43m*\u001b[39;49m\u001b[38;5;241;43m*\u001b[39;49m\u001b[43mkwargs\u001b[49m\u001b[43m)\u001b[49m\u001b[38;5;241m.\u001b[39mcontent \n\u001b[1;32m     29\u001b[0m         \u001b[38;5;28;01mif\u001b[39;00m \u001b[38;5;124m\"\u001b[39m\u001b[38;5;124mgemini\u001b[39m\u001b[38;5;124m\"\u001b[39m \u001b[38;5;129;01mnot\u001b[39;00m \u001b[38;5;129;01min\u001b[39;00m model \u001b[38;5;129;01mand\u001b[39;00m \u001b[38;5;124m\"\u001b[39m\u001b[38;5;124mR1-Distill\u001b[39m\u001b[38;5;124m\"\u001b[39m \u001b[38;5;129;01mnot\u001b[39;00m \u001b[38;5;129;01min\u001b[39;00m model \u001b[38;5;129;01mand\u001b[39;00m \u001b[38;5;124m\"\u001b[39m\u001b[38;5;124mmistralai\u001b[39m\u001b[38;5;124m\"\u001b[39m \u001b[38;5;129;01mnot\u001b[39;00m \u001b[38;5;129;01min\u001b[39;00m model\n\u001b[1;32m     30\u001b[0m         \u001b[38;5;28;01melse\u001b[39;00m engine\u001b[38;5;241m.\u001b[39minvoke(prompt, \u001b[38;5;241m*\u001b[39m\u001b[38;5;241m*\u001b[39mkwargs)\n\u001b[1;32m     31\u001b[0m     ))\n\u001b[1;32m     33\u001b[0m     \u001b[38;5;28;01mtry\u001b[39;00m:\n",
      "File \u001b[0;32m~/anaconda3/lib/python3.10/site-packages/langchain_core/language_models/llms.py:390\u001b[0m, in \u001b[0;36mBaseLLM.invoke\u001b[0;34m(self, input, config, stop, **kwargs)\u001b[0m\n\u001b[1;32m    388\u001b[0m config \u001b[38;5;241m=\u001b[39m ensure_config(config)\n\u001b[1;32m    389\u001b[0m \u001b[38;5;28;01mreturn\u001b[39;00m (\n\u001b[0;32m--> 390\u001b[0m     \u001b[38;5;28;43mself\u001b[39;49m\u001b[38;5;241;43m.\u001b[39;49m\u001b[43mgenerate_prompt\u001b[49m\u001b[43m(\u001b[49m\n\u001b[1;32m    391\u001b[0m \u001b[43m        \u001b[49m\u001b[43m[\u001b[49m\u001b[38;5;28;43mself\u001b[39;49m\u001b[38;5;241;43m.\u001b[39;49m\u001b[43m_convert_input\u001b[49m\u001b[43m(\u001b[49m\u001b[38;5;28;43minput\u001b[39;49m\u001b[43m)\u001b[49m\u001b[43m]\u001b[49m\u001b[43m,\u001b[49m\n\u001b[1;32m    392\u001b[0m \u001b[43m        \u001b[49m\u001b[43mstop\u001b[49m\u001b[38;5;241;43m=\u001b[39;49m\u001b[43mstop\u001b[49m\u001b[43m,\u001b[49m\n\u001b[1;32m    393\u001b[0m \u001b[43m        \u001b[49m\u001b[43mcallbacks\u001b[49m\u001b[38;5;241;43m=\u001b[39;49m\u001b[43mconfig\u001b[49m\u001b[38;5;241;43m.\u001b[39;49m\u001b[43mget\u001b[49m\u001b[43m(\u001b[49m\u001b[38;5;124;43m\"\u001b[39;49m\u001b[38;5;124;43mcallbacks\u001b[39;49m\u001b[38;5;124;43m\"\u001b[39;49m\u001b[43m)\u001b[49m\u001b[43m,\u001b[49m\n\u001b[1;32m    394\u001b[0m \u001b[43m        \u001b[49m\u001b[43mtags\u001b[49m\u001b[38;5;241;43m=\u001b[39;49m\u001b[43mconfig\u001b[49m\u001b[38;5;241;43m.\u001b[39;49m\u001b[43mget\u001b[49m\u001b[43m(\u001b[49m\u001b[38;5;124;43m\"\u001b[39;49m\u001b[38;5;124;43mtags\u001b[39;49m\u001b[38;5;124;43m\"\u001b[39;49m\u001b[43m)\u001b[49m\u001b[43m,\u001b[49m\n\u001b[1;32m    395\u001b[0m \u001b[43m        \u001b[49m\u001b[43mmetadata\u001b[49m\u001b[38;5;241;43m=\u001b[39;49m\u001b[43mconfig\u001b[49m\u001b[38;5;241;43m.\u001b[39;49m\u001b[43mget\u001b[49m\u001b[43m(\u001b[49m\u001b[38;5;124;43m\"\u001b[39;49m\u001b[38;5;124;43mmetadata\u001b[39;49m\u001b[38;5;124;43m\"\u001b[39;49m\u001b[43m)\u001b[49m\u001b[43m,\u001b[49m\n\u001b[1;32m    396\u001b[0m \u001b[43m        \u001b[49m\u001b[43mrun_name\u001b[49m\u001b[38;5;241;43m=\u001b[39;49m\u001b[43mconfig\u001b[49m\u001b[38;5;241;43m.\u001b[39;49m\u001b[43mget\u001b[49m\u001b[43m(\u001b[49m\u001b[38;5;124;43m\"\u001b[39;49m\u001b[38;5;124;43mrun_name\u001b[39;49m\u001b[38;5;124;43m\"\u001b[39;49m\u001b[43m)\u001b[49m\u001b[43m,\u001b[49m\n\u001b[1;32m    397\u001b[0m \u001b[43m        \u001b[49m\u001b[43mrun_id\u001b[49m\u001b[38;5;241;43m=\u001b[39;49m\u001b[43mconfig\u001b[49m\u001b[38;5;241;43m.\u001b[39;49m\u001b[43mpop\u001b[49m\u001b[43m(\u001b[49m\u001b[38;5;124;43m\"\u001b[39;49m\u001b[38;5;124;43mrun_id\u001b[39;49m\u001b[38;5;124;43m\"\u001b[39;49m\u001b[43m,\u001b[49m\u001b[43m \u001b[49m\u001b[38;5;28;43;01mNone\u001b[39;49;00m\u001b[43m)\u001b[49m\u001b[43m,\u001b[49m\n\u001b[1;32m    398\u001b[0m \u001b[43m        \u001b[49m\u001b[38;5;241;43m*\u001b[39;49m\u001b[38;5;241;43m*\u001b[39;49m\u001b[43mkwargs\u001b[49m\u001b[43m,\u001b[49m\n\u001b[1;32m    399\u001b[0m \u001b[43m    \u001b[49m\u001b[43m)\u001b[49m\n\u001b[1;32m    400\u001b[0m     \u001b[38;5;241m.\u001b[39mgenerations[\u001b[38;5;241m0\u001b[39m][\u001b[38;5;241m0\u001b[39m]\n\u001b[1;32m    401\u001b[0m     \u001b[38;5;241m.\u001b[39mtext\n\u001b[1;32m    402\u001b[0m )\n",
      "File \u001b[0;32m~/anaconda3/lib/python3.10/site-packages/langchain_core/language_models/llms.py:755\u001b[0m, in \u001b[0;36mBaseLLM.generate_prompt\u001b[0;34m(self, prompts, stop, callbacks, **kwargs)\u001b[0m\n\u001b[1;32m    754\u001b[0m prompt_strings \u001b[38;5;241m=\u001b[39m [p\u001b[38;5;241m.\u001b[39mto_string() \u001b[38;5;28;01mfor\u001b[39;00m p \u001b[38;5;129;01min\u001b[39;00m prompts]\n\u001b[0;32m--> 755\u001b[0m \u001b[38;5;28;01mreturn\u001b[39;00m \u001b[38;5;28;43mself\u001b[39;49m\u001b[38;5;241;43m.\u001b[39;49m\u001b[43mgenerate\u001b[49m\u001b[43m(\u001b[49m\u001b[43mprompt_strings\u001b[49m\u001b[43m,\u001b[49m\u001b[43m \u001b[49m\u001b[43mstop\u001b[49m\u001b[38;5;241;43m=\u001b[39;49m\u001b[43mstop\u001b[49m\u001b[43m,\u001b[49m\u001b[43m \u001b[49m\u001b[43mcallbacks\u001b[49m\u001b[38;5;241;43m=\u001b[39;49m\u001b[43mcallbacks\u001b[49m\u001b[43m,\u001b[49m\u001b[43m \u001b[49m\u001b[38;5;241;43m*\u001b[39;49m\u001b[38;5;241;43m*\u001b[39;49m\u001b[43mkwargs\u001b[49m\u001b[43m)\u001b[49m\n",
      "File \u001b[0;32m~/anaconda3/lib/python3.10/site-packages/langchain_core/language_models/llms.py:950\u001b[0m, in \u001b[0;36mBaseLLM.generate\u001b[0;34m(self, prompts, stop, callbacks, tags, metadata, run_name, run_id, **kwargs)\u001b[0m\n\u001b[1;32m    936\u001b[0m run_managers \u001b[38;5;241m=\u001b[39m [\n\u001b[1;32m    937\u001b[0m     callback_manager\u001b[38;5;241m.\u001b[39mon_llm_start(\n\u001b[1;32m    938\u001b[0m         \u001b[38;5;28mself\u001b[39m\u001b[38;5;241m.\u001b[39m_serialized,\n\u001b[0;32m   (...)\u001b[0m\n\u001b[1;32m    948\u001b[0m     )\n\u001b[1;32m    949\u001b[0m ]\n\u001b[0;32m--> 950\u001b[0m output \u001b[38;5;241m=\u001b[39m \u001b[38;5;28;43mself\u001b[39;49m\u001b[38;5;241;43m.\u001b[39;49m\u001b[43m_generate_helper\u001b[49m\u001b[43m(\u001b[49m\n\u001b[1;32m    951\u001b[0m \u001b[43m    \u001b[49m\u001b[43mprompts\u001b[49m\u001b[43m,\u001b[49m\u001b[43m \u001b[49m\u001b[43mstop\u001b[49m\u001b[43m,\u001b[49m\u001b[43m \u001b[49m\u001b[43mrun_managers\u001b[49m\u001b[43m,\u001b[49m\u001b[43m \u001b[49m\u001b[38;5;28;43mbool\u001b[39;49m\u001b[43m(\u001b[49m\u001b[43mnew_arg_supported\u001b[49m\u001b[43m)\u001b[49m\u001b[43m,\u001b[49m\u001b[43m \u001b[49m\u001b[38;5;241;43m*\u001b[39;49m\u001b[38;5;241;43m*\u001b[39;49m\u001b[43mkwargs\u001b[49m\n\u001b[1;32m    952\u001b[0m \u001b[43m\u001b[49m\u001b[43m)\u001b[49m\n\u001b[1;32m    953\u001b[0m \u001b[38;5;28;01mreturn\u001b[39;00m output\n",
      "File \u001b[0;32m~/anaconda3/lib/python3.10/site-packages/langchain_core/language_models/llms.py:792\u001b[0m, in \u001b[0;36mBaseLLM._generate_helper\u001b[0;34m(self, prompts, stop, run_managers, new_arg_supported, **kwargs)\u001b[0m\n\u001b[1;32m    791\u001b[0m         run_manager\u001b[38;5;241m.\u001b[39mon_llm_error(e, response\u001b[38;5;241m=\u001b[39mLLMResult(generations\u001b[38;5;241m=\u001b[39m[]))\n\u001b[0;32m--> 792\u001b[0m     \u001b[38;5;28;01mraise\u001b[39;00m e\n\u001b[1;32m    793\u001b[0m flattened_outputs \u001b[38;5;241m=\u001b[39m output\u001b[38;5;241m.\u001b[39mflatten()\n",
      "File \u001b[0;32m~/anaconda3/lib/python3.10/site-packages/langchain_core/language_models/llms.py:779\u001b[0m, in \u001b[0;36mBaseLLM._generate_helper\u001b[0;34m(self, prompts, stop, run_managers, new_arg_supported, **kwargs)\u001b[0m\n\u001b[1;32m    777\u001b[0m \u001b[38;5;28;01mtry\u001b[39;00m:\n\u001b[1;32m    778\u001b[0m     output \u001b[38;5;241m=\u001b[39m (\n\u001b[0;32m--> 779\u001b[0m         \u001b[38;5;28;43mself\u001b[39;49m\u001b[38;5;241;43m.\u001b[39;49m\u001b[43m_generate\u001b[49m\u001b[43m(\u001b[49m\n\u001b[1;32m    780\u001b[0m \u001b[43m            \u001b[49m\u001b[43mprompts\u001b[49m\u001b[43m,\u001b[49m\n\u001b[1;32m    781\u001b[0m \u001b[43m            \u001b[49m\u001b[43mstop\u001b[49m\u001b[38;5;241;43m=\u001b[39;49m\u001b[43mstop\u001b[49m\u001b[43m,\u001b[49m\n\u001b[1;32m    782\u001b[0m \u001b[43m            \u001b[49m\u001b[38;5;66;43;03m# TODO: support multiple run managers\u001b[39;49;00m\n\u001b[1;32m    783\u001b[0m \u001b[43m            \u001b[49m\u001b[43mrun_manager\u001b[49m\u001b[38;5;241;43m=\u001b[39;49m\u001b[43mrun_managers\u001b[49m\u001b[43m[\u001b[49m\u001b[38;5;241;43m0\u001b[39;49m\u001b[43m]\u001b[49m\u001b[43m \u001b[49m\u001b[38;5;28;43;01mif\u001b[39;49;00m\u001b[43m \u001b[49m\u001b[43mrun_managers\u001b[49m\u001b[43m \u001b[49m\u001b[38;5;28;43;01melse\u001b[39;49;00m\u001b[43m \u001b[49m\u001b[38;5;28;43;01mNone\u001b[39;49;00m\u001b[43m,\u001b[49m\n\u001b[1;32m    784\u001b[0m \u001b[43m            \u001b[49m\u001b[38;5;241;43m*\u001b[39;49m\u001b[38;5;241;43m*\u001b[39;49m\u001b[43mkwargs\u001b[49m\u001b[43m,\u001b[49m\n\u001b[1;32m    785\u001b[0m \u001b[43m        \u001b[49m\u001b[43m)\u001b[49m\n\u001b[1;32m    786\u001b[0m         \u001b[38;5;28;01mif\u001b[39;00m new_arg_supported\n\u001b[1;32m    787\u001b[0m         \u001b[38;5;28;01melse\u001b[39;00m \u001b[38;5;28mself\u001b[39m\u001b[38;5;241m.\u001b[39m_generate(prompts, stop\u001b[38;5;241m=\u001b[39mstop)\n\u001b[1;32m    788\u001b[0m     )\n\u001b[1;32m    789\u001b[0m \u001b[38;5;28;01mexcept\u001b[39;00m \u001b[38;5;167;01mBaseException\u001b[39;00m \u001b[38;5;28;01mas\u001b[39;00m e:\n",
      "File \u001b[0;32m~/anaconda3/lib/python3.10/site-packages/langchain_core/language_models/llms.py:1502\u001b[0m, in \u001b[0;36mLLM._generate\u001b[0;34m(self, prompts, stop, run_manager, **kwargs)\u001b[0m\n\u001b[1;32m   1500\u001b[0m \u001b[38;5;28;01mfor\u001b[39;00m prompt \u001b[38;5;129;01min\u001b[39;00m prompts:\n\u001b[1;32m   1501\u001b[0m     text \u001b[38;5;241m=\u001b[39m (\n\u001b[0;32m-> 1502\u001b[0m         \u001b[38;5;28;43mself\u001b[39;49m\u001b[38;5;241;43m.\u001b[39;49m\u001b[43m_call\u001b[49m\u001b[43m(\u001b[49m\u001b[43mprompt\u001b[49m\u001b[43m,\u001b[49m\u001b[43m \u001b[49m\u001b[43mstop\u001b[49m\u001b[38;5;241;43m=\u001b[39;49m\u001b[43mstop\u001b[49m\u001b[43m,\u001b[49m\u001b[43m \u001b[49m\u001b[43mrun_manager\u001b[49m\u001b[38;5;241;43m=\u001b[39;49m\u001b[43mrun_manager\u001b[49m\u001b[43m,\u001b[49m\u001b[43m \u001b[49m\u001b[38;5;241;43m*\u001b[39;49m\u001b[38;5;241;43m*\u001b[39;49m\u001b[43mkwargs\u001b[49m\u001b[43m)\u001b[49m\n\u001b[1;32m   1503\u001b[0m         \u001b[38;5;28;01mif\u001b[39;00m new_arg_supported\n\u001b[1;32m   1504\u001b[0m         \u001b[38;5;28;01melse\u001b[39;00m \u001b[38;5;28mself\u001b[39m\u001b[38;5;241m.\u001b[39m_call(prompt, stop\u001b[38;5;241m=\u001b[39mstop, \u001b[38;5;241m*\u001b[39m\u001b[38;5;241m*\u001b[39mkwargs)\n\u001b[1;32m   1505\u001b[0m     )\n\u001b[1;32m   1506\u001b[0m     generations\u001b[38;5;241m.\u001b[39mappend([Generation(text\u001b[38;5;241m=\u001b[39mtext)])\n",
      "File \u001b[0;32m~/anaconda3/lib/python3.10/site-packages/langchain_together/llms.py:158\u001b[0m, in \u001b[0;36mTogether._call\u001b[0;34m(self, prompt, stop, run_manager, **kwargs)\u001b[0m\n\u001b[1;32m    157\u001b[0m \u001b[38;5;28;01melif\u001b[39;00m response\u001b[38;5;241m.\u001b[39mstatus_code \u001b[38;5;241m>\u001b[39m\u001b[38;5;241m=\u001b[39m \u001b[38;5;241m400\u001b[39m:\n\u001b[0;32m--> 158\u001b[0m     \u001b[38;5;28;01mraise\u001b[39;00m \u001b[38;5;167;01mValueError\u001b[39;00m(\u001b[38;5;124mf\u001b[39m\u001b[38;5;124m\"\u001b[39m\u001b[38;5;124mTogether received an invalid payload: \u001b[39m\u001b[38;5;132;01m{\u001b[39;00mresponse\u001b[38;5;241m.\u001b[39mtext\u001b[38;5;132;01m}\u001b[39;00m\u001b[38;5;124m\"\u001b[39m)\n\u001b[1;32m    159\u001b[0m \u001b[38;5;28;01melif\u001b[39;00m response\u001b[38;5;241m.\u001b[39mstatus_code \u001b[38;5;241m!=\u001b[39m \u001b[38;5;241m200\u001b[39m:\n",
      "\u001b[0;31mValueError\u001b[0m: Together received an invalid payload: {\n  \"id\": \"noxYSTm-4yUbBN-92be630b595dfb34\",\n  \"error\": {\n    \"message\": \"Unable to access model DeepSeek-R1. Please visit https://api.together.ai/models to view the list of supported models.\",\n    \"type\": \"invalid_request_error\",\n    \"param\": null,\n    \"code\": \"model_not_available\"\n  }\n}",
      "\nDuring handling of the above exception, another exception occurred:\n",
      "\u001b[0;31mKeyboardInterrupt\u001b[0m                         Traceback (most recent call last)",
      "Cell \u001b[0;32mIn [5], line 1\u001b[0m\n\u001b[0;32m----> 1\u001b[0m \u001b[43minvoke_engine\u001b[49m\u001b[43m(\u001b[49m\u001b[43mengine\u001b[49m\u001b[43m,\u001b[49m\u001b[43m \u001b[49m\u001b[43mprompt\u001b[49m\u001b[38;5;241;43m=\u001b[39;49m\u001b[38;5;124;43m\"\u001b[39;49m\u001b[38;5;124;43mWhat is the sum of 1st 10 natural numbers? The first 10 natural numbers are: 1,2,3\u001b[39;49m\u001b[38;5;124;43m\"\u001b[39;49m\u001b[43m)\u001b[49m\n",
      "Cell \u001b[0;32mIn [4], line 45\u001b[0m, in \u001b[0;36minvoke_engine\u001b[0;34m(engine, prompt, **kwargs)\u001b[0m\n\u001b[1;32m     43\u001b[0m \u001b[38;5;66;03m# Calculate wait time with exponential backoff, capped at max_wait\u001b[39;00m\n\u001b[1;32m     44\u001b[0m wait_time \u001b[38;5;241m=\u001b[39m \u001b[38;5;28mmin\u001b[39m(base_wait \u001b[38;5;241m*\u001b[39m (\u001b[38;5;241m2\u001b[39m \u001b[38;5;241m*\u001b[39m\u001b[38;5;241m*\u001b[39m attempt), max_wait)\n\u001b[0;32m---> 45\u001b[0m \u001b[43mtime\u001b[49m\u001b[38;5;241;43m.\u001b[39;49m\u001b[43msleep\u001b[49m\u001b[43m(\u001b[49m\u001b[43mwait_time\u001b[49m\u001b[43m)\u001b[49m\n",
      "\u001b[0;31mKeyboardInterrupt\u001b[0m: "
     ]
    }
   ],
   "source": [
    "invoke_engine(engine, prompt=\"What is the sum of 1st 10 natural numbers? The first 10 natural numbers are: 1,2,3\")"
   ]
  },
  {
   "cell_type": "code",
   "execution_count": 15,
   "metadata": {},
   "outputs": [
    {
     "name": "stderr",
     "output_type": "stream",
     "text": [
      "/Users/emilbiju/anaconda3/lib/python3.10/site-packages/langchain_together/llms.py:89: UserWarning: The completions endpoint, has 'max_tokens' as required argument. The default value is being set to 200 Consider setting this value, when initializing LLM\n",
      "  warnings.warn(\n"
     ]
    }
   ],
   "source": [
    "from langchain_together import Together\n",
    "\n",
    "model = Together(model=\"deepseek-ai/DeepSeek-R1\")"
   ]
  },
  {
   "cell_type": "code",
   "execution_count": 16,
   "metadata": {},
   "outputs": [
    {
     "ename": "Exception",
     "evalue": "Together Server: Error 500",
     "output_type": "error",
     "traceback": [
      "\u001b[0;31m---------------------------------------------------------------------------\u001b[0m",
      "\u001b[0;31mException\u001b[0m                                 Traceback (most recent call last)",
      "Cell \u001b[0;32mIn [16], line 1\u001b[0m\n\u001b[0;32m----> 1\u001b[0m \u001b[43mmodel\u001b[49m\u001b[38;5;241;43m.\u001b[39;49m\u001b[43minvoke\u001b[49m\u001b[43m(\u001b[49m\u001b[38;5;124;43m\"\u001b[39;49m\u001b[38;5;124;43mWhat is the sum of 1st 10 natural numbers? The first 10 natural numbers are: 1,2,3\u001b[39;49m\u001b[38;5;124;43m\"\u001b[39;49m\u001b[43m)\u001b[49m\n",
      "File \u001b[0;32m~/anaconda3/lib/python3.10/site-packages/langchain_core/language_models/llms.py:390\u001b[0m, in \u001b[0;36mBaseLLM.invoke\u001b[0;34m(self, input, config, stop, **kwargs)\u001b[0m\n\u001b[1;32m    380\u001b[0m \u001b[38;5;28;01mdef\u001b[39;00m \u001b[38;5;21minvoke\u001b[39m(\n\u001b[1;32m    381\u001b[0m     \u001b[38;5;28mself\u001b[39m,\n\u001b[1;32m    382\u001b[0m     \u001b[38;5;28minput\u001b[39m: LanguageModelInput,\n\u001b[0;32m   (...)\u001b[0m\n\u001b[1;32m    386\u001b[0m     \u001b[38;5;241m*\u001b[39m\u001b[38;5;241m*\u001b[39mkwargs: Any,\n\u001b[1;32m    387\u001b[0m ) \u001b[38;5;241m-\u001b[39m\u001b[38;5;241m>\u001b[39m \u001b[38;5;28mstr\u001b[39m:\n\u001b[1;32m    388\u001b[0m     config \u001b[38;5;241m=\u001b[39m ensure_config(config)\n\u001b[1;32m    389\u001b[0m     \u001b[38;5;28;01mreturn\u001b[39;00m (\n\u001b[0;32m--> 390\u001b[0m         \u001b[38;5;28;43mself\u001b[39;49m\u001b[38;5;241;43m.\u001b[39;49m\u001b[43mgenerate_prompt\u001b[49m\u001b[43m(\u001b[49m\n\u001b[1;32m    391\u001b[0m \u001b[43m            \u001b[49m\u001b[43m[\u001b[49m\u001b[38;5;28;43mself\u001b[39;49m\u001b[38;5;241;43m.\u001b[39;49m\u001b[43m_convert_input\u001b[49m\u001b[43m(\u001b[49m\u001b[38;5;28;43minput\u001b[39;49m\u001b[43m)\u001b[49m\u001b[43m]\u001b[49m\u001b[43m,\u001b[49m\n\u001b[1;32m    392\u001b[0m \u001b[43m            \u001b[49m\u001b[43mstop\u001b[49m\u001b[38;5;241;43m=\u001b[39;49m\u001b[43mstop\u001b[49m\u001b[43m,\u001b[49m\n\u001b[1;32m    393\u001b[0m \u001b[43m            \u001b[49m\u001b[43mcallbacks\u001b[49m\u001b[38;5;241;43m=\u001b[39;49m\u001b[43mconfig\u001b[49m\u001b[38;5;241;43m.\u001b[39;49m\u001b[43mget\u001b[49m\u001b[43m(\u001b[49m\u001b[38;5;124;43m\"\u001b[39;49m\u001b[38;5;124;43mcallbacks\u001b[39;49m\u001b[38;5;124;43m\"\u001b[39;49m\u001b[43m)\u001b[49m\u001b[43m,\u001b[49m\n\u001b[1;32m    394\u001b[0m \u001b[43m            \u001b[49m\u001b[43mtags\u001b[49m\u001b[38;5;241;43m=\u001b[39;49m\u001b[43mconfig\u001b[49m\u001b[38;5;241;43m.\u001b[39;49m\u001b[43mget\u001b[49m\u001b[43m(\u001b[49m\u001b[38;5;124;43m\"\u001b[39;49m\u001b[38;5;124;43mtags\u001b[39;49m\u001b[38;5;124;43m\"\u001b[39;49m\u001b[43m)\u001b[49m\u001b[43m,\u001b[49m\n\u001b[1;32m    395\u001b[0m \u001b[43m            \u001b[49m\u001b[43mmetadata\u001b[49m\u001b[38;5;241;43m=\u001b[39;49m\u001b[43mconfig\u001b[49m\u001b[38;5;241;43m.\u001b[39;49m\u001b[43mget\u001b[49m\u001b[43m(\u001b[49m\u001b[38;5;124;43m\"\u001b[39;49m\u001b[38;5;124;43mmetadata\u001b[39;49m\u001b[38;5;124;43m\"\u001b[39;49m\u001b[43m)\u001b[49m\u001b[43m,\u001b[49m\n\u001b[1;32m    396\u001b[0m \u001b[43m            \u001b[49m\u001b[43mrun_name\u001b[49m\u001b[38;5;241;43m=\u001b[39;49m\u001b[43mconfig\u001b[49m\u001b[38;5;241;43m.\u001b[39;49m\u001b[43mget\u001b[49m\u001b[43m(\u001b[49m\u001b[38;5;124;43m\"\u001b[39;49m\u001b[38;5;124;43mrun_name\u001b[39;49m\u001b[38;5;124;43m\"\u001b[39;49m\u001b[43m)\u001b[49m\u001b[43m,\u001b[49m\n\u001b[1;32m    397\u001b[0m \u001b[43m            \u001b[49m\u001b[43mrun_id\u001b[49m\u001b[38;5;241;43m=\u001b[39;49m\u001b[43mconfig\u001b[49m\u001b[38;5;241;43m.\u001b[39;49m\u001b[43mpop\u001b[49m\u001b[43m(\u001b[49m\u001b[38;5;124;43m\"\u001b[39;49m\u001b[38;5;124;43mrun_id\u001b[39;49m\u001b[38;5;124;43m\"\u001b[39;49m\u001b[43m,\u001b[49m\u001b[43m \u001b[49m\u001b[38;5;28;43;01mNone\u001b[39;49;00m\u001b[43m)\u001b[49m\u001b[43m,\u001b[49m\n\u001b[1;32m    398\u001b[0m \u001b[43m            \u001b[49m\u001b[38;5;241;43m*\u001b[39;49m\u001b[38;5;241;43m*\u001b[39;49m\u001b[43mkwargs\u001b[49m\u001b[43m,\u001b[49m\n\u001b[1;32m    399\u001b[0m \u001b[43m        \u001b[49m\u001b[43m)\u001b[49m\n\u001b[1;32m    400\u001b[0m         \u001b[38;5;241m.\u001b[39mgenerations[\u001b[38;5;241m0\u001b[39m][\u001b[38;5;241m0\u001b[39m]\n\u001b[1;32m    401\u001b[0m         \u001b[38;5;241m.\u001b[39mtext\n\u001b[1;32m    402\u001b[0m     )\n",
      "File \u001b[0;32m~/anaconda3/lib/python3.10/site-packages/langchain_core/language_models/llms.py:755\u001b[0m, in \u001b[0;36mBaseLLM.generate_prompt\u001b[0;34m(self, prompts, stop, callbacks, **kwargs)\u001b[0m\n\u001b[1;32m    747\u001b[0m \u001b[38;5;28;01mdef\u001b[39;00m \u001b[38;5;21mgenerate_prompt\u001b[39m(\n\u001b[1;32m    748\u001b[0m     \u001b[38;5;28mself\u001b[39m,\n\u001b[1;32m    749\u001b[0m     prompts: \u001b[38;5;28mlist\u001b[39m[PromptValue],\n\u001b[0;32m   (...)\u001b[0m\n\u001b[1;32m    752\u001b[0m     \u001b[38;5;241m*\u001b[39m\u001b[38;5;241m*\u001b[39mkwargs: Any,\n\u001b[1;32m    753\u001b[0m ) \u001b[38;5;241m-\u001b[39m\u001b[38;5;241m>\u001b[39m LLMResult:\n\u001b[1;32m    754\u001b[0m     prompt_strings \u001b[38;5;241m=\u001b[39m [p\u001b[38;5;241m.\u001b[39mto_string() \u001b[38;5;28;01mfor\u001b[39;00m p \u001b[38;5;129;01min\u001b[39;00m prompts]\n\u001b[0;32m--> 755\u001b[0m     \u001b[38;5;28;01mreturn\u001b[39;00m \u001b[38;5;28;43mself\u001b[39;49m\u001b[38;5;241;43m.\u001b[39;49m\u001b[43mgenerate\u001b[49m\u001b[43m(\u001b[49m\u001b[43mprompt_strings\u001b[49m\u001b[43m,\u001b[49m\u001b[43m \u001b[49m\u001b[43mstop\u001b[49m\u001b[38;5;241;43m=\u001b[39;49m\u001b[43mstop\u001b[49m\u001b[43m,\u001b[49m\u001b[43m \u001b[49m\u001b[43mcallbacks\u001b[49m\u001b[38;5;241;43m=\u001b[39;49m\u001b[43mcallbacks\u001b[49m\u001b[43m,\u001b[49m\u001b[43m \u001b[49m\u001b[38;5;241;43m*\u001b[39;49m\u001b[38;5;241;43m*\u001b[39;49m\u001b[43mkwargs\u001b[49m\u001b[43m)\u001b[49m\n",
      "File \u001b[0;32m~/anaconda3/lib/python3.10/site-packages/langchain_core/language_models/llms.py:950\u001b[0m, in \u001b[0;36mBaseLLM.generate\u001b[0;34m(self, prompts, stop, callbacks, tags, metadata, run_name, run_id, **kwargs)\u001b[0m\n\u001b[1;32m    935\u001b[0m \u001b[38;5;28;01mif\u001b[39;00m (\u001b[38;5;28mself\u001b[39m\u001b[38;5;241m.\u001b[39mcache \u001b[38;5;129;01mis\u001b[39;00m \u001b[38;5;28;01mNone\u001b[39;00m \u001b[38;5;129;01mand\u001b[39;00m get_llm_cache() \u001b[38;5;129;01mis\u001b[39;00m \u001b[38;5;28;01mNone\u001b[39;00m) \u001b[38;5;129;01mor\u001b[39;00m \u001b[38;5;28mself\u001b[39m\u001b[38;5;241m.\u001b[39mcache \u001b[38;5;129;01mis\u001b[39;00m \u001b[38;5;28;01mFalse\u001b[39;00m:\n\u001b[1;32m    936\u001b[0m     run_managers \u001b[38;5;241m=\u001b[39m [\n\u001b[1;32m    937\u001b[0m         callback_manager\u001b[38;5;241m.\u001b[39mon_llm_start(\n\u001b[1;32m    938\u001b[0m             \u001b[38;5;28mself\u001b[39m\u001b[38;5;241m.\u001b[39m_serialized,\n\u001b[0;32m   (...)\u001b[0m\n\u001b[1;32m    948\u001b[0m         )\n\u001b[1;32m    949\u001b[0m     ]\n\u001b[0;32m--> 950\u001b[0m     output \u001b[38;5;241m=\u001b[39m \u001b[38;5;28;43mself\u001b[39;49m\u001b[38;5;241;43m.\u001b[39;49m\u001b[43m_generate_helper\u001b[49m\u001b[43m(\u001b[49m\n\u001b[1;32m    951\u001b[0m \u001b[43m        \u001b[49m\u001b[43mprompts\u001b[49m\u001b[43m,\u001b[49m\u001b[43m \u001b[49m\u001b[43mstop\u001b[49m\u001b[43m,\u001b[49m\u001b[43m \u001b[49m\u001b[43mrun_managers\u001b[49m\u001b[43m,\u001b[49m\u001b[43m \u001b[49m\u001b[38;5;28;43mbool\u001b[39;49m\u001b[43m(\u001b[49m\u001b[43mnew_arg_supported\u001b[49m\u001b[43m)\u001b[49m\u001b[43m,\u001b[49m\u001b[43m \u001b[49m\u001b[38;5;241;43m*\u001b[39;49m\u001b[38;5;241;43m*\u001b[39;49m\u001b[43mkwargs\u001b[49m\n\u001b[1;32m    952\u001b[0m \u001b[43m    \u001b[49m\u001b[43m)\u001b[49m\n\u001b[1;32m    953\u001b[0m     \u001b[38;5;28;01mreturn\u001b[39;00m output\n\u001b[1;32m    954\u001b[0m \u001b[38;5;28;01mif\u001b[39;00m \u001b[38;5;28mlen\u001b[39m(missing_prompts) \u001b[38;5;241m>\u001b[39m \u001b[38;5;241m0\u001b[39m:\n",
      "File \u001b[0;32m~/anaconda3/lib/python3.10/site-packages/langchain_core/language_models/llms.py:792\u001b[0m, in \u001b[0;36mBaseLLM._generate_helper\u001b[0;34m(self, prompts, stop, run_managers, new_arg_supported, **kwargs)\u001b[0m\n\u001b[1;32m    790\u001b[0m     \u001b[38;5;28;01mfor\u001b[39;00m run_manager \u001b[38;5;129;01min\u001b[39;00m run_managers:\n\u001b[1;32m    791\u001b[0m         run_manager\u001b[38;5;241m.\u001b[39mon_llm_error(e, response\u001b[38;5;241m=\u001b[39mLLMResult(generations\u001b[38;5;241m=\u001b[39m[]))\n\u001b[0;32m--> 792\u001b[0m     \u001b[38;5;28;01mraise\u001b[39;00m e\n\u001b[1;32m    793\u001b[0m flattened_outputs \u001b[38;5;241m=\u001b[39m output\u001b[38;5;241m.\u001b[39mflatten()\n\u001b[1;32m    794\u001b[0m \u001b[38;5;28;01mfor\u001b[39;00m manager, flattened_output \u001b[38;5;129;01min\u001b[39;00m \u001b[38;5;28mzip\u001b[39m(run_managers, flattened_outputs):\n",
      "File \u001b[0;32m~/anaconda3/lib/python3.10/site-packages/langchain_core/language_models/llms.py:779\u001b[0m, in \u001b[0;36mBaseLLM._generate_helper\u001b[0;34m(self, prompts, stop, run_managers, new_arg_supported, **kwargs)\u001b[0m\n\u001b[1;32m    769\u001b[0m \u001b[38;5;28;01mdef\u001b[39;00m \u001b[38;5;21m_generate_helper\u001b[39m(\n\u001b[1;32m    770\u001b[0m     \u001b[38;5;28mself\u001b[39m,\n\u001b[1;32m    771\u001b[0m     prompts: \u001b[38;5;28mlist\u001b[39m[\u001b[38;5;28mstr\u001b[39m],\n\u001b[0;32m   (...)\u001b[0m\n\u001b[1;32m    775\u001b[0m     \u001b[38;5;241m*\u001b[39m\u001b[38;5;241m*\u001b[39mkwargs: Any,\n\u001b[1;32m    776\u001b[0m ) \u001b[38;5;241m-\u001b[39m\u001b[38;5;241m>\u001b[39m LLMResult:\n\u001b[1;32m    777\u001b[0m     \u001b[38;5;28;01mtry\u001b[39;00m:\n\u001b[1;32m    778\u001b[0m         output \u001b[38;5;241m=\u001b[39m (\n\u001b[0;32m--> 779\u001b[0m             \u001b[38;5;28;43mself\u001b[39;49m\u001b[38;5;241;43m.\u001b[39;49m\u001b[43m_generate\u001b[49m\u001b[43m(\u001b[49m\n\u001b[1;32m    780\u001b[0m \u001b[43m                \u001b[49m\u001b[43mprompts\u001b[49m\u001b[43m,\u001b[49m\n\u001b[1;32m    781\u001b[0m \u001b[43m                \u001b[49m\u001b[43mstop\u001b[49m\u001b[38;5;241;43m=\u001b[39;49m\u001b[43mstop\u001b[49m\u001b[43m,\u001b[49m\n\u001b[1;32m    782\u001b[0m \u001b[43m                \u001b[49m\u001b[38;5;66;43;03m# TODO: support multiple run managers\u001b[39;49;00m\n\u001b[1;32m    783\u001b[0m \u001b[43m                \u001b[49m\u001b[43mrun_manager\u001b[49m\u001b[38;5;241;43m=\u001b[39;49m\u001b[43mrun_managers\u001b[49m\u001b[43m[\u001b[49m\u001b[38;5;241;43m0\u001b[39;49m\u001b[43m]\u001b[49m\u001b[43m \u001b[49m\u001b[38;5;28;43;01mif\u001b[39;49;00m\u001b[43m \u001b[49m\u001b[43mrun_managers\u001b[49m\u001b[43m \u001b[49m\u001b[38;5;28;43;01melse\u001b[39;49;00m\u001b[43m \u001b[49m\u001b[38;5;28;43;01mNone\u001b[39;49;00m\u001b[43m,\u001b[49m\n\u001b[1;32m    784\u001b[0m \u001b[43m                \u001b[49m\u001b[38;5;241;43m*\u001b[39;49m\u001b[38;5;241;43m*\u001b[39;49m\u001b[43mkwargs\u001b[49m\u001b[43m,\u001b[49m\n\u001b[1;32m    785\u001b[0m \u001b[43m            \u001b[49m\u001b[43m)\u001b[49m\n\u001b[1;32m    786\u001b[0m             \u001b[38;5;28;01mif\u001b[39;00m new_arg_supported\n\u001b[1;32m    787\u001b[0m             \u001b[38;5;28;01melse\u001b[39;00m \u001b[38;5;28mself\u001b[39m\u001b[38;5;241m.\u001b[39m_generate(prompts, stop\u001b[38;5;241m=\u001b[39mstop)\n\u001b[1;32m    788\u001b[0m         )\n\u001b[1;32m    789\u001b[0m     \u001b[38;5;28;01mexcept\u001b[39;00m \u001b[38;5;167;01mBaseException\u001b[39;00m \u001b[38;5;28;01mas\u001b[39;00m e:\n\u001b[1;32m    790\u001b[0m         \u001b[38;5;28;01mfor\u001b[39;00m run_manager \u001b[38;5;129;01min\u001b[39;00m run_managers:\n",
      "File \u001b[0;32m~/anaconda3/lib/python3.10/site-packages/langchain_core/language_models/llms.py:1502\u001b[0m, in \u001b[0;36mLLM._generate\u001b[0;34m(self, prompts, stop, run_manager, **kwargs)\u001b[0m\n\u001b[1;32m   1499\u001b[0m new_arg_supported \u001b[38;5;241m=\u001b[39m inspect\u001b[38;5;241m.\u001b[39msignature(\u001b[38;5;28mself\u001b[39m\u001b[38;5;241m.\u001b[39m_call)\u001b[38;5;241m.\u001b[39mparameters\u001b[38;5;241m.\u001b[39mget(\u001b[38;5;124m\"\u001b[39m\u001b[38;5;124mrun_manager\u001b[39m\u001b[38;5;124m\"\u001b[39m)\n\u001b[1;32m   1500\u001b[0m \u001b[38;5;28;01mfor\u001b[39;00m prompt \u001b[38;5;129;01min\u001b[39;00m prompts:\n\u001b[1;32m   1501\u001b[0m     text \u001b[38;5;241m=\u001b[39m (\n\u001b[0;32m-> 1502\u001b[0m         \u001b[38;5;28;43mself\u001b[39;49m\u001b[38;5;241;43m.\u001b[39;49m\u001b[43m_call\u001b[49m\u001b[43m(\u001b[49m\u001b[43mprompt\u001b[49m\u001b[43m,\u001b[49m\u001b[43m \u001b[49m\u001b[43mstop\u001b[49m\u001b[38;5;241;43m=\u001b[39;49m\u001b[43mstop\u001b[49m\u001b[43m,\u001b[49m\u001b[43m \u001b[49m\u001b[43mrun_manager\u001b[49m\u001b[38;5;241;43m=\u001b[39;49m\u001b[43mrun_manager\u001b[49m\u001b[43m,\u001b[49m\u001b[43m \u001b[49m\u001b[38;5;241;43m*\u001b[39;49m\u001b[38;5;241;43m*\u001b[39;49m\u001b[43mkwargs\u001b[49m\u001b[43m)\u001b[49m\n\u001b[1;32m   1503\u001b[0m         \u001b[38;5;28;01mif\u001b[39;00m new_arg_supported\n\u001b[1;32m   1504\u001b[0m         \u001b[38;5;28;01melse\u001b[39;00m \u001b[38;5;28mself\u001b[39m\u001b[38;5;241m.\u001b[39m_call(prompt, stop\u001b[38;5;241m=\u001b[39mstop, \u001b[38;5;241m*\u001b[39m\u001b[38;5;241m*\u001b[39mkwargs)\n\u001b[1;32m   1505\u001b[0m     )\n\u001b[1;32m   1506\u001b[0m     generations\u001b[38;5;241m.\u001b[39mappend([Generation(text\u001b[38;5;241m=\u001b[39mtext)])\n\u001b[1;32m   1507\u001b[0m \u001b[38;5;28;01mreturn\u001b[39;00m LLMResult(generations\u001b[38;5;241m=\u001b[39mgenerations)\n",
      "File \u001b[0;32m~/anaconda3/lib/python3.10/site-packages/langchain_together/llms.py:156\u001b[0m, in \u001b[0;36mTogether._call\u001b[0;34m(self, prompt, stop, run_manager, **kwargs)\u001b[0m\n\u001b[1;32m    153\u001b[0m response \u001b[38;5;241m=\u001b[39m requests\u001b[38;5;241m.\u001b[39mpost(url\u001b[38;5;241m=\u001b[39m\u001b[38;5;28mself\u001b[39m\u001b[38;5;241m.\u001b[39mbase_url, json\u001b[38;5;241m=\u001b[39mpayload, headers\u001b[38;5;241m=\u001b[39mheaders)\n\u001b[1;32m    155\u001b[0m \u001b[38;5;28;01mif\u001b[39;00m response\u001b[38;5;241m.\u001b[39mstatus_code \u001b[38;5;241m>\u001b[39m\u001b[38;5;241m=\u001b[39m \u001b[38;5;241m500\u001b[39m:\n\u001b[0;32m--> 156\u001b[0m     \u001b[38;5;28;01mraise\u001b[39;00m \u001b[38;5;167;01mException\u001b[39;00m(\u001b[38;5;124mf\u001b[39m\u001b[38;5;124m\"\u001b[39m\u001b[38;5;124mTogether Server: Error \u001b[39m\u001b[38;5;132;01m{\u001b[39;00mresponse\u001b[38;5;241m.\u001b[39mstatus_code\u001b[38;5;132;01m}\u001b[39;00m\u001b[38;5;124m\"\u001b[39m)\n\u001b[1;32m    157\u001b[0m \u001b[38;5;28;01melif\u001b[39;00m response\u001b[38;5;241m.\u001b[39mstatus_code \u001b[38;5;241m>\u001b[39m\u001b[38;5;241m=\u001b[39m \u001b[38;5;241m400\u001b[39m:\n\u001b[1;32m    158\u001b[0m     \u001b[38;5;28;01mraise\u001b[39;00m \u001b[38;5;167;01mValueError\u001b[39;00m(\u001b[38;5;124mf\u001b[39m\u001b[38;5;124m\"\u001b[39m\u001b[38;5;124mTogether received an invalid payload: \u001b[39m\u001b[38;5;132;01m{\u001b[39;00mresponse\u001b[38;5;241m.\u001b[39mtext\u001b[38;5;132;01m}\u001b[39;00m\u001b[38;5;124m\"\u001b[39m)\n",
      "\u001b[0;31mException\u001b[0m: Together Server: Error 500"
     ]
    }
   ],
   "source": [
    "model.invoke(\"What is the sum of 1st 10 natural numbers? The first 10 natural numbers are: 1,2,3\")"
   ]
  },
  {
   "cell_type": "code",
   "execution_count": 18,
   "metadata": {},
   "outputs": [
    {
     "name": "stderr",
     "output_type": "stream",
     "text": [
      "/Users/emilbiju/anaconda3/lib/python3.10/site-packages/langchain_together/llms.py:89: UserWarning: The completions endpoint, has 'max_tokens' as required argument. The default value is being set to 200 Consider setting this value, when initializing LLM\n",
      "  warnings.warn(\n"
     ]
    },
    {
     "ename": "Exception",
     "evalue": "Together Server: Error 500",
     "output_type": "error",
     "traceback": [
      "\u001b[0;31m---------------------------------------------------------------------------\u001b[0m",
      "\u001b[0;31mException\u001b[0m                                 Traceback (most recent call last)",
      "Cell \u001b[0;32mIn [18], line 12\u001b[0m\n\u001b[1;32m      9\u001b[0m prompt \u001b[38;5;241m=\u001b[39m \u001b[38;5;124m\"\u001b[39m\u001b[38;5;124mExplain the concept of reinforcement learning in simple terms.\u001b[39m\u001b[38;5;124m\"\u001b[39m\n\u001b[1;32m     11\u001b[0m \u001b[38;5;66;03m# Invoke the model for completions\u001b[39;00m\n\u001b[0;32m---> 12\u001b[0m response \u001b[38;5;241m=\u001b[39m \u001b[43mmodel\u001b[49m\u001b[38;5;241;43m.\u001b[39;49m\u001b[43minvoke\u001b[49m\u001b[43m(\u001b[49m\u001b[43mprompt\u001b[49m\u001b[43m)\u001b[49m\n\u001b[1;32m     14\u001b[0m \u001b[38;5;66;03m# Print the response from DeepSeek-R1\u001b[39;00m\n\u001b[1;32m     15\u001b[0m \u001b[38;5;28mprint\u001b[39m(response)\n",
      "File \u001b[0;32m~/anaconda3/lib/python3.10/site-packages/langchain_core/language_models/llms.py:390\u001b[0m, in \u001b[0;36mBaseLLM.invoke\u001b[0;34m(self, input, config, stop, **kwargs)\u001b[0m\n\u001b[1;32m    380\u001b[0m \u001b[38;5;28;01mdef\u001b[39;00m \u001b[38;5;21minvoke\u001b[39m(\n\u001b[1;32m    381\u001b[0m     \u001b[38;5;28mself\u001b[39m,\n\u001b[1;32m    382\u001b[0m     \u001b[38;5;28minput\u001b[39m: LanguageModelInput,\n\u001b[0;32m   (...)\u001b[0m\n\u001b[1;32m    386\u001b[0m     \u001b[38;5;241m*\u001b[39m\u001b[38;5;241m*\u001b[39mkwargs: Any,\n\u001b[1;32m    387\u001b[0m ) \u001b[38;5;241m-\u001b[39m\u001b[38;5;241m>\u001b[39m \u001b[38;5;28mstr\u001b[39m:\n\u001b[1;32m    388\u001b[0m     config \u001b[38;5;241m=\u001b[39m ensure_config(config)\n\u001b[1;32m    389\u001b[0m     \u001b[38;5;28;01mreturn\u001b[39;00m (\n\u001b[0;32m--> 390\u001b[0m         \u001b[38;5;28;43mself\u001b[39;49m\u001b[38;5;241;43m.\u001b[39;49m\u001b[43mgenerate_prompt\u001b[49m\u001b[43m(\u001b[49m\n\u001b[1;32m    391\u001b[0m \u001b[43m            \u001b[49m\u001b[43m[\u001b[49m\u001b[38;5;28;43mself\u001b[39;49m\u001b[38;5;241;43m.\u001b[39;49m\u001b[43m_convert_input\u001b[49m\u001b[43m(\u001b[49m\u001b[38;5;28;43minput\u001b[39;49m\u001b[43m)\u001b[49m\u001b[43m]\u001b[49m\u001b[43m,\u001b[49m\n\u001b[1;32m    392\u001b[0m \u001b[43m            \u001b[49m\u001b[43mstop\u001b[49m\u001b[38;5;241;43m=\u001b[39;49m\u001b[43mstop\u001b[49m\u001b[43m,\u001b[49m\n\u001b[1;32m    393\u001b[0m \u001b[43m            \u001b[49m\u001b[43mcallbacks\u001b[49m\u001b[38;5;241;43m=\u001b[39;49m\u001b[43mconfig\u001b[49m\u001b[38;5;241;43m.\u001b[39;49m\u001b[43mget\u001b[49m\u001b[43m(\u001b[49m\u001b[38;5;124;43m\"\u001b[39;49m\u001b[38;5;124;43mcallbacks\u001b[39;49m\u001b[38;5;124;43m\"\u001b[39;49m\u001b[43m)\u001b[49m\u001b[43m,\u001b[49m\n\u001b[1;32m    394\u001b[0m \u001b[43m            \u001b[49m\u001b[43mtags\u001b[49m\u001b[38;5;241;43m=\u001b[39;49m\u001b[43mconfig\u001b[49m\u001b[38;5;241;43m.\u001b[39;49m\u001b[43mget\u001b[49m\u001b[43m(\u001b[49m\u001b[38;5;124;43m\"\u001b[39;49m\u001b[38;5;124;43mtags\u001b[39;49m\u001b[38;5;124;43m\"\u001b[39;49m\u001b[43m)\u001b[49m\u001b[43m,\u001b[49m\n\u001b[1;32m    395\u001b[0m \u001b[43m            \u001b[49m\u001b[43mmetadata\u001b[49m\u001b[38;5;241;43m=\u001b[39;49m\u001b[43mconfig\u001b[49m\u001b[38;5;241;43m.\u001b[39;49m\u001b[43mget\u001b[49m\u001b[43m(\u001b[49m\u001b[38;5;124;43m\"\u001b[39;49m\u001b[38;5;124;43mmetadata\u001b[39;49m\u001b[38;5;124;43m\"\u001b[39;49m\u001b[43m)\u001b[49m\u001b[43m,\u001b[49m\n\u001b[1;32m    396\u001b[0m \u001b[43m            \u001b[49m\u001b[43mrun_name\u001b[49m\u001b[38;5;241;43m=\u001b[39;49m\u001b[43mconfig\u001b[49m\u001b[38;5;241;43m.\u001b[39;49m\u001b[43mget\u001b[49m\u001b[43m(\u001b[49m\u001b[38;5;124;43m\"\u001b[39;49m\u001b[38;5;124;43mrun_name\u001b[39;49m\u001b[38;5;124;43m\"\u001b[39;49m\u001b[43m)\u001b[49m\u001b[43m,\u001b[49m\n\u001b[1;32m    397\u001b[0m \u001b[43m            \u001b[49m\u001b[43mrun_id\u001b[49m\u001b[38;5;241;43m=\u001b[39;49m\u001b[43mconfig\u001b[49m\u001b[38;5;241;43m.\u001b[39;49m\u001b[43mpop\u001b[49m\u001b[43m(\u001b[49m\u001b[38;5;124;43m\"\u001b[39;49m\u001b[38;5;124;43mrun_id\u001b[39;49m\u001b[38;5;124;43m\"\u001b[39;49m\u001b[43m,\u001b[49m\u001b[43m \u001b[49m\u001b[38;5;28;43;01mNone\u001b[39;49;00m\u001b[43m)\u001b[49m\u001b[43m,\u001b[49m\n\u001b[1;32m    398\u001b[0m \u001b[43m            \u001b[49m\u001b[38;5;241;43m*\u001b[39;49m\u001b[38;5;241;43m*\u001b[39;49m\u001b[43mkwargs\u001b[49m\u001b[43m,\u001b[49m\n\u001b[1;32m    399\u001b[0m \u001b[43m        \u001b[49m\u001b[43m)\u001b[49m\n\u001b[1;32m    400\u001b[0m         \u001b[38;5;241m.\u001b[39mgenerations[\u001b[38;5;241m0\u001b[39m][\u001b[38;5;241m0\u001b[39m]\n\u001b[1;32m    401\u001b[0m         \u001b[38;5;241m.\u001b[39mtext\n\u001b[1;32m    402\u001b[0m     )\n",
      "File \u001b[0;32m~/anaconda3/lib/python3.10/site-packages/langchain_core/language_models/llms.py:755\u001b[0m, in \u001b[0;36mBaseLLM.generate_prompt\u001b[0;34m(self, prompts, stop, callbacks, **kwargs)\u001b[0m\n\u001b[1;32m    747\u001b[0m \u001b[38;5;28;01mdef\u001b[39;00m \u001b[38;5;21mgenerate_prompt\u001b[39m(\n\u001b[1;32m    748\u001b[0m     \u001b[38;5;28mself\u001b[39m,\n\u001b[1;32m    749\u001b[0m     prompts: \u001b[38;5;28mlist\u001b[39m[PromptValue],\n\u001b[0;32m   (...)\u001b[0m\n\u001b[1;32m    752\u001b[0m     \u001b[38;5;241m*\u001b[39m\u001b[38;5;241m*\u001b[39mkwargs: Any,\n\u001b[1;32m    753\u001b[0m ) \u001b[38;5;241m-\u001b[39m\u001b[38;5;241m>\u001b[39m LLMResult:\n\u001b[1;32m    754\u001b[0m     prompt_strings \u001b[38;5;241m=\u001b[39m [p\u001b[38;5;241m.\u001b[39mto_string() \u001b[38;5;28;01mfor\u001b[39;00m p \u001b[38;5;129;01min\u001b[39;00m prompts]\n\u001b[0;32m--> 755\u001b[0m     \u001b[38;5;28;01mreturn\u001b[39;00m \u001b[38;5;28;43mself\u001b[39;49m\u001b[38;5;241;43m.\u001b[39;49m\u001b[43mgenerate\u001b[49m\u001b[43m(\u001b[49m\u001b[43mprompt_strings\u001b[49m\u001b[43m,\u001b[49m\u001b[43m \u001b[49m\u001b[43mstop\u001b[49m\u001b[38;5;241;43m=\u001b[39;49m\u001b[43mstop\u001b[49m\u001b[43m,\u001b[49m\u001b[43m \u001b[49m\u001b[43mcallbacks\u001b[49m\u001b[38;5;241;43m=\u001b[39;49m\u001b[43mcallbacks\u001b[49m\u001b[43m,\u001b[49m\u001b[43m \u001b[49m\u001b[38;5;241;43m*\u001b[39;49m\u001b[38;5;241;43m*\u001b[39;49m\u001b[43mkwargs\u001b[49m\u001b[43m)\u001b[49m\n",
      "File \u001b[0;32m~/anaconda3/lib/python3.10/site-packages/langchain_core/language_models/llms.py:950\u001b[0m, in \u001b[0;36mBaseLLM.generate\u001b[0;34m(self, prompts, stop, callbacks, tags, metadata, run_name, run_id, **kwargs)\u001b[0m\n\u001b[1;32m    935\u001b[0m \u001b[38;5;28;01mif\u001b[39;00m (\u001b[38;5;28mself\u001b[39m\u001b[38;5;241m.\u001b[39mcache \u001b[38;5;129;01mis\u001b[39;00m \u001b[38;5;28;01mNone\u001b[39;00m \u001b[38;5;129;01mand\u001b[39;00m get_llm_cache() \u001b[38;5;129;01mis\u001b[39;00m \u001b[38;5;28;01mNone\u001b[39;00m) \u001b[38;5;129;01mor\u001b[39;00m \u001b[38;5;28mself\u001b[39m\u001b[38;5;241m.\u001b[39mcache \u001b[38;5;129;01mis\u001b[39;00m \u001b[38;5;28;01mFalse\u001b[39;00m:\n\u001b[1;32m    936\u001b[0m     run_managers \u001b[38;5;241m=\u001b[39m [\n\u001b[1;32m    937\u001b[0m         callback_manager\u001b[38;5;241m.\u001b[39mon_llm_start(\n\u001b[1;32m    938\u001b[0m             \u001b[38;5;28mself\u001b[39m\u001b[38;5;241m.\u001b[39m_serialized,\n\u001b[0;32m   (...)\u001b[0m\n\u001b[1;32m    948\u001b[0m         )\n\u001b[1;32m    949\u001b[0m     ]\n\u001b[0;32m--> 950\u001b[0m     output \u001b[38;5;241m=\u001b[39m \u001b[38;5;28;43mself\u001b[39;49m\u001b[38;5;241;43m.\u001b[39;49m\u001b[43m_generate_helper\u001b[49m\u001b[43m(\u001b[49m\n\u001b[1;32m    951\u001b[0m \u001b[43m        \u001b[49m\u001b[43mprompts\u001b[49m\u001b[43m,\u001b[49m\u001b[43m \u001b[49m\u001b[43mstop\u001b[49m\u001b[43m,\u001b[49m\u001b[43m \u001b[49m\u001b[43mrun_managers\u001b[49m\u001b[43m,\u001b[49m\u001b[43m \u001b[49m\u001b[38;5;28;43mbool\u001b[39;49m\u001b[43m(\u001b[49m\u001b[43mnew_arg_supported\u001b[49m\u001b[43m)\u001b[49m\u001b[43m,\u001b[49m\u001b[43m \u001b[49m\u001b[38;5;241;43m*\u001b[39;49m\u001b[38;5;241;43m*\u001b[39;49m\u001b[43mkwargs\u001b[49m\n\u001b[1;32m    952\u001b[0m \u001b[43m    \u001b[49m\u001b[43m)\u001b[49m\n\u001b[1;32m    953\u001b[0m     \u001b[38;5;28;01mreturn\u001b[39;00m output\n\u001b[1;32m    954\u001b[0m \u001b[38;5;28;01mif\u001b[39;00m \u001b[38;5;28mlen\u001b[39m(missing_prompts) \u001b[38;5;241m>\u001b[39m \u001b[38;5;241m0\u001b[39m:\n",
      "File \u001b[0;32m~/anaconda3/lib/python3.10/site-packages/langchain_core/language_models/llms.py:792\u001b[0m, in \u001b[0;36mBaseLLM._generate_helper\u001b[0;34m(self, prompts, stop, run_managers, new_arg_supported, **kwargs)\u001b[0m\n\u001b[1;32m    790\u001b[0m     \u001b[38;5;28;01mfor\u001b[39;00m run_manager \u001b[38;5;129;01min\u001b[39;00m run_managers:\n\u001b[1;32m    791\u001b[0m         run_manager\u001b[38;5;241m.\u001b[39mon_llm_error(e, response\u001b[38;5;241m=\u001b[39mLLMResult(generations\u001b[38;5;241m=\u001b[39m[]))\n\u001b[0;32m--> 792\u001b[0m     \u001b[38;5;28;01mraise\u001b[39;00m e\n\u001b[1;32m    793\u001b[0m flattened_outputs \u001b[38;5;241m=\u001b[39m output\u001b[38;5;241m.\u001b[39mflatten()\n\u001b[1;32m    794\u001b[0m \u001b[38;5;28;01mfor\u001b[39;00m manager, flattened_output \u001b[38;5;129;01min\u001b[39;00m \u001b[38;5;28mzip\u001b[39m(run_managers, flattened_outputs):\n",
      "File \u001b[0;32m~/anaconda3/lib/python3.10/site-packages/langchain_core/language_models/llms.py:779\u001b[0m, in \u001b[0;36mBaseLLM._generate_helper\u001b[0;34m(self, prompts, stop, run_managers, new_arg_supported, **kwargs)\u001b[0m\n\u001b[1;32m    769\u001b[0m \u001b[38;5;28;01mdef\u001b[39;00m \u001b[38;5;21m_generate_helper\u001b[39m(\n\u001b[1;32m    770\u001b[0m     \u001b[38;5;28mself\u001b[39m,\n\u001b[1;32m    771\u001b[0m     prompts: \u001b[38;5;28mlist\u001b[39m[\u001b[38;5;28mstr\u001b[39m],\n\u001b[0;32m   (...)\u001b[0m\n\u001b[1;32m    775\u001b[0m     \u001b[38;5;241m*\u001b[39m\u001b[38;5;241m*\u001b[39mkwargs: Any,\n\u001b[1;32m    776\u001b[0m ) \u001b[38;5;241m-\u001b[39m\u001b[38;5;241m>\u001b[39m LLMResult:\n\u001b[1;32m    777\u001b[0m     \u001b[38;5;28;01mtry\u001b[39;00m:\n\u001b[1;32m    778\u001b[0m         output \u001b[38;5;241m=\u001b[39m (\n\u001b[0;32m--> 779\u001b[0m             \u001b[38;5;28;43mself\u001b[39;49m\u001b[38;5;241;43m.\u001b[39;49m\u001b[43m_generate\u001b[49m\u001b[43m(\u001b[49m\n\u001b[1;32m    780\u001b[0m \u001b[43m                \u001b[49m\u001b[43mprompts\u001b[49m\u001b[43m,\u001b[49m\n\u001b[1;32m    781\u001b[0m \u001b[43m                \u001b[49m\u001b[43mstop\u001b[49m\u001b[38;5;241;43m=\u001b[39;49m\u001b[43mstop\u001b[49m\u001b[43m,\u001b[49m\n\u001b[1;32m    782\u001b[0m \u001b[43m                \u001b[49m\u001b[38;5;66;43;03m# TODO: support multiple run managers\u001b[39;49;00m\n\u001b[1;32m    783\u001b[0m \u001b[43m                \u001b[49m\u001b[43mrun_manager\u001b[49m\u001b[38;5;241;43m=\u001b[39;49m\u001b[43mrun_managers\u001b[49m\u001b[43m[\u001b[49m\u001b[38;5;241;43m0\u001b[39;49m\u001b[43m]\u001b[49m\u001b[43m \u001b[49m\u001b[38;5;28;43;01mif\u001b[39;49;00m\u001b[43m \u001b[49m\u001b[43mrun_managers\u001b[49m\u001b[43m \u001b[49m\u001b[38;5;28;43;01melse\u001b[39;49;00m\u001b[43m \u001b[49m\u001b[38;5;28;43;01mNone\u001b[39;49;00m\u001b[43m,\u001b[49m\n\u001b[1;32m    784\u001b[0m \u001b[43m                \u001b[49m\u001b[38;5;241;43m*\u001b[39;49m\u001b[38;5;241;43m*\u001b[39;49m\u001b[43mkwargs\u001b[49m\u001b[43m,\u001b[49m\n\u001b[1;32m    785\u001b[0m \u001b[43m            \u001b[49m\u001b[43m)\u001b[49m\n\u001b[1;32m    786\u001b[0m             \u001b[38;5;28;01mif\u001b[39;00m new_arg_supported\n\u001b[1;32m    787\u001b[0m             \u001b[38;5;28;01melse\u001b[39;00m \u001b[38;5;28mself\u001b[39m\u001b[38;5;241m.\u001b[39m_generate(prompts, stop\u001b[38;5;241m=\u001b[39mstop)\n\u001b[1;32m    788\u001b[0m         )\n\u001b[1;32m    789\u001b[0m     \u001b[38;5;28;01mexcept\u001b[39;00m \u001b[38;5;167;01mBaseException\u001b[39;00m \u001b[38;5;28;01mas\u001b[39;00m e:\n\u001b[1;32m    790\u001b[0m         \u001b[38;5;28;01mfor\u001b[39;00m run_manager \u001b[38;5;129;01min\u001b[39;00m run_managers:\n",
      "File \u001b[0;32m~/anaconda3/lib/python3.10/site-packages/langchain_core/language_models/llms.py:1502\u001b[0m, in \u001b[0;36mLLM._generate\u001b[0;34m(self, prompts, stop, run_manager, **kwargs)\u001b[0m\n\u001b[1;32m   1499\u001b[0m new_arg_supported \u001b[38;5;241m=\u001b[39m inspect\u001b[38;5;241m.\u001b[39msignature(\u001b[38;5;28mself\u001b[39m\u001b[38;5;241m.\u001b[39m_call)\u001b[38;5;241m.\u001b[39mparameters\u001b[38;5;241m.\u001b[39mget(\u001b[38;5;124m\"\u001b[39m\u001b[38;5;124mrun_manager\u001b[39m\u001b[38;5;124m\"\u001b[39m)\n\u001b[1;32m   1500\u001b[0m \u001b[38;5;28;01mfor\u001b[39;00m prompt \u001b[38;5;129;01min\u001b[39;00m prompts:\n\u001b[1;32m   1501\u001b[0m     text \u001b[38;5;241m=\u001b[39m (\n\u001b[0;32m-> 1502\u001b[0m         \u001b[38;5;28;43mself\u001b[39;49m\u001b[38;5;241;43m.\u001b[39;49m\u001b[43m_call\u001b[49m\u001b[43m(\u001b[49m\u001b[43mprompt\u001b[49m\u001b[43m,\u001b[49m\u001b[43m \u001b[49m\u001b[43mstop\u001b[49m\u001b[38;5;241;43m=\u001b[39;49m\u001b[43mstop\u001b[49m\u001b[43m,\u001b[49m\u001b[43m \u001b[49m\u001b[43mrun_manager\u001b[49m\u001b[38;5;241;43m=\u001b[39;49m\u001b[43mrun_manager\u001b[49m\u001b[43m,\u001b[49m\u001b[43m \u001b[49m\u001b[38;5;241;43m*\u001b[39;49m\u001b[38;5;241;43m*\u001b[39;49m\u001b[43mkwargs\u001b[49m\u001b[43m)\u001b[49m\n\u001b[1;32m   1503\u001b[0m         \u001b[38;5;28;01mif\u001b[39;00m new_arg_supported\n\u001b[1;32m   1504\u001b[0m         \u001b[38;5;28;01melse\u001b[39;00m \u001b[38;5;28mself\u001b[39m\u001b[38;5;241m.\u001b[39m_call(prompt, stop\u001b[38;5;241m=\u001b[39mstop, \u001b[38;5;241m*\u001b[39m\u001b[38;5;241m*\u001b[39mkwargs)\n\u001b[1;32m   1505\u001b[0m     )\n\u001b[1;32m   1506\u001b[0m     generations\u001b[38;5;241m.\u001b[39mappend([Generation(text\u001b[38;5;241m=\u001b[39mtext)])\n\u001b[1;32m   1507\u001b[0m \u001b[38;5;28;01mreturn\u001b[39;00m LLMResult(generations\u001b[38;5;241m=\u001b[39mgenerations)\n",
      "File \u001b[0;32m~/anaconda3/lib/python3.10/site-packages/langchain_together/llms.py:156\u001b[0m, in \u001b[0;36mTogether._call\u001b[0;34m(self, prompt, stop, run_manager, **kwargs)\u001b[0m\n\u001b[1;32m    153\u001b[0m response \u001b[38;5;241m=\u001b[39m requests\u001b[38;5;241m.\u001b[39mpost(url\u001b[38;5;241m=\u001b[39m\u001b[38;5;28mself\u001b[39m\u001b[38;5;241m.\u001b[39mbase_url, json\u001b[38;5;241m=\u001b[39mpayload, headers\u001b[38;5;241m=\u001b[39mheaders)\n\u001b[1;32m    155\u001b[0m \u001b[38;5;28;01mif\u001b[39;00m response\u001b[38;5;241m.\u001b[39mstatus_code \u001b[38;5;241m>\u001b[39m\u001b[38;5;241m=\u001b[39m \u001b[38;5;241m500\u001b[39m:\n\u001b[0;32m--> 156\u001b[0m     \u001b[38;5;28;01mraise\u001b[39;00m \u001b[38;5;167;01mException\u001b[39;00m(\u001b[38;5;124mf\u001b[39m\u001b[38;5;124m\"\u001b[39m\u001b[38;5;124mTogether Server: Error \u001b[39m\u001b[38;5;132;01m{\u001b[39;00mresponse\u001b[38;5;241m.\u001b[39mstatus_code\u001b[38;5;132;01m}\u001b[39;00m\u001b[38;5;124m\"\u001b[39m)\n\u001b[1;32m    157\u001b[0m \u001b[38;5;28;01melif\u001b[39;00m response\u001b[38;5;241m.\u001b[39mstatus_code \u001b[38;5;241m>\u001b[39m\u001b[38;5;241m=\u001b[39m \u001b[38;5;241m400\u001b[39m:\n\u001b[1;32m    158\u001b[0m     \u001b[38;5;28;01mraise\u001b[39;00m \u001b[38;5;167;01mValueError\u001b[39;00m(\u001b[38;5;124mf\u001b[39m\u001b[38;5;124m\"\u001b[39m\u001b[38;5;124mTogether received an invalid payload: \u001b[39m\u001b[38;5;132;01m{\u001b[39;00mresponse\u001b[38;5;241m.\u001b[39mtext\u001b[38;5;132;01m}\u001b[39;00m\u001b[38;5;124m\"\u001b[39m)\n",
      "\u001b[0;31mException\u001b[0m: Together Server: Error 500"
     ]
    }
   ],
   "source": [
    "from langchain_together import Together\n",
    "\n",
    "# Initialize the Together client with DeepSeek-R1 model\n",
    "model = Together(\n",
    "    model=\"deepseek-ai/DeepSeek-R1\",  # Specify the DeepSeek-R1 model\n",
    ")\n",
    "\n",
    "# Define the prompt\n",
    "prompt = \"Explain the concept of reinforcement learning in simple terms.\"\n",
    "\n",
    "# Invoke the model for completions\n",
    "response = model.invoke(prompt)\n",
    "\n",
    "# Print the response from DeepSeek-R1\n",
    "print(response)\n"
   ]
  },
  {
   "cell_type": "code",
   "execution_count": 19,
   "metadata": {},
   "outputs": [],
   "source": [
    "inp_str = \"\"\"What is the sum of 1st 10 natural numbers?\\n<think>\\nOkay, so I need to find the sum of the first 10 natural numbers. Let me think about how to approach this. Natural numbers are the numbers we use for counting, right? So starting from 1, 2, 3, all the way up to 10. The question is asking for the sum of these numbers. \n",
    "\n",
    "Hmm, I remember there's a formula for the sum of an arithmetic series. Since natural numbers are consecutive and each number increases by 1, this is an arithmetic sequence where the common difference is 1. The formula for the sum of the first n terms of an arithmetic sequence is S_n = n/2 * (a_1 + a_n), where n is the number of terms, a_1 is the first term, and a_n is the last term. \n",
    "\n",
    "Let me verify if that's correct. So in this case, n is 10 because we're looking at the first 10 numbers. The first term a_1 is 1, and the last term a_n is 10. Plugging these into the formula: S_10 = 10/2 * (1 + 10). That simplifies to 5 * 11, which is 55. So the sum should be 55. \n",
    "\n",
    "Wait, but maybe I should double-check by adding them manually to make sure I didn't make a mistake. Let's see: 1 + 2 is 3, plus 3 is 6, plus 4 is 10, plus 5 is 15, plus 6 is 21, plus 7 is 28, plus 8 is 36, plus 9 is 45, plus 10 is 55. Yep, that matches. \n",
    "\n",
    "Alternatively, I remember there's another formula for the sum of the first n natural numbers, which is n(n + 1)/2. Let me try that too. For n = 10, that would be 10*11/2 = 110/2 = 55. Same result. \n",
    "\n",
    "So both methods give me\"\"\""
   ]
  },
  {
   "cell_type": "code",
   "execution_count": null,
   "metadata": {},
   "outputs": [],
   "source": []
  },
  {
   "cell_type": "code",
   "execution_count": 27,
   "metadata": {},
   "outputs": [
    {
     "name": "stdout",
     "output_type": "stream",
     "text": [
      "<think>\n",
      " 55, which makes me confident that the sum is indeed 55. I think that's the answer. \n",
      "\n",
      "Just to make sure I didn't confuse the formula with something else, let me recall where it comes from. The formula n(n + 1)/2 is derived from the idea of pairing numbers. If you write the sequence forwards and backwards and add them together, each pair sums to n + 1, and there are n/2 such pairs. So for 10 numbers, that's 5 pairs each summing to 11, which is 5*11=55. That makes sense. \n",
      "\n",
      "I think I've covered all the bases here. I used two different methods to calculate the sum, both leading to the same result, and I even thought through why the formula works. So I'm pretty sure the sum of the first 10 natural numbers is 55.\n",
      "</think>\n",
      "\n",
      "The sum of the first 10 natural numbers can be calculated using the formula for the sum of an arithmetic series. \n",
      "\n",
      "Using the formula \\( S_n = \\frac{n(n + 1)}{2} \\), where \\( n = 10 \\):\n",
      "\n",
      "\\[\n",
      "S_{10} = \\frac{10 \\times 11}{2} = \\frac{110}{2} = 55\n",
      "\\]\n",
      "\n",
      "Thus, the sum of the first 10 natural numbers is **55**.\n",
      "\n"
     ]
    }
   ],
   "source": [
    "!together completions \"{inp_str}\" --model deepseek-ai/DeepSeek-R1-Distill-Llama-70B-free"
   ]
  },
  {
   "cell_type": "code",
   "execution_count": 63,
   "metadata": {},
   "outputs": [],
   "source": [
    "def get_final_answer_line(solution):\n",
    "    solution_lines = text_processing_utils.split_into_sentences(solution)\n",
    "    solution_lines = [line for line in solution_lines if line.strip()!=\"\"]\n",
    "    solution_line_with_boxed = [(line_number, line) for line_number, line in enumerate(solution_lines) if \"boxed\" in line]\n",
    "    if len(solution_line_with_boxed)>0:\n",
    "        line_number, line = solution_line_with_boxed[-1]\n",
    "        return \"\\n\".join(solution_lines[line_number:]).strip()\n",
    "    else:\n",
    "        return \"\\n\".join(solution_lines[-2:]).strip()\n",
    "    \n",
    "def last_boxed_only_string(string: str):\n",
    "    idx = string.rfind(\"\\\\boxed\")\n",
    "    if \"\\\\boxed \" in string:\n",
    "        return \"\\\\boxed \" + string.split(\"\\\\boxed \")[-1].split(\"$\")[0]\n",
    "    if idx < 0:\n",
    "        idx = string.rfind(\"\\\\fbox\")\n",
    "        if idx < 0:\n",
    "            return None\n",
    "\n",
    "    i = idx\n",
    "    right_brace_idx = None\n",
    "    num_left_braces_open = 0\n",
    "    while i < len(string):\n",
    "        if string[i] == \"{\":\n",
    "            num_left_braces_open += 1\n",
    "        if string[i] == \"}\":\n",
    "            num_left_braces_open -= 1\n",
    "            if num_left_braces_open == 0:\n",
    "                right_brace_idx = i\n",
    "                break\n",
    "        i += 1\n",
    "\n",
    "    if right_brace_idx is None:\n",
    "        retval = None\n",
    "    else:\n",
    "        retval = string[idx : right_brace_idx + 1]\n",
    "\n",
    "    return retval\n",
    "\n",
    "def remove_boxed(s: str) -> str:\n",
    "    if \"\\\\boxed \" in s:\n",
    "        left = \"\\\\boxed \"\n",
    "        assert s[: len(left)] == left\n",
    "        return s[len(left) :]\n",
    "\n",
    "    left = \"\\\\boxed{\"\n",
    "\n",
    "    assert s[: len(left)] == left\n",
    "    assert s[-1] == \"}\"\n",
    "\n",
    "    return s[len(left) : -1]\n"
   ]
  },
  {
   "cell_type": "code",
   "execution_count": 5,
   "metadata": {},
   "outputs": [],
   "source": [
    "from datasets import load_dataset"
   ]
  },
  {
   "cell_type": "code",
   "execution_count": 16,
   "metadata": {},
   "outputs": [],
   "source": [
    "ds = load_dataset(\"emilbiju/OpenThoughts-correct\", \"math\")"
   ]
  },
  {
   "cell_type": "code",
   "execution_count": 17,
   "metadata": {},
   "outputs": [],
   "source": [
    "ds=ds[\"train\"]"
   ]
  },
  {
   "cell_type": "code",
   "execution_count": 18,
   "metadata": {},
   "outputs": [],
   "source": [
    "ds_math = load_dataset(\"nlile/hendrycks-MATH-benchmark\", \"default\")\n",
    "ds_math = ds_math[\"train\"]"
   ]
  },
  {
   "cell_type": "code",
   "execution_count": 19,
   "metadata": {},
   "outputs": [
    {
     "data": {
      "text/plain": [
       "Dataset({\n",
       "    features: ['source', 'problem', 'solution', 'generated_token_count', 'correct', 'domain', 'thought', 'ProblemIdx'],\n",
       "    num_rows: 6263\n",
       "})"
      ]
     },
     "execution_count": 19,
     "metadata": {},
     "output_type": "execute_result"
    }
   ],
   "source": [
    "ds"
   ]
  },
  {
   "cell_type": "code",
   "execution_count": 20,
   "metadata": {},
   "outputs": [
    {
     "data": {
      "text/plain": [
       "Dataset({\n",
       "    features: ['problem', 'solution', 'answer', 'subject', 'level', 'unique_id'],\n",
       "    num_rows: 12000\n",
       "})"
      ]
     },
     "execution_count": 20,
     "metadata": {},
     "output_type": "execute_result"
    }
   ],
   "source": [
    "ds_math"
   ]
  },
  {
   "cell_type": "code",
   "execution_count": 21,
   "metadata": {},
   "outputs": [],
   "source": [
    "import datasets"
   ]
  },
  {
   "cell_type": "code",
   "execution_count": null,
   "metadata": {},
   "outputs": [],
   "source": [
    "# Convert ds and ds_math to pandas DataFrames\n",
    "ds_df = ds.to_pandas()\n",
    "ds_math_df = ds_math.to_pandas()\n",
    "\n",
    "# Perform an inner join on the 'problem' column\n",
    "merged_df = ds_df[['problem', 'correct']].merge(ds_math_df, on='problem', how='right')"
   ]
  },
  {
   "cell_type": "code",
   "execution_count": 27,
   "metadata": {},
   "outputs": [
    {
     "data": {
      "text/html": [
       "<div>\n",
       "<style scoped>\n",
       "    .dataframe tbody tr th:only-of-type {\n",
       "        vertical-align: middle;\n",
       "    }\n",
       "\n",
       "    .dataframe tbody tr th {\n",
       "        vertical-align: top;\n",
       "    }\n",
       "\n",
       "    .dataframe thead th {\n",
       "        text-align: right;\n",
       "    }\n",
       "</style>\n",
       "<table border=\"1\" class=\"dataframe\">\n",
       "  <thead>\n",
       "    <tr style=\"text-align: right;\">\n",
       "      <th></th>\n",
       "      <th>problem</th>\n",
       "      <th>correct</th>\n",
       "      <th>solution</th>\n",
       "      <th>answer</th>\n",
       "      <th>subject</th>\n",
       "      <th>level</th>\n",
       "      <th>unique_id</th>\n",
       "    </tr>\n",
       "  </thead>\n",
       "  <tbody>\n",
       "    <tr>\n",
       "      <th>0</th>\n",
       "      <td>How many vertical asymptotes does the graph of...</td>\n",
       "      <td>NaN</td>\n",
       "      <td>The denominator of the rational function facto...</td>\n",
       "      <td>2</td>\n",
       "      <td>Algebra</td>\n",
       "      <td>3</td>\n",
       "      <td>test/algebra/1.json</td>\n",
       "    </tr>\n",
       "    <tr>\n",
       "      <th>1</th>\n",
       "      <td>If $5x - 3 = 12$, what is the value of $5x + 3$?</td>\n",
       "      <td>NaN</td>\n",
       "      <td>Adding 6 to both sides of $5x - 3 =12$ gives $...</td>\n",
       "      <td>18</td>\n",
       "      <td>Prealgebra</td>\n",
       "      <td>2</td>\n",
       "      <td>test/prealgebra/2002.json</td>\n",
       "    </tr>\n",
       "    <tr>\n",
       "      <th>2</th>\n",
       "      <td>Ryan has 3 red lava lamps and 3 blue lava lamp...</td>\n",
       "      <td>NaN</td>\n",
       "      <td>There are $\\binom{6}{3}=20$ ways for Ryan to a...</td>\n",
       "      <td>\\dfrac{7}{20}</td>\n",
       "      <td>Counting &amp; Probability</td>\n",
       "      <td>5</td>\n",
       "      <td>test/counting_and_probability/967.json</td>\n",
       "    </tr>\n",
       "    <tr>\n",
       "      <th>3</th>\n",
       "      <td>Alice wants to buy $3$ pounds of veal at the g...</td>\n",
       "      <td>NaN</td>\n",
       "      <td>Since Alice wants to buy $3$ pounds of veal, w...</td>\n",
       "      <td>1.36</td>\n",
       "      <td>Prealgebra</td>\n",
       "      <td>4</td>\n",
       "      <td>test/prealgebra/2017.json</td>\n",
       "    </tr>\n",
       "    <tr>\n",
       "      <th>4</th>\n",
       "      <td>On the $xy$-plane, the origin is labeled with ...</td>\n",
       "      <td>NaN</td>\n",
       "      <td>From the M, we can proceed to four different A...</td>\n",
       "      <td>28</td>\n",
       "      <td>Counting &amp; Probability</td>\n",
       "      <td>5</td>\n",
       "      <td>test/counting_and_probability/990.json</td>\n",
       "    </tr>\n",
       "    <tr>\n",
       "      <th>...</th>\n",
       "      <td>...</td>\n",
       "      <td>...</td>\n",
       "      <td>...</td>\n",
       "      <td>...</td>\n",
       "      <td>...</td>\n",
       "      <td>...</td>\n",
       "      <td>...</td>\n",
       "    </tr>\n",
       "    <tr>\n",
       "      <th>11995</th>\n",
       "      <td>The product of two positive integers plus thei...</td>\n",
       "      <td>True</td>\n",
       "      <td>Let our numbers be $a$ and $b$ with $a&gt;b.$ The...</td>\n",
       "      <td>19</td>\n",
       "      <td>Algebra</td>\n",
       "      <td>4</td>\n",
       "      <td>train/algebra/815.json</td>\n",
       "    </tr>\n",
       "    <tr>\n",
       "      <th>11996</th>\n",
       "      <td>The volume of the box is 240 cubic units where...</td>\n",
       "      <td>True</td>\n",
       "      <td>The prime factorization of 240 is $2^4\\cdot3\\c...</td>\n",
       "      <td>10</td>\n",
       "      <td>Number Theory</td>\n",
       "      <td>4</td>\n",
       "      <td>train/number_theory/144.json</td>\n",
       "    </tr>\n",
       "    <tr>\n",
       "      <th>11997</th>\n",
       "      <td>Let \\[f(n) =\\n\\begin{cases}\\nn^2-1 &amp; \\text{ if...</td>\n",
       "      <td>True</td>\n",
       "      <td>Working from the inside out, since $2&lt;4$ we ha...</td>\n",
       "      <td>22</td>\n",
       "      <td>Algebra</td>\n",
       "      <td>2</td>\n",
       "      <td>train/algebra/1959.json</td>\n",
       "    </tr>\n",
       "    <tr>\n",
       "      <th>11998</th>\n",
       "      <td>Find the nonconstant polynomial $P(x)$ such th...</td>\n",
       "      <td>True</td>\n",
       "      <td>Let $d$ be the degree of $P(x).$  Then the deg...</td>\n",
       "      <td>x^2 + x</td>\n",
       "      <td>Intermediate Algebra</td>\n",
       "      <td>5</td>\n",
       "      <td>train/intermediate_algebra/188.json</td>\n",
       "    </tr>\n",
       "    <tr>\n",
       "      <th>11999</th>\n",
       "      <td>If $\\sqrt2 \\sin 10^\\circ$ can be written as $\\...</td>\n",
       "      <td>True</td>\n",
       "      <td>We have $\\sin\\theta = \\cos(90^\\circ - \\theta),...</td>\n",
       "      <td>35^\\circ</td>\n",
       "      <td>Precalculus</td>\n",
       "      <td>4</td>\n",
       "      <td>train/precalculus/639.json</td>\n",
       "    </tr>\n",
       "  </tbody>\n",
       "</table>\n",
       "<p>12000 rows × 7 columns</p>\n",
       "</div>"
      ],
      "text/plain": [
       "                                                 problem correct  \\\n",
       "0      How many vertical asymptotes does the graph of...     NaN   \n",
       "1       If $5x - 3 = 12$, what is the value of $5x + 3$?     NaN   \n",
       "2      Ryan has 3 red lava lamps and 3 blue lava lamp...     NaN   \n",
       "3      Alice wants to buy $3$ pounds of veal at the g...     NaN   \n",
       "4      On the $xy$-plane, the origin is labeled with ...     NaN   \n",
       "...                                                  ...     ...   \n",
       "11995  The product of two positive integers plus thei...    True   \n",
       "11996  The volume of the box is 240 cubic units where...    True   \n",
       "11997  Let \\[f(n) =\\n\\begin{cases}\\nn^2-1 & \\text{ if...    True   \n",
       "11998  Find the nonconstant polynomial $P(x)$ such th...    True   \n",
       "11999  If $\\sqrt2 \\sin 10^\\circ$ can be written as $\\...    True   \n",
       "\n",
       "                                                solution         answer  \\\n",
       "0      The denominator of the rational function facto...              2   \n",
       "1      Adding 6 to both sides of $5x - 3 =12$ gives $...             18   \n",
       "2      There are $\\binom{6}{3}=20$ ways for Ryan to a...  \\dfrac{7}{20}   \n",
       "3      Since Alice wants to buy $3$ pounds of veal, w...           1.36   \n",
       "4      From the M, we can proceed to four different A...             28   \n",
       "...                                                  ...            ...   \n",
       "11995  Let our numbers be $a$ and $b$ with $a>b.$ The...             19   \n",
       "11996  The prime factorization of 240 is $2^4\\cdot3\\c...             10   \n",
       "11997  Working from the inside out, since $2<4$ we ha...             22   \n",
       "11998  Let $d$ be the degree of $P(x).$  Then the deg...        x^2 + x   \n",
       "11999  We have $\\sin\\theta = \\cos(90^\\circ - \\theta),...       35^\\circ   \n",
       "\n",
       "                      subject  level                               unique_id  \n",
       "0                     Algebra      3                     test/algebra/1.json  \n",
       "1                  Prealgebra      2               test/prealgebra/2002.json  \n",
       "2      Counting & Probability      5  test/counting_and_probability/967.json  \n",
       "3                  Prealgebra      4               test/prealgebra/2017.json  \n",
       "4      Counting & Probability      5  test/counting_and_probability/990.json  \n",
       "...                       ...    ...                                     ...  \n",
       "11995                 Algebra      4                  train/algebra/815.json  \n",
       "11996           Number Theory      4            train/number_theory/144.json  \n",
       "11997                 Algebra      2                 train/algebra/1959.json  \n",
       "11998    Intermediate Algebra      5     train/intermediate_algebra/188.json  \n",
       "11999             Precalculus      4              train/precalculus/639.json  \n",
       "\n",
       "[12000 rows x 7 columns]"
      ]
     },
     "execution_count": 27,
     "metadata": {},
     "output_type": "execute_result"
    }
   ],
   "source": [
    "merged_df"
   ]
  },
  {
   "cell_type": "code",
   "execution_count": 36,
   "metadata": {},
   "outputs": [
    {
     "data": {
      "text/html": [
       "<div>\n",
       "<style scoped>\n",
       "    .dataframe tbody tr th:only-of-type {\n",
       "        vertical-align: middle;\n",
       "    }\n",
       "\n",
       "    .dataframe tbody tr th {\n",
       "        vertical-align: top;\n",
       "    }\n",
       "\n",
       "    .dataframe thead th {\n",
       "        text-align: right;\n",
       "    }\n",
       "</style>\n",
       "<table border=\"1\" class=\"dataframe\">\n",
       "  <thead>\n",
       "    <tr style=\"text-align: right;\">\n",
       "      <th></th>\n",
       "      <th>problem</th>\n",
       "      <th>correct</th>\n",
       "      <th>solution</th>\n",
       "      <th>answer</th>\n",
       "      <th>subject</th>\n",
       "      <th>level</th>\n",
       "      <th>unique_id</th>\n",
       "    </tr>\n",
       "  </thead>\n",
       "  <tbody>\n",
       "    <tr>\n",
       "      <th>45</th>\n",
       "      <td>Let \\[f(x) = \\left\\{\\n\\begin{array}{cl} ax+3, ...</td>\n",
       "      <td>True</td>\n",
       "      <td>For the piecewise function to be continuous, t...</td>\n",
       "      <td>0</td>\n",
       "      <td>Algebra</td>\n",
       "      <td>5</td>\n",
       "      <td>train/algebra/0.json</td>\n",
       "    </tr>\n",
       "    <tr>\n",
       "      <th>46</th>\n",
       "      <td>What is the area of the triangle bounded by th...</td>\n",
       "      <td>True</td>\n",
       "      <td>[asy]\\nsize(200); defaultpen(linewidth(0.8));\\...</td>\n",
       "      <td>36</td>\n",
       "      <td>Geometry</td>\n",
       "      <td>3</td>\n",
       "      <td>train/geometry/218.json</td>\n",
       "    </tr>\n",
       "    <tr>\n",
       "      <th>47</th>\n",
       "      <td>Twenty-seven increased by twice a number is 39...</td>\n",
       "      <td>True</td>\n",
       "      <td>We are asked to solve $27+2x=39$ for $x$.  We ...</td>\n",
       "      <td>6</td>\n",
       "      <td>Prealgebra</td>\n",
       "      <td>1</td>\n",
       "      <td>train/prealgebra/1915.json</td>\n",
       "    </tr>\n",
       "    <tr>\n",
       "      <th>48</th>\n",
       "      <td>How many 3-letter words can we make from the l...</td>\n",
       "      <td>True</td>\n",
       "      <td>There are $4^3$ three letter words from A, B, ...</td>\n",
       "      <td>37</td>\n",
       "      <td>Counting &amp; Probability</td>\n",
       "      <td>4</td>\n",
       "      <td>train/counting_and_probability/24.json</td>\n",
       "    </tr>\n",
       "    <tr>\n",
       "      <th>49</th>\n",
       "      <td>When Claire divides her cupcakes into groups o...</td>\n",
       "      <td>True</td>\n",
       "      <td>If Claire has $N$ cupcakes, we know that $N = ...</td>\n",
       "      <td>71</td>\n",
       "      <td>Number Theory</td>\n",
       "      <td>3</td>\n",
       "      <td>train/number_theory/544.json</td>\n",
       "    </tr>\n",
       "    <tr>\n",
       "      <th>...</th>\n",
       "      <td>...</td>\n",
       "      <td>...</td>\n",
       "      <td>...</td>\n",
       "      <td>...</td>\n",
       "      <td>...</td>\n",
       "      <td>...</td>\n",
       "      <td>...</td>\n",
       "    </tr>\n",
       "    <tr>\n",
       "      <th>11995</th>\n",
       "      <td>The product of two positive integers plus thei...</td>\n",
       "      <td>True</td>\n",
       "      <td>Let our numbers be $a$ and $b$ with $a&gt;b.$ The...</td>\n",
       "      <td>19</td>\n",
       "      <td>Algebra</td>\n",
       "      <td>4</td>\n",
       "      <td>train/algebra/815.json</td>\n",
       "    </tr>\n",
       "    <tr>\n",
       "      <th>11996</th>\n",
       "      <td>The volume of the box is 240 cubic units where...</td>\n",
       "      <td>True</td>\n",
       "      <td>The prime factorization of 240 is $2^4\\cdot3\\c...</td>\n",
       "      <td>10</td>\n",
       "      <td>Number Theory</td>\n",
       "      <td>4</td>\n",
       "      <td>train/number_theory/144.json</td>\n",
       "    </tr>\n",
       "    <tr>\n",
       "      <th>11997</th>\n",
       "      <td>Let \\[f(n) =\\n\\begin{cases}\\nn^2-1 &amp; \\text{ if...</td>\n",
       "      <td>True</td>\n",
       "      <td>Working from the inside out, since $2&lt;4$ we ha...</td>\n",
       "      <td>22</td>\n",
       "      <td>Algebra</td>\n",
       "      <td>2</td>\n",
       "      <td>train/algebra/1959.json</td>\n",
       "    </tr>\n",
       "    <tr>\n",
       "      <th>11998</th>\n",
       "      <td>Find the nonconstant polynomial $P(x)$ such th...</td>\n",
       "      <td>True</td>\n",
       "      <td>Let $d$ be the degree of $P(x).$  Then the deg...</td>\n",
       "      <td>x^2 + x</td>\n",
       "      <td>Intermediate Algebra</td>\n",
       "      <td>5</td>\n",
       "      <td>train/intermediate_algebra/188.json</td>\n",
       "    </tr>\n",
       "    <tr>\n",
       "      <th>11999</th>\n",
       "      <td>If $\\sqrt2 \\sin 10^\\circ$ can be written as $\\...</td>\n",
       "      <td>True</td>\n",
       "      <td>We have $\\sin\\theta = \\cos(90^\\circ - \\theta),...</td>\n",
       "      <td>35^\\circ</td>\n",
       "      <td>Precalculus</td>\n",
       "      <td>4</td>\n",
       "      <td>train/precalculus/639.json</td>\n",
       "    </tr>\n",
       "  </tbody>\n",
       "</table>\n",
       "<p>5938 rows × 7 columns</p>\n",
       "</div>"
      ],
      "text/plain": [
       "                                                 problem correct  \\\n",
       "45     Let \\[f(x) = \\left\\{\\n\\begin{array}{cl} ax+3, ...    True   \n",
       "46     What is the area of the triangle bounded by th...    True   \n",
       "47     Twenty-seven increased by twice a number is 39...    True   \n",
       "48     How many 3-letter words can we make from the l...    True   \n",
       "49     When Claire divides her cupcakes into groups o...    True   \n",
       "...                                                  ...     ...   \n",
       "11995  The product of two positive integers plus thei...    True   \n",
       "11996  The volume of the box is 240 cubic units where...    True   \n",
       "11997  Let \\[f(n) =\\n\\begin{cases}\\nn^2-1 & \\text{ if...    True   \n",
       "11998  Find the nonconstant polynomial $P(x)$ such th...    True   \n",
       "11999  If $\\sqrt2 \\sin 10^\\circ$ can be written as $\\...    True   \n",
       "\n",
       "                                                solution    answer  \\\n",
       "45     For the piecewise function to be continuous, t...         0   \n",
       "46     [asy]\\nsize(200); defaultpen(linewidth(0.8));\\...        36   \n",
       "47     We are asked to solve $27+2x=39$ for $x$.  We ...         6   \n",
       "48     There are $4^3$ three letter words from A, B, ...        37   \n",
       "49     If Claire has $N$ cupcakes, we know that $N = ...        71   \n",
       "...                                                  ...       ...   \n",
       "11995  Let our numbers be $a$ and $b$ with $a>b.$ The...        19   \n",
       "11996  The prime factorization of 240 is $2^4\\cdot3\\c...        10   \n",
       "11997  Working from the inside out, since $2<4$ we ha...        22   \n",
       "11998  Let $d$ be the degree of $P(x).$  Then the deg...   x^2 + x   \n",
       "11999  We have $\\sin\\theta = \\cos(90^\\circ - \\theta),...  35^\\circ   \n",
       "\n",
       "                      subject  level                               unique_id  \n",
       "45                    Algebra      5                    train/algebra/0.json  \n",
       "46                   Geometry      3                 train/geometry/218.json  \n",
       "47                 Prealgebra      1              train/prealgebra/1915.json  \n",
       "48     Counting & Probability      4  train/counting_and_probability/24.json  \n",
       "49              Number Theory      3            train/number_theory/544.json  \n",
       "...                       ...    ...                                     ...  \n",
       "11995                 Algebra      4                  train/algebra/815.json  \n",
       "11996           Number Theory      4            train/number_theory/144.json  \n",
       "11997                 Algebra      2                 train/algebra/1959.json  \n",
       "11998    Intermediate Algebra      5     train/intermediate_algebra/188.json  \n",
       "11999             Precalculus      4              train/precalculus/639.json  \n",
       "\n",
       "[5938 rows x 7 columns]"
      ]
     },
     "execution_count": 36,
     "metadata": {},
     "output_type": "execute_result"
    }
   ],
   "source": [
    "merged_df[merged_df[\"correct\"].notna()]"
   ]
  },
  {
   "cell_type": "code",
   "execution_count": 33,
   "metadata": {},
   "outputs": [],
   "source": [
    "ds_not_in_train = merged_df[merged_df[\"correct\"].isna()]\n",
    "del ds_not_in_train[\"correct\"]\n",
    "ds = datasets.Dataset.from_pandas(ds_not_in_train)"
   ]
  },
  {
   "cell_type": "code",
   "execution_count": 34,
   "metadata": {},
   "outputs": [
    {
     "data": {
      "text/plain": [
       "Dataset({\n",
       "    features: ['problem', 'solution', 'answer', 'subject', 'level', 'unique_id', '__index_level_0__'],\n",
       "    num_rows: 6062\n",
       "})"
      ]
     },
     "execution_count": 34,
     "metadata": {},
     "output_type": "execute_result"
    }
   ],
   "source": [
    "ds"
   ]
  },
  {
   "cell_type": "code",
   "execution_count": 35,
   "metadata": {},
   "outputs": [
    {
     "data": {
      "text/html": [
       "<div>\n",
       "<style scoped>\n",
       "    .dataframe tbody tr th:only-of-type {\n",
       "        vertical-align: middle;\n",
       "    }\n",
       "\n",
       "    .dataframe tbody tr th {\n",
       "        vertical-align: top;\n",
       "    }\n",
       "\n",
       "    .dataframe thead th {\n",
       "        text-align: right;\n",
       "    }\n",
       "</style>\n",
       "<table border=\"1\" class=\"dataframe\">\n",
       "  <thead>\n",
       "    <tr style=\"text-align: right;\">\n",
       "      <th></th>\n",
       "      <th>problem</th>\n",
       "      <th>solution</th>\n",
       "      <th>answer</th>\n",
       "      <th>subject</th>\n",
       "      <th>level</th>\n",
       "      <th>unique_id</th>\n",
       "    </tr>\n",
       "  </thead>\n",
       "  <tbody>\n",
       "    <tr>\n",
       "      <th>0</th>\n",
       "      <td>How many vertical asymptotes does the graph of...</td>\n",
       "      <td>The denominator of the rational function facto...</td>\n",
       "      <td>2</td>\n",
       "      <td>Algebra</td>\n",
       "      <td>3</td>\n",
       "      <td>test/algebra/1.json</td>\n",
       "    </tr>\n",
       "    <tr>\n",
       "      <th>1</th>\n",
       "      <td>If $5x - 3 = 12$, what is the value of $5x + 3$?</td>\n",
       "      <td>Adding 6 to both sides of $5x - 3 =12$ gives $...</td>\n",
       "      <td>18</td>\n",
       "      <td>Prealgebra</td>\n",
       "      <td>2</td>\n",
       "      <td>test/prealgebra/2002.json</td>\n",
       "    </tr>\n",
       "    <tr>\n",
       "      <th>2</th>\n",
       "      <td>Ryan has 3 red lava lamps and 3 blue lava lamp...</td>\n",
       "      <td>There are $\\binom{6}{3}=20$ ways for Ryan to a...</td>\n",
       "      <td>\\dfrac{7}{20}</td>\n",
       "      <td>Counting &amp; Probability</td>\n",
       "      <td>5</td>\n",
       "      <td>test/counting_and_probability/967.json</td>\n",
       "    </tr>\n",
       "    <tr>\n",
       "      <th>3</th>\n",
       "      <td>Alice wants to buy $3$ pounds of veal at the g...</td>\n",
       "      <td>Since Alice wants to buy $3$ pounds of veal, w...</td>\n",
       "      <td>1.36</td>\n",
       "      <td>Prealgebra</td>\n",
       "      <td>4</td>\n",
       "      <td>test/prealgebra/2017.json</td>\n",
       "    </tr>\n",
       "    <tr>\n",
       "      <th>4</th>\n",
       "      <td>On the $xy$-plane, the origin is labeled with ...</td>\n",
       "      <td>From the M, we can proceed to four different A...</td>\n",
       "      <td>28</td>\n",
       "      <td>Counting &amp; Probability</td>\n",
       "      <td>5</td>\n",
       "      <td>test/counting_and_probability/990.json</td>\n",
       "    </tr>\n",
       "    <tr>\n",
       "      <th>...</th>\n",
       "      <td>...</td>\n",
       "      <td>...</td>\n",
       "      <td>...</td>\n",
       "      <td>...</td>\n",
       "      <td>...</td>\n",
       "      <td>...</td>\n",
       "    </tr>\n",
       "    <tr>\n",
       "      <th>11954</th>\n",
       "      <td>The graph of $y=f(x)$ is shown below, with $1$...</td>\n",
       "      <td>If $f(x)=c$ has $6$ solutions, then the horizo...</td>\n",
       "      <td>-7</td>\n",
       "      <td>Algebra</td>\n",
       "      <td>5</td>\n",
       "      <td>train/algebra/1304.json</td>\n",
       "    </tr>\n",
       "    <tr>\n",
       "      <th>11959</th>\n",
       "      <td>Krista put 1 cent into her new bank on a Sunda...</td>\n",
       "      <td>The formula for a geometric series is $\\frac{a...</td>\n",
       "      <td>\\text{Sunday}</td>\n",
       "      <td>Algebra</td>\n",
       "      <td>5</td>\n",
       "      <td>train/algebra/627.json</td>\n",
       "    </tr>\n",
       "    <tr>\n",
       "      <th>11965</th>\n",
       "      <td>What is the ratio of the area of the shaded sq...</td>\n",
       "      <td>Divide the square into $16$ smaller squares as...</td>\n",
       "      <td>\\frac{1}{8}</td>\n",
       "      <td>Prealgebra</td>\n",
       "      <td>5</td>\n",
       "      <td>train/prealgebra/241.json</td>\n",
       "    </tr>\n",
       "    <tr>\n",
       "      <th>11981</th>\n",
       "      <td>In the diagram, $D$ and $E$ are the midpoints ...</td>\n",
       "      <td>Since $D$ is the midpoint of $\\overline{AB},$ ...</td>\n",
       "      <td>\\frac{21}{8}</td>\n",
       "      <td>Algebra</td>\n",
       "      <td>3</td>\n",
       "      <td>train/algebra/374.json</td>\n",
       "    </tr>\n",
       "    <tr>\n",
       "      <th>11993</th>\n",
       "      <td>How many triangles are in the figure below? [a...</td>\n",
       "      <td>The smallest triangles in the figure are the r...</td>\n",
       "      <td>36</td>\n",
       "      <td>Counting &amp; Probability</td>\n",
       "      <td>4</td>\n",
       "      <td>train/counting_and_probability/802.json</td>\n",
       "    </tr>\n",
       "  </tbody>\n",
       "</table>\n",
       "<p>6062 rows × 6 columns</p>\n",
       "</div>"
      ],
      "text/plain": [
       "                                                 problem  \\\n",
       "0      How many vertical asymptotes does the graph of...   \n",
       "1       If $5x - 3 = 12$, what is the value of $5x + 3$?   \n",
       "2      Ryan has 3 red lava lamps and 3 blue lava lamp...   \n",
       "3      Alice wants to buy $3$ pounds of veal at the g...   \n",
       "4      On the $xy$-plane, the origin is labeled with ...   \n",
       "...                                                  ...   \n",
       "11954  The graph of $y=f(x)$ is shown below, with $1$...   \n",
       "11959  Krista put 1 cent into her new bank on a Sunda...   \n",
       "11965  What is the ratio of the area of the shaded sq...   \n",
       "11981  In the diagram, $D$ and $E$ are the midpoints ...   \n",
       "11993  How many triangles are in the figure below? [a...   \n",
       "\n",
       "                                                solution         answer  \\\n",
       "0      The denominator of the rational function facto...              2   \n",
       "1      Adding 6 to both sides of $5x - 3 =12$ gives $...             18   \n",
       "2      There are $\\binom{6}{3}=20$ ways for Ryan to a...  \\dfrac{7}{20}   \n",
       "3      Since Alice wants to buy $3$ pounds of veal, w...           1.36   \n",
       "4      From the M, we can proceed to four different A...             28   \n",
       "...                                                  ...            ...   \n",
       "11954  If $f(x)=c$ has $6$ solutions, then the horizo...             -7   \n",
       "11959  The formula for a geometric series is $\\frac{a...  \\text{Sunday}   \n",
       "11965  Divide the square into $16$ smaller squares as...    \\frac{1}{8}   \n",
       "11981  Since $D$ is the midpoint of $\\overline{AB},$ ...   \\frac{21}{8}   \n",
       "11993  The smallest triangles in the figure are the r...             36   \n",
       "\n",
       "                      subject  level                                unique_id  \n",
       "0                     Algebra      3                      test/algebra/1.json  \n",
       "1                  Prealgebra      2                test/prealgebra/2002.json  \n",
       "2      Counting & Probability      5   test/counting_and_probability/967.json  \n",
       "3                  Prealgebra      4                test/prealgebra/2017.json  \n",
       "4      Counting & Probability      5   test/counting_and_probability/990.json  \n",
       "...                       ...    ...                                      ...  \n",
       "11954                 Algebra      5                  train/algebra/1304.json  \n",
       "11959                 Algebra      5                   train/algebra/627.json  \n",
       "11965              Prealgebra      5                train/prealgebra/241.json  \n",
       "11981                 Algebra      3                   train/algebra/374.json  \n",
       "11993  Counting & Probability      4  train/counting_and_probability/802.json  \n",
       "\n",
       "[6062 rows x 6 columns]"
      ]
     },
     "execution_count": 35,
     "metadata": {},
     "output_type": "execute_result"
    }
   ],
   "source": [
    "ds_not_in_train"
   ]
  },
  {
   "cell_type": "code",
   "execution_count": 38,
   "metadata": {},
   "outputs": [
    {
     "data": {
      "application/vnd.jupyter.widget-view+json": {
       "model_id": "55e0b8804ca146dbb6d7b984a1204aca",
       "version_major": 2,
       "version_minor": 0
      },
      "text/plain": [
       "Uploading the dataset shards:   0%|          | 0/1 [00:00<?, ?it/s]"
      ]
     },
     "metadata": {},
     "output_type": "display_data"
    },
    {
     "data": {
      "application/vnd.jupyter.widget-view+json": {
       "model_id": "537b7b1bf4f442688f10d08a38c93f5b",
       "version_major": 2,
       "version_minor": 0
      },
      "text/plain": [
       "Creating parquet from Arrow format:   0%|          | 0/7 [00:00<?, ?ba/s]"
      ]
     },
     "metadata": {},
     "output_type": "display_data"
    },
    {
     "data": {
      "text/plain": [
       "CommitInfo(commit_url='https://huggingface.co/datasets/emilbiju/NotInOpenThoughts-correct/commit/3a8536ed0520ff2dd41cfd2ebcd58606cbe9daae', commit_message='Upload dataset', commit_description='', oid='3a8536ed0520ff2dd41cfd2ebcd58606cbe9daae', pr_url=None, repo_url=RepoUrl('https://huggingface.co/datasets/emilbiju/NotInOpenThoughts-correct', endpoint='https://huggingface.co', repo_type='dataset', repo_id='emilbiju/NotInOpenThoughts-correct'), pr_revision=None, pr_num=None)"
      ]
     },
     "execution_count": 38,
     "metadata": {},
     "output_type": "execute_result"
    }
   ],
   "source": [
    "ds.push_to_hub(\"emilbiju/NotInOpenThoughts-correct\", \"math\")"
   ]
  },
  {
   "cell_type": "code",
   "execution_count": 12,
   "metadata": {},
   "outputs": [],
   "source": [
    "import random\n",
    "SUITS = ['diamonds', 'hearts', 'clubs', 'spades']\n",
    "RANKS = [str(i) for i in range(2,11)]+['J', 'Q', 'K', 'A']\n",
    "rank_nums = list(range(2,15))\n",
    "VALUES =  {RANKS[i]:rank_nums[i] for i in range(len(RANKS))}\n",
    "class Deck:\n",
    "    def __init__(self):\n",
    "        self.cards=[]\n",
    "        for suit in SUITS:\n",
    "            for value in RANKS:\n",
    "                self.cards.append(suit, value)\n",
    "\n",
    "    def shuffle(self):\n",
    "        self.cards = random.shuffle(self.cards)\n",
    "\n",
    "\n",
    "class Card:\n",
    "    def __init__(self, card):\n",
    "        self.suit = card[0]\n",
    "        self.value = VALUES[card[1]]\n",
    "\n",
    "\n",
    "class Player:\n",
    "    def __init__(self, name):\n",
    "        self.name = name\n",
    "        self.hole_cards = []\n",
    "        self.amount_bet = 0"
   ]
  },
  {
   "cell_type": "code",
   "execution_count": 13,
   "metadata": {},
   "outputs": [],
   "source": [
    "from collections import Counter"
   ]
  },
  {
   "cell_type": "code",
   "execution_count": 14,
   "metadata": {},
   "outputs": [],
   "source": [
    "def is_flush(five_cards):\n",
    "    possible_suit = five_cards[0].suit\n",
    "    if all([card.suit==possible_suit for card in five_cards]):\n",
    "        return True\n",
    "    \n",
    "def is_straight(five_cards):\n",
    "    sorted_cards = sorted([card.value for card in five_cards])\n",
    "    if set(list(range(sorted_cards[0], sorted_cards[0]+5))).issubset(set(sorted_cards)):\n",
    "        return sorted_cards[-1]\n",
    "    if {14,2,3,4,5}.issubset(set(sorted_cards)):\n",
    "        return 5\n",
    "    return None"
   ]
  },
  {
   "cell_type": "code",
   "execution_count": null,
   "metadata": {},
   "outputs": [],
   "source": [
    "def evaluate_five_cards(five_cards):\n",
    "    \"\"\"\n",
    "    1. High card\n",
    "    2. Pair\n",
    "    3. Two pair\n",
    "    4. 3 of a kind\n",
    "    5. Straight\n",
    "    6. Flush\n",
    "    7. Full house\n",
    "    8. 4 of a kind\n",
    "    9. Straight flush\n",
    "    \"\"\"\n",
    "    five_values = [card.value for card in five_cards]\n",
    "    five_values = sorted(five_values, reverse=True)\n",
    "    counts = Counter(five_values)\n",
    "    counts = counts.most_common()\n",
    "\n",
    "    if is_flush(five_cards) and is_straight(five_cards):\n",
    "        return (9, is_straight(five_cards))\n",
    "    if counts[0][1]==4:\n",
    "        return (8, counts[0][0], counts[1][0])\n",
    "    if counts[0][1]==3 and len(counts)>1 and counts[1][1]==2:\n",
    "        return (7, counts[0][0], counts[1][0])\n",
    "    if is_flush(five_cards):\n",
    "        return (6, )+tuple(five_values)\n",
    "    if is_straight(five_cards):\n",
    "        return (5, is_straight(five_cards))\n",
    "    if counts[0][1]==3:\n",
    "        kickers = [v for v in five_values if v!=counts[0][0]]\n",
    "        return (4, counts[0][0], ) + tuple(kickers)\n",
    "    if counts[0][1]==2 and len(counts)>1 and counts[1][1]==2:\n",
    "        return (3, counts[0][0], counts[1][0], counts[2][0])\n",
    "    if counts[0][1]==2:\n",
    "        return (2, counts[0][0], )"
   ]
  },
  {
   "cell_type": "code",
   "execution_count": 21,
   "metadata": {},
   "outputs": [],
   "source": [
    "li = Counter([3,3,4,4,1]).most_common()"
   ]
  },
  {
   "cell_type": "code",
   "execution_count": 22,
   "metadata": {},
   "outputs": [
    {
     "data": {
      "text/plain": [
       "[(4, 2), (3, 2), (1, 1)]"
      ]
     },
     "execution_count": 22,
     "metadata": {},
     "output_type": "execute_result"
    }
   ],
   "source": [
    "sorted(li, key=lambda x:(x[1],x[0]), reverse=True)"
   ]
  },
  {
   "cell_type": "code",
   "execution_count": 25,
   "metadata": {},
   "outputs": [
    {
     "data": {
      "text/plain": [
       "(1, 4, 3)"
      ]
     },
     "execution_count": 25,
     "metadata": {},
     "output_type": "execute_result"
    }
   ],
   "source": [
    "max([(1,4,3), (1,3,4)])"
   ]
  },
  {
   "cell_type": "code",
   "execution_count": 56,
   "metadata": {},
   "outputs": [
    {
     "data": {
      "application/vnd.jupyter.widget-view+json": {
       "model_id": "12bf5177bfea4f9d800065493a5ed27c",
       "version_major": 2,
       "version_minor": 0
      },
      "text/plain": [
       "README.md:   0%|          | 0.00/755 [00:00<?, ?B/s]"
      ]
     },
     "metadata": {},
     "output_type": "display_data"
    },
    {
     "data": {
      "application/vnd.jupyter.widget-view+json": {
       "model_id": "4fe687ffd67a4c2e932ab82da951a6d6",
       "version_major": 2,
       "version_minor": 0
      },
      "text/plain": [
       "train-00000-of-00001.parquet:   0%|          | 0.00/54.2M [00:00<?, ?B/s]"
      ]
     },
     "metadata": {},
     "output_type": "display_data"
    },
    {
     "data": {
      "application/vnd.jupyter.widget-view+json": {
       "model_id": "92e0cfdadd4f472ebd661270074bcf22",
       "version_major": 2,
       "version_minor": 0
      },
      "text/plain": [
       "test-00000-of-00001.parquet:   0%|          | 0.00/5.25M [00:00<?, ?B/s]"
      ]
     },
     "metadata": {},
     "output_type": "display_data"
    },
    {
     "data": {
      "application/vnd.jupyter.widget-view+json": {
       "model_id": "bbc41be7ec4a4d9483c0a81f259f2716",
       "version_major": 2,
       "version_minor": 0
      },
      "text/plain": [
       "Generating train split:   0%|          | 0/7749 [00:00<?, ? examples/s]"
      ]
     },
     "metadata": {},
     "output_type": "display_data"
    },
    {
     "data": {
      "application/vnd.jupyter.widget-view+json": {
       "model_id": "d18e8bd4aaaa4a7aa897466d59e4b683",
       "version_major": 2,
       "version_minor": 0
      },
      "text/plain": [
       "Generating test split:   0%|          | 0/834 [00:00<?, ? examples/s]"
      ]
     },
     "metadata": {},
     "output_type": "display_data"
    }
   ],
   "source": [
    "ds_combined = load_dataset(\"emilbiju/Planning-Data-Math-Orig-and-Dagger\")"
   ]
  },
  {
   "cell_type": "code",
   "execution_count": 57,
   "metadata": {},
   "outputs": [],
   "source": [
    "# Convert the Hugging Face dataset to a pandas DataFrame\n",
    "ds_combined_train_df = ds_combined['train'].to_pandas()\n",
    "ds_combined_test_df = ds_combined['test'].to_pandas()"
   ]
  },
  {
   "cell_type": "code",
   "execution_count": 58,
   "metadata": {},
   "outputs": [],
   "source": [
    "def remove_consecutive_duplicates(lst):\n",
    "    return [lst[i] for i in range(len(lst)) if i == 0 or lst[i] != lst[i - 1]]"
   ]
  },
  {
   "cell_type": "code",
   "execution_count": null,
   "metadata": {},
   "outputs": [],
   "source": [
    "ds_combined_train_df[\"ExpectedOutput\"] = ds_combined_train_df[\"ExpectedOutput\"].apply(lambda x:\"\\n\\n\".join(remove_consecutive_duplicates(x.split(\"\\n\\n\"))))"
   ]
  },
  {
   "cell_type": "code",
   "execution_count": 60,
   "metadata": {},
   "outputs": [
    {
     "data": {
      "text/plain": [
       "678.0269712220932"
      ]
     },
     "execution_count": 60,
     "metadata": {},
     "output_type": "execute_result"
    }
   ],
   "source": [
    "mean_length = ds_combined_train_df[\"ExpectedOutput\"].apply(len).mean()\n",
    "mean_length"
   ]
  },
  {
   "cell_type": "code",
   "execution_count": 61,
   "metadata": {},
   "outputs": [
    {
     "data": {
      "text/plain": [
       "1"
      ]
     },
     "execution_count": 61,
     "metadata": {},
     "output_type": "execute_result"
    }
   ],
   "source": [
    "len(ds_combined_train_df[ds_combined_train_df[\"ExpectedOutput\"]!=ds_combined_train_df[\"ExpectedOutputDedup\"]])"
   ]
  },
  {
   "cell_type": "code",
   "execution_count": 66,
   "metadata": {},
   "outputs": [
    {
     "data": {
      "text/plain": [
       "11890.908111174134"
      ]
     },
     "execution_count": 66,
     "metadata": {},
     "output_type": "execute_result"
    }
   ],
   "source": [
    "ds_combined_train_df[ds_combined_train_df[\"ExpectedOutput\"].str.contains(\"<Final_answer>\")][\"UserPrompt\"].apply(len).mean()"
   ]
  },
  {
   "cell_type": "code",
   "execution_count": 54,
   "metadata": {},
   "outputs": [
    {
     "name": "stdout",
     "output_type": "stream",
     "text": [
      "<think>\n",
      "How come?\n",
      "\n",
      "Wait, there's a discrepancy here. Let me check again. If (1 - cos2θ)/(1 + cos2θ) = tan²θ, then substituting tanθ = 2, tan²θ = 4, so (1 - cos2θ)/(1 + cos2θ) = 4. But when I calculated using sin2θ, I got 4/9. Which is correct?\n",
      "\n",
      "Wait, hold on. If (1 - cos2θ)/(1 + cos2θ) = tan²θ, then tan²θ = (1 - cos2θ)/(1 + cos2θ). But if tanθ = 2, then tan²θ = 4. Therefore, (1 - cos2θ)/(1 + cos2θ) = 4. Therefore, solving for cos2θ:\n",
      "\n",
      "1 - cos2θ = 4(1 + cos2θ)\n",
      "\n",
      "1 - cos2θ = 4 + 4 cos2θ\n",
      "\n",
      "1 - 4 = 4 cos2θ + cos2θ\n",
      "\n",
      "-3 = 5 cos2θ\n",
      "\n",
      "cos2θ = -3/5\n",
      "\n",
      "Therefore, sin2θ = sqrt(1 - cos²2θ) = sqrt(1 - 9/25) = sqrt(16/25) = 4/5. So sin2θ = 4/5. Then, (1 - cos2θ)/(1 + cos2θ) = (1 - (-3/5))/(1 + (-3/5)) = (8/5)/(2/5) = 4. So that's consistent. Therefore, (1 - cos2θ)/(1 + cos2θ) = 4. Therefore, the expression simplifies to 4. But earlier, when I computed (1 - cos2θ)/(1 + cos2θ) directly using sin2θ, I got 4/9. Wait, that must be wrong. Wait, no. Wait, (1 - cos2θ)/(1 + cos2θ) is equal to tan²θ, which is 4. Therefore, if I compute (1 - cos2θ)/(1 + cos2θ) directly, it should be 4. But when I computed using sin2θ, I got 4/9. That's a contradiction. Therefore, I must have made a mistake in one of the steps.\n",
      "\n",
      "Wait, let's check. If tanθ = 2, then θ is such that sinθ = 2/sqrt(5) and cosθ = 1/sqrt(5). Then, sin2θ = 2 sinθ cosθ = 2*(2/sqrt(5))*(1/sqrt(5)) = 4/5. Then, cos2θ = 1 - 2 sin²θ = 1 - 2*(4/5) = 1 - 8/5 = -3/5. Therefore, (1 - cos2θ)/(1 + cos2θ) = (1 - (-3/5))/(1 + (-3/5)) = (8/5)/(2/5) = 4. So that's correct. Therefore, (1 - cos2θ)/(1 + cos2θ) = 4. Therefore, the expression simplifies to 4. So why when I computed (1 - cos2θ)/(1 + cos2θ) as 4/9 earlier? Wait, no. Wait, in the previous step, when I computed (1 - cos2θ)/(1 + cos2θ) using sin2θ, I thought of it as (1 - cos2θ)/(1 + cos2θ) = (1 - (-3/5))/(1 + (-3/5)) = 4. So that's 4. So why did I write 4/9 before? That must have been a mistake. Wait, no. Wait, when I first calculated (1 - cos2θ)/(1 + cos2θ) as 4/9, that was incorrect. Because if cos2θ = -3/5, then 1 - cos2θ = 1 - (-3/5) = 8/5, and 1 + cos2θ = 1 + (-3/5) = 2/5. Therefore, 8/5 divided by 2/5 is 4. So that's correct. Therefore, the expression simplifies to 4. So my initial mistake was when I thought of (1 - cos2θ)/(1 + cos2θ) as 4/9, which was wrong. The correct value is 4. Therefore, the simplified expression is 4.\n",
      "\n",
      "Therefore, the answer is 2i.\n",
      "\n",
      "But wait, earlier when I converted to sine and cosine, I got 4/9. Wait, that's conflicting. What's going on here?\n",
      "\n",
      "Wait, hold on. There's a mistake here. Let me check again. If I use the identity (1 - cos2θ)/(1 + cos2θ) = tan²θ, then substituting tanθ = 2, tan²θ = 4, so (1 - cos2θ)/(1 + cos2θ) = 4. Therefore, the expression simplifies to 4. But when I converted to sine and cosine earlier, I thought of (1 - cos2θ)/(1 + cos2θ) as tan²θ, which is 4. So, that's correct. But when I computed (1 - cos2θ)/(1 + cos2θ) directly using θ with tanθ = 2, I got 4/9. Wait, that's a contradiction. Which one is correct?\n",
      "\n",
      "Wait, no. Wait, if (1 - cos2θ)/(1 + cos2θ) = tan²θ, then if tanθ = 2, then tan²θ = 4, so (1 - cos2θ)/(1 + cos2θ) = 4. Therefore, the expression simplifies to 4. But when I computed (1 - cos2θ)/(1 + cos2θ) by first finding cos2θ, I got 4/9. That must be wrong. Wait, let's check.\n",
      "\n",
      "Wait, if tanθ = 2, then θ is such that sinθ = 2/sqrt(5) and cosθ = 1/sqrt(5). Then, cos2θ = 1 - 2 sin²θ = 1 - 2*(4/5) = 1 - 8/5 = -3/5. Therefore, 1 - cos2θ = 1 - (-3/5) = 8/5, and 1 + cos2θ = 1 + (-3/5) = 2/5. Therefore, (1 - cos2θ)/(1 + cos2θ) = (8/5)/(2/5) = 4. So, that's 4. Therefore, the expression simplifies to 4. So, why did I earlier compute (1 - cos2θ)/(1 + cos2θ) as 4/9? Because I must have made a mistake in that calculation. Let me check.\n",
      "\n",
      "Wait, earlier I thought of sin2θ = 4/5, so 1 - cos2θ = 2 sin²θ = 2*(4/5) = 8/5, and 1 + cos2θ = 2 cos²θ = 2*(1/5) = 2/5. Therefore, 8/5 divided by 2/5 is 4. So, that's correct. So, the expression (1 - cos2θ)/(1 + cos2θ) is 4, which is equal to tan²θ. So, that's consistent. Therefore, the simplified expression is 4. Therefore, the answer is 4.\n",
      "\n",
      "But according to the first method, after expanding, we had 2i sin2θ in the numerator and 2(1 + cos2θ) in the denominator, leading to (i sin2θ)/(1 + cos2θ) = i tanθ. So that's consistent. Therefore, the expression simplifies to i tanθ, which is 2i. Therefore, the answer is 2i.\n",
      "But according to the first method, after expanding, we had 2i sin2θ in the numerator and 2(1 + cos2θ) in the denominator, leading to (i sin2θ)/(1 + cos2θ) = i tanθ. So that's consistent. Therefore, the expression simplifies to i tanθ, which is 2i. Therefore, the answer is 2i.\n",
      "\n",
      "But according to the first method, after expanding, we had 2i sin2θ in the numerator and 2(1 + cos2θ) in the denominator, leading to (i sin2θ)/(1 + cos2θ) = i tanθ. So that's consistent. Therefore, the expression simplifies to i tanθ, which is 2i. Therefore, the answer is 2i.\n",
      "\n",
      "But according to the first method, after expanding, we had 2i sin2θ in the numerator and 2(1 + cos2θ) in the denominator, leading to (i sin2θ)/(1 + cos2θ) = i tanθ. So that's consistent. Therefore, the expression simplifies to i tanθ, which is 2i. Therefore, the answer is 2i.\n",
      "\n",
      " But wait, according to the numerical calculation earlier, the result is 2i, which matches this. So, why did I earlier get confused with 4? Because there was a mistake in the first approach where I thought the expression simplifies to tan²θ, but that's incorrect. In reality, when I multiplied the numerator and denominator by e^(-iθ), the expression becomes [e^(iθ) - e^(-iθ)]/[e^(iθ) + e^(-iθ)] = (2i sinθ)/(2 cosθ) = i tanθ. Therefore, the correct answer is i tanθ, which is 2i. So why was there a discrepancy?\n",
      "\n",
      " Ah, I realize now. The mistake was in the first approach where I expanded e^(2iθ) - 1 and e^(2iθ) + 1 and then attempted to multiply by the conjugate. However, during the expansion, I thought I was getting a real number, but in reality, the numerator is 2i sin2θ and the denominator is 2(1 + cos2θ). Then, (i sin2θ)/(1 + cos2θ) = i tanθ, which is the same as the other method. Therefore, despite the initial confusion, the correct answer is 2i.\n",
      "\n",
      " Therefore, the final answer is 2i. But wait, let's confirm with the numerical calculation. When we computed the expression with θ = arctan(2), we found the result to be 2i. So, that's correct. Therefore, the answer is 2i.\n",
      "\n",
      " Earlier, when I thought the expression simplifies to tan²θ = 4, that was incorrect. The confusion arose because when I considered the real part of the complex expression, but upon substituting with actual numerical values, the answer is purely imaginary, 2i.\n",
      "</think>\n"
     ]
    }
   ],
   "source": [
    "print(ds_combined_train_df[ds_combined_train_df[\"ExpectedOutput\"]!=ds_combined_train_df[\"ExpectedOutputDedup\"]][\"ExpectedOutput\"].iloc[1])"
   ]
  },
  {
   "cell_type": "code",
   "execution_count": 53,
   "metadata": {},
   "outputs": [
    {
     "name": "stdout",
     "output_type": "stream",
     "text": [
      "<think>\n",
      "How come?\n",
      "\n",
      "Wait, there's a discrepancy here. Let me check again. If (1 - cos2θ)/(1 + cos2θ) = tan²θ, then substituting tanθ = 2, tan²θ = 4, so (1 - cos2θ)/(1 + cos2θ) = 4. But when I calculated using sin2θ, I got 4/9. Which is correct?\n",
      "\n",
      "Wait, hold on. If (1 - cos2θ)/(1 + cos2θ) = tan²θ, then tan²θ = (1 - cos2θ)/(1 + cos2θ). But if tanθ = 2, then tan²θ = 4. Therefore, (1 - cos2θ)/(1 + cos2θ) = 4. Therefore, solving for cos2θ:\n",
      "\n",
      "1 - cos2θ = 4(1 + cos2θ)\n",
      "\n",
      "1 - cos2θ = 4 + 4 cos2θ\n",
      "\n",
      "1 - 4 = 4 cos2θ + cos2θ\n",
      "\n",
      "-3 = 5 cos2θ\n",
      "\n",
      "cos2θ = -3/5\n",
      "\n",
      "Therefore, sin2θ = sqrt(1 - cos²2θ) = sqrt(1 - 9/25) = sqrt(16/25) = 4/5. So sin2θ = 4/5. Then, (1 - cos2θ)/(1 + cos2θ) = (1 - (-3/5))/(1 + (-3/5)) = (8/5)/(2/5) = 4. So that's consistent. Therefore, (1 - cos2θ)/(1 + cos2θ) = 4. Therefore, the expression simplifies to 4. But earlier, when I computed (1 - cos2θ)/(1 + cos2θ) directly using sin2θ, I got 4/9. Wait, that must be wrong. Wait, no. Wait, (1 - cos2θ)/(1 + cos2θ) is equal to tan²θ, which is 4. Therefore, if I compute (1 - cos2θ)/(1 + cos2θ) directly, it should be 4. But when I computed using sin2θ, I got 4/9. That's a contradiction. Therefore, I must have made a mistake in one of the steps.\n",
      "\n",
      "Wait, let's check. If tanθ = 2, then θ is such that sinθ = 2/sqrt(5) and cosθ = 1/sqrt(5). Then, sin2θ = 2 sinθ cosθ = 2*(2/sqrt(5))*(1/sqrt(5)) = 4/5. Then, cos2θ = 1 - 2 sin²θ = 1 - 2*(4/5) = 1 - 8/5 = -3/5. Therefore, (1 - cos2θ)/(1 + cos2θ) = (1 - (-3/5))/(1 + (-3/5)) = (8/5)/(2/5) = 4. So that's correct. Therefore, (1 - cos2θ)/(1 + cos2θ) = 4. Therefore, the expression simplifies to 4. So why when I computed (1 - cos2θ)/(1 + cos2θ) as 4/9 earlier? Wait, no. Wait, in the previous step, when I computed (1 - cos2θ)/(1 + cos2θ) using sin2θ, I thought of it as (1 - cos2θ)/(1 + cos2θ) = (1 - (-3/5))/(1 + (-3/5)) = 4. So that's 4. So why did I write 4/9 before? That must have been a mistake. Wait, no. Wait, when I first calculated (1 - cos2θ)/(1 + cos2θ) as 4/9, that was incorrect. Because if cos2θ = -3/5, then 1 - cos2θ = 1 - (-3/5) = 8/5, and 1 + cos2θ = 1 + (-3/5) = 2/5. Therefore, 8/5 divided by 2/5 is 4. So that's correct. Therefore, the expression simplifies to 4. So my initial mistake was when I thought of (1 - cos2θ)/(1 + cos2θ) as 4/9, which was wrong. The correct value is 4. Therefore, the simplified expression is 4.\n",
      "\n",
      "Therefore, the answer is 2i.\n",
      "\n",
      "But wait, earlier when I converted to sine and cosine, I got 4/9. Wait, that's conflicting. What's going on here?\n",
      "\n",
      "Wait, hold on. There's a mistake here. Let me check again. If I use the identity (1 - cos2θ)/(1 + cos2θ) = tan²θ, then substituting tanθ = 2, tan²θ = 4, so (1 - cos2θ)/(1 + cos2θ) = 4. Therefore, the expression simplifies to 4. But when I converted to sine and cosine earlier, I thought of (1 - cos2θ)/(1 + cos2θ) as tan²θ, which is 4. So, that's correct. But when I computed (1 - cos2θ)/(1 + cos2θ) directly using θ with tanθ = 2, I got 4/9. Wait, that's a contradiction. Which one is correct?\n",
      "\n",
      "Wait, no. Wait, if (1 - cos2θ)/(1 + cos2θ) = tan²θ, then if tanθ = 2, then tan²θ = 4, so (1 - cos2θ)/(1 + cos2θ) = 4. Therefore, the expression simplifies to 4. But when I computed (1 - cos2θ)/(1 + cos2θ) by first finding cos2θ, I got 4/9. That must be wrong. Wait, let's check.\n",
      "\n",
      "Wait, if tanθ = 2, then θ is such that sinθ = 2/sqrt(5) and cosθ = 1/sqrt(5). Then, cos2θ = 1 - 2 sin²θ = 1 - 2*(4/5) = 1 - 8/5 = -3/5. Therefore, 1 - cos2θ = 1 - (-3/5) = 8/5, and 1 + cos2θ = 1 + (-3/5) = 2/5. Therefore, (1 - cos2θ)/(1 + cos2θ) = (8/5)/(2/5) = 4. So, that's 4. Therefore, the expression simplifies to 4. So, why did I earlier compute (1 - cos2θ)/(1 + cos2θ) as 4/9? Because I must have made a mistake in that calculation. Let me check.\n",
      "\n",
      "Wait, earlier I thought of sin2θ = 4/5, so 1 - cos2θ = 2 sin²θ = 2*(4/5) = 8/5, and 1 + cos2θ = 2 cos²θ = 2*(1/5) = 2/5. Therefore, 8/5 divided by 2/5 is 4. So, that's correct. So, the expression (1 - cos2θ)/(1 + cos2θ) is 4, which is equal to tan²θ. So, that's consistent. Therefore, the simplified expression is 4. Therefore, the answer is 4.\n",
      "\n",
      "But according to the first method, after expanding, we had 2i sin2θ in the numerator and 2(1 + cos2θ) in the denominator, leading to (i sin2θ)/(1 + cos2θ) = i tanθ. So that's consistent. Therefore, the expression simplifies to i tanθ, which is 2i. Therefore, the answer is 2i.\n",
      "But according to the first method, after expanding, we had 2i sin2θ in the numerator and 2(1 + cos2θ) in the denominator, leading to (i sin2θ)/(1 + cos2θ) = i tanθ. So that's consistent. Therefore, the expression simplifies to i tanθ, which is 2i. Therefore, the answer is 2i.\n",
      "\n",
      "But according to the first method, after expanding, we had 2i sin2θ in the numerator and 2(1 + cos2θ) in the denominator, leading to (i sin2θ)/(1 + cos2θ) = i tanθ. So that's consistent. Therefore, the expression simplifies to i tanθ, which is 2i. Therefore, the answer is 2i.\n",
      "\n",
      " But wait, according to the numerical calculation earlier, the result is 2i, which matches this. So, why did I earlier get confused with 4? Because there was a mistake in the first approach where I thought the expression simplifies to tan²θ, but that's incorrect. In reality, when I multiplied the numerator and denominator by e^(-iθ), the expression becomes [e^(iθ) - e^(-iθ)]/[e^(iθ) + e^(-iθ)] = (2i sinθ)/(2 cosθ) = i tanθ. Therefore, the correct answer is i tanθ, which is 2i. So why was there a discrepancy?\n",
      "\n",
      " Ah, I realize now. The mistake was in the first approach where I expanded e^(2iθ) - 1 and e^(2iθ) + 1 and then attempted to multiply by the conjugate. However, during the expansion, I thought I was getting a real number, but in reality, the numerator is 2i sin2θ and the denominator is 2(1 + cos2θ). Then, (i sin2θ)/(1 + cos2θ) = i tanθ, which is the same as the other method. Therefore, despite the initial confusion, the correct answer is 2i.\n",
      "\n",
      " Therefore, the final answer is 2i. But wait, let's confirm with the numerical calculation. When we computed the expression with θ = arctan(2), we found the result to be 2i. So, that's correct. Therefore, the answer is 2i.\n",
      "\n",
      " Earlier, when I thought the expression simplifies to tan²θ = 4, that was incorrect. The confusion arose because when I considered the real part of the complex expression, but upon substituting with actual numerical values, the answer is purely imaginary, 2i.\n",
      "</think>\n"
     ]
    }
   ],
   "source": [
    "print(ds_combined_train_df[ds_combined_train_df[\"ExpectedOutput\"]!=ds_combined_train_df[\"ExpectedOutputDedup\"]][\"ExpectedOutputDedup\"].iloc[1])"
   ]
  },
  {
   "cell_type": "code",
   "execution_count": null,
   "metadata": {},
   "outputs": [
    {
     "data": {
      "text/plain": [
       "[\"<think>\\nThen, the standard form is x²/(4) + y²/(4/m) = 1. Then, a² = 4/m (since it's the denominator under y², which is larger when m < 1), and b² = 4. Then, c² = a² - b² = (4/m) - 4 = 4(1/m - 1). Therefore, the foci are located at (0, ±c) where c = sqrt(4(1/m - 1)) = 2*sqrt(1/m - 1). These foci must lie on the circle x² + y² = 16. Therefore, substituting (0, c) into the circle equation: 0² + c² = 16. So, c² = 16. But c² is 4(1/m - 1). Therefore, 4(1/m - 1) = 16 → 1/m - 1 = 4 → 1/m = 5 → m = 1/5. But here, m = 1/5 is positive and less than 1, which satisfies the condition for the ellipse with major axis along the y-axis. Therefore, this gives another solution, m = 1/5.\",\n",
       " ' Wait, this is a new possibility. So, if m is positive and less than 1, then the foci are on the y-axis. Then, substituting into the circle equation gives 4(1/m - 1) = 16 → 1/m - 1 = 4 → 1/m = 5 → m = 1/5. Therefore, m = 1/5 is another solution. So, now we have two possible solutions: m = -1/3 and m = 1/5.',\n",
       " ' But let me check this again. When m is positive and less than 1, the ellipse has major axis along the y-axis, so foci are located on the y-axis. Then, the distance from the center is c = sqrt(a² - b²), where a² is the denominator under y² (4/m), and b² is 4. Therefore, c² = a² - b² = 4/m - 4. So, c = sqrt(4/m - 4). Then, since the foci are at (0, ±c), substituting into the circle equation: 0 + c² = 16. So, 4/m - 4 = 16. Then, 4/m = 20 → m = 4/20 = 1/5. So, m = 1/5. Therefore, this is valid. Therefore, there are two values: m = -1/3 and m = 1/5.',\n",
       " ' Wait, so why did I not consider this case before? Because in the initial analysis, when I considered the ellipse case, I tried m > 0 but got a contradiction, but I only considered the major axis along the x-axis (m > 1) and y-axis (m < 1). So, when m < 1, the foci are on the y-axis, and then by substituting into the circle equation, we get m = 1/5. So, now this suggests that there are two solutions: m = -1/3 and m = 1/5.',\n",
       " ' But earlier, when I considered m > 0 but substituted into the foci on the x-axis, I got a contradiction. But when m < 1, the foci are on the y-axis, so substituting into the circle equation gives a valid solution. Therefore, the answer should be both m = 1/5 and m = -1/3.\\n</think>']"
      ]
     },
     "execution_count": 46,
     "metadata": {},
     "output_type": "execute_result"
    }
   ],
   "source": [
    "ds_combined_train_df[\"ExpectedOutput\"].iloc[0].split(\"\\n\\n\")"
   ]
  },
  {
   "cell_type": "code",
   "execution_count": null,
   "metadata": {},
   "outputs": [],
   "source": []
  }
 ],
 "metadata": {
  "kernelspec": {
   "display_name": "base",
   "language": "python",
   "name": "python3"
  },
  "language_info": {
   "codemirror_mode": {
    "name": "ipython",
    "version": 3
   },
   "file_extension": ".py",
   "mimetype": "text/x-python",
   "name": "python",
   "nbconvert_exporter": "python",
   "pygments_lexer": "ipython3",
   "version": "3.10.14"
  }
 },
 "nbformat": 4,
 "nbformat_minor": 2
}
