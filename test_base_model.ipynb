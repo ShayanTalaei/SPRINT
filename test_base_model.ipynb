{
 "cells": [
  {
   "cell_type": "code",
   "execution_count": 2,
   "metadata": {},
   "outputs": [
    {
     "name": "stderr",
     "output_type": "stream",
     "text": [
      "/Users/emilbiju/anaconda3/lib/python3.10/site-packages/pandas/core/arrays/masked.py:60: UserWarning: Pandas requires version '1.3.6' or newer of 'bottleneck' (version '1.3.5' currently installed).\n",
      "  from pandas.core import (\n"
     ]
    }
   ],
   "source": [
    "import pandas as pd\n",
    "import numpy as np\n",
    "from datasets import load_dataset, DatasetDict, Dataset\n",
    "import sys\n",
    "sys.path.append(\"src/utils/\")\n",
    "import text_processing_utils\n",
    "import component_formatting_utils\n",
    "import evaluate_utils\n",
    "from concurrent.futures import ThreadPoolExecutor, as_completed\n",
    "from engine import get_engine, invoke_engine\n",
    "import os\n",
    "import time, re, csv\n",
    "import langchain_core\n",
    "from tqdm import tqdm"
   ]
  },
  {
   "cell_type": "code",
   "execution_count": 3,
   "metadata": {},
   "outputs": [],
   "source": [
    "# df = pd.read_csv(\"/Users/emilbiju/Downloads/base_model_output_gsm8k_DeepSeek-R1-Distill-Qwen-7B.csv\")\n",
    "# accuracy, num_problems_attempted, num_problems_incomplete, res_df_complete = evaluate_utils.get_eval_metrics(df)"
   ]
  },
  {
   "cell_type": "code",
   "execution_count": 4,
   "metadata": {},
   "outputs": [],
   "source": [
    "def last_boxed_only_string(string: str):\n",
    "    idx = string.rfind(\"\\\\boxed\")\n",
    "    if \"\\\\boxed \" in string:\n",
    "        return \"\\\\boxed \" + string.split(\"\\\\boxed \")[-1].split(\"$\")[0]\n",
    "    if idx < 0:\n",
    "        idx = string.rfind(\"\\\\fbox\")\n",
    "        if idx < 0:\n",
    "            return None\n",
    "\n",
    "    i = idx\n",
    "    right_brace_idx = None\n",
    "    num_left_braces_open = 0\n",
    "    while i < len(string):\n",
    "        if string[i] == \"{\":\n",
    "            num_left_braces_open += 1\n",
    "        if string[i] == \"}\":\n",
    "            num_left_braces_open -= 1\n",
    "            if num_left_braces_open == 0:\n",
    "                right_brace_idx = i\n",
    "                break\n",
    "        i += 1\n",
    "\n",
    "    if right_brace_idx is None:\n",
    "        retval = None\n",
    "    else:\n",
    "        retval = string[idx : right_brace_idx + 1]\n",
    "\n",
    "    return retval\n",
    "\n",
    "def remove_boxed(s: str) -> str:\n",
    "    if \"\\\\boxed \" in s:\n",
    "        left = \"\\\\boxed \"\n",
    "        assert s[: len(left)] == left\n",
    "        return s[len(left) :]\n",
    "\n",
    "    left = \"\\\\boxed{\"\n",
    "\n",
    "    assert s[: len(left)] == left\n",
    "    assert s[-1] == \"}\"\n",
    "\n",
    "    return s[len(left) : -1]"
   ]
  },
  {
   "cell_type": "code",
   "execution_count": 5,
   "metadata": {},
   "outputs": [],
   "source": [
    "model = \"deepseek-ai/DeepSeek-R1-Distill-Qwen-7B\"\n",
    "inference_server_url = \"http://34.173.72.140:8000/v1/\"\n",
    "dataset_name = \"emilbiju/OpenThoughts-correct\"\n",
    "split = \"train\"\n",
    "test_subset = \"math\"\n",
    "ds = load_dataset(dataset_name, test_subset)\n",
    "ds = ds[split]"
   ]
  },
  {
   "cell_type": "code",
   "execution_count": 6,
   "metadata": {},
   "outputs": [],
   "source": [
    "ds = ds.map(lambda x: {'final_answer': evaluate_utils.remove_boxed(evaluate_utils.last_boxed_only_string(x['solution']))})\n"
   ]
  },
  {
   "cell_type": "code",
   "execution_count": 7,
   "metadata": {},
   "outputs": [],
   "source": [
    "engine = get_engine(model, temperature=0.6, inference_server_url=inference_server_url)\n",
    "# ds = load_dataset(dataset_name, test_subset)\n",
    "# ds = ds[split]\n",
    "num_samples = len(ds)\n",
    "\n",
    "ds_cols = ds.column_names\n",
    "question_col = [col for col in ds_cols if col in [\"Question\", \"question\", \"Problem\", \"problem\"]]\n",
    "assert len(question_col) == 1, f\"Found multiple question columns: {question_col}\"\n",
    "question_col = question_col[0]\n",
    "\n",
    "final_answer_col = [col for col in ds_cols if col in [\"FinalAnswer\", \"final_answer\", \"Answer\", \"answer\"]]\n",
    "assert len(final_answer_col) == 1, f\"Found multiple final answer columns: {final_answer_col}\"\n",
    "final_answer_col = final_answer_col[0]\n",
    "\n",
    "# problem_idx_col = [col for col in ds_cols if col in [\"ProblemIdx\", \"problemidx\", \"unique_id\"]]\n",
    "# assert len(problem_idx_col) == 1, f\"Found multiple problem index columns: {problem_idx_col}\"\n",
    "# problem_idx_col = problem_idx_col[0]\n",
    "# if \"/\" in ds[problem_idx_col][0]:\n",
    "#     ds = ds.map(lambda x: {'unique_id' : os.path.splitext(os.path.basename(x['unique_id']))[0]})"
   ]
  },
  {
   "cell_type": "code",
   "execution_count": 8,
   "metadata": {},
   "outputs": [],
   "source": [
    "prompt = \"\"\"Your role as an assistant involves thoroughly exploring questions through a systematic long thinking process before providing the final precise and accurate solutions. This requires engaging in a comprehensive cycle of analysis, summarizing, exploration, reassessment, reflection, backtracing, and iteration to develop well-considered thinking process. Please structure your response into two main sections: Thought and Solution. In the Thought section, detail your reasoning process using the specified format: <think> \\{thought with steps separated with '\\n\\n'\\} </think> Each step should include detailed considerations such as analisying questions, summarizing relevant findings, brainstorming new ideas, verifying the accuracy of the current steps, refining any errors, and revisiting previous steps. In the Solution section, based on various attempts, explorations, and reflections from the Thought section, systematically present the final solution that you deem correct. The solution should remain a logical, accurate, concise expression style and detail necessary step needed to reach the conclusion. Now, try to solve the following question through the above guidelines:\n",
    "\n",
    "Return your final response within \\\\boxed{}.\n",
    "\"\"\""
   ]
  },
  {
   "cell_type": "code",
   "execution_count": 9,
   "metadata": {},
   "outputs": [],
   "source": [
    "logs_dir = os.getenv(\"LOGS_DIR\")                                                \n",
    "base_model_output_dir = os.path.join(logs_dir, f\"base_model_output_{model.replace('/', '_')}/{os.path.basename(dataset_name)}_{os.path.basename(test_subset)}\")"
   ]
  },
  {
   "cell_type": "code",
   "execution_count": 10,
   "metadata": {},
   "outputs": [],
   "source": [
    "os.makedirs(base_model_output_dir, exist_ok=True)"
   ]
  },
  {
   "cell_type": "code",
   "execution_count": 11,
   "metadata": {},
   "outputs": [],
   "source": [
    "def process_question(i, engine):\n",
    "    for retry in range(3):\n",
    "        try:\n",
    "            question = ds[question_col][i]\n",
    "            # problem_idx = ds[problem_idx_col][i]\n",
    "            true_final_answer = ds[final_answer_col][i]\n",
    "            \n",
    "            start_time = time.time()\n",
    "            response = invoke_engine(engine, prompt+\" \"+question+\"\\n\\n<think>\\n\")\n",
    "            if type(response)==langchain_core.messages.ai.AIMessage:\n",
    "                response = response.content\n",
    "            end_time = time.time()\n",
    "            elapsed_time = end_time - start_time\n",
    "            \n",
    "            try:\n",
    "                predicted_final_answer = remove_boxed(last_boxed_only_string(response))\n",
    "                if predicted_final_answer is not None and predicted_final_answer.strip() == \"\":\n",
    "                    predicted_final_answer = None\n",
    "            except:\n",
    "                predicted_final_answer = None\n",
    "            \n",
    "            with open(os.path.join(base_model_output_dir, \"base_model_output.csv\"), mode='a', newline='') as file:\n",
    "                writer = csv.writer(file)\n",
    "                if file.tell() == 0:  # Check if file is empty to write the header\n",
    "                    writer.writerow([\"ProblemIdx\", \"PredictedFinalAnswer\", \"TrueFinalAnswer\", \"ElapsedTime\", \"Question\", \"ModelResponse\"])\n",
    "                writer.writerow([i, predicted_final_answer, true_final_answer, elapsed_time, question, response])\n",
    "                \n",
    "            break\n",
    "        except Exception as e:\n",
    "            import traceback\n",
    "            print(f\"Failed to process question with problem_idx={i} with error: {e}\")\n",
    "            traceback.print_exc()\n",
    "            print(f\"Using retry {retry+1}/3\")\n",
    "    return"
   ]
  },
  {
   "cell_type": "code",
   "execution_count": 12,
   "metadata": {},
   "outputs": [
    {
     "name": "stderr",
     "output_type": "stream",
     "text": [
      "100%|██████████| 1153/1153 [00:00<00:00, 6612.55it/s]\n"
     ]
    },
    {
     "name": "stdout",
     "output_type": "stream",
     "text": [
      "Failed to process with error: 970 (of 1153) futures unfinished\n"
     ]
    }
   ],
   "source": [
    "with ThreadPoolExecutor(max_workers=20) as executor:\n",
    "    futures = [executor.submit(process_question, j, engine) for j in tqdm(range(5110, num_samples))]\n",
    "    try:\n",
    "        for future in as_completed(futures, timeout=200):\n",
    "            future.result()\n",
    "    except Exception as e:\n",
    "        print(f\"Failed to process with error: {e}\")"
   ]
  },
  {
   "cell_type": "code",
   "execution_count": null,
   "metadata": {},
   "outputs": [],
   "source": []
  }
 ],
 "metadata": {
  "kernelspec": {
   "display_name": "base",
   "language": "python",
   "name": "python3"
  },
  "language_info": {
   "codemirror_mode": {
    "name": "ipython",
    "version": 3
   },
   "file_extension": ".py",
   "mimetype": "text/x-python",
   "name": "python",
   "nbconvert_exporter": "python",
   "pygments_lexer": "ipython3",
   "version": "3.10.14"
  }
 },
 "nbformat": 4,
 "nbformat_minor": 2
}
