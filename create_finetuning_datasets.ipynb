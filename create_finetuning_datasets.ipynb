{
 "cells": [
  {
   "cell_type": "code",
   "execution_count": 1,
   "metadata": {},
   "outputs": [
    {
     "name": "stderr",
     "output_type": "stream",
     "text": [
      "/Users/emilbiju/anaconda3/lib/python3.10/site-packages/pandas/core/arrays/masked.py:60: UserWarning: Pandas requires version '1.3.6' or newer of 'bottleneck' (version '1.3.5' currently installed).\n",
      "  from pandas.core import (\n"
     ]
    }
   ],
   "source": [
    "import pandas as pd\n",
    "from datasets import Dataset, DatasetDict\n",
    "from datasets import load_dataset\n",
    "import sys, re, os\n",
    "sys.path.append(\"src/utils/\")\n",
    "import text_processing_utils\n",
    "import evaluate_utils\n",
    "from transformers import AutoTokenizer"
   ]
  },
  {
   "cell_type": "code",
   "execution_count": 2,
   "metadata": {},
   "outputs": [],
   "source": [
    "logs_dir = os.getenv(\"LOGS_DIR\")\n",
    "data_hub_path = os.getenv(\"DATA_HUB_PATH\")\n",
    "subset = os.getenv(\"SUBSET\")\n",
    "dataset_name = data_hub_path.split(\"/\")[-1]\n",
    "finetuning_data_dir = os.path.join(logs_dir, f\"finetuning_data/{os.path.basename(dataset_name)}_{os.path.basename(subset)}\")"
   ]
  },
  {
   "cell_type": "code",
   "execution_count": 3,
   "metadata": {},
   "outputs": [
    {
     "ename": "FileNotFoundError",
     "evalue": "[Errno 2] No such file or directory: 'logs/finetuning_data/OpenThoughts-correct_math/finetuning_df_train.csv'",
     "output_type": "error",
     "traceback": [
      "\u001b[0;31m---------------------------------------------------------------------------\u001b[0m",
      "\u001b[0;31mFileNotFoundError\u001b[0m                         Traceback (most recent call last)",
      "Cell \u001b[0;32mIn [3], line 1\u001b[0m\n\u001b[0;32m----> 1\u001b[0m train_df \u001b[38;5;241m=\u001b[39m \u001b[43mpd\u001b[49m\u001b[38;5;241;43m.\u001b[39;49m\u001b[43mread_csv\u001b[49m\u001b[43m(\u001b[49m\u001b[43mos\u001b[49m\u001b[38;5;241;43m.\u001b[39;49m\u001b[43mpath\u001b[49m\u001b[38;5;241;43m.\u001b[39;49m\u001b[43mjoin\u001b[49m\u001b[43m(\u001b[49m\u001b[43mfinetuning_data_dir\u001b[49m\u001b[43m,\u001b[49m\u001b[43m \u001b[49m\u001b[38;5;124;43m\"\u001b[39;49m\u001b[38;5;124;43mfinetuning_df_train.csv\u001b[39;49m\u001b[38;5;124;43m\"\u001b[39;49m\u001b[43m)\u001b[49m\u001b[43m)\u001b[49m\n\u001b[1;32m      2\u001b[0m test_df \u001b[38;5;241m=\u001b[39m pd\u001b[38;5;241m.\u001b[39mread_csv(os\u001b[38;5;241m.\u001b[39mpath\u001b[38;5;241m.\u001b[39mjoin(finetuning_data_dir, \u001b[38;5;124m\"\u001b[39m\u001b[38;5;124mfinetuning_df_test.csv\u001b[39m\u001b[38;5;124m\"\u001b[39m))\n",
      "File \u001b[0;32m~/anaconda3/lib/python3.10/site-packages/pandas/io/parsers/readers.py:1026\u001b[0m, in \u001b[0;36mread_csv\u001b[0;34m(filepath_or_buffer, sep, delimiter, header, names, index_col, usecols, dtype, engine, converters, true_values, false_values, skipinitialspace, skiprows, skipfooter, nrows, na_values, keep_default_na, na_filter, verbose, skip_blank_lines, parse_dates, infer_datetime_format, keep_date_col, date_parser, date_format, dayfirst, cache_dates, iterator, chunksize, compression, thousands, decimal, lineterminator, quotechar, quoting, doublequote, escapechar, comment, encoding, encoding_errors, dialect, on_bad_lines, delim_whitespace, low_memory, memory_map, float_precision, storage_options, dtype_backend)\u001b[0m\n\u001b[1;32m   1013\u001b[0m kwds_defaults \u001b[38;5;241m=\u001b[39m _refine_defaults_read(\n\u001b[1;32m   1014\u001b[0m     dialect,\n\u001b[1;32m   1015\u001b[0m     delimiter,\n\u001b[0;32m   (...)\u001b[0m\n\u001b[1;32m   1022\u001b[0m     dtype_backend\u001b[38;5;241m=\u001b[39mdtype_backend,\n\u001b[1;32m   1023\u001b[0m )\n\u001b[1;32m   1024\u001b[0m kwds\u001b[38;5;241m.\u001b[39mupdate(kwds_defaults)\n\u001b[0;32m-> 1026\u001b[0m \u001b[38;5;28;01mreturn\u001b[39;00m \u001b[43m_read\u001b[49m\u001b[43m(\u001b[49m\u001b[43mfilepath_or_buffer\u001b[49m\u001b[43m,\u001b[49m\u001b[43m \u001b[49m\u001b[43mkwds\u001b[49m\u001b[43m)\u001b[49m\n",
      "File \u001b[0;32m~/anaconda3/lib/python3.10/site-packages/pandas/io/parsers/readers.py:620\u001b[0m, in \u001b[0;36m_read\u001b[0;34m(filepath_or_buffer, kwds)\u001b[0m\n\u001b[1;32m    617\u001b[0m _validate_names(kwds\u001b[38;5;241m.\u001b[39mget(\u001b[38;5;124m\"\u001b[39m\u001b[38;5;124mnames\u001b[39m\u001b[38;5;124m\"\u001b[39m, \u001b[38;5;28;01mNone\u001b[39;00m))\n\u001b[1;32m    619\u001b[0m \u001b[38;5;66;03m# Create the parser.\u001b[39;00m\n\u001b[0;32m--> 620\u001b[0m parser \u001b[38;5;241m=\u001b[39m \u001b[43mTextFileReader\u001b[49m\u001b[43m(\u001b[49m\u001b[43mfilepath_or_buffer\u001b[49m\u001b[43m,\u001b[49m\u001b[43m \u001b[49m\u001b[38;5;241;43m*\u001b[39;49m\u001b[38;5;241;43m*\u001b[39;49m\u001b[43mkwds\u001b[49m\u001b[43m)\u001b[49m\n\u001b[1;32m    622\u001b[0m \u001b[38;5;28;01mif\u001b[39;00m chunksize \u001b[38;5;129;01mor\u001b[39;00m iterator:\n\u001b[1;32m    623\u001b[0m     \u001b[38;5;28;01mreturn\u001b[39;00m parser\n",
      "File \u001b[0;32m~/anaconda3/lib/python3.10/site-packages/pandas/io/parsers/readers.py:1620\u001b[0m, in \u001b[0;36mTextFileReader.__init__\u001b[0;34m(self, f, engine, **kwds)\u001b[0m\n\u001b[1;32m   1617\u001b[0m     \u001b[38;5;28mself\u001b[39m\u001b[38;5;241m.\u001b[39moptions[\u001b[38;5;124m\"\u001b[39m\u001b[38;5;124mhas_index_names\u001b[39m\u001b[38;5;124m\"\u001b[39m] \u001b[38;5;241m=\u001b[39m kwds[\u001b[38;5;124m\"\u001b[39m\u001b[38;5;124mhas_index_names\u001b[39m\u001b[38;5;124m\"\u001b[39m]\n\u001b[1;32m   1619\u001b[0m \u001b[38;5;28mself\u001b[39m\u001b[38;5;241m.\u001b[39mhandles: IOHandles \u001b[38;5;241m|\u001b[39m \u001b[38;5;28;01mNone\u001b[39;00m \u001b[38;5;241m=\u001b[39m \u001b[38;5;28;01mNone\u001b[39;00m\n\u001b[0;32m-> 1620\u001b[0m \u001b[38;5;28mself\u001b[39m\u001b[38;5;241m.\u001b[39m_engine \u001b[38;5;241m=\u001b[39m \u001b[38;5;28;43mself\u001b[39;49m\u001b[38;5;241;43m.\u001b[39;49m\u001b[43m_make_engine\u001b[49m\u001b[43m(\u001b[49m\u001b[43mf\u001b[49m\u001b[43m,\u001b[49m\u001b[43m \u001b[49m\u001b[38;5;28;43mself\u001b[39;49m\u001b[38;5;241;43m.\u001b[39;49m\u001b[43mengine\u001b[49m\u001b[43m)\u001b[49m\n",
      "File \u001b[0;32m~/anaconda3/lib/python3.10/site-packages/pandas/io/parsers/readers.py:1880\u001b[0m, in \u001b[0;36mTextFileReader._make_engine\u001b[0;34m(self, f, engine)\u001b[0m\n\u001b[1;32m   1878\u001b[0m     \u001b[38;5;28;01mif\u001b[39;00m \u001b[38;5;124m\"\u001b[39m\u001b[38;5;124mb\u001b[39m\u001b[38;5;124m\"\u001b[39m \u001b[38;5;129;01mnot\u001b[39;00m \u001b[38;5;129;01min\u001b[39;00m mode:\n\u001b[1;32m   1879\u001b[0m         mode \u001b[38;5;241m+\u001b[39m\u001b[38;5;241m=\u001b[39m \u001b[38;5;124m\"\u001b[39m\u001b[38;5;124mb\u001b[39m\u001b[38;5;124m\"\u001b[39m\n\u001b[0;32m-> 1880\u001b[0m \u001b[38;5;28mself\u001b[39m\u001b[38;5;241m.\u001b[39mhandles \u001b[38;5;241m=\u001b[39m \u001b[43mget_handle\u001b[49m\u001b[43m(\u001b[49m\n\u001b[1;32m   1881\u001b[0m \u001b[43m    \u001b[49m\u001b[43mf\u001b[49m\u001b[43m,\u001b[49m\n\u001b[1;32m   1882\u001b[0m \u001b[43m    \u001b[49m\u001b[43mmode\u001b[49m\u001b[43m,\u001b[49m\n\u001b[1;32m   1883\u001b[0m \u001b[43m    \u001b[49m\u001b[43mencoding\u001b[49m\u001b[38;5;241;43m=\u001b[39;49m\u001b[38;5;28;43mself\u001b[39;49m\u001b[38;5;241;43m.\u001b[39;49m\u001b[43moptions\u001b[49m\u001b[38;5;241;43m.\u001b[39;49m\u001b[43mget\u001b[49m\u001b[43m(\u001b[49m\u001b[38;5;124;43m\"\u001b[39;49m\u001b[38;5;124;43mencoding\u001b[39;49m\u001b[38;5;124;43m\"\u001b[39;49m\u001b[43m,\u001b[49m\u001b[43m \u001b[49m\u001b[38;5;28;43;01mNone\u001b[39;49;00m\u001b[43m)\u001b[49m\u001b[43m,\u001b[49m\n\u001b[1;32m   1884\u001b[0m \u001b[43m    \u001b[49m\u001b[43mcompression\u001b[49m\u001b[38;5;241;43m=\u001b[39;49m\u001b[38;5;28;43mself\u001b[39;49m\u001b[38;5;241;43m.\u001b[39;49m\u001b[43moptions\u001b[49m\u001b[38;5;241;43m.\u001b[39;49m\u001b[43mget\u001b[49m\u001b[43m(\u001b[49m\u001b[38;5;124;43m\"\u001b[39;49m\u001b[38;5;124;43mcompression\u001b[39;49m\u001b[38;5;124;43m\"\u001b[39;49m\u001b[43m,\u001b[49m\u001b[43m \u001b[49m\u001b[38;5;28;43;01mNone\u001b[39;49;00m\u001b[43m)\u001b[49m\u001b[43m,\u001b[49m\n\u001b[1;32m   1885\u001b[0m \u001b[43m    \u001b[49m\u001b[43mmemory_map\u001b[49m\u001b[38;5;241;43m=\u001b[39;49m\u001b[38;5;28;43mself\u001b[39;49m\u001b[38;5;241;43m.\u001b[39;49m\u001b[43moptions\u001b[49m\u001b[38;5;241;43m.\u001b[39;49m\u001b[43mget\u001b[49m\u001b[43m(\u001b[49m\u001b[38;5;124;43m\"\u001b[39;49m\u001b[38;5;124;43mmemory_map\u001b[39;49m\u001b[38;5;124;43m\"\u001b[39;49m\u001b[43m,\u001b[49m\u001b[43m \u001b[49m\u001b[38;5;28;43;01mFalse\u001b[39;49;00m\u001b[43m)\u001b[49m\u001b[43m,\u001b[49m\n\u001b[1;32m   1886\u001b[0m \u001b[43m    \u001b[49m\u001b[43mis_text\u001b[49m\u001b[38;5;241;43m=\u001b[39;49m\u001b[43mis_text\u001b[49m\u001b[43m,\u001b[49m\n\u001b[1;32m   1887\u001b[0m \u001b[43m    \u001b[49m\u001b[43merrors\u001b[49m\u001b[38;5;241;43m=\u001b[39;49m\u001b[38;5;28;43mself\u001b[39;49m\u001b[38;5;241;43m.\u001b[39;49m\u001b[43moptions\u001b[49m\u001b[38;5;241;43m.\u001b[39;49m\u001b[43mget\u001b[49m\u001b[43m(\u001b[49m\u001b[38;5;124;43m\"\u001b[39;49m\u001b[38;5;124;43mencoding_errors\u001b[39;49m\u001b[38;5;124;43m\"\u001b[39;49m\u001b[43m,\u001b[49m\u001b[43m \u001b[49m\u001b[38;5;124;43m\"\u001b[39;49m\u001b[38;5;124;43mstrict\u001b[39;49m\u001b[38;5;124;43m\"\u001b[39;49m\u001b[43m)\u001b[49m\u001b[43m,\u001b[49m\n\u001b[1;32m   1888\u001b[0m \u001b[43m    \u001b[49m\u001b[43mstorage_options\u001b[49m\u001b[38;5;241;43m=\u001b[39;49m\u001b[38;5;28;43mself\u001b[39;49m\u001b[38;5;241;43m.\u001b[39;49m\u001b[43moptions\u001b[49m\u001b[38;5;241;43m.\u001b[39;49m\u001b[43mget\u001b[49m\u001b[43m(\u001b[49m\u001b[38;5;124;43m\"\u001b[39;49m\u001b[38;5;124;43mstorage_options\u001b[39;49m\u001b[38;5;124;43m\"\u001b[39;49m\u001b[43m,\u001b[49m\u001b[43m \u001b[49m\u001b[38;5;28;43;01mNone\u001b[39;49;00m\u001b[43m)\u001b[49m\u001b[43m,\u001b[49m\n\u001b[1;32m   1889\u001b[0m \u001b[43m\u001b[49m\u001b[43m)\u001b[49m\n\u001b[1;32m   1890\u001b[0m \u001b[38;5;28;01massert\u001b[39;00m \u001b[38;5;28mself\u001b[39m\u001b[38;5;241m.\u001b[39mhandles \u001b[38;5;129;01mis\u001b[39;00m \u001b[38;5;129;01mnot\u001b[39;00m \u001b[38;5;28;01mNone\u001b[39;00m\n\u001b[1;32m   1891\u001b[0m f \u001b[38;5;241m=\u001b[39m \u001b[38;5;28mself\u001b[39m\u001b[38;5;241m.\u001b[39mhandles\u001b[38;5;241m.\u001b[39mhandle\n",
      "File \u001b[0;32m~/anaconda3/lib/python3.10/site-packages/pandas/io/common.py:873\u001b[0m, in \u001b[0;36mget_handle\u001b[0;34m(path_or_buf, mode, encoding, compression, memory_map, is_text, errors, storage_options)\u001b[0m\n\u001b[1;32m    868\u001b[0m \u001b[38;5;28;01melif\u001b[39;00m \u001b[38;5;28misinstance\u001b[39m(handle, \u001b[38;5;28mstr\u001b[39m):\n\u001b[1;32m    869\u001b[0m     \u001b[38;5;66;03m# Check whether the filename is to be opened in binary mode.\u001b[39;00m\n\u001b[1;32m    870\u001b[0m     \u001b[38;5;66;03m# Binary mode does not support 'encoding' and 'newline'.\u001b[39;00m\n\u001b[1;32m    871\u001b[0m     \u001b[38;5;28;01mif\u001b[39;00m ioargs\u001b[38;5;241m.\u001b[39mencoding \u001b[38;5;129;01mand\u001b[39;00m \u001b[38;5;124m\"\u001b[39m\u001b[38;5;124mb\u001b[39m\u001b[38;5;124m\"\u001b[39m \u001b[38;5;129;01mnot\u001b[39;00m \u001b[38;5;129;01min\u001b[39;00m ioargs\u001b[38;5;241m.\u001b[39mmode:\n\u001b[1;32m    872\u001b[0m         \u001b[38;5;66;03m# Encoding\u001b[39;00m\n\u001b[0;32m--> 873\u001b[0m         handle \u001b[38;5;241m=\u001b[39m \u001b[38;5;28;43mopen\u001b[39;49m\u001b[43m(\u001b[49m\n\u001b[1;32m    874\u001b[0m \u001b[43m            \u001b[49m\u001b[43mhandle\u001b[49m\u001b[43m,\u001b[49m\n\u001b[1;32m    875\u001b[0m \u001b[43m            \u001b[49m\u001b[43mioargs\u001b[49m\u001b[38;5;241;43m.\u001b[39;49m\u001b[43mmode\u001b[49m\u001b[43m,\u001b[49m\n\u001b[1;32m    876\u001b[0m \u001b[43m            \u001b[49m\u001b[43mencoding\u001b[49m\u001b[38;5;241;43m=\u001b[39;49m\u001b[43mioargs\u001b[49m\u001b[38;5;241;43m.\u001b[39;49m\u001b[43mencoding\u001b[49m\u001b[43m,\u001b[49m\n\u001b[1;32m    877\u001b[0m \u001b[43m            \u001b[49m\u001b[43merrors\u001b[49m\u001b[38;5;241;43m=\u001b[39;49m\u001b[43merrors\u001b[49m\u001b[43m,\u001b[49m\n\u001b[1;32m    878\u001b[0m \u001b[43m            \u001b[49m\u001b[43mnewline\u001b[49m\u001b[38;5;241;43m=\u001b[39;49m\u001b[38;5;124;43m\"\u001b[39;49m\u001b[38;5;124;43m\"\u001b[39;49m\u001b[43m,\u001b[49m\n\u001b[1;32m    879\u001b[0m \u001b[43m        \u001b[49m\u001b[43m)\u001b[49m\n\u001b[1;32m    880\u001b[0m     \u001b[38;5;28;01melse\u001b[39;00m:\n\u001b[1;32m    881\u001b[0m         \u001b[38;5;66;03m# Binary mode\u001b[39;00m\n\u001b[1;32m    882\u001b[0m         handle \u001b[38;5;241m=\u001b[39m \u001b[38;5;28mopen\u001b[39m(handle, ioargs\u001b[38;5;241m.\u001b[39mmode)\n",
      "\u001b[0;31mFileNotFoundError\u001b[0m: [Errno 2] No such file or directory: 'logs/finetuning_data/OpenThoughts-correct_math/finetuning_df_train.csv'"
     ]
    }
   ],
   "source": [
    "train_df = pd.read_csv(os.path.join(finetuning_data_dir, \"finetuning_df_train.csv\"))\n",
    "test_df = pd.read_csv(os.path.join(finetuning_data_dir, \"finetuning_df_test.csv\"))"
   ]
  },
  {
   "cell_type": "code",
   "execution_count": null,
   "metadata": {},
   "outputs": [],
   "source": [
    "planner_tokenizer = AutoTokenizer.from_pretrained(\"Qwen/Qwen2.5-7B-Instruct\")\n",
    "executor_tokenizer = AutoTokenizer.from_pretrained(\"deepseek-ai/DeepSeek-R1-Distill-Qwen-7B\")"
   ]
  },
  {
   "cell_type": "code",
   "execution_count": 5,
   "metadata": {},
   "outputs": [],
   "source": [
    "# Chat instruct planner\n",
    "def prepare_dataset_for_chat_instruct_planner(df):\n",
    "    def add_messages(row):\n",
    "        row[\"messages\"] = [\n",
    "            {\"role\": \"system\", \"content\": row[\"SystemPrompt\"]},\n",
    "            {\"role\": \"user\", \"content\": row[\"UserPrompt\"]},\n",
    "            {\"role\": \"assistant\", \"content\": row[\"ExpectedOutput\"]}\n",
    "        ]\n",
    "        return row\n",
    "\n",
    "    df = df[df[\"SystemPrompt\"].str.contains(\"You are the planner\")]\n",
    "    df[\"ExpectedOutput\"] = df[\"ExpectedOutput\"].apply(lambda x: x.replace(\"**Final Answer**\\n\", \"\"))\n",
    "    dataset = Dataset.from_pandas(df)\n",
    "    dataset = dataset.map(add_messages)\n",
    "    return dataset, df\n",
    "\n",
    "# R1-Distill planner\n",
    "def prepare_dataset_for_R1_Distill_planner(df, planner_prompt):\n",
    "    def add_messages(row):\n",
    "        row[\"messages\"] = [\n",
    "            {\"role\": \"user\", \"content\": row[\"UserPrompt\"]},\n",
    "            {\"role\": \"assistant\", \"content\": row[\"ExpectedOutput\"]}\n",
    "        ]\n",
    "        return row\n",
    "\n",
    "    def convert_plan_to_R1_style(plan):\n",
    "        execution = \"<think>\\n\"+plan.strip()+\"\\n</think>\"\n",
    "        return execution\n",
    "    \n",
    "    df = df[df[\"SystemPrompt\"].str.contains(\"You are the planner\")]\n",
    "    df[\"ExpectedOutput\"] = df[\"ExpectedOutput\"].apply(lambda x: convert_plan_to_R1_style(x))\n",
    "    df[\"ExpectedOutput\"] = df[\"ExpectedOutput\"].apply(lambda x: x.replace(\"**Final Answer**\\n\", \"\"))\n",
    "    df[\"UserPrompt\"] = df.apply(lambda x: x[\"SystemPrompt\"]+\"\\n\\n\"+x[\"UserPrompt\"], axis=1)\n",
    "    del df[\"SystemPrompt\"]\n",
    "\n",
    "    dataset = Dataset.from_pandas(df)\n",
    "    dataset = dataset.map(add_messages)\n",
    "    return dataset, df\n",
    "\n",
    "# Chat instruct executor\n",
    "def prepare_dataset_for_chat_instruct_executor(df, executor_prompt):\n",
    "    def add_messages(row):\n",
    "        row[\"messages\"] = [\n",
    "            {\"role\": \"system\", \"content\": row[\"SystemPrompt\"]},\n",
    "            {\"role\": \"user\", \"content\": row[\"UserPrompt\"]},\n",
    "            {\"role\": \"assistant\", \"content\": row[\"ExpectedOutput\"]}\n",
    "        ]\n",
    "        return row\n",
    "\n",
    "    df = df[df[\"SystemPrompt\"].str.contains(\"You are one of the executors\")]\n",
    "    df[\"SystemPrompt\"] = executor_prompt\n",
    "    dataset = Dataset.from_pandas(df)\n",
    "    dataset = dataset.map(add_messages)\n",
    "    return dataset, df\n",
    "\n",
    "# R1-Distill executor\n",
    "def prepare_dataset_for_R1_Distill_executor(df, executor_prompt):\n",
    "    def add_messages(row):\n",
    "        row[\"messages\"] = [\n",
    "            {\"role\": \"user\", \"content\": row[\"UserPrompt\"]},\n",
    "            {\"role\": \"assistant\", \"content\": row[\"ExpectedOutput\"]}\n",
    "        ]\n",
    "        return row\n",
    "    def convert_execution_to_R1_style(execution):\n",
    "        execution = re.sub(r'<execution.*?>', '', execution, flags=re.IGNORECASE)\n",
    "        execution = re.sub(r'</execution.*?>', '', execution, flags=re.IGNORECASE)\n",
    "        execution = \"<think>\\n\"+execution.strip()+\"\\n</think>\"\n",
    "        return execution\n",
    "    \n",
    "    df = df[df[\"SystemPrompt\"].str.contains(\"You are one of the executors\")]\n",
    "    df[\"ExpectedOutput\"] = df[\"ExpectedOutput\"].apply(lambda x: convert_execution_to_R1_style(x))\n",
    "    del df[\"SystemPrompt\"]\n",
    "    df[\"UserPrompt\"] = df[\"UserPrompt\"].apply(lambda x: executor_prompt+\"\\n\\n\"+x)\n",
    "\n",
    "    dataset = Dataset.from_pandas(df)\n",
    "    dataset = dataset.map(add_messages)\n",
    "    return dataset, df"
   ]
  },
  {
   "cell_type": "code",
   "execution_count": 6,
   "metadata": {},
   "outputs": [
    {
     "name": "stderr",
     "output_type": "stream",
     "text": [
      "/var/folders/jn/30ywqtk93cg3xfk4034wdsnr0000gn/T/ipykernel_5883/2282266266.py:71: SettingWithCopyWarning: \n",
      "A value is trying to be set on a copy of a slice from a DataFrame.\n",
      "Try using .loc[row_indexer,col_indexer] = value instead\n",
      "\n",
      "See the caveats in the documentation: https://pandas.pydata.org/pandas-docs/stable/user_guide/indexing.html#returning-a-view-versus-a-copy\n",
      "  df[\"ExpectedOutput\"] = df[\"ExpectedOutput\"].apply(lambda x: convert_execution_to_R1_style(x))\n",
      "/var/folders/jn/30ywqtk93cg3xfk4034wdsnr0000gn/T/ipykernel_5883/2282266266.py:73: SettingWithCopyWarning: \n",
      "A value is trying to be set on a copy of a slice from a DataFrame.\n",
      "Try using .loc[row_indexer,col_indexer] = value instead\n",
      "\n",
      "See the caveats in the documentation: https://pandas.pydata.org/pandas-docs/stable/user_guide/indexing.html#returning-a-view-versus-a-copy\n",
      "  df[\"UserPrompt\"] = df[\"UserPrompt\"].apply(lambda x: executor_prompt+\"\\n\\n\"+x)\n"
     ]
    },
    {
     "data": {
      "application/vnd.jupyter.widget-view+json": {
       "model_id": "ef039f3bdac94fbcaef75e9f8b0da61c",
       "version_major": 2,
       "version_minor": 0
      },
      "text/plain": [
       "Map:   0%|          | 0/15889 [00:00<?, ? examples/s]"
      ]
     },
     "metadata": {},
     "output_type": "display_data"
    },
    {
     "data": {
      "application/vnd.jupyter.widget-view+json": {
       "model_id": "4e5126e4a9fe49eb893300d908fb9b25",
       "version_major": 2,
       "version_minor": 0
      },
      "text/plain": [
       "Map:   0%|          | 0/1779 [00:00<?, ? examples/s]"
      ]
     },
     "metadata": {},
     "output_type": "display_data"
    },
    {
     "data": {
      "application/vnd.jupyter.widget-view+json": {
       "model_id": "c5b895a7ade5486ca5f2a0125a8dd711",
       "version_major": 2,
       "version_minor": 0
      },
      "text/plain": [
       "Uploading the dataset shards:   0%|          | 0/1 [00:00<?, ?it/s]"
      ]
     },
     "metadata": {},
     "output_type": "display_data"
    },
    {
     "data": {
      "application/vnd.jupyter.widget-view+json": {
       "model_id": "8d85f6be5a7549daad70a654c9d0c5eb",
       "version_major": 2,
       "version_minor": 0
      },
      "text/plain": [
       "Creating parquet from Arrow format:   0%|          | 0/16 [00:00<?, ?ba/s]"
      ]
     },
     "metadata": {},
     "output_type": "display_data"
    },
    {
     "data": {
      "application/vnd.jupyter.widget-view+json": {
       "model_id": "39b0ebe07a8e4dc5bfa280e71037b4ca",
       "version_major": 2,
       "version_minor": 0
      },
      "text/plain": [
       "Uploading the dataset shards:   0%|          | 0/1 [00:00<?, ?it/s]"
      ]
     },
     "metadata": {},
     "output_type": "display_data"
    },
    {
     "data": {
      "application/vnd.jupyter.widget-view+json": {
       "model_id": "7ae41794cac44ac786e98b0198bb3f2b",
       "version_major": 2,
       "version_minor": 0
      },
      "text/plain": [
       "Creating parquet from Arrow format:   0%|          | 0/2 [00:00<?, ?ba/s]"
      ]
     },
     "metadata": {},
     "output_type": "display_data"
    },
    {
     "data": {
      "application/vnd.jupyter.widget-view+json": {
       "model_id": "cedc83f4b71e4c889ad6a0c4b1f6d14f",
       "version_major": 2,
       "version_minor": 0
      },
      "text/plain": [
       "README.md:   0%|          | 0.00/710 [00:00<?, ?B/s]"
      ]
     },
     "metadata": {},
     "output_type": "display_data"
    },
    {
     "data": {
      "text/plain": [
       "CommitInfo(commit_url='https://huggingface.co/datasets/emilbiju/Shortened-Execution-Data-Math-think/commit/47ed4cef141d1d32cacfc242bd5388a6fb068724', commit_message='Upload dataset', commit_description='', oid='47ed4cef141d1d32cacfc242bd5388a6fb068724', pr_url=None, repo_url=RepoUrl('https://huggingface.co/datasets/emilbiju/Shortened-Execution-Data-Math-think', endpoint='https://huggingface.co', repo_type='dataset', repo_id='emilbiju/Shortened-Execution-Data-Math-think'), pr_revision=None, pr_num=None)"
      ]
     },
     "execution_count": 6,
     "metadata": {},
     "output_type": "execute_result"
    }
   ],
   "source": [
    "executor_prompt = text_processing_utils.read_file_as_string(\"src/prompts/shortened_executor_prompt_r1_distill.txt\")\n",
    "\n",
    "dataset_dict = DatasetDict({\n",
    "    \"train\": prepare_dataset_for_R1_Distill_executor(train_df, executor_prompt)[0],\n",
    "    \"test\": prepare_dataset_for_R1_Distill_executor(test_df, executor_prompt)[0]\n",
    "})\n",
    "dataset_dict.push_to_hub(\"emilbiju/Shortened-Execution-Data-Math-think\", \"math\")"
   ]
  },
  {
   "cell_type": "code",
   "execution_count": null,
   "metadata": {},
   "outputs": [],
   "source": [
    "dataset_dict = DatasetDict({\n",
    "    \"train\": prepare_dataset_for_chat_instruct_executor(train_df)[0],\n",
    "    \"test\": prepare_dataset_for_chat_instruct_executor(test_df)[0]\n",
    "})\n",
    "dataset_dict.push_to_hub(\"emilbiju/Execution-Data-Math\", \"math\")"
   ]
  },
  {
   "cell_type": "code",
   "execution_count": 7,
   "metadata": {},
   "outputs": [
    {
     "name": "stderr",
     "output_type": "stream",
     "text": [
      "/var/folders/jn/30ywqtk93cg3xfk4034wdsnr0000gn/T/ipykernel_5883/2282266266.py:12: SettingWithCopyWarning: \n",
      "A value is trying to be set on a copy of a slice from a DataFrame.\n",
      "Try using .loc[row_indexer,col_indexer] = value instead\n",
      "\n",
      "See the caveats in the documentation: https://pandas.pydata.org/pandas-docs/stable/user_guide/indexing.html#returning-a-view-versus-a-copy\n",
      "  df[\"ExpectedOutput\"] = df[\"ExpectedOutput\"].apply(lambda x: x.replace(\"**Final Answer**\\n\", \"\"))\n"
     ]
    },
    {
     "data": {
      "application/vnd.jupyter.widget-view+json": {
       "model_id": "bbada7856dcf4ac2a101fe338fed698f",
       "version_major": 2,
       "version_minor": 0
      },
      "text/plain": [
       "Map:   0%|          | 0/7334 [00:00<?, ? examples/s]"
      ]
     },
     "metadata": {},
     "output_type": "display_data"
    },
    {
     "data": {
      "application/vnd.jupyter.widget-view+json": {
       "model_id": "2d7b099849a649faaf9ed45262e6c417",
       "version_major": 2,
       "version_minor": 0
      },
      "text/plain": [
       "Map:   0%|          | 0/835 [00:00<?, ? examples/s]"
      ]
     },
     "metadata": {},
     "output_type": "display_data"
    },
    {
     "data": {
      "application/vnd.jupyter.widget-view+json": {
       "model_id": "2241c18e8b3a47f89e32fe3c24051249",
       "version_major": 2,
       "version_minor": 0
      },
      "text/plain": [
       "Uploading the dataset shards:   0%|          | 0/1 [00:00<?, ?it/s]"
      ]
     },
     "metadata": {},
     "output_type": "display_data"
    },
    {
     "data": {
      "application/vnd.jupyter.widget-view+json": {
       "model_id": "994eb12103784d6c9056f084cb6c7d40",
       "version_major": 2,
       "version_minor": 0
      },
      "text/plain": [
       "Creating parquet from Arrow format:   0%|          | 0/8 [00:00<?, ?ba/s]"
      ]
     },
     "metadata": {},
     "output_type": "display_data"
    },
    {
     "data": {
      "application/vnd.jupyter.widget-view+json": {
       "model_id": "e5f28c9be00448ccbb4e1215859fad8a",
       "version_major": 2,
       "version_minor": 0
      },
      "text/plain": [
       "Uploading the dataset shards:   0%|          | 0/1 [00:00<?, ?it/s]"
      ]
     },
     "metadata": {},
     "output_type": "display_data"
    },
    {
     "data": {
      "application/vnd.jupyter.widget-view+json": {
       "model_id": "faac595e50ca4190a56d3984823dd4d1",
       "version_major": 2,
       "version_minor": 0
      },
      "text/plain": [
       "Creating parquet from Arrow format:   0%|          | 0/1 [00:00<?, ?ba/s]"
      ]
     },
     "metadata": {},
     "output_type": "display_data"
    },
    {
     "data": {
      "application/vnd.jupyter.widget-view+json": {
       "model_id": "06f595cf195b48079d30b3eae84b0d75",
       "version_major": 2,
       "version_minor": 0
      },
      "text/plain": [
       "README.md:   0%|          | 0.00/751 [00:00<?, ?B/s]"
      ]
     },
     "metadata": {},
     "output_type": "display_data"
    },
    {
     "data": {
      "text/plain": [
       "CommitInfo(commit_url='https://huggingface.co/datasets/emilbiju/Shortened-Planning-Data-Math/commit/d20d64233753c83a0ad4fc749c373c6dc36c0ca5', commit_message='Upload dataset', commit_description='', oid='d20d64233753c83a0ad4fc749c373c6dc36c0ca5', pr_url=None, repo_url=RepoUrl('https://huggingface.co/datasets/emilbiju/Shortened-Planning-Data-Math', endpoint='https://huggingface.co', repo_type='dataset', repo_id='emilbiju/Shortened-Planning-Data-Math'), pr_revision=None, pr_num=None)"
      ]
     },
     "execution_count": 7,
     "metadata": {},
     "output_type": "execute_result"
    }
   ],
   "source": [
    "dataset_dict = DatasetDict({\n",
    "    \"train\": prepare_dataset_for_chat_instruct_planner(train_df)[0],\n",
    "    \"test\": prepare_dataset_for_chat_instruct_planner(test_df)[0]\n",
    "})\n",
    "dataset_dict.push_to_hub(\"emilbiju/Shortened-Planning-Data-Math\", \"math\")"
   ]
  },
  {
   "cell_type": "code",
   "execution_count": null,
   "metadata": {},
   "outputs": [],
   "source": [
    "prepare_dataset_for_R1_Distill_executor(train_df, executor_prompt)[0].head(10)"
   ]
  },
  {
   "cell_type": "code",
   "execution_count": null,
   "metadata": {},
   "outputs": [
    {
     "name": "stderr",
     "output_type": "stream",
     "text": [
      "/var/folders/jn/30ywqtk93cg3xfk4034wdsnr0000gn/T/ipykernel_86647/727663167.py:15: SettingWithCopyWarning: \n",
      "A value is trying to be set on a copy of a slice from a DataFrame.\n",
      "Try using .loc[row_indexer,col_indexer] = value instead\n",
      "\n",
      "See the caveats in the documentation: https://pandas.pydata.org/pandas-docs/stable/user_guide/indexing.html#returning-a-view-versus-a-copy\n",
      "  df[\"ExpectedOutput\"] = df[\"ExpectedOutput\"].apply(lambda x: convert_plan_to_R1_style(x))\n",
      "/var/folders/jn/30ywqtk93cg3xfk4034wdsnr0000gn/T/ipykernel_86647/727663167.py:16: SettingWithCopyWarning: \n",
      "A value is trying to be set on a copy of a slice from a DataFrame.\n",
      "Try using .loc[row_indexer,col_indexer] = value instead\n",
      "\n",
      "See the caveats in the documentation: https://pandas.pydata.org/pandas-docs/stable/user_guide/indexing.html#returning-a-view-versus-a-copy\n",
      "  df[\"UserPrompt\"] = df.apply(lambda x: x[\"SystemPrompt\"]+\"\\n\\n\"+x[\"UserPrompt\"], axis=1)\n"
     ]
    },
    {
     "data": {
      "application/vnd.jupyter.widget-view+json": {
       "model_id": "64aa87320dd1444294497cc1afe3ef9d",
       "version_major": 2,
       "version_minor": 0
      },
      "text/plain": [
       "Map:   0%|          | 0/8706 [00:00<?, ? examples/s]"
      ]
     },
     "metadata": {},
     "output_type": "display_data"
    },
    {
     "data": {
      "application/vnd.jupyter.widget-view+json": {
       "model_id": "e0263572ec954898abaf5b2cd4fa34a9",
       "version_major": 2,
       "version_minor": 0
      },
      "text/plain": [
       "Map:   0%|          | 0/945 [00:00<?, ? examples/s]"
      ]
     },
     "metadata": {},
     "output_type": "display_data"
    },
    {
     "data": {
      "application/vnd.jupyter.widget-view+json": {
       "model_id": "192b867a06e14cfcb90def3903f95133",
       "version_major": 2,
       "version_minor": 0
      },
      "text/plain": [
       "Uploading the dataset shards:   0%|          | 0/1 [00:00<?, ?it/s]"
      ]
     },
     "metadata": {},
     "output_type": "display_data"
    },
    {
     "data": {
      "application/vnd.jupyter.widget-view+json": {
       "model_id": "4129756195b04cba84c5c4b70819daed",
       "version_major": 2,
       "version_minor": 0
      },
      "text/plain": [
       "Creating parquet from Arrow format:   0%|          | 0/9 [00:00<?, ?ba/s]"
      ]
     },
     "metadata": {},
     "output_type": "display_data"
    },
    {
     "data": {
      "application/vnd.jupyter.widget-view+json": {
       "model_id": "a75c3993a0344809906011621da3a622",
       "version_major": 2,
       "version_minor": 0
      },
      "text/plain": [
       "Uploading the dataset shards:   0%|          | 0/1 [00:00<?, ?it/s]"
      ]
     },
     "metadata": {},
     "output_type": "display_data"
    },
    {
     "data": {
      "application/vnd.jupyter.widget-view+json": {
       "model_id": "0383083e0b94418e811a50a91fcbea7b",
       "version_major": 2,
       "version_minor": 0
      },
      "text/plain": [
       "Creating parquet from Arrow format:   0%|          | 0/1 [00:00<?, ?ba/s]"
      ]
     },
     "metadata": {},
     "output_type": "display_data"
    },
    {
     "data": {
      "application/vnd.jupyter.widget-view+json": {
       "model_id": "f984a306026d41e395e12ff229927cc2",
       "version_major": 2,
       "version_minor": 0
      },
      "text/plain": [
       "README.md:   0%|          | 0.00/749 [00:00<?, ?B/s]"
      ]
     },
     "metadata": {},
     "output_type": "display_data"
    },
    {
     "data": {
      "text/plain": [
       "CommitInfo(commit_url='https://huggingface.co/datasets/emilbiju/Planning-Data-Math-Full-Soln-think/commit/0c73d8b651169bec08a5e15e85d218f4f0637d20', commit_message='Upload dataset', commit_description='', oid='0c73d8b651169bec08a5e15e85d218f4f0637d20', pr_url=None, repo_url=RepoUrl('https://huggingface.co/datasets/emilbiju/Planning-Data-Math-Full-Soln-think', endpoint='https://huggingface.co', repo_type='dataset', repo_id='emilbiju/Planning-Data-Math-Full-Soln-think'), pr_revision=None, pr_num=None)"
      ]
     },
     "execution_count": 84,
     "metadata": {},
     "output_type": "execute_result"
    }
   ],
   "source": [
    "dataset_dict = DatasetDict({\n",
    "    \"train\": prepare_dataset_for_R1_Distill_planner(train_df)[0],\n",
    "    \"test\": prepare_dataset_for_R1_Distill_planner(test_df)[0]\n",
    "})\n",
    "\n",
    "dataset_dict.push_to_hub(\"emilbiju/Planning-Data-Math-Full-Soln-think\", \"math\")"
   ]
  },
  {
   "cell_type": "code",
   "execution_count": 5,
   "metadata": {},
   "outputs": [],
   "source": [
    "def filter_for_dagger_data(df):\n",
    "    df = df[(df[\"ExpectedOutput\"].str.contains(r\"\\$#\\$\", na=False)) | (df[\"ExpectedOutput\"].str.contains(\"<Final_answer>\", na=False))]\n",
    "    df[\"ExpectedOutput\"] = df[\"ExpectedOutput\"].str.replace(r\"\\$#\\$ \", \"\", regex=True)\n",
    "    df[\"UserPrompt\"] = df[\"UserPrompt\"].str.replace(r\"\\$#\\$ \", \"\", regex=True)\n",
    "    return df"
   ]
  },
  {
   "cell_type": "code",
   "execution_count": 6,
   "metadata": {},
   "outputs": [
    {
     "name": "stderr",
     "output_type": "stream",
     "text": [
      "/var/folders/jn/30ywqtk93cg3xfk4034wdsnr0000gn/T/ipykernel_95836/4290353020.py:3: SettingWithCopyWarning: \n",
      "A value is trying to be set on a copy of a slice from a DataFrame.\n",
      "Try using .loc[row_indexer,col_indexer] = value instead\n",
      "\n",
      "See the caveats in the documentation: https://pandas.pydata.org/pandas-docs/stable/user_guide/indexing.html#returning-a-view-versus-a-copy\n",
      "  df[\"ExpectedOutput\"] = df[\"ExpectedOutput\"].str.replace(r\"\\$#\\$ \", \"\", regex=True)\n",
      "/var/folders/jn/30ywqtk93cg3xfk4034wdsnr0000gn/T/ipykernel_95836/4290353020.py:4: SettingWithCopyWarning: \n",
      "A value is trying to be set on a copy of a slice from a DataFrame.\n",
      "Try using .loc[row_indexer,col_indexer] = value instead\n",
      "\n",
      "See the caveats in the documentation: https://pandas.pydata.org/pandas-docs/stable/user_guide/indexing.html#returning-a-view-versus-a-copy\n",
      "  df[\"UserPrompt\"] = df[\"UserPrompt\"].str.replace(r\"\\$#\\$ \", \"\", regex=True)\n"
     ]
    }
   ],
   "source": [
    "train_df = filter_for_dagger_data(train_df)\n",
    "test_df = filter_for_dagger_data(test_df)"
   ]
  },
  {
   "cell_type": "code",
   "execution_count": 7,
   "metadata": {},
   "outputs": [
    {
     "data": {
      "text/plain": [
       "2001"
      ]
     },
     "execution_count": 7,
     "metadata": {},
     "output_type": "execute_result"
    }
   ],
   "source": [
    "len(train_df)"
   ]
  },
  {
   "cell_type": "code",
   "execution_count": 8,
   "metadata": {},
   "outputs": [
    {
     "name": "stderr",
     "output_type": "stream",
     "text": [
      "/var/folders/jn/30ywqtk93cg3xfk4034wdsnr0000gn/T/ipykernel_95836/1255489650.py:12: SettingWithCopyWarning: \n",
      "A value is trying to be set on a copy of a slice from a DataFrame.\n",
      "Try using .loc[row_indexer,col_indexer] = value instead\n",
      "\n",
      "See the caveats in the documentation: https://pandas.pydata.org/pandas-docs/stable/user_guide/indexing.html#returning-a-view-versus-a-copy\n",
      "  df[\"ExpectedOutput\"] = df[\"ExpectedOutput\"].apply(lambda x: x.replace(\"**Final Answer**\\n\", \"\"))\n"
     ]
    },
    {
     "data": {
      "application/vnd.jupyter.widget-view+json": {
       "model_id": "6ec5647cee5742b3ac43ba4c23689977",
       "version_major": 2,
       "version_minor": 0
      },
      "text/plain": [
       "Map:   0%|          | 0/846 [00:00<?, ? examples/s]"
      ]
     },
     "metadata": {},
     "output_type": "display_data"
    },
    {
     "data": {
      "application/vnd.jupyter.widget-view+json": {
       "model_id": "6031a38585df4b9db5406c4b1d5d9f88",
       "version_major": 2,
       "version_minor": 0
      },
      "text/plain": [
       "Map:   0%|          | 0/96 [00:00<?, ? examples/s]"
      ]
     },
     "metadata": {},
     "output_type": "display_data"
    },
    {
     "data": {
      "application/vnd.jupyter.widget-view+json": {
       "model_id": "2edc930f8f9d43c6b24f60ff77932833",
       "version_major": 2,
       "version_minor": 0
      },
      "text/plain": [
       "Uploading the dataset shards:   0%|          | 0/1 [00:00<?, ?it/s]"
      ]
     },
     "metadata": {},
     "output_type": "display_data"
    },
    {
     "data": {
      "application/vnd.jupyter.widget-view+json": {
       "model_id": "1e4ccee4667b4c81b0020911e7b4f311",
       "version_major": 2,
       "version_minor": 0
      },
      "text/plain": [
       "Creating parquet from Arrow format:   0%|          | 0/1 [00:00<?, ?ba/s]"
      ]
     },
     "metadata": {},
     "output_type": "display_data"
    },
    {
     "data": {
      "application/vnd.jupyter.widget-view+json": {
       "model_id": "5bd2042d8fb84ebc8569f42d8a82fc11",
       "version_major": 2,
       "version_minor": 0
      },
      "text/plain": [
       "Uploading the dataset shards:   0%|          | 0/1 [00:00<?, ?it/s]"
      ]
     },
     "metadata": {},
     "output_type": "display_data"
    },
    {
     "data": {
      "application/vnd.jupyter.widget-view+json": {
       "model_id": "cce394e4da524769b4980d7bf393e4d1",
       "version_major": 2,
       "version_minor": 0
      },
      "text/plain": [
       "Creating parquet from Arrow format:   0%|          | 0/1 [00:00<?, ?ba/s]"
      ]
     },
     "metadata": {},
     "output_type": "display_data"
    },
    {
     "data": {
      "text/plain": [
       "CommitInfo(commit_url='https://huggingface.co/datasets/emilbiju/Planning-Dagger-Data-Math/commit/768bcc4a9fe38397d08a8e52541a5b4ea02c09c1', commit_message='Upload dataset', commit_description='', oid='768bcc4a9fe38397d08a8e52541a5b4ea02c09c1', pr_url=None, repo_url=RepoUrl('https://huggingface.co/datasets/emilbiju/Planning-Dagger-Data-Math', endpoint='https://huggingface.co', repo_type='dataset', repo_id='emilbiju/Planning-Dagger-Data-Math'), pr_revision=None, pr_num=None)"
      ]
     },
     "execution_count": 8,
     "metadata": {},
     "output_type": "execute_result"
    }
   ],
   "source": [
    "dataset_dict = DatasetDict({\n",
    "    \"train\": prepare_dataset_for_chat_instruct_planner(train_df)[0],\n",
    "    \"test\": prepare_dataset_for_chat_instruct_planner(test_df)[0]\n",
    "})\n",
    "dataset_dict.push_to_hub(\"emilbiju/Planning-Dagger-Data-Math\", \"math\")"
   ]
  },
  {
   "cell_type": "code",
   "execution_count": 9,
   "metadata": {},
   "outputs": [
    {
     "name": "stderr",
     "output_type": "stream",
     "text": [
      "/var/folders/jn/30ywqtk93cg3xfk4034wdsnr0000gn/T/ipykernel_95836/1255489650.py:73: SettingWithCopyWarning: \n",
      "A value is trying to be set on a copy of a slice from a DataFrame.\n",
      "Try using .loc[row_indexer,col_indexer] = value instead\n",
      "\n",
      "See the caveats in the documentation: https://pandas.pydata.org/pandas-docs/stable/user_guide/indexing.html#returning-a-view-versus-a-copy\n",
      "  df[\"ExpectedOutput\"] = df[\"ExpectedOutput\"].apply(lambda x: convert_execution_to_R1_style(x))\n",
      "/var/folders/jn/30ywqtk93cg3xfk4034wdsnr0000gn/T/ipykernel_95836/1255489650.py:75: SettingWithCopyWarning: \n",
      "A value is trying to be set on a copy of a slice from a DataFrame.\n",
      "Try using .loc[row_indexer,col_indexer] = value instead\n",
      "\n",
      "See the caveats in the documentation: https://pandas.pydata.org/pandas-docs/stable/user_guide/indexing.html#returning-a-view-versus-a-copy\n",
      "  df[\"UserPrompt\"] = df[\"UserPrompt\"].apply(lambda x: executor_prompt+\"\\n\\n\"+x)\n"
     ]
    },
    {
     "data": {
      "application/vnd.jupyter.widget-view+json": {
       "model_id": "5c8d9943243541b19a8ff62a91248875",
       "version_major": 2,
       "version_minor": 0
      },
      "text/plain": [
       "Map:   0%|          | 0/1155 [00:00<?, ? examples/s]"
      ]
     },
     "metadata": {},
     "output_type": "display_data"
    },
    {
     "data": {
      "application/vnd.jupyter.widget-view+json": {
       "model_id": "3c514a04bede435ba21eee7c2c71d626",
       "version_major": 2,
       "version_minor": 0
      },
      "text/plain": [
       "Map:   0%|          | 0/110 [00:00<?, ? examples/s]"
      ]
     },
     "metadata": {},
     "output_type": "display_data"
    },
    {
     "data": {
      "application/vnd.jupyter.widget-view+json": {
       "model_id": "c575d276eb03431298e301ec8423db4a",
       "version_major": 2,
       "version_minor": 0
      },
      "text/plain": [
       "Uploading the dataset shards:   0%|          | 0/1 [00:00<?, ?it/s]"
      ]
     },
     "metadata": {},
     "output_type": "display_data"
    },
    {
     "data": {
      "application/vnd.jupyter.widget-view+json": {
       "model_id": "624dffef6b4c4965b4e27b85b397c08e",
       "version_major": 2,
       "version_minor": 0
      },
      "text/plain": [
       "Creating parquet from Arrow format:   0%|          | 0/2 [00:00<?, ?ba/s]"
      ]
     },
     "metadata": {},
     "output_type": "display_data"
    },
    {
     "data": {
      "application/vnd.jupyter.widget-view+json": {
       "model_id": "35c126dd22f14895a949af8f8129106b",
       "version_major": 2,
       "version_minor": 0
      },
      "text/plain": [
       "Uploading the dataset shards:   0%|          | 0/1 [00:00<?, ?it/s]"
      ]
     },
     "metadata": {},
     "output_type": "display_data"
    },
    {
     "data": {
      "application/vnd.jupyter.widget-view+json": {
       "model_id": "8c051166b80448fea677bb9defbd7579",
       "version_major": 2,
       "version_minor": 0
      },
      "text/plain": [
       "Creating parquet from Arrow format:   0%|          | 0/1 [00:00<?, ?ba/s]"
      ]
     },
     "metadata": {},
     "output_type": "display_data"
    },
    {
     "data": {
      "text/plain": [
       "CommitInfo(commit_url='https://huggingface.co/datasets/emilbiju/Execution-Dagger-Data-Math-think/commit/3941ae60b7e2c0c25a4ab5e2b9d2bd3b2b872437', commit_message='Upload dataset', commit_description='', oid='3941ae60b7e2c0c25a4ab5e2b9d2bd3b2b872437', pr_url=None, repo_url=RepoUrl('https://huggingface.co/datasets/emilbiju/Execution-Dagger-Data-Math-think', endpoint='https://huggingface.co', repo_type='dataset', repo_id='emilbiju/Execution-Dagger-Data-Math-think'), pr_revision=None, pr_num=None)"
      ]
     },
     "execution_count": 9,
     "metadata": {},
     "output_type": "execute_result"
    }
   ],
   "source": [
    "dataset_dict = DatasetDict({\n",
    "    \"train\": prepare_dataset_for_R1_Distill_executor(train_df)[0],\n",
    "    \"test\": prepare_dataset_for_R1_Distill_executor(test_df)[0]\n",
    "})\n",
    "dataset_dict.push_to_hub(\"emilbiju/Execution-Dagger-Data-Math-think\", \"math\")"
   ]
  },
  {
   "cell_type": "code",
   "execution_count": 97,
   "metadata": {},
   "outputs": [
    {
     "data": {
      "text/html": [
       "<div>\n",
       "<style scoped>\n",
       "    .dataframe tbody tr th:only-of-type {\n",
       "        vertical-align: middle;\n",
       "    }\n",
       "\n",
       "    .dataframe tbody tr th {\n",
       "        vertical-align: top;\n",
       "    }\n",
       "\n",
       "    .dataframe thead th {\n",
       "        text-align: right;\n",
       "    }\n",
       "</style>\n",
       "<table border=\"1\" class=\"dataframe\">\n",
       "  <thead>\n",
       "    <tr style=\"text-align: right;\">\n",
       "      <th></th>\n",
       "      <th>ProblemIdx</th>\n",
       "      <th>SystemPrompt</th>\n",
       "      <th>UserPrompt</th>\n",
       "      <th>ExpectedOutput</th>\n",
       "      <th>FinalAnswer</th>\n",
       "      <th>Phase</th>\n",
       "      <th>PromptCount</th>\n",
       "    </tr>\n",
       "  </thead>\n",
       "  <tbody>\n",
       "    <tr>\n",
       "      <th>0</th>\n",
       "      <td>1</td>\n",
       "      <td>You are the planner of an AI system that follo...</td>\n",
       "      <td>&lt;Question&gt;\\nSteve has an isosceles triangle wi...</td>\n",
       "      <td>&lt;Plan_1&gt;\\nOkay, so Steve has this isosceles tr...</td>\n",
       "      <td>22.21</td>\n",
       "      <td>1.0</td>\n",
       "      <td>1</td>\n",
       "    </tr>\n",
       "    <tr>\n",
       "      <th>2</th>\n",
       "      <td>1</td>\n",
       "      <td>You are the planner of an AI system that follo...</td>\n",
       "      <td>&lt;Question&gt;\\nSteve has an isosceles triangle wi...</td>\n",
       "      <td>&lt;Plan_2&gt;\\nBased on execution_1.1:\\nFirst, I ne...</td>\n",
       "      <td>22.21</td>\n",
       "      <td>2.0</td>\n",
       "      <td>5</td>\n",
       "    </tr>\n",
       "    <tr>\n",
       "      <th>8</th>\n",
       "      <td>1</td>\n",
       "      <td>You are the planner of an AI system that follo...</td>\n",
       "      <td>&lt;Question&gt;\\nSteve has an isosceles triangle wi...</td>\n",
       "      <td>&lt;Plan_3&gt;\\nBased on execution_2.1:\\nSo each of ...</td>\n",
       "      <td>22.21</td>\n",
       "      <td>3.0</td>\n",
       "      <td>1</td>\n",
       "    </tr>\n",
       "    <tr>\n",
       "      <th>10</th>\n",
       "      <td>1</td>\n",
       "      <td>You are the planner of an AI system that follo...</td>\n",
       "      <td>&lt;Question&gt;\\nSteve has an isosceles triangle wi...</td>\n",
       "      <td>&lt;Plan_4&gt;\\nBased on execution_3.1:\\nNow, since ...</td>\n",
       "      <td>22.21</td>\n",
       "      <td>4.0</td>\n",
       "      <td>3</td>\n",
       "    </tr>\n",
       "    <tr>\n",
       "      <th>14</th>\n",
       "      <td>1</td>\n",
       "      <td>You are the planner of an AI system that follo...</td>\n",
       "      <td>&lt;Question&gt;\\nSteve has an isosceles triangle wi...</td>\n",
       "      <td>&lt;Plan_5&gt;\\nBased on execution_4.2:\\nSimilarly, ...</td>\n",
       "      <td>22.21</td>\n",
       "      <td>5.0</td>\n",
       "      <td>2</td>\n",
       "    </tr>\n",
       "    <tr>\n",
       "      <th>...</th>\n",
       "      <td>...</td>\n",
       "      <td>...</td>\n",
       "      <td>...</td>\n",
       "      <td>...</td>\n",
       "      <td>...</td>\n",
       "      <td>...</td>\n",
       "      <td>...</td>\n",
       "    </tr>\n",
       "    <tr>\n",
       "      <th>22791</th>\n",
       "      <td>4999</td>\n",
       "      <td>You are the planner of an AI system that follo...</td>\n",
       "      <td>&lt;Question&gt;\\nLark has forgotten her locker comb...</td>\n",
       "      <td>&lt;Plan_1&gt;\\nFirst, I'll break it down into each ...</td>\n",
       "      <td>2250</td>\n",
       "      <td>1.0</td>\n",
       "      <td>1</td>\n",
       "    </tr>\n",
       "    <tr>\n",
       "      <th>22793</th>\n",
       "      <td>4999</td>\n",
       "      <td>You are the planner of an AI system that follo...</td>\n",
       "      <td>&lt;Question&gt;\\nLark has forgotten her locker comb...</td>\n",
       "      <td>&lt;Plan_2&gt;\\nBased on execution_1.1:\\nStarting wi...</td>\n",
       "      <td>2250</td>\n",
       "      <td>2.0</td>\n",
       "      <td>3</td>\n",
       "    </tr>\n",
       "    <tr>\n",
       "      <th>22797</th>\n",
       "      <td>4999</td>\n",
       "      <td>You are the planner of an AI system that follo...</td>\n",
       "      <td>&lt;Question&gt;\\nLark has forgotten her locker comb...</td>\n",
       "      <td>&lt;Plan_3&gt;\\nBased on execution_2.1, execution_2....</td>\n",
       "      <td>2250</td>\n",
       "      <td>3.0</td>\n",
       "      <td>2</td>\n",
       "    </tr>\n",
       "    <tr>\n",
       "      <th>22800</th>\n",
       "      <td>4999</td>\n",
       "      <td>You are the planner of an AI system that follo...</td>\n",
       "      <td>&lt;Question&gt;\\nLark has forgotten her locker comb...</td>\n",
       "      <td>&lt;Plan_4&gt;\\nBased on execution_3.2:\\nI think tha...</td>\n",
       "      <td>2250</td>\n",
       "      <td>4.0</td>\n",
       "      <td>0</td>\n",
       "    </tr>\n",
       "    <tr>\n",
       "      <th>22801</th>\n",
       "      <td>4999</td>\n",
       "      <td>You are the planner of an AI system that follo...</td>\n",
       "      <td>&lt;Question&gt;\\nLark has forgotten her locker comb...</td>\n",
       "      <td>&lt;Final_answer&gt;\\nTo solve this problem, we need...</td>\n",
       "      <td>2250</td>\n",
       "      <td>5.0</td>\n",
       "      <td>0</td>\n",
       "    </tr>\n",
       "  </tbody>\n",
       "</table>\n",
       "<p>8706 rows × 7 columns</p>\n",
       "</div>"
      ],
      "text/plain": [
       "       ProblemIdx                                       SystemPrompt  \\\n",
       "0               1  You are the planner of an AI system that follo...   \n",
       "2               1  You are the planner of an AI system that follo...   \n",
       "8               1  You are the planner of an AI system that follo...   \n",
       "10              1  You are the planner of an AI system that follo...   \n",
       "14              1  You are the planner of an AI system that follo...   \n",
       "...           ...                                                ...   \n",
       "22791        4999  You are the planner of an AI system that follo...   \n",
       "22793        4999  You are the planner of an AI system that follo...   \n",
       "22797        4999  You are the planner of an AI system that follo...   \n",
       "22800        4999  You are the planner of an AI system that follo...   \n",
       "22801        4999  You are the planner of an AI system that follo...   \n",
       "\n",
       "                                              UserPrompt  \\\n",
       "0      <Question>\\nSteve has an isosceles triangle wi...   \n",
       "2      <Question>\\nSteve has an isosceles triangle wi...   \n",
       "8      <Question>\\nSteve has an isosceles triangle wi...   \n",
       "10     <Question>\\nSteve has an isosceles triangle wi...   \n",
       "14     <Question>\\nSteve has an isosceles triangle wi...   \n",
       "...                                                  ...   \n",
       "22791  <Question>\\nLark has forgotten her locker comb...   \n",
       "22793  <Question>\\nLark has forgotten her locker comb...   \n",
       "22797  <Question>\\nLark has forgotten her locker comb...   \n",
       "22800  <Question>\\nLark has forgotten her locker comb...   \n",
       "22801  <Question>\\nLark has forgotten her locker comb...   \n",
       "\n",
       "                                          ExpectedOutput FinalAnswer  Phase  \\\n",
       "0      <Plan_1>\\nOkay, so Steve has this isosceles tr...       22.21    1.0   \n",
       "2      <Plan_2>\\nBased on execution_1.1:\\nFirst, I ne...       22.21    2.0   \n",
       "8      <Plan_3>\\nBased on execution_2.1:\\nSo each of ...       22.21    3.0   \n",
       "10     <Plan_4>\\nBased on execution_3.1:\\nNow, since ...       22.21    4.0   \n",
       "14     <Plan_5>\\nBased on execution_4.2:\\nSimilarly, ...       22.21    5.0   \n",
       "...                                                  ...         ...    ...   \n",
       "22791  <Plan_1>\\nFirst, I'll break it down into each ...        2250    1.0   \n",
       "22793  <Plan_2>\\nBased on execution_1.1:\\nStarting wi...        2250    2.0   \n",
       "22797  <Plan_3>\\nBased on execution_2.1, execution_2....        2250    3.0   \n",
       "22800  <Plan_4>\\nBased on execution_3.2:\\nI think tha...        2250    4.0   \n",
       "22801  <Final_answer>\\nTo solve this problem, we need...        2250    5.0   \n",
       "\n",
       "       PromptCount  \n",
       "0                1  \n",
       "2                5  \n",
       "8                1  \n",
       "10               3  \n",
       "14               2  \n",
       "...            ...  \n",
       "22791            1  \n",
       "22793            3  \n",
       "22797            2  \n",
       "22800            0  \n",
       "22801            0  \n",
       "\n",
       "[8706 rows x 7 columns]"
      ]
     },
     "execution_count": 97,
     "metadata": {},
     "output_type": "execute_result"
    }
   ],
   "source": [
    "check_df"
   ]
  },
  {
   "cell_type": "code",
   "execution_count": 12,
   "metadata": {},
   "outputs": [],
   "source": [
    "ds = load_dataset(\"emilbiju/Plan-Execution-Data-Math-Full-Soln\", \"math\")\n",
    "df = ds[\"train\"].to_pandas()"
   ]
  },
  {
   "cell_type": "code",
   "execution_count": 15,
   "metadata": {},
   "outputs": [],
   "source": [
    "trajectory = text_processing_utils.read_file_as_string(\"logs/trajectory_data/OpenThoughts-correct_math/trajectory_data_1.txt\")"
   ]
  },
  {
   "cell_type": "code",
   "execution_count": 16,
   "metadata": {},
   "outputs": [
    {
     "name": "stdout",
     "output_type": "stream",
     "text": [
      "<Question>\n",
      "Steve has an isosceles triangle with base 8 inches and height 10 inches. He wants to cut it into eight pieces that have equal areas, as shown below. To the nearest hundredth of an inch what is the number of inches in the greatest perimeter among the eight pieces? [asy]\n",
      "size(150);\n",
      "defaultpen(linewidth(0.7));\n",
      "draw((0,0)--(8,0));\n",
      "for(int i = 0; i < 9; ++i){\n",
      "draw((4,10)--(i,0));\n",
      "}\n",
      "draw((0,-0.5)--(8,-0.5),Bars(5));\n",
      "label(\"$8''$\",(0,-0.5)--(8,-0.5),S);\n",
      "[/asy]\n",
      "</Question>\n",
      "\n",
      "<Plan_1>\n",
      "Okay, so Steve has this isosceles triangle with a base of 8 inches and a height of 10 inches. He wants to cut it into eight pieces, each with equal area. The Asymptote code provided seems to show the triangle being divided by lines from the apex (the top vertex) down to the base, which is divided into eight equal segments. The question is asking for the number of inches in the greatest perimeter among these eight pieces, rounded to the nearest hundredth.\n",
      "\n",
      "<prompt_1.1> Summarize the problem statement and identify the key requirements. </prompt_1.1>\n",
      "</Plan_1>\n",
      "\n",
      "<Execution_1>\n",
      "<execution_1.1>\n",
      "Okay, so Steve has this isosceles triangle with a base of 8 inches and a height of 10 inches. He wants to cut it into eight pieces, each with equal area. The Asymptote code provided seems to show the triangle being divided by lines from the apex (the top vertex) down to the base, which is divided into eight equal segments. The question is asking for the number of inches in the greatest perimeter among these eight pieces, rounded to the nearest hundredth.\n",
      "</execution_1.1>\n",
      "</Execution_1>\n",
      "\n",
      "<Plan_2>\n",
      "Based on execution_1.1:\n",
      "First, I need to visualize the triangle. Since it's isosceles with base 8 inches and height 10 inches, the two equal sides are the legs from the base to the apex.\n",
      "The base is 8 inches long, and the height (which is the perpendicular distance from the base to the apex) is 10 inches. The area of the triangle is (base * height)/2 = (8*10)/2 = 40 square inches. Since Steve wants to divide it into eight pieces of equal area, each piece must have an area of 5 square inches.\n",
      "\n",
      "Looking at the Asymptote code, it seems that the triangle is being divided by drawing lines from the apex (4,10) to each division point along the base. The base is drawn from (0,0) to (8,0), and there are markers at each 1-inch interval since there are 8 divisions.\n",
      "\n",
      "<prompt_2.1> Explain how the triangle is divided into regions of equal area based on the Asymptote code. </prompt_2.1>\n",
      "\n",
      "Now, the question is about the perimeter of each of these eight pieces. We need to find which of these eight pieces has the greatest perimeter and then compute that perimeter to the nearest hundredth of an inch.\n",
      "Now, the question is about the perimeter of each of these eight pieces. We need to find which of these eight pieces has the greatest perimeter and then compute that perimeter to the nearest hundredth of an inch.\n",
      "\n",
      "First, let me think about the structure of each piece. The first piece (the one on the left) is a triangle with base from (0,0) to (1,0) and the apex at (4,10).\n",
      "\n",
      "<prompt_2.2> Analyze the structure of each piece formed by the division of the triangle. </prompt_2.2>\n",
      "\n",
      "But actually, wait. If you connect each division point to the apex, then each region between two adjacent lines is a sort of narrow triangle, but with the base being a segment of the original base.\n",
      "\n",
      "<prompt_2.3> Clarify how the triangle is divided into regions and the nature of these regions. </prompt_2.3>\n",
      "\n",
      "The first region is a triangle with base 1 inch, and the rest are trapezoids? Wait, no.\n",
      "\n",
      "<prompt_2.4> Determine the shape of each region formed by the division of the triangle. </prompt_2.4>\n",
      "\n",
      "Wait, actually, no. Each region is a quadrilateral with two sides being the lines from the apex to the division points, and the other two sides being along the base and the adjacent line.\n",
      "\n",
      "<prompt_2.5> Finalize the understanding of the division and shape of regions within the triangle. </prompt_2.5>\n",
      "</Plan_2>\n",
      "\n",
      "<Execution_2>\n",
      "<execution_2.1>\n",
      "So, each segment along the base is 1 inch long. Therefore, the points where the lines are drawn from the apex to the base are at (0,0), (1,0), (2,0), ...., (8,0). But since the apex is at (4,10), each of these lines will divide the triangle into regions. However, the problem states there are eight pieces, each with equal area. So, perhaps each adjacent pair of lines creates a region (a sort of trapezoid or triangle) with equal area.\n",
      "\n",
      "Wait, but if there are nine points (from 0 to 8), and lines drawn from each to the apex, then that would create eight regions between the lines. Each region is a sort of \"slice\" of the triangle. Since the base is divided into eight equal parts, each 1 inch, these slices should each have equal area. That makes sense because when you divide the base of a triangle into equal parts and draw lines from the apex, each resulting region (which are trapezoids except for the first one, which is a smaller triangle) has equal area. That's a property of triangles: if you divide the base into n equal segments and connect each division to the apex, the areas of the resulting regions are equal. So each of the eight pieces here has an area of 5 square inches.\n",
      "</execution_2.1>\n",
      "\n",
      "<execution_2.2>\n",
      "Then the next piece is a quadrilateral (trapezoid) between the lines from (1,0) to (4,10) and (2,0) to (4,10), and so on, except the last piece on the right is another triangle, similar to the first one but mirrored.\n",
      "\n",
      "Wait, actually, if the base is divided into eight equal parts, each 1 inch, then each adjacent pair of division points (0 to 1, 1 to 2, ...., 7 to 8) creates a segment on the base. Connecting each division point to the apex divides the original triangle into eight regions. However, in this case, the first region (from the left) is a triangle with base 1 inch, and the last region (on the right) is another triangle with base 1 inch. The regions in between are trapezoids. Each of these regions has an area of 5 square inches.\n",
      "</execution_2.2>\n",
      "\n",
      "<execution_2.3>\n",
      "But actually, no. Wait, perhaps each \"slice\" is a quadrilateral, except for the first and last ones. Wait, maybe not. Let me clarify.\n",
      "\n",
      "Imagine the original triangle with base from (0,0) to (8,0) and apex at (4,10). If you draw a line from the apex to (1,0), that splits the original triangle into two regions: a smaller triangle on the left with base [0,1] and a quadrilateral. Then drawing a line to (2,0) splits the quadrilateral into another smaller quadrilateral and another region, and so on. Wait, actually, each time you draw a line from the apex to a division point, you're creating a smaller triangle and reducing the remaining area. But in this case, since we need eight equal areas, each subsequent line must be such that the area between two adjacent lines is equal.\n",
      "\n",
      "Alternatively, maybe each of the eight pieces is a trapezoid, except the first and last ones, which are triangles. Wait, no. If the base is divided into eight equal parts, each 1 inch, then each slice between two adjacent lines would have the same area. But how exactly?\n",
      "\n",
      "Let me recall that in a triangle, if you divide the base into n equal parts and connect those points to the apex, each of the resulting regions will have equal area. So in this case, dividing the base into eight equal parts and connecting each division to the apex would result in eight regions, each with area 5.\n",
      "</execution_2.3>\n",
      "\n",
      "<execution_2.4>\n",
      "Actually, each region is a triangle-like region, but with a base on the original base and a \"top\" side that's a line segment from the previous division point. Wait, perhaps each region is a trapezoid except for the first one. Let me think.\n",
      "\n",
      "Take the first division: from apex (4,10) to (0,0). Wait, but (0,0) is the original left vertex. So the first region is actually the original leftmost triangle, but since we're dividing the base into eight parts, the first line is from apex to (1,0), which would create a small triangle on the left with base [0,1], and the remaining area. Then the next line is from apex to (2,0), creating another region between (1,0) and (2,0), and so on. Each of these regions is a trapezoid with two sides as the lines from the apex and the base segment.\n",
      "</execution_2.4>\n",
      "\n",
      "<execution_2.5>\n",
      "Wait, perhaps not. Let me draw it mentally.\n",
      "\n",
      "The original triangle has base 8 inches. Each division is at 1-inch intervals. The first line is from (4,10) to (1,0), creating a triangle with vertices at (0,0), (1,0), and (4,10). Wait, no. If we connect (4,10) to (1,0), then the area to the left of that line is a triangle with vertices (0,0), (1,0), and (4,10). But that area would actually be a quadrilateral, because the original triangle's left side is from (0,0) to (4,10). Wait, hold on. The original triangle is isosceles, so the two equal sides are from (4,10) to (0,0) and (4,10) to (8,0). So, the left side is from (4,10) to (0,0), and the right side is from (4,10) to (8,0). Therefore, when we divide the base into 8 equal parts, each at x = 0,1,2,....,8.\n",
      "\n",
      "Wait, if we draw lines from (4,10) to each of these division points (1,0), (2,0), etc. , up to (7,0), then each of these lines will divide the original triangle into regions. Each region between two adjacent lines (say from (i,0) to (4,10) and (i+1,0) to (4,10)) will form a quadrilateral. Except for the first and last regions, which are triangles. Wait, actually, the first region is the triangle formed by (0,0), (1,0), and (4,10). Then the next region is the quadrilateral formed by (1,0), (2,0), (4,10), and the line from (1,0) to (4,10). Similarly, all regions except the first and last are quadrilaterals, and the first and last are triangles.\n",
      "\n",
      "But in the Asymptote code, they are drawing from (4,10) to each (i,0) for i from 0 to 8. But since (0,0) and (8,0) are already vertices of the original triangle, those lines are the sides of the original triangle. So the divisions are from (4,10) to each integer division on the base. So, each of the eight regions is between two adjacent lines. The leftmost region is between the line from (4,10) to (0,0) (the original left edge) and (4,10) to (1,0). Similarly, the rightmost region is between (4,10) to (7,0) and (4,10) to (8,0). Each of these regions is a quadrilateral except for the first and last, which are triangles. Wait, actually, even the first region is a quadrilateral? Wait, the original left edge is from (0,0) to (4,10), and the next line is from (1,0) to (4,10). The region between these two lines would have vertices at (0,0), (1,0), (4,10), and the original left edge. Wait, no. If you have two lines: one from (0,0) to (4,10) and another from (1,0) to (4,10). The region between these two lines is actually a quadrilateral with vertices at (0,0), (1,0), intersection point on the left edge? Wait, no. Wait, (0,0) is connected to (4,10), and (1,0) is connected to (4,10). The area between these two lines is actually a triangle with vertices at (0,0), (1,0), and (4,10). Similarly, the area between (1,0) to (4,10) and (2,0) to (4,10) is a quadrilateral with vertices at (1,0), (2,0), (4,10), and (1,0) connected to (4,10). Wait, no, that seems like a triangle again. Wait, maybe I'm confused.\n",
      "\n",
      "Wait, perhaps each region is actually a triangle. Because each adjacent pair of division points (i,0) and (i+1,0) connected to the apex (4,10) forms a triangle. But that triangle would have vertices at (i,0), (i+1,0), and (4,10). So each of these triangles has a base of 1 inch and height 10 inches? But no, the height is not 10 inches for these smaller triangles. Wait, the height of the original triangle is 10 inches, but the height for each smaller triangle would be from the apex (4,10) to the base, which is 10 inches. Wait, but the base of each smaller triangle is 1 inch. Then the area would be (1*10)/2 = 5 square inches, which is exactly the required area. So, each of these triangles has an area of 5. Therefore, the eight regions are all triangles, each with base 1 inch on the base of the original triangle and sides from (i,0) to (4,10) and (i+1,0) to (4,10).\n",
      "</execution_2.5>\n",
      "</Execution_2>\n",
      "\n",
      "<Plan_3>\n",
      "Based on execution_2.1:\n",
      "So each of the eight pieces is a triangle with base 1 inch and two sides connecting to the apex.\n",
      "\n",
      "Wait, but that can't be right, because if you divide the base into 8 segments, each 1 inch, and connect each endpoint to the apex, then you have 9 lines (including the original edges), creating 8 triangles.\n",
      "\n",
      "<prompt_3.1> Calculate the perimeter of each triangle formed by the division of the triangle. </prompt_3.1>\n",
      "</Plan_3>\n",
      "\n",
      "<Execution_3>\n",
      "<execution_3.1>\n",
      "Each of these triangles has a base of 1 inch and sides from the division points to the apex. So each triangle's perimeter would be the sum of its three sides: the 1-inch base, and the two sides from the division points to the apex. The apex is at (4,10). So for the triangle between (0,0) and (1,0), the sides are from (0,0) to (4,10) and from (1,0) to (4,10). The lengths of these sides can be calculated using the distance formula.\n",
      "\n",
      "Similarly, for the triangle between (1,0) and (2,0), the sides are from (1,0) to (4,10) and (2,0) to (4,10). So each triangle's perimeter would be 1 inch plus the sum of the two side lengths. Since the apex is at (4,10), the distance from each division point (i,0) to the apex is sqrt((4 - i)^2 + (10 - 0)^2) = sqrt((4 - i)^2 + 100). Therefore, for each triangle between (i,0) and (i+1,0), the two sides are sqrt((4 - i)^2 + 100) and sqrt((4 - (i+1))^2 + 100), and the base is 1 inch. Therefore, the perimeter of each triangle would be 1 + sqrt((4 - i)^2 + 100) + sqrt((4 - (i+1))^2 + 100).\n",
      "</execution_3.1>\n",
      "</Execution_3>\n",
      "\n",
      "<Plan_4>\n",
      "Based on execution_3.1:\n",
      "Now, since the apex is at the midpoint of the base (since it's an isosceles triangle with base 8 inches, the apex is at (4,10)), the distances from the division points to the apex will be symmetric. For example, the distance from (0,0) to (4,10) is the same as from (8,0) to (4,10).\n",
      "\n",
      "<prompt_4.1> Analyze the symmetry of the triangles and determine which has the greatest perimeter. </prompt_4.1>\n",
      "\n",
      "So we can calculate the perimeter of one of them and that will be the maximum.\n",
      "\n",
      "So let's compute the perimeter of the leftmost triangle.\n",
      "\n",
      "<prompt_4.2> Calculate the perimeter of the leftmost triangle. </prompt_4.2>\n",
      "-----\n",
      "\n",
      "Similarly, the next triangle (from (1,0) to (2,0)) would have sides:\n",
      "\n",
      "- From (1,0) to (4,10): sqrt(109) ≈ 10.4403 inches.\n",
      "\n",
      "<prompt_4.3> Calculate and compare the perimeters of other triangles. </prompt_4.3>\n",
      "</Plan_4>\n",
      "\n",
      "<Execution_4>\n",
      "<execution_4.1>\n",
      "Similarly, the distance from (1,0) to (4,10) is the same as from (7,0) to (4,10), and so on.\n",
      "\n",
      "Therefore, the perimeters of the triangles on the left side (near (0,0)) will mirror those on the right side (near (8,0)). The middle triangles, around (4,0), will have the shortest sides, since they are closest to the apex. Therefore, the perimeters of the triangles will be largest for the triangles farthest from the center, i.e., the first and last triangles (near (0,0) and (8,0)). Since these are mirror images, their perimeters will be equal. Therefore, the greatest perimeter among the eight pieces will be the perimeter of either the leftmost or rightmost triangle.\n",
      "\n",
      "But wait, according to the Asymptote code, the figure is drawn with the base divided into 8 segments, each 1 inch, and lines drawn from the apex to each division point. So the eight regions are indeed triangles, each with a 1-inch base and two sides connecting to the apex. Therefore, the perimeters of these triangles will vary depending on how far their base is from the apex's projection on the base, which is (4,0). The farther the base segment is from the center, the longer the sides connecting to the apex will be, hence the larger the perimeter.\n",
      "\n",
      "Therefore, the leftmost triangle (base from (0,0) to (1,0)) and the rightmost triangle (base from (7,0) to (8,0)) will have the longest sides, and thus the greatest perimeter. Since they are symmetric, their perimeters will be equal.\n",
      "</execution_4.1>\n",
      "\n",
      "<execution_4.2>\n",
      "Its vertices are (0,0), (1,0), and (4,10). The sides are:\n",
      "\n",
      "1. From (0,0) to (1,0): length is 1 inch (the base).\n",
      "2. From (1,0) to (4,10): let's compute this distance.\n",
      "3. From (4,10) to (0,0): another distance.\n",
      "\n",
      "Wait, hold on. If the triangle is formed by (0,0), (1,0), and (4,10), then the sides are:\n",
      "\n",
      "- Between (0,0) and (1,0): 1 inch.\n",
      "- Between (1,0) and (4,10): distance sqrt((4 - 1)^2 + (10 - 0)^2) = sqrt(9 + 100) = sqrt(109) ≈ 10.4403 inches.\n",
      "- Between (4,10) and (0,0): distance sqrt((4 - 0)^2 + (10 - 0)^2) = sqrt(16 + 100) = sqrt(116) ≈ 10.7703 inches.\n",
      "\n",
      "Therefore, the perimeter is 1 + sqrt(109) + sqrt(116) ≈ 1 + 10.4403 + 10.7703 ≈ 22.2106 inches.\n",
      "</execution_4.2>\n",
      "\n",
      "<execution_4.3>\n",
      "- From (2,0) to (4,10): sqrt((4 - 2)^2 + 10^2) = sqrt(4 + 100) = sqrt(104) ≈ 10.1980 inches.\n",
      "- The base from (1,0) to (2,0): 1 inch.\n",
      "\n",
      "Perimeter ≈ 10.4403 + 10.1980 + 1 ≈ 21.6383 inches.\n",
      "\n",
      "So this perimeter is less than the previous one. Similarly, the next triangle (from (2,0) to (3,0)):\n",
      "\n",
      "- From (2,0) to (4,10): sqrt(104) ≈ 10.1980 inches.\n",
      "- From (3,0) to (4,10): sqrt((4 - 3)^2 + 10^2) = sqrt(1 + 100) = sqrt(101) ≈ 10.0499 inches.\n",
      "- Base: 1 inch.\n",
      "\n",
      "Perimeter ≈ 10.1980 + 10.0499 + 1 ≈ 21.2479 inches.\n",
      "\n",
      "Continuing this pattern, the next triangle (3,0) to (4,0):\n",
      "\n",
      "- From (3,0) to (4,10): sqrt(101) ≈ 10.0499 inches.\n",
      "- From (4,0) to (4,10): sqrt((4 - 4)^2 + 10^2) = sqrt(0 + 100) = 10 inches.\n",
      "- Base: 1 inch.\n",
      "\n",
      "Perimeter ≈ 10.0499 + 10 + 1 ≈ 21.0499 inches.\n",
      "\n",
      "Then moving to the right side, the triangle from (4,0) to (5,0):\n",
      "\n",
      "Wait, but the apex is at (4,10), so the triangle from (4,0) to (5,0) would have sides:\n",
      "\n",
      "- From (4,0) to (4,10): 10 inches.\n",
      "- From (5,0) to (4,10): sqrt(1 + 100) ≈ 10.0499 inches.\n",
      "- Base: 1 inch.\n",
      "\n",
      "Same as the previous one, perimeter ≈ 10 + 10.0499 + 1 ≈ 21.0499 inches.\n",
      "\n",
      "Similarly, the next ones mirror the left side. So the perimeters decrease as we move towards the center and then increase again on the right side. Wait, but no, on the right side, the distances would mirror the left side. For example, the triangle from (5,0) to (6,0):\n",
      "\n",
      "- From (5,0) to (4,10): sqrt(1 + 100) ≈ 10.0499 inches.\n",
      "- From (6,0) to (4,10): sqrt(4 + 100) ≈ 10.1980 inches.\n",
      "- Base: 1 inch.\n",
      "\n",
      "Perimeter ≈ 10.0499 + 10.1980 + 1 ≈ 21.2479 inches.\n",
      "\n",
      "Similarly, (6,0) to (7,0):\n",
      "\n",
      "- sqrt(4 + 100) ≈ 10.1980 and sqrt(9 + 100) ≈ 10.4403.\n",
      "- Perimeter ≈ 10.1980 + 10.4403 + 1 ≈ 21.6383 inches.\n",
      "\n",
      "And (7,0) to (8,0):\n",
      "\n",
      "- sqrt(9 + 100) ≈ 10.4403 and sqrt(16 + 100) ≈ 10.7703.\n",
      "- Perimeter ≈ 10.4403 + 10.7703 + 1 ≈ 22.2106 inches.\n",
      "</execution_4.3>\n",
      "</Execution_4>\n",
      "\n",
      "<Plan_5>\n",
      "Based on execution_4.2:\n",
      "Similarly, the rightmost triangle would have sides of 1 inch, sqrt(109) inches, and sqrt(116) inches, so the same perimeter.\n",
      "\n",
      "But wait, the problem says \"eight pieces that have equal areas, as shown below\".\n",
      "\n",
      "<prompt_5.1> Verify the perimeter calculation of the leftmost triangle. </prompt_5.1>\n",
      "-----\n",
      "\n",
      "Based on execution_4.1, execution_4.3:\n",
      "So the perimeters are symmetric, with the leftmost and rightmost triangles having the maximum perimeter of approximately 22.2106 inches each.\n",
      "\n",
      "But the problem says \"to the nearest hundredth of an inch\".\n",
      "\n",
      "<prompt_5.2> Confirm the maximum perimeter and round to the nearest hundredth. </prompt_5.2>\n",
      "</Plan_5>\n",
      "\n",
      "<Execution_5>\n",
      "<execution_5.1>\n",
      "The Asymptote code draws lines from the apex to each division point on the base, creating eight regions. But according to the code, the base is divided into 8 equal parts (from 0 to 8), and each division is at integer points. So each region is a triangle with vertices at (i,0), (i+1,0), and (4,10). Therefore, each of these triangles has a base of 1 inch and two sides connecting to the apex.\n",
      "\n",
      "However, when we calculated the perimeter of the leftmost triangle, we found approximately 22.21 inches. But let's verify if this is correct.\n",
      "\n",
      "Wait, let's confirm the distances again. For the leftmost triangle:\n",
      "\n",
      "- From (0,0) to (4,10): sqrt((4 - 0)^2 + (10 - 0)^2) = sqrt(16 + 100) = sqrt(116) ≈ 10.7703 inches.\n",
      "- From (1,0) to (4,10): sqrt((4 - 1)^2 + (10 - 0)^2) = sqrt(9 + 100) = sqrt(109) ≈ 10.4403 inches.\n",
      "- The base from (0,0) to (1,0): 1 inch.\n",
      "\n",
      "So total perimeter ≈ 10.7703 + 10.4403 + 1 ≈ 22.2106 inches.\n",
      "</execution_5.1>\n",
      "\n",
      "<execution_5.2>\n",
      "So we need to compute this value more accurately.\n",
      "\n",
      "Let's compute the exact distances:\n",
      "\n",
      "For the leftmost triangle:\n",
      "\n",
      "- Distance from (0,0) to (4,10): sqrt((4)^2 + (10)^2) = sqrt(16 + 100) = sqrt(116).\n",
      "- Distance from (1,0) to (4,10): sqrt((3)^2 + (10)^2) = sqrt(9 + 100) = sqrt(109).\n",
      "\n",
      "So perimeter = 1 + sqrt(116) + sqrt(109).\n",
      "\n",
      "Compute sqrt(116):\n",
      "\n",
      "sqrt(116) = sqrt(4*29) = 2*sqrt(29) ≈ 2*5.385164807 ≈ 10.77032961.\n",
      "\n",
      "sqrt(109):\n",
      "\n",
      "sqrt(109) ≈ 10.44030651.\n",
      "\n",
      "Therefore, perimeter ≈ 1 + 10.77032961 + 10.44030651 ≈ 1 + 21.21063612 ≈ 22.21063612.\n",
      "\n",
      "Rounding to the nearest hundredth: 22.21 inches.\n",
      "\n",
      "But wait, let me verify with more precise calculations.\n",
      "\n",
      "Compute sqrt(109):\n",
      "\n",
      "109 is between 100 (10^2) and 121 (11^2). Let's compute it more accurately.\n",
      "\n",
      "10.4^2 = 108.16\n",
      "\n",
      "10.44^2 = (10 + 0.44)^2 = 100 + 8.8 + 0.1936 = 108.9936 ≈ 109. So 10.44^2 = 108.9936, which is very close to 109. Therefore, sqrt(109) ≈ 10.4403.\n",
      "\n",
      "Similarly, sqrt(116):\n",
      "\n",
      "10.77^2 = (10 + 0.77)^2 = 100 + 15.4 + 0.5929 = 115.9929 ≈ 116. So sqrt(116) ≈ 10.7703.\n",
      "\n",
      "Thus, the perimeter is approximately 1 + 10.4403 + 10.7703 ≈ 22.2106 inches. Rounded to the nearest hundredth, that is 22.21 inches.\n",
      "</execution_5.2>\n",
      "</Execution_5>\n",
      "\n",
      "<Plan_6>\n",
      "Based on execution_5.2:\n",
      "However, the problem statement mentions that Steve wants to cut the triangle into eight pieces of equal area \"as shown below\". The Asymptote code draws lines from the apex to each division point on the base, creating eight triangular regions.\n",
      "\n",
      "<prompt_6.1> Perform a final verification of the solution to ensure accuracy. </prompt_6.1>\n",
      "\n",
      "But wait, before finalizing, let me confirm with exact values.\n",
      "\n",
      "Compute sqrt(116) and sqrt(109) with more precision.\n",
      "\n",
      "<prompt_6.2> Recalculate with more precision and finalize the answer. </prompt_6.2>\n",
      "</Plan_6>\n",
      "\n",
      "<Execution_6>\n",
      "<execution_6.1>\n",
      "However, when we calculated the perimeters, we found that the leftmost and rightmost triangles have the maximum perimeter of approximately 22.21 inches.\n",
      "\n",
      "But before finalizing this answer, I need to make sure that the pieces are indeed triangles. Wait, if we divide the base into eight 1-inch segments and connect each division to the apex, we indeed create eight triangles, each with a base of 1 inch and two sides connecting to the apex. Therefore, each of these triangles has an area of (1*10)/2 = 5 square inches, which matches the requirement of equal areas. Therefore, the perimeters we calculated are correct.\n",
      "\n",
      "But hold on, the problem mentions \"eight pieces that have equal areas\", but in the Asymptote code, the drawing includes lines from the apex to each division on the base, which would create eight triangular pieces. However, in that case, each piece is a triangle with base 1 inch. However, in reality, when you connect each division point to the apex, the regions between two adjacent lines are actually triangles. So each piece is a triangle with vertices at (i,0), (i+1,0), and (4,10). Therefore, each has a base of 1 inch and two sides from (i,0) to (4,10) and (i+1,0) to (4,10). Therefore, the perimeters are as calculated.\n",
      "\n",
      "Therefore, the maximum perimeter is indeed approximately 22.21 inches. However, let me check if there's another piece with a greater perimeter. For example, maybe the central pieces, although their sides are shorter, but perhaps their perimeters add up differently?\n",
      "\n",
      "Wait, the central triangles have sides closer to the apex. For example, the triangle between (3,0) and (4,0) has sides of sqrt(101) ≈10.0499 and 10 inches, plus the 1-inch base. Total perimeter ≈21.05 inches, which is less than the leftmost and rightmost triangles. So yes, the maximum is indeed the leftmost and rightmost triangles.\n",
      "\n",
      "But wait a second. Let me think again. The problem says \"the number of inches in the greatest perimeter among the eight pieces\". So if each of the eight pieces is a triangle as described, then the maximum perimeter is approximately 22.21 inches. But I need to confirm this.\n",
      "\n",
      "Alternatively, perhaps the figure is divided differently. Maybe the cuts are not just from the apex to the base, but also horizontal or other lines. However, the Asymptote code provided draws only lines from the apex (4,10) to each point (i,0) for i from 0 to 8. That is, the code draws nine lines (from apex to each of the 9 division points on the base, from 0 to 8 inclusive). But since the original triangle already has lines from apex to (0,0) and (8,0), those are the original sides. Therefore, the figure is divided into eight regions by seven additional lines (from apex to (1,0) through (7,0)). Each of these eight regions is a triangle with vertices at (i,0), (i+1,0), and (4,10). So each of these eight regions is indeed a triangle, each with a base of 1 inch and two sides connecting to the apex.\n",
      "\n",
      "Therefore, the perimeters are as calculated, with the leftmost and rightmost triangles having the maximum perimeter. Thus, the answer should be 22.21 inches.\n",
      "\n",
      "However, just to be thorough, let me check if there's a possibility that the maximum perimeter piece is not one of these triangles but another shape. For example, if the Asymptote code's drawing includes other lines, but according to the code:\n",
      "\n",
      "draw((0,0)--(8,0));\n",
      "\n",
      "for(int i = 0; i < 9; ++i){\n",
      "draw((4,10)--(i,0));\n",
      "}\n",
      "\n",
      "draw((0,-0.5)--(8,-0.5),Bars(5));\n",
      "label(\"$8''$\",(0,-0.5)--(8,-0.5),S);\n",
      "\n",
      "So the code draws the base from (0,0) to (8,0), then draws lines from (4,10) to each (i,0) for i from 0 to 8. Therefore, dividing the original triangle into eight triangular regions, each with a base of 1 inch. Therefore, each of the eight pieces is a triangle with vertices at (i,0), (i+1,0), and (4,10). Hence, the perimeters are as calculated.\n",
      "\n",
      "Therefore, the answer is 22.21 inches.\n",
      "</execution_6.1>\n",
      "\n",
      "<execution_6.2>\n",
      "First, sqrt(109):\n",
      "\n",
      "Let's compute sqrt(109) using a more precise method.\n",
      "\n",
      "We know that 10.44^2 = 108.9936, which is 0.0064 less than 109.\n",
      "\n",
      "So, let's compute the difference:\n",
      "\n",
      "109 - 108.9936 = 0.0064.\n",
      "\n",
      "To find a better approximation, use linear approximation.\n",
      "\n",
      "Let f(x) = sqrt(x), and we know f(108.9936) = 10.44.\n",
      "\n",
      "We want to find f(109) = f(108.9936 + 0.0064).\n",
      "\n",
      "Using the linear approximation:\n",
      "\n",
      "f'(x) = 1/(2*sqrt(x)).\n",
      "\n",
      "Therefore, delta_x = 0.0064\n",
      "\n",
      "delta_f ≈ delta_x / (2*sqrt(108.9936)) ≈ 0.0064 / (2*10.44) ≈ 0.0064 / 20.88 ≈ 0.0003066.\n",
      "\n",
      "Therefore, sqrt(109) ≈ 10.44 + 0.0003066 ≈ 10.4403066.\n",
      "\n",
      "Similarly, sqrt(116):\n",
      "\n",
      "We know that 10.77^2 = 115.9929, which is 0.0071 less than 116.\n",
      "\n",
      "Compute delta_x = 116 - 115.9929 = 0.0071.\n",
      "\n",
      "Using linear approximation:\n",
      "\n",
      "delta_f ≈ 0.0071 / (2*10.77) ≈ 0.0071 / 21.54 ≈ 0.0003296.\n",
      "\n",
      "Therefore, sqrt(116) ≈ 10.77 + 0.0003296 ≈ 10.7703296.\n",
      "\n",
      "Therefore, the perimeter is:\n",
      "\n",
      "1 + 10.4403066 + 10.7703296 ≈ 1 + 21.2106362 ≈ 22.2106362 inches.\n",
      "\n",
      "Rounded to the nearest hundredth is 22.21 inches.\n",
      "\n",
      "Therefore, the answer is \\boxed{22.21}.\n",
      "</execution_6.2>\n",
      "</Execution_6>\n",
      "\n",
      "<Final_answer>\n",
      "Therefore, the greatest perimeter among the eight pieces is $\\boxed{22.21}$ inches.\n",
      "</Final_answer>\n"
     ]
    }
   ],
   "source": [
    "print(trajectory)"
   ]
  },
  {
   "cell_type": "code",
   "execution_count": 36,
   "metadata": {},
   "outputs": [],
   "source": [
    "def prepare_dataset_for_R1_Distill_full_trajectory(df):\n",
    "    def add_messages(row):\n",
    "        row[\"messages\"] = [\n",
    "            {\"role\": \"user\", \"content\": row[\"UserPrompt\"]},\n",
    "            {\"role\": \"assistant\", \"content\": row[\"ExpectedOutput\"]}\n",
    "        ]\n",
    "        return row\n",
    "    df[\"ExpectedOutput\"] = df[\"ExpectedOutput\"].apply(lambda x: x.replace(\"**Final Answer**\\n\", \"\"))\n",
    "    dataset = Dataset.from_pandas(df)\n",
    "    dataset = dataset.map(add_messages)\n",
    "    return dataset, df"
   ]
  },
  {
   "cell_type": "code",
   "execution_count": 37,
   "metadata": {},
   "outputs": [],
   "source": [
    "from tqdm import tqdm"
   ]
  },
  {
   "cell_type": "code",
   "execution_count": 38,
   "metadata": {},
   "outputs": [
    {
     "name": "stderr",
     "output_type": "stream",
     "text": [
      "100%|██████████| 3059/3059 [00:08<00:00, 371.13it/s]\n",
      "100%|██████████| 1521/1521 [00:02<00:00, 721.14it/s]\n"
     ]
    }
   ],
   "source": [
    "import re\n",
    "df = []\n",
    "trajectory_dirs = [\"logs/trajectory_data/OpenThoughts-correct_olympiads\", \"logs/trajectory_data/OpenThoughts-correct_math\"]\n",
    "# trajectory_dirs = [\"logs/trajectory_data/OpenThoughts-correct_math\"]\n",
    "\n",
    "for trajectory_dir in trajectory_dirs:\n",
    "    for filename in tqdm(sorted(os.listdir(trajectory_dir))):\n",
    "        problem_idx = filename.split('.')[0].split('_')[-1]\n",
    "        trajectory = text_processing_utils.read_file_as_string(os.path.join(trajectory_dir, filename))\n",
    "        question_content = re.search(r\"<Question>(.*?)</Question>\", trajectory, re.DOTALL).group(1)\n",
    "        trajectory = re.sub(r\"<Question>.*?</Question>\", \"\", trajectory, flags=re.DOTALL).strip()\n",
    "        system_prompt = text_processing_utils.read_file_as_string(\"src/prompts/global_agent_prompt.txt\")\n",
    "        system_prompt += f\"\\n\\n<Question>\\n{question_content.strip()}\\n</Question>\\n\\n\"\n",
    "        user_prompt = system_prompt\n",
    "        expected_output = \"<think>\\n\"+trajectory.strip()+\"\\n</think>\"\n",
    "        final_answer_line = evaluate_utils.get_final_answer_line(trajectory)\n",
    "        if \"boxed\" in final_answer_line:\n",
    "            final_answer = evaluate_utils.remove_boxed(evaluate_utils.last_boxed_only_string(final_answer_line))\n",
    "        else:\n",
    "            raise Exception(f\"Final answer not found for {filename}\")\n",
    "        df.append((problem_idx, user_prompt, expected_output, final_answer))\n",
    "df = pd.DataFrame(df, columns=[\"ProblemIdx\", \"UserPrompt\", \"ExpectedOutput\", \"FinalAnswer\"])\n",
    "df = df.sort_values(by=\"ProblemIdx\", key=lambda col: col.astype(int))"
   ]
  },
  {
   "cell_type": "code",
   "execution_count": 39,
   "metadata": {},
   "outputs": [],
   "source": [
    "from sklearn.model_selection import train_test_split\n",
    "\n",
    "train_df, test_df = train_test_split(df, test_size=0.1, random_state=42)"
   ]
  },
  {
   "cell_type": "code",
   "execution_count": 40,
   "metadata": {},
   "outputs": [
    {
     "data": {
      "application/vnd.jupyter.widget-view+json": {
       "model_id": "6d3888a3edee4e5e9b0830654827b684",
       "version_major": 2,
       "version_minor": 0
      },
      "text/plain": [
       "Map:   0%|          | 0/4122 [00:00<?, ? examples/s]"
      ]
     },
     "metadata": {},
     "output_type": "display_data"
    },
    {
     "data": {
      "application/vnd.jupyter.widget-view+json": {
       "model_id": "fbaac27711684fd88e150356c7407004",
       "version_major": 2,
       "version_minor": 0
      },
      "text/plain": [
       "Map:   0%|          | 0/458 [00:00<?, ? examples/s]"
      ]
     },
     "metadata": {},
     "output_type": "display_data"
    },
    {
     "data": {
      "application/vnd.jupyter.widget-view+json": {
       "model_id": "d9ed2d402d0640568589ee000b3c7cb4",
       "version_major": 2,
       "version_minor": 0
      },
      "text/plain": [
       "Uploading the dataset shards:   0%|          | 0/1 [00:00<?, ?it/s]"
      ]
     },
     "metadata": {},
     "output_type": "display_data"
    },
    {
     "data": {
      "application/vnd.jupyter.widget-view+json": {
       "model_id": "99b9d62e00f94e638454e846397d022e",
       "version_major": 2,
       "version_minor": 0
      },
      "text/plain": [
       "Creating parquet from Arrow format:   0%|          | 0/5 [00:00<?, ?ba/s]"
      ]
     },
     "metadata": {},
     "output_type": "display_data"
    },
    {
     "data": {
      "application/vnd.jupyter.widget-view+json": {
       "model_id": "8f01296169154e509e5e4d5c21eca76e",
       "version_major": 2,
       "version_minor": 0
      },
      "text/plain": [
       "Uploading the dataset shards:   0%|          | 0/1 [00:00<?, ?it/s]"
      ]
     },
     "metadata": {},
     "output_type": "display_data"
    },
    {
     "data": {
      "application/vnd.jupyter.widget-view+json": {
       "model_id": "7293a9e6558849008aac13cbbf99dbb6",
       "version_major": 2,
       "version_minor": 0
      },
      "text/plain": [
       "Creating parquet from Arrow format:   0%|          | 0/1 [00:00<?, ?ba/s]"
      ]
     },
     "metadata": {},
     "output_type": "display_data"
    },
    {
     "data": {
      "text/plain": [
       "CommitInfo(commit_url='https://huggingface.co/datasets/emilbiju/Trajectory-Data-MATH-Olympiad-Merged-Chains-with-prompt/commit/e83b8fee14ec77818e99d4dd40ea20d1474a945f', commit_message='Upload dataset', commit_description='', oid='e83b8fee14ec77818e99d4dd40ea20d1474a945f', pr_url=None, repo_url=RepoUrl('https://huggingface.co/datasets/emilbiju/Trajectory-Data-MATH-Olympiad-Merged-Chains-with-prompt', endpoint='https://huggingface.co', repo_type='dataset', repo_id='emilbiju/Trajectory-Data-MATH-Olympiad-Merged-Chains-with-prompt'), pr_revision=None, pr_num=None)"
      ]
     },
     "execution_count": 40,
     "metadata": {},
     "output_type": "execute_result"
    }
   ],
   "source": [
    "dataset_dict = DatasetDict({\n",
    "    \"train\": prepare_dataset_for_R1_Distill_full_trajectory(train_df)[0],\n",
    "    \"test\": prepare_dataset_for_R1_Distill_full_trajectory(test_df)[0]\n",
    "})\n",
    "dataset_dict.push_to_hub(\"emilbiju/Trajectory-Data-MATH-Olympiad-Merged-Chains-with-prompt\")"
   ]
  },
  {
   "cell_type": "code",
   "execution_count": null,
   "metadata": {},
   "outputs": [],
   "source": []
  },
  {
   "cell_type": "code",
   "execution_count": null,
   "metadata": {},
   "outputs": [],
   "source": []
  },
  {
   "cell_type": "code",
   "execution_count": null,
   "metadata": {},
   "outputs": [
    {
     "data": {
      "text/html": [
       "<div>\n",
       "<style scoped>\n",
       "    .dataframe tbody tr th:only-of-type {\n",
       "        vertical-align: middle;\n",
       "    }\n",
       "\n",
       "    .dataframe tbody tr th {\n",
       "        vertical-align: top;\n",
       "    }\n",
       "\n",
       "    .dataframe thead th {\n",
       "        text-align: right;\n",
       "    }\n",
       "</style>\n",
       "<table border=\"1\" class=\"dataframe\">\n",
       "  <thead>\n",
       "    <tr style=\"text-align: right;\">\n",
       "      <th></th>\n",
       "      <th>ProblemIdx</th>\n",
       "      <th>SystemPrompt</th>\n",
       "      <th>UserPrompt</th>\n",
       "      <th>ExpectedOutput</th>\n",
       "      <th>FinalAnswer</th>\n",
       "      <th>Phase</th>\n",
       "      <th>__index_level_0__</th>\n",
       "      <th>messages</th>\n",
       "    </tr>\n",
       "  </thead>\n",
       "  <tbody>\n",
       "    <tr>\n",
       "      <th>20</th>\n",
       "      <td>1</td>\n",
       "      <td>You are the planner of an AI system that follo...</td>\n",
       "      <td>&lt;Question&gt;\\nSteve has an isosceles triangle wi...</td>\n",
       "      <td>&lt;Final_answer&gt;\\nTherefore, the greatest perime...</td>\n",
       "      <td>22.21</td>\n",
       "      <td>7.0</td>\n",
       "      <td>20</td>\n",
       "      <td>[{'content': 'You are the planner of an AI sys...</td>\n",
       "    </tr>\n",
       "    <tr>\n",
       "      <th>28</th>\n",
       "      <td>2</td>\n",
       "      <td>You are the planner of an AI system that follo...</td>\n",
       "      <td>&lt;Question&gt;\\nSimplify $\\frac{1}{1+\\sqrt{2}}\\cdo...</td>\n",
       "      <td>&lt;Final_answer&gt;\\nTherefore, the simplified expr...</td>\n",
       "      <td>-1</td>\n",
       "      <td>3.0</td>\n",
       "      <td>7</td>\n",
       "      <td>[{'content': 'You are the planner of an AI sys...</td>\n",
       "    </tr>\n",
       "    <tr>\n",
       "      <th>42</th>\n",
       "      <td>5</td>\n",
       "      <td>You are the planner of an AI system that follo...</td>\n",
       "      <td>&lt;Question&gt;\\nSuppose that all four of the numbe...</td>\n",
       "      <td>&lt;Final_answer&gt;\\nTherefore, the smallest possib...</td>\n",
       "      <td>6</td>\n",
       "      <td>6.0</td>\n",
       "      <td>13</td>\n",
       "      <td>[{'content': 'You are the planner of an AI sys...</td>\n",
       "    </tr>\n",
       "    <tr>\n",
       "      <th>52</th>\n",
       "      <td>7</td>\n",
       "      <td>You are the planner of an AI system that follo...</td>\n",
       "      <td>&lt;Question&gt;\\nHow many positive integers less th...</td>\n",
       "      <td>&lt;Final_answer&gt;\\nTherefore, there are $\\boxed{5...</td>\n",
       "      <td>52</td>\n",
       "      <td>4.0</td>\n",
       "      <td>9</td>\n",
       "      <td>[{'content': 'You are the planner of an AI sys...</td>\n",
       "    </tr>\n",
       "    <tr>\n",
       "      <th>70</th>\n",
       "      <td>10</td>\n",
       "      <td>You are the planner of an AI system that follo...</td>\n",
       "      <td>&lt;Question&gt;\\nPalindromes are numbers that read ...</td>\n",
       "      <td>&lt;Final_answer&gt;\\nTherefore, the least possible ...</td>\n",
       "      <td>1221</td>\n",
       "      <td>7.0</td>\n",
       "      <td>17</td>\n",
       "      <td>[{'content': 'You are the planner of an AI sys...</td>\n",
       "    </tr>\n",
       "  </tbody>\n",
       "</table>\n",
       "</div>"
      ],
      "text/plain": [
       "    ProblemIdx                                       SystemPrompt  \\\n",
       "20           1  You are the planner of an AI system that follo...   \n",
       "28           2  You are the planner of an AI system that follo...   \n",
       "42           5  You are the planner of an AI system that follo...   \n",
       "52           7  You are the planner of an AI system that follo...   \n",
       "70          10  You are the planner of an AI system that follo...   \n",
       "\n",
       "                                           UserPrompt  \\\n",
       "20  <Question>\\nSteve has an isosceles triangle wi...   \n",
       "28  <Question>\\nSimplify $\\frac{1}{1+\\sqrt{2}}\\cdo...   \n",
       "42  <Question>\\nSuppose that all four of the numbe...   \n",
       "52  <Question>\\nHow many positive integers less th...   \n",
       "70  <Question>\\nPalindromes are numbers that read ...   \n",
       "\n",
       "                                       ExpectedOutput FinalAnswer  Phase  \\\n",
       "20  <Final_answer>\\nTherefore, the greatest perime...       22.21    7.0   \n",
       "28  <Final_answer>\\nTherefore, the simplified expr...          -1    3.0   \n",
       "42  <Final_answer>\\nTherefore, the smallest possib...           6    6.0   \n",
       "52  <Final_answer>\\nTherefore, there are $\\boxed{5...          52    4.0   \n",
       "70  <Final_answer>\\nTherefore, the least possible ...        1221    7.0   \n",
       "\n",
       "    __index_level_0__                                           messages  \n",
       "20                 20  [{'content': 'You are the planner of an AI sys...  \n",
       "28                  7  [{'content': 'You are the planner of an AI sys...  \n",
       "42                 13  [{'content': 'You are the planner of an AI sys...  \n",
       "52                  9  [{'content': 'You are the planner of an AI sys...  \n",
       "70                 17  [{'content': 'You are the planner of an AI sys...  "
      ]
     },
     "execution_count": 14,
     "metadata": {},
     "output_type": "execute_result"
    }
   ],
   "source": [
    "\n",
    "df = df[df[\"ExpectedOutput\"].str.contains(\"<Final_answer>\")]\n",
    "df.head()\n",
    "system_prompt = text_processing_utils.read_file_as_string(\"src/prompts/global_agent_prompt.txt\")\n",
    "df[\"Trajectory\"] = df.apply(lambda x: x[\"UserPrompt\"]+\"\\n\\n\"+x[\"ExpectedOutput\"], axis=1)"
   ]
  },
  {
   "cell_type": "code",
   "execution_count": null,
   "metadata": {},
   "outputs": [],
   "source": [
    "def prepare_dataset_for_chat_instruct_full_trajectory_generator(df):\n",
    "    def add_messages(row):\n",
    "        row[\"messages\"] = [\n",
    "            {\"role\": \"system\", \"content\": row[\"SystemPrompt\"]},\n",
    "            {\"role\": \"user\", \"content\": row[\"UserPrompt\"]},\n",
    "            {\"role\": \"assistant\", \"content\": row[\"ExpectedOutput\"]}\n",
    "        ]\n",
    "        return row\n",
    "\n",
    "    df = df[df[\"ExpectedOutput\"].str.contains(\"<Final_answer>\")]\n",
    "    system_prompt = text_processing_utils.read_file_as_string(\"src/prompts/global_agent_prompt.txt\")\n",
    "    df[\"Trajectory\"] = df.apply(lambda x: x[\"UserPrompt\"]+\"\\n\\n\"+x[\"ExpectedOutput\"], axis=1)\n",
    "    df[\"SystemPrompt\"] = system_prompt\n",
    "\n",
    "    del df[\"UserPrompt\"]\n",
    "    del df[\"ExpectedOutput\"]\n",
    "\n",
    "    dataset = Dataset.from_pandas(df)\n",
    "    dataset = dataset.map(add_messages)\n",
    "    return dataset, df"
   ]
  },
  {
   "cell_type": "code",
   "execution_count": 121,
   "metadata": {},
   "outputs": [
    {
     "name": "stdout",
     "output_type": "stream",
     "text": [
      "<Final_answer>\n",
      "To find out how many eggs will be left over after selling them in cartons of 12, we first add up all the eggs that Abigail, Beatrice, and Carson have and then divide that total by 12. The remainder of this division will tell us how many eggs are left over.\n",
      "\n",
      "Step 1: Add up all the eggs.\n",
      "\\[\n",
      "37 + 49 + 14 = 100\n",
      "\\]\n",
      "\n",
      "Step 2: Find the remainder when the total number of eggs is divided by 12. This can be done by looking at the congruence of each individual's eggs modulo 12 and then summing those congruences.\n",
      "\n",
      "Abigail's eggs modulo 12:\n",
      "\\[\n",
      "37 \\equiv 1 \\pmod{12}\n",
      "\\]\n",
      "Beatrice's eggs modulo 12:\n",
      "\\[\n",
      "49 \\equiv 1 \\pmod{12}\n",
      "\\]\n",
      "Carson's eggs modulo 12:\n",
      "\\[\n",
      "14 \\equiv 2 \\pmod{12}\n",
      "\\]\n",
      "\n",
      "Step 3: Sum the congruences.\n",
      "\\[\n",
      "1 + 1 + 2 = 4\n",
      "\\]\n",
      "\n",
      "Therefore, when we divide the total number of eggs by 12, the remainder is 4. This means there will be 4 eggs left over after selling them in cartons of 12.\n",
      "\n",
      "Final Answer:\n",
      "\\[\n",
      "\\boxed{4}\n",
      "\\]\n",
      "</Final_answer>\n"
     ]
    }
   ],
   "source": [
    "print(check_df[check_df[\"ExpectedOutput\"].str.contains(\"Final Answer\")][\"ExpectedOutput\"].iloc[4])"
   ]
  },
  {
   "cell_type": "code",
   "execution_count": null,
   "metadata": {},
   "outputs": [],
   "source": []
  },
  {
   "cell_type": "code",
   "execution_count": 114,
   "metadata": {},
   "outputs": [
    {
     "name": "stderr",
     "output_type": "stream",
     "text": [
      "/var/folders/jn/30ywqtk93cg3xfk4034wdsnr0000gn/T/ipykernel_86647/1255489650.py:12: SettingWithCopyWarning: \n",
      "A value is trying to be set on a copy of a slice from a DataFrame.\n",
      "Try using .loc[row_indexer,col_indexer] = value instead\n",
      "\n",
      "See the caveats in the documentation: https://pandas.pydata.org/pandas-docs/stable/user_guide/indexing.html#returning-a-view-versus-a-copy\n",
      "  df[\"ExpectedOutput\"] = df[\"ExpectedOutput\"].apply(lambda x: x.replace(\"**Final Answer**\\n\", \"\"))\n"
     ]
    },
    {
     "data": {
      "application/vnd.jupyter.widget-view+json": {
       "model_id": "9c9358d712cb403c987ba9d0af4128f4",
       "version_major": 2,
       "version_minor": 0
      },
      "text/plain": [
       "Map:   0%|          | 0/8706 [00:00<?, ? examples/s]"
      ]
     },
     "metadata": {},
     "output_type": "display_data"
    }
   ],
   "source": [
    "check_df = prepare_dataset_for_chat_instruct_planner(train_df)[1]"
   ]
  },
  {
   "cell_type": "code",
   "execution_count": 90,
   "metadata": {},
   "outputs": [
    {
     "data": {
      "text/html": [
       "<div>\n",
       "<style scoped>\n",
       "    .dataframe tbody tr th:only-of-type {\n",
       "        vertical-align: middle;\n",
       "    }\n",
       "\n",
       "    .dataframe tbody tr th {\n",
       "        vertical-align: top;\n",
       "    }\n",
       "\n",
       "    .dataframe thead th {\n",
       "        text-align: right;\n",
       "    }\n",
       "</style>\n",
       "<table border=\"1\" class=\"dataframe\">\n",
       "  <thead>\n",
       "    <tr style=\"text-align: right;\">\n",
       "      <th></th>\n",
       "      <th>ProblemIdx</th>\n",
       "      <th>SystemPrompt</th>\n",
       "      <th>UserPrompt</th>\n",
       "      <th>ExpectedOutput</th>\n",
       "      <th>FinalAnswer</th>\n",
       "      <th>Phase</th>\n",
       "    </tr>\n",
       "  </thead>\n",
       "  <tbody>\n",
       "    <tr>\n",
       "      <th>0</th>\n",
       "      <td>1</td>\n",
       "      <td>You are the planner of an AI system that follo...</td>\n",
       "      <td>&lt;Question&gt;\\nSteve has an isosceles triangle wi...</td>\n",
       "      <td>&lt;Plan_1&gt;\\nOkay, so Steve has this isosceles tr...</td>\n",
       "      <td>22.21</td>\n",
       "      <td>1.0</td>\n",
       "    </tr>\n",
       "    <tr>\n",
       "      <th>2</th>\n",
       "      <td>1</td>\n",
       "      <td>You are the planner of an AI system that follo...</td>\n",
       "      <td>&lt;Question&gt;\\nSteve has an isosceles triangle wi...</td>\n",
       "      <td>&lt;Plan_2&gt;\\nBased on execution_1.1:\\nFirst, I ne...</td>\n",
       "      <td>22.21</td>\n",
       "      <td>2.0</td>\n",
       "    </tr>\n",
       "    <tr>\n",
       "      <th>8</th>\n",
       "      <td>1</td>\n",
       "      <td>You are the planner of an AI system that follo...</td>\n",
       "      <td>&lt;Question&gt;\\nSteve has an isosceles triangle wi...</td>\n",
       "      <td>&lt;Plan_3&gt;\\nBased on execution_2.1:\\nSo each of ...</td>\n",
       "      <td>22.21</td>\n",
       "      <td>3.0</td>\n",
       "    </tr>\n",
       "    <tr>\n",
       "      <th>10</th>\n",
       "      <td>1</td>\n",
       "      <td>You are the planner of an AI system that follo...</td>\n",
       "      <td>&lt;Question&gt;\\nSteve has an isosceles triangle wi...</td>\n",
       "      <td>&lt;Plan_4&gt;\\nBased on execution_3.1:\\nNow, since ...</td>\n",
       "      <td>22.21</td>\n",
       "      <td>4.0</td>\n",
       "    </tr>\n",
       "    <tr>\n",
       "      <th>14</th>\n",
       "      <td>1</td>\n",
       "      <td>You are the planner of an AI system that follo...</td>\n",
       "      <td>&lt;Question&gt;\\nSteve has an isosceles triangle wi...</td>\n",
       "      <td>&lt;Plan_5&gt;\\nBased on execution_4.2:\\nSimilarly, ...</td>\n",
       "      <td>22.21</td>\n",
       "      <td>5.0</td>\n",
       "    </tr>\n",
       "    <tr>\n",
       "      <th>...</th>\n",
       "      <td>...</td>\n",
       "      <td>...</td>\n",
       "      <td>...</td>\n",
       "      <td>...</td>\n",
       "      <td>...</td>\n",
       "      <td>...</td>\n",
       "    </tr>\n",
       "    <tr>\n",
       "      <th>22791</th>\n",
       "      <td>4999</td>\n",
       "      <td>You are the planner of an AI system that follo...</td>\n",
       "      <td>&lt;Question&gt;\\nLark has forgotten her locker comb...</td>\n",
       "      <td>&lt;Plan_1&gt;\\nFirst, I'll break it down into each ...</td>\n",
       "      <td>2250</td>\n",
       "      <td>1.0</td>\n",
       "    </tr>\n",
       "    <tr>\n",
       "      <th>22793</th>\n",
       "      <td>4999</td>\n",
       "      <td>You are the planner of an AI system that follo...</td>\n",
       "      <td>&lt;Question&gt;\\nLark has forgotten her locker comb...</td>\n",
       "      <td>&lt;Plan_2&gt;\\nBased on execution_1.1:\\nStarting wi...</td>\n",
       "      <td>2250</td>\n",
       "      <td>2.0</td>\n",
       "    </tr>\n",
       "    <tr>\n",
       "      <th>22797</th>\n",
       "      <td>4999</td>\n",
       "      <td>You are the planner of an AI system that follo...</td>\n",
       "      <td>&lt;Question&gt;\\nLark has forgotten her locker comb...</td>\n",
       "      <td>&lt;Plan_3&gt;\\nBased on execution_2.1, execution_2....</td>\n",
       "      <td>2250</td>\n",
       "      <td>3.0</td>\n",
       "    </tr>\n",
       "    <tr>\n",
       "      <th>22800</th>\n",
       "      <td>4999</td>\n",
       "      <td>You are the planner of an AI system that follo...</td>\n",
       "      <td>&lt;Question&gt;\\nLark has forgotten her locker comb...</td>\n",
       "      <td>&lt;Plan_4&gt;\\nBased on execution_3.2:\\nI think tha...</td>\n",
       "      <td>2250</td>\n",
       "      <td>4.0</td>\n",
       "    </tr>\n",
       "    <tr>\n",
       "      <th>22801</th>\n",
       "      <td>4999</td>\n",
       "      <td>You are the planner of an AI system that follo...</td>\n",
       "      <td>&lt;Question&gt;\\nLark has forgotten her locker comb...</td>\n",
       "      <td>&lt;Final_answer&gt;\\nTo solve this problem, we need...</td>\n",
       "      <td>2250</td>\n",
       "      <td>5.0</td>\n",
       "    </tr>\n",
       "  </tbody>\n",
       "</table>\n",
       "<p>8706 rows × 6 columns</p>\n",
       "</div>"
      ],
      "text/plain": [
       "       ProblemIdx                                       SystemPrompt  \\\n",
       "0               1  You are the planner of an AI system that follo...   \n",
       "2               1  You are the planner of an AI system that follo...   \n",
       "8               1  You are the planner of an AI system that follo...   \n",
       "10              1  You are the planner of an AI system that follo...   \n",
       "14              1  You are the planner of an AI system that follo...   \n",
       "...           ...                                                ...   \n",
       "22791        4999  You are the planner of an AI system that follo...   \n",
       "22793        4999  You are the planner of an AI system that follo...   \n",
       "22797        4999  You are the planner of an AI system that follo...   \n",
       "22800        4999  You are the planner of an AI system that follo...   \n",
       "22801        4999  You are the planner of an AI system that follo...   \n",
       "\n",
       "                                              UserPrompt  \\\n",
       "0      <Question>\\nSteve has an isosceles triangle wi...   \n",
       "2      <Question>\\nSteve has an isosceles triangle wi...   \n",
       "8      <Question>\\nSteve has an isosceles triangle wi...   \n",
       "10     <Question>\\nSteve has an isosceles triangle wi...   \n",
       "14     <Question>\\nSteve has an isosceles triangle wi...   \n",
       "...                                                  ...   \n",
       "22791  <Question>\\nLark has forgotten her locker comb...   \n",
       "22793  <Question>\\nLark has forgotten her locker comb...   \n",
       "22797  <Question>\\nLark has forgotten her locker comb...   \n",
       "22800  <Question>\\nLark has forgotten her locker comb...   \n",
       "22801  <Question>\\nLark has forgotten her locker comb...   \n",
       "\n",
       "                                          ExpectedOutput FinalAnswer  Phase  \n",
       "0      <Plan_1>\\nOkay, so Steve has this isosceles tr...       22.21    1.0  \n",
       "2      <Plan_2>\\nBased on execution_1.1:\\nFirst, I ne...       22.21    2.0  \n",
       "8      <Plan_3>\\nBased on execution_2.1:\\nSo each of ...       22.21    3.0  \n",
       "10     <Plan_4>\\nBased on execution_3.1:\\nNow, since ...       22.21    4.0  \n",
       "14     <Plan_5>\\nBased on execution_4.2:\\nSimilarly, ...       22.21    5.0  \n",
       "...                                                  ...         ...    ...  \n",
       "22791  <Plan_1>\\nFirst, I'll break it down into each ...        2250    1.0  \n",
       "22793  <Plan_2>\\nBased on execution_1.1:\\nStarting wi...        2250    2.0  \n",
       "22797  <Plan_3>\\nBased on execution_2.1, execution_2....        2250    3.0  \n",
       "22800  <Plan_4>\\nBased on execution_3.2:\\nI think tha...        2250    4.0  \n",
       "22801  <Final_answer>\\nTo solve this problem, we need...        2250    5.0  \n",
       "\n",
       "[8706 rows x 6 columns]"
      ]
     },
     "execution_count": 90,
     "metadata": {},
     "output_type": "execute_result"
    }
   ],
   "source": [
    "check_df"
   ]
  },
  {
   "cell_type": "code",
   "execution_count": 92,
   "metadata": {},
   "outputs": [
    {
     "name": "stderr",
     "output_type": "stream",
     "text": [
      "/var/folders/jn/30ywqtk93cg3xfk4034wdsnr0000gn/T/ipykernel_86647/3607944215.py:1: SettingWithCopyWarning: \n",
      "A value is trying to be set on a copy of a slice from a DataFrame.\n",
      "Try using .loc[row_indexer,col_indexer] = value instead\n",
      "\n",
      "See the caveats in the documentation: https://pandas.pydata.org/pandas-docs/stable/user_guide/indexing.html#returning-a-view-versus-a-copy\n",
      "  check_df[\"PromptCount\"] = check_df[\"ExpectedOutput\"].str.count(\"<prompt\")\n"
     ]
    },
    {
     "data": {
      "text/html": [
       "<div>\n",
       "<style scoped>\n",
       "    .dataframe tbody tr th:only-of-type {\n",
       "        vertical-align: middle;\n",
       "    }\n",
       "\n",
       "    .dataframe tbody tr th {\n",
       "        vertical-align: top;\n",
       "    }\n",
       "\n",
       "    .dataframe thead th {\n",
       "        text-align: right;\n",
       "    }\n",
       "</style>\n",
       "<table border=\"1\" class=\"dataframe\">\n",
       "  <thead>\n",
       "    <tr style=\"text-align: right;\">\n",
       "      <th></th>\n",
       "      <th>ProblemIdx</th>\n",
       "      <th>SystemPrompt</th>\n",
       "      <th>UserPrompt</th>\n",
       "      <th>ExpectedOutput</th>\n",
       "      <th>FinalAnswer</th>\n",
       "      <th>Phase</th>\n",
       "      <th>PromptCount</th>\n",
       "    </tr>\n",
       "  </thead>\n",
       "  <tbody>\n",
       "    <tr>\n",
       "      <th>0</th>\n",
       "      <td>1</td>\n",
       "      <td>You are the planner of an AI system that follo...</td>\n",
       "      <td>&lt;Question&gt;\\nSteve has an isosceles triangle wi...</td>\n",
       "      <td>&lt;Plan_1&gt;\\nOkay, so Steve has this isosceles tr...</td>\n",
       "      <td>22.21</td>\n",
       "      <td>1.0</td>\n",
       "      <td>1</td>\n",
       "    </tr>\n",
       "    <tr>\n",
       "      <th>2</th>\n",
       "      <td>1</td>\n",
       "      <td>You are the planner of an AI system that follo...</td>\n",
       "      <td>&lt;Question&gt;\\nSteve has an isosceles triangle wi...</td>\n",
       "      <td>&lt;Plan_2&gt;\\nBased on execution_1.1:\\nFirst, I ne...</td>\n",
       "      <td>22.21</td>\n",
       "      <td>2.0</td>\n",
       "      <td>5</td>\n",
       "    </tr>\n",
       "    <tr>\n",
       "      <th>8</th>\n",
       "      <td>1</td>\n",
       "      <td>You are the planner of an AI system that follo...</td>\n",
       "      <td>&lt;Question&gt;\\nSteve has an isosceles triangle wi...</td>\n",
       "      <td>&lt;Plan_3&gt;\\nBased on execution_2.1:\\nSo each of ...</td>\n",
       "      <td>22.21</td>\n",
       "      <td>3.0</td>\n",
       "      <td>1</td>\n",
       "    </tr>\n",
       "    <tr>\n",
       "      <th>10</th>\n",
       "      <td>1</td>\n",
       "      <td>You are the planner of an AI system that follo...</td>\n",
       "      <td>&lt;Question&gt;\\nSteve has an isosceles triangle wi...</td>\n",
       "      <td>&lt;Plan_4&gt;\\nBased on execution_3.1:\\nNow, since ...</td>\n",
       "      <td>22.21</td>\n",
       "      <td>4.0</td>\n",
       "      <td>3</td>\n",
       "    </tr>\n",
       "    <tr>\n",
       "      <th>14</th>\n",
       "      <td>1</td>\n",
       "      <td>You are the planner of an AI system that follo...</td>\n",
       "      <td>&lt;Question&gt;\\nSteve has an isosceles triangle wi...</td>\n",
       "      <td>&lt;Plan_5&gt;\\nBased on execution_4.2:\\nSimilarly, ...</td>\n",
       "      <td>22.21</td>\n",
       "      <td>5.0</td>\n",
       "      <td>2</td>\n",
       "    </tr>\n",
       "    <tr>\n",
       "      <th>...</th>\n",
       "      <td>...</td>\n",
       "      <td>...</td>\n",
       "      <td>...</td>\n",
       "      <td>...</td>\n",
       "      <td>...</td>\n",
       "      <td>...</td>\n",
       "      <td>...</td>\n",
       "    </tr>\n",
       "    <tr>\n",
       "      <th>22791</th>\n",
       "      <td>4999</td>\n",
       "      <td>You are the planner of an AI system that follo...</td>\n",
       "      <td>&lt;Question&gt;\\nLark has forgotten her locker comb...</td>\n",
       "      <td>&lt;Plan_1&gt;\\nFirst, I'll break it down into each ...</td>\n",
       "      <td>2250</td>\n",
       "      <td>1.0</td>\n",
       "      <td>1</td>\n",
       "    </tr>\n",
       "    <tr>\n",
       "      <th>22793</th>\n",
       "      <td>4999</td>\n",
       "      <td>You are the planner of an AI system that follo...</td>\n",
       "      <td>&lt;Question&gt;\\nLark has forgotten her locker comb...</td>\n",
       "      <td>&lt;Plan_2&gt;\\nBased on execution_1.1:\\nStarting wi...</td>\n",
       "      <td>2250</td>\n",
       "      <td>2.0</td>\n",
       "      <td>3</td>\n",
       "    </tr>\n",
       "    <tr>\n",
       "      <th>22797</th>\n",
       "      <td>4999</td>\n",
       "      <td>You are the planner of an AI system that follo...</td>\n",
       "      <td>&lt;Question&gt;\\nLark has forgotten her locker comb...</td>\n",
       "      <td>&lt;Plan_3&gt;\\nBased on execution_2.1, execution_2....</td>\n",
       "      <td>2250</td>\n",
       "      <td>3.0</td>\n",
       "      <td>2</td>\n",
       "    </tr>\n",
       "    <tr>\n",
       "      <th>22800</th>\n",
       "      <td>4999</td>\n",
       "      <td>You are the planner of an AI system that follo...</td>\n",
       "      <td>&lt;Question&gt;\\nLark has forgotten her locker comb...</td>\n",
       "      <td>&lt;Plan_4&gt;\\nBased on execution_3.2:\\nI think tha...</td>\n",
       "      <td>2250</td>\n",
       "      <td>4.0</td>\n",
       "      <td>0</td>\n",
       "    </tr>\n",
       "    <tr>\n",
       "      <th>22801</th>\n",
       "      <td>4999</td>\n",
       "      <td>You are the planner of an AI system that follo...</td>\n",
       "      <td>&lt;Question&gt;\\nLark has forgotten her locker comb...</td>\n",
       "      <td>&lt;Final_answer&gt;\\nTo solve this problem, we need...</td>\n",
       "      <td>2250</td>\n",
       "      <td>5.0</td>\n",
       "      <td>0</td>\n",
       "    </tr>\n",
       "  </tbody>\n",
       "</table>\n",
       "<p>8706 rows × 7 columns</p>\n",
       "</div>"
      ],
      "text/plain": [
       "       ProblemIdx                                       SystemPrompt  \\\n",
       "0               1  You are the planner of an AI system that follo...   \n",
       "2               1  You are the planner of an AI system that follo...   \n",
       "8               1  You are the planner of an AI system that follo...   \n",
       "10              1  You are the planner of an AI system that follo...   \n",
       "14              1  You are the planner of an AI system that follo...   \n",
       "...           ...                                                ...   \n",
       "22791        4999  You are the planner of an AI system that follo...   \n",
       "22793        4999  You are the planner of an AI system that follo...   \n",
       "22797        4999  You are the planner of an AI system that follo...   \n",
       "22800        4999  You are the planner of an AI system that follo...   \n",
       "22801        4999  You are the planner of an AI system that follo...   \n",
       "\n",
       "                                              UserPrompt  \\\n",
       "0      <Question>\\nSteve has an isosceles triangle wi...   \n",
       "2      <Question>\\nSteve has an isosceles triangle wi...   \n",
       "8      <Question>\\nSteve has an isosceles triangle wi...   \n",
       "10     <Question>\\nSteve has an isosceles triangle wi...   \n",
       "14     <Question>\\nSteve has an isosceles triangle wi...   \n",
       "...                                                  ...   \n",
       "22791  <Question>\\nLark has forgotten her locker comb...   \n",
       "22793  <Question>\\nLark has forgotten her locker comb...   \n",
       "22797  <Question>\\nLark has forgotten her locker comb...   \n",
       "22800  <Question>\\nLark has forgotten her locker comb...   \n",
       "22801  <Question>\\nLark has forgotten her locker comb...   \n",
       "\n",
       "                                          ExpectedOutput FinalAnswer  Phase  \\\n",
       "0      <Plan_1>\\nOkay, so Steve has this isosceles tr...       22.21    1.0   \n",
       "2      <Plan_2>\\nBased on execution_1.1:\\nFirst, I ne...       22.21    2.0   \n",
       "8      <Plan_3>\\nBased on execution_2.1:\\nSo each of ...       22.21    3.0   \n",
       "10     <Plan_4>\\nBased on execution_3.1:\\nNow, since ...       22.21    4.0   \n",
       "14     <Plan_5>\\nBased on execution_4.2:\\nSimilarly, ...       22.21    5.0   \n",
       "...                                                  ...         ...    ...   \n",
       "22791  <Plan_1>\\nFirst, I'll break it down into each ...        2250    1.0   \n",
       "22793  <Plan_2>\\nBased on execution_1.1:\\nStarting wi...        2250    2.0   \n",
       "22797  <Plan_3>\\nBased on execution_2.1, execution_2....        2250    3.0   \n",
       "22800  <Plan_4>\\nBased on execution_3.2:\\nI think tha...        2250    4.0   \n",
       "22801  <Final_answer>\\nTo solve this problem, we need...        2250    5.0   \n",
       "\n",
       "       PromptCount  \n",
       "0                1  \n",
       "2                5  \n",
       "8                1  \n",
       "10               3  \n",
       "14               2  \n",
       "...            ...  \n",
       "22791            1  \n",
       "22793            3  \n",
       "22797            2  \n",
       "22800            0  \n",
       "22801            0  \n",
       "\n",
       "[8706 rows x 7 columns]"
      ]
     },
     "execution_count": 92,
     "metadata": {},
     "output_type": "execute_result"
    }
   ],
   "source": [
    "check_df[\"PromptCount\"] = check_df[\"ExpectedOutput\"].str.count(\"<prompt\")\n",
    "check_df"
   ]
  },
  {
   "cell_type": "code",
   "execution_count": 93,
   "metadata": {},
   "outputs": [
    {
     "data": {
      "text/plain": [
       "PromptCount\n",
       "1     2800\n",
       "0     2451\n",
       "2     1541\n",
       "3      896\n",
       "4      530\n",
       "5      247\n",
       "6      124\n",
       "7       44\n",
       "8       29\n",
       "9       10\n",
       "10       8\n",
       "11       5\n",
       "15       4\n",
       "13       2\n",
       "31       2\n",
       "22       2\n",
       "89       1\n",
       "20       1\n",
       "17       1\n",
       "24       1\n",
       "60       1\n",
       "81       1\n",
       "64       1\n",
       "37       1\n",
       "28       1\n",
       "29       1\n",
       "21       1\n",
       "Name: count, dtype: int64"
      ]
     },
     "execution_count": 93,
     "metadata": {},
     "output_type": "execute_result"
    }
   ],
   "source": [
    "check_df[\"PromptCount\"].value_counts()"
   ]
  },
  {
   "cell_type": "code",
   "execution_count": 95,
   "metadata": {},
   "outputs": [
    {
     "name": "stdout",
     "output_type": "stream",
     "text": [
      "<Plan_1>\n",
      "Okay, so I need to find an integer n between 0 and 6 such that n is congruent to 100000 modulo 7. Hmm, let's see. Modular arithmetic, right? So this means when 100000 is divided by 7, the remainder should be n. But 100000 is a big number. Dividing that directly by 7 would be tedious. There must be a smarter way to do this without having to perform long division on such a large number.\n",
      "\n",
      "First, I remember that in modular arithmetic, especially modulo 7, we can break down the number into smaller parts and take the modulus at each step to simplify calculations. Maybe using properties of exponents or something related to the divisibility rules for 7? Wait, the number here is 100000. Let's write that out as 10^5. So 10^5 modulo 7. That seems manageable.\n",
      "\n",
      "But how does 10 modulo 7 behave? Let's start there.\n",
      "10 divided by 7 is 1 with a remainder of 3. So 10 ≡ 3 mod 7.\n",
      "\n",
      "Then, 10^2 would be (10)^2 ≡ 3^2 = 9 ≡ 2 mod 7 because 9 divided by 7 is 1 with a remainder of 2. Okay, so 10^2 ≡ 2 mod 7.\n",
      "\n",
      "<prompt> Calculate 10^2 modulo 7 and verify the result. </prompt>\n",
      "-----\n",
      "\n",
      "Wait, let me verify this step by step to be sure.\n",
      "\n",
      "Starting with 10^1 mod 7:\n",
      "\n",
      "<prompt> Verify the calculations for 10^1 to 10^5 modulo 7 step by step. </prompt>\n",
      "\n",
      "So the answer is 5.\n",
      "\n",
      "But wait, maybe I should check this another way. Sometimes when dealing with exponents in modular arithmetic, it's helpful to look for patterns or cycles. Let's see if the powers of 10 modulo 7 cycle in some pattern.\n",
      "\n",
      "<prompt> Explore the cycle of powers of 10 modulo 7 and verify if it confirms the result. </prompt>\n",
      "\n",
      "Alternatively, another approach: using the fact that 100000 divided by 7. Let's see, maybe breaking down 100000 into smaller numbers.\n",
      "\n",
      "But 100000 is 10^5, which we already considered. Alternatively, 100000 can be considered as 100 * 1000. Let's compute each modulo 7 and multiply.\n",
      "\n",
      "<prompt> Break down 100000 into smaller numbers, calculate each modulo 7, and verify the result. </prompt>\n",
      "\n",
      "Alternatively, using the divisibility rule for 7. But the divisibility rules for 7 are a bit more complicated. One method is to take the last digit, double it, subtract from the rest of the number, and see if the result is divisible by 7. But applying that iteratively to 100000 might take a while. Let's try.\n",
      "\n",
      "<prompt> Apply the divisibility rule for 7 to 100000 and see if it helps find the remainder. </prompt>\n",
      "\n",
      "Another idea: breaking down 100000 into digits and using the place values. Since 100000 is 1 followed by five zeros. In decimal, each digit represents a power of 10.\n",
      "\n",
      "<prompt> Break down 100000 into its place values and calculate the result using modular arithmetic. </prompt>\n",
      "\n",
      "Alternatively, perhaps using the fact that 10 ≡3 mod7, so 10^1≡3, 10^2≡2, 10^3≡6, 10^4≡4, 10^5≡5, 10^6≡1, as we found earlier. So the cycle length is 6. Therefore, exponents of 10 modulo7 cycle every 6. So 10^n mod7 cycles every 6.\n",
      "\n",
      "<prompt> Use negative remainders to calculate powers of 10 modulo 7 and verify the result. </prompt>\n",
      "\n",
      "Another method: breaking down 100000 as multiples of 7 and finding the remainder. But 7*14285=99995. Let's verify: 14285*7=99995. Then 100000 -99995=5.\n",
      "\n",
      "<prompt> Use straightforward division and successive subtraction to verify the remainder of 100000 divided by 7. </prompt>\n",
      "-----\n",
      "\n",
      "Another approach: using the formula for geometric series. Since 100000=10^5, and 10≡3 mod7. So 10^5≡3^5 mod7. Compute 3^5.\n",
      "\n",
      "<prompt> Use the formula for geometric series and binary exponentiation to verify 10^5 modulo 7. </prompt>\n",
      "\n",
      "Alternatively, using Fermat's little theorem. Since7 is prime, then for any integer a not divisible by7, a^(6)≡1 mod7. So 10^6≡1 mod7. Then 10^5=10^(6-1)=10^6*10^(-1)≡1*10^(-1) mod7.\n",
      "\n",
      "<prompt> Apply Fermat's Little Theorem to verify 10^5 modulo 7. </prompt>\n",
      "</Plan_1>\n"
     ]
    }
   ],
   "source": [
    "print(check_df[check_df[\"PromptCount\"] == 10][\"ExpectedOutput\"].iloc[0])"
   ]
  },
  {
   "cell_type": "code",
   "execution_count": null,
   "metadata": {},
   "outputs": [],
   "source": []
  },
  {
   "cell_type": "code",
   "execution_count": null,
   "metadata": {},
   "outputs": [],
   "source": [
    "def prepare_dataset_for_chat_instruct_full_trajectory_generator(df):\n",
    "    def add_messages(row):\n",
    "        row[\"messages\"] = [\n",
    "            {\"role\": \"system\", \"content\": row[\"SystemPrompt\"]},\n",
    "            {\"role\": \"user\", \"content\": row[\"UserPrompt\"]},\n",
    "            {\"role\": \"assistant\", \"content\": row[\"ExpectedOutput\"]}\n",
    "        ]\n",
    "        return row\n",
    "\n",
    "    df = df[df[\"ExpectedOutput\"].str.contains(\"<Final_answer>\")]\n",
    "    system_prompt = text_processing_utils.read_file_as_string(\"src/prompts/global_agent_prompt.txt\")\n",
    "    df[\"Trajectory\"] = df.apply(lambda x: x[\"UserPrompt\"]+\"\\n\\n\"+x[\"ExpectedOutput\"], axis=1)\n",
    "    df[\"SystemPrompt\"] = system_prompt\n",
    "\n",
    "    del df[\"UserPrompt\"]\n",
    "    del df[\"ExpectedOutput\"]\n",
    "\n",
    "    dataset = Dataset.from_pandas(df)\n",
    "    dataset = dataset.map(add_messages)\n",
    "    return dataset, df"
   ]
  },
  {
   "cell_type": "code",
   "execution_count": null,
   "metadata": {},
   "outputs": [],
   "source": []
  }
 ],
 "metadata": {
  "kernelspec": {
   "display_name": "base",
   "language": "python",
   "name": "python3"
  },
  "language_info": {
   "codemirror_mode": {
    "name": "ipython",
    "version": 3
   },
   "file_extension": ".py",
   "mimetype": "text/x-python",
   "name": "python",
   "nbconvert_exporter": "python",
   "pygments_lexer": "ipython3",
   "version": "3.10.14"
  }
 },
 "nbformat": 4,
 "nbformat_minor": 2
}
